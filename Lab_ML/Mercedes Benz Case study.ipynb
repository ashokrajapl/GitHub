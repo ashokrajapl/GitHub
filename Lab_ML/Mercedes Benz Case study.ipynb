{
 "cells": [
  {
   "cell_type": "code",
   "execution_count": 1,
   "metadata": {},
   "outputs": [],
   "source": [
    "import pandas as pd\n",
    "import numpy as np\n",
    "\n",
    "from sklearn.linear_model import SGDRegressor\n",
    "from sklearn.linear_model import LinearRegression\n",
    "from sklearn.metrics import mean_squared_error\n",
    "from sklearn.model_selection import GridSearchCV\n",
    "from sklearn.tree import DecisionTreeRegressor\n",
    "from sklearn.metrics import r2_score\n",
    "from sklearn.ensemble import RandomForestRegressor\n",
    "from sklearn.model_selection import RandomizedSearchCV\n",
    "from sklearn.ensemble import ExtraTreesRegressor\n",
    "from sklearn.ensemble import StackingRegressor\n",
    "from sklearn import model_selection\n",
    "from sklearn.preprocessing import StandardScaler\n",
    "\n",
    "from numpy import mean\n",
    "from numpy import std\n",
    "from sklearn.datasets import make_regression\n",
    "from lightgbm import LGBMRegressor\n",
    "from sklearn.model_selection import cross_val_score\n",
    "from sklearn.decomposition import PCA\n",
    "from sklearn.model_selection import RepeatedKFold\n",
    "from sklearn.neighbors import KNeighborsRegressor\n",
    "from sklearn.svm import SVR\n",
    "from matplotlib import pyplot\n",
    "#Importing the Libraries\n",
    "from sklearn.preprocessing import MinMaxScaler\n",
    "from sklearn.model_selection import train_test_split\n",
    "from tensorflow.keras.layers import LeakyReLU\n",
    "from tensorflow.keras.models import Model\n",
    "\n",
    "from tensorflow.keras.layers import Input\n",
    "from tensorflow.keras.layers import Dense\n",
    "from tensorflow.keras.layers import BatchNormalization\n",
    "from tensorflow.keras.models import load_model\n",
    "from xgboost import XGBRegressor\n",
    "from scipy.stats import randint as sp_randint\n",
    "from prettytable import PrettyTable\n",
    "from sklearn.neighbors import NearestNeighbors \n",
    "from sklearn.neighbors import KNeighborsRegressor\n",
    "from sklearn.pipeline import make_pipeline\n",
    "from sklearn.preprocessing import StandardScaler\n",
    "import pickle\n"
   ]
  },
  {
   "cell_type": "code",
   "execution_count": 2,
   "metadata": {},
   "outputs": [],
   "source": [
    "benz_df=pd.read_csv('train.csv')\n",
    "benz_df_x=benz_df.drop(['y','ID'],axis=1)\n",
    "y=benz_df['y']"
   ]
  },
  {
   "cell_type": "code",
   "execution_count": 3,
   "metadata": {},
   "outputs": [],
   "source": [
    "t_benz_df=pd.read_csv('test.csv')\n",
    "t_benz_df_ID=t_benz_df['ID']\n",
    "t_benz_df_x=t_benz_df.drop(['ID'],axis=1)"
   ]
  },
  {
   "cell_type": "code",
   "execution_count": 4,
   "metadata": {},
   "outputs": [
    {
     "data": {
      "text/html": [
       "<div>\n",
       "<style scoped>\n",
       "    .dataframe tbody tr th:only-of-type {\n",
       "        vertical-align: middle;\n",
       "    }\n",
       "\n",
       "    .dataframe tbody tr th {\n",
       "        vertical-align: top;\n",
       "    }\n",
       "\n",
       "    .dataframe thead th {\n",
       "        text-align: right;\n",
       "    }\n",
       "</style>\n",
       "<table border=\"1\" class=\"dataframe\">\n",
       "  <thead>\n",
       "    <tr style=\"text-align: right;\">\n",
       "      <th></th>\n",
       "      <th>X0</th>\n",
       "      <th>X1</th>\n",
       "      <th>X2</th>\n",
       "      <th>X3</th>\n",
       "      <th>X4</th>\n",
       "      <th>X5</th>\n",
       "      <th>X6</th>\n",
       "      <th>X8</th>\n",
       "      <th>X10</th>\n",
       "      <th>X11</th>\n",
       "      <th>...</th>\n",
       "      <th>X375</th>\n",
       "      <th>X376</th>\n",
       "      <th>X377</th>\n",
       "      <th>X378</th>\n",
       "      <th>X379</th>\n",
       "      <th>X380</th>\n",
       "      <th>X382</th>\n",
       "      <th>X383</th>\n",
       "      <th>X384</th>\n",
       "      <th>X385</th>\n",
       "    </tr>\n",
       "  </thead>\n",
       "  <tbody>\n",
       "    <tr>\n",
       "      <th>0</th>\n",
       "      <td>k</td>\n",
       "      <td>v</td>\n",
       "      <td>at</td>\n",
       "      <td>a</td>\n",
       "      <td>d</td>\n",
       "      <td>u</td>\n",
       "      <td>j</td>\n",
       "      <td>o</td>\n",
       "      <td>0</td>\n",
       "      <td>0</td>\n",
       "      <td>...</td>\n",
       "      <td>0</td>\n",
       "      <td>0</td>\n",
       "      <td>1</td>\n",
       "      <td>0</td>\n",
       "      <td>0</td>\n",
       "      <td>0</td>\n",
       "      <td>0</td>\n",
       "      <td>0</td>\n",
       "      <td>0</td>\n",
       "      <td>0</td>\n",
       "    </tr>\n",
       "    <tr>\n",
       "      <th>1</th>\n",
       "      <td>k</td>\n",
       "      <td>t</td>\n",
       "      <td>av</td>\n",
       "      <td>e</td>\n",
       "      <td>d</td>\n",
       "      <td>y</td>\n",
       "      <td>l</td>\n",
       "      <td>o</td>\n",
       "      <td>0</td>\n",
       "      <td>0</td>\n",
       "      <td>...</td>\n",
       "      <td>1</td>\n",
       "      <td>0</td>\n",
       "      <td>0</td>\n",
       "      <td>0</td>\n",
       "      <td>0</td>\n",
       "      <td>0</td>\n",
       "      <td>0</td>\n",
       "      <td>0</td>\n",
       "      <td>0</td>\n",
       "      <td>0</td>\n",
       "    </tr>\n",
       "  </tbody>\n",
       "</table>\n",
       "<p>2 rows × 376 columns</p>\n",
       "</div>"
      ],
      "text/plain": [
       "  X0 X1  X2 X3 X4 X5 X6 X8  X10  X11  ...  X375  X376  X377  X378  X379  X380  \\\n",
       "0  k  v  at  a  d  u  j  o    0    0  ...     0     0     1     0     0     0   \n",
       "1  k  t  av  e  d  y  l  o    0    0  ...     1     0     0     0     0     0   \n",
       "\n",
       "   X382  X383  X384  X385  \n",
       "0     0     0     0     0  \n",
       "1     0     0     0     0  \n",
       "\n",
       "[2 rows x 376 columns]"
      ]
     },
     "execution_count": 4,
     "metadata": {},
     "output_type": "execute_result"
    }
   ],
   "source": [
    "benz_df_x.head(2)"
   ]
  },
  {
   "cell_type": "code",
   "execution_count": 5,
   "metadata": {},
   "outputs": [
    {
     "data": {
      "text/html": [
       "<div>\n",
       "<style scoped>\n",
       "    .dataframe tbody tr th:only-of-type {\n",
       "        vertical-align: middle;\n",
       "    }\n",
       "\n",
       "    .dataframe tbody tr th {\n",
       "        vertical-align: top;\n",
       "    }\n",
       "\n",
       "    .dataframe thead th {\n",
       "        text-align: right;\n",
       "    }\n",
       "</style>\n",
       "<table border=\"1\" class=\"dataframe\">\n",
       "  <thead>\n",
       "    <tr style=\"text-align: right;\">\n",
       "      <th></th>\n",
       "      <th>X0</th>\n",
       "      <th>X1</th>\n",
       "      <th>X2</th>\n",
       "      <th>X3</th>\n",
       "      <th>X4</th>\n",
       "      <th>X5</th>\n",
       "      <th>X6</th>\n",
       "      <th>X8</th>\n",
       "      <th>X10</th>\n",
       "      <th>X11</th>\n",
       "      <th>...</th>\n",
       "      <th>X375</th>\n",
       "      <th>X376</th>\n",
       "      <th>X377</th>\n",
       "      <th>X378</th>\n",
       "      <th>X379</th>\n",
       "      <th>X380</th>\n",
       "      <th>X382</th>\n",
       "      <th>X383</th>\n",
       "      <th>X384</th>\n",
       "      <th>X385</th>\n",
       "    </tr>\n",
       "  </thead>\n",
       "  <tbody>\n",
       "    <tr>\n",
       "      <th>0</th>\n",
       "      <td>az</td>\n",
       "      <td>v</td>\n",
       "      <td>n</td>\n",
       "      <td>f</td>\n",
       "      <td>d</td>\n",
       "      <td>t</td>\n",
       "      <td>a</td>\n",
       "      <td>w</td>\n",
       "      <td>0</td>\n",
       "      <td>0</td>\n",
       "      <td>...</td>\n",
       "      <td>0</td>\n",
       "      <td>0</td>\n",
       "      <td>0</td>\n",
       "      <td>1</td>\n",
       "      <td>0</td>\n",
       "      <td>0</td>\n",
       "      <td>0</td>\n",
       "      <td>0</td>\n",
       "      <td>0</td>\n",
       "      <td>0</td>\n",
       "    </tr>\n",
       "    <tr>\n",
       "      <th>1</th>\n",
       "      <td>t</td>\n",
       "      <td>b</td>\n",
       "      <td>ai</td>\n",
       "      <td>a</td>\n",
       "      <td>d</td>\n",
       "      <td>b</td>\n",
       "      <td>g</td>\n",
       "      <td>y</td>\n",
       "      <td>0</td>\n",
       "      <td>0</td>\n",
       "      <td>...</td>\n",
       "      <td>0</td>\n",
       "      <td>0</td>\n",
       "      <td>1</td>\n",
       "      <td>0</td>\n",
       "      <td>0</td>\n",
       "      <td>0</td>\n",
       "      <td>0</td>\n",
       "      <td>0</td>\n",
       "      <td>0</td>\n",
       "      <td>0</td>\n",
       "    </tr>\n",
       "  </tbody>\n",
       "</table>\n",
       "<p>2 rows × 376 columns</p>\n",
       "</div>"
      ],
      "text/plain": [
       "   X0 X1  X2 X3 X4 X5 X6 X8  X10  X11  ...  X375  X376  X377  X378  X379  \\\n",
       "0  az  v   n  f  d  t  a  w    0    0  ...     0     0     0     1     0   \n",
       "1   t  b  ai  a  d  b  g  y    0    0  ...     0     0     1     0     0   \n",
       "\n",
       "   X380  X382  X383  X384  X385  \n",
       "0     0     0     0     0     0  \n",
       "1     0     0     0     0     0  \n",
       "\n",
       "[2 rows x 376 columns]"
      ]
     },
     "execution_count": 5,
     "metadata": {},
     "output_type": "execute_result"
    }
   ],
   "source": [
    "t_benz_df_x.head(2)"
   ]
  },
  {
   "cell_type": "code",
   "execution_count": 6,
   "metadata": {},
   "outputs": [],
   "source": [
    "def grid_search(X,y,parameters,estimator):\n",
    "    regressor = GridSearchCV(estimator, parameters,cv=3,scoring='r2',return_train_score=True,n_jobs=-1)\n",
    "    regressor.fit(X,y)\n",
    "    results = pd.DataFrame.from_dict(regressor.cv_results_)\n",
    "    results=results.sort_values(by=['rank_test_score'])\n",
    "    best_param=regresso\n",
    "    r.best_params_\n",
    "    print(best_param)\n",
    "    return best_param"
   ]
  },
  {
   "cell_type": "code",
   "execution_count": 7,
   "metadata": {},
   "outputs": [],
   "source": [
    "def random_search(X,y,parameters,estimator):\n",
    "        regressor = RandomizedSearchCV(estimator, param_distributions=parameters,cv=3,n_iter=40,scoring='r2',return_train_score=True,n_jobs=-1)\n",
    "        regressor.fit(X,y)\n",
    "        best_param=regressor.best_params_\n",
    "        print('best_param',best_param)\n",
    "        return(best_param)    "
   ]
  },
  {
   "cell_type": "code",
   "execution_count": 8,
   "metadata": {},
   "outputs": [],
   "source": [
    "def scoring(y_yest,y_pred):\n",
    "    mse= mean_squared_error(y_yest,y_pred)\n",
    "    rsquare=r2_score(y_yest,y_pred)\n",
    "    return(mse,rsquare)    "
   ]
  },
  {
   "cell_type": "code",
   "execution_count": 9,
   "metadata": {},
   "outputs": [],
   "source": [
    "def base_model(X_train, X_test, y_train, y_test,model):\n",
    "    model.fit(X_train, y_train)\n",
    "    y_pred=model.predict(X_test)\n",
    "    \n",
    "    mse,rsquare=scoring(y_test,y_pred)\n",
    "    print('rsquare',round(rsquare,4))\n",
    "    print('mse',round(mse,4))\n",
    "    return(round(rsquare,4),round(mse,4))        "
   ]
  },
  {
   "cell_type": "code",
   "execution_count": 10,
   "metadata": {},
   "outputs": [],
   "source": [
    "def save_output(x,y,filename):\n",
    "    output_df=pd.DataFrame()\n",
    "    output_df['ID']=t_benz_df_ID\n",
    "    output_df['y']=y\n",
    "    output_df.to_csv(filename,index=False)\n",
    "    "
   ]
  },
  {
   "cell_type": "markdown",
   "metadata": {},
   "source": [
    "## Label Encoding"
   ]
  },
  {
   "cell_type": "code",
   "execution_count": 11,
   "metadata": {},
   "outputs": [],
   "source": [
    "var_name = ['X0','X1','X2','X3','X4','X5','X6','X8']\n",
    "for var in var_name:\n",
    "    benz_df_x[var]=benz_df_x[var].apply(lambda x: sum([ord(digit) for digit in x])) "
   ]
  },
  {
   "cell_type": "code",
   "execution_count": 12,
   "metadata": {},
   "outputs": [
    {
     "data": {
      "text/html": [
       "<div>\n",
       "<style scoped>\n",
       "    .dataframe tbody tr th:only-of-type {\n",
       "        vertical-align: middle;\n",
       "    }\n",
       "\n",
       "    .dataframe tbody tr th {\n",
       "        vertical-align: top;\n",
       "    }\n",
       "\n",
       "    .dataframe thead th {\n",
       "        text-align: right;\n",
       "    }\n",
       "</style>\n",
       "<table border=\"1\" class=\"dataframe\">\n",
       "  <thead>\n",
       "    <tr style=\"text-align: right;\">\n",
       "      <th></th>\n",
       "      <th>X0</th>\n",
       "      <th>X1</th>\n",
       "      <th>X2</th>\n",
       "      <th>X3</th>\n",
       "      <th>X4</th>\n",
       "      <th>X5</th>\n",
       "      <th>X6</th>\n",
       "      <th>X8</th>\n",
       "      <th>X10</th>\n",
       "      <th>X11</th>\n",
       "      <th>...</th>\n",
       "      <th>X375</th>\n",
       "      <th>X376</th>\n",
       "      <th>X377</th>\n",
       "      <th>X378</th>\n",
       "      <th>X379</th>\n",
       "      <th>X380</th>\n",
       "      <th>X382</th>\n",
       "      <th>X383</th>\n",
       "      <th>X384</th>\n",
       "      <th>X385</th>\n",
       "    </tr>\n",
       "  </thead>\n",
       "  <tbody>\n",
       "    <tr>\n",
       "      <th>0</th>\n",
       "      <td>107</td>\n",
       "      <td>118</td>\n",
       "      <td>213</td>\n",
       "      <td>97</td>\n",
       "      <td>100</td>\n",
       "      <td>117</td>\n",
       "      <td>106</td>\n",
       "      <td>111</td>\n",
       "      <td>0</td>\n",
       "      <td>0</td>\n",
       "      <td>...</td>\n",
       "      <td>0</td>\n",
       "      <td>0</td>\n",
       "      <td>1</td>\n",
       "      <td>0</td>\n",
       "      <td>0</td>\n",
       "      <td>0</td>\n",
       "      <td>0</td>\n",
       "      <td>0</td>\n",
       "      <td>0</td>\n",
       "      <td>0</td>\n",
       "    </tr>\n",
       "    <tr>\n",
       "      <th>1</th>\n",
       "      <td>107</td>\n",
       "      <td>116</td>\n",
       "      <td>215</td>\n",
       "      <td>101</td>\n",
       "      <td>100</td>\n",
       "      <td>121</td>\n",
       "      <td>108</td>\n",
       "      <td>111</td>\n",
       "      <td>0</td>\n",
       "      <td>0</td>\n",
       "      <td>...</td>\n",
       "      <td>1</td>\n",
       "      <td>0</td>\n",
       "      <td>0</td>\n",
       "      <td>0</td>\n",
       "      <td>0</td>\n",
       "      <td>0</td>\n",
       "      <td>0</td>\n",
       "      <td>0</td>\n",
       "      <td>0</td>\n",
       "      <td>0</td>\n",
       "    </tr>\n",
       "  </tbody>\n",
       "</table>\n",
       "<p>2 rows × 376 columns</p>\n",
       "</div>"
      ],
      "text/plain": [
       "    X0   X1   X2   X3   X4   X5   X6   X8  X10  X11  ...  X375  X376  X377  \\\n",
       "0  107  118  213   97  100  117  106  111    0    0  ...     0     0     1   \n",
       "1  107  116  215  101  100  121  108  111    0    0  ...     1     0     0   \n",
       "\n",
       "   X378  X379  X380  X382  X383  X384  X385  \n",
       "0     0     0     0     0     0     0     0  \n",
       "1     0     0     0     0     0     0     0  \n",
       "\n",
       "[2 rows x 376 columns]"
      ]
     },
     "execution_count": 12,
     "metadata": {},
     "output_type": "execute_result"
    }
   ],
   "source": [
    "benz_df_x.head(2)"
   ]
  },
  {
   "cell_type": "code",
   "execution_count": 13,
   "metadata": {},
   "outputs": [],
   "source": [
    "var_name = ['X0','X1','X2','X3','X4','X5','X6','X8']\n",
    "for var in var_name:\n",
    "    t_benz_df_x[var]=t_benz_df_x[var].apply(lambda x: sum([ord(digit) for digit in x])) "
   ]
  },
  {
   "cell_type": "code",
   "execution_count": 14,
   "metadata": {},
   "outputs": [
    {
     "data": {
      "text/html": [
       "<div>\n",
       "<style scoped>\n",
       "    .dataframe tbody tr th:only-of-type {\n",
       "        vertical-align: middle;\n",
       "    }\n",
       "\n",
       "    .dataframe tbody tr th {\n",
       "        vertical-align: top;\n",
       "    }\n",
       "\n",
       "    .dataframe thead th {\n",
       "        text-align: right;\n",
       "    }\n",
       "</style>\n",
       "<table border=\"1\" class=\"dataframe\">\n",
       "  <thead>\n",
       "    <tr style=\"text-align: right;\">\n",
       "      <th></th>\n",
       "      <th>X0</th>\n",
       "      <th>X1</th>\n",
       "      <th>X2</th>\n",
       "      <th>X3</th>\n",
       "      <th>X4</th>\n",
       "      <th>X5</th>\n",
       "      <th>X6</th>\n",
       "      <th>X8</th>\n",
       "      <th>X10</th>\n",
       "      <th>X11</th>\n",
       "      <th>...</th>\n",
       "      <th>X375</th>\n",
       "      <th>X376</th>\n",
       "      <th>X377</th>\n",
       "      <th>X378</th>\n",
       "      <th>X379</th>\n",
       "      <th>X380</th>\n",
       "      <th>X382</th>\n",
       "      <th>X383</th>\n",
       "      <th>X384</th>\n",
       "      <th>X385</th>\n",
       "    </tr>\n",
       "  </thead>\n",
       "  <tbody>\n",
       "    <tr>\n",
       "      <th>0</th>\n",
       "      <td>219</td>\n",
       "      <td>118</td>\n",
       "      <td>110</td>\n",
       "      <td>102</td>\n",
       "      <td>100</td>\n",
       "      <td>116</td>\n",
       "      <td>97</td>\n",
       "      <td>119</td>\n",
       "      <td>0</td>\n",
       "      <td>0</td>\n",
       "      <td>...</td>\n",
       "      <td>0</td>\n",
       "      <td>0</td>\n",
       "      <td>0</td>\n",
       "      <td>1</td>\n",
       "      <td>0</td>\n",
       "      <td>0</td>\n",
       "      <td>0</td>\n",
       "      <td>0</td>\n",
       "      <td>0</td>\n",
       "      <td>0</td>\n",
       "    </tr>\n",
       "    <tr>\n",
       "      <th>1</th>\n",
       "      <td>116</td>\n",
       "      <td>98</td>\n",
       "      <td>202</td>\n",
       "      <td>97</td>\n",
       "      <td>100</td>\n",
       "      <td>98</td>\n",
       "      <td>103</td>\n",
       "      <td>121</td>\n",
       "      <td>0</td>\n",
       "      <td>0</td>\n",
       "      <td>...</td>\n",
       "      <td>0</td>\n",
       "      <td>0</td>\n",
       "      <td>1</td>\n",
       "      <td>0</td>\n",
       "      <td>0</td>\n",
       "      <td>0</td>\n",
       "      <td>0</td>\n",
       "      <td>0</td>\n",
       "      <td>0</td>\n",
       "      <td>0</td>\n",
       "    </tr>\n",
       "  </tbody>\n",
       "</table>\n",
       "<p>2 rows × 376 columns</p>\n",
       "</div>"
      ],
      "text/plain": [
       "    X0   X1   X2   X3   X4   X5   X6   X8  X10  X11  ...  X375  X376  X377  \\\n",
       "0  219  118  110  102  100  116   97  119    0    0  ...     0     0     0   \n",
       "1  116   98  202   97  100   98  103  121    0    0  ...     0     0     1   \n",
       "\n",
       "   X378  X379  X380  X382  X383  X384  X385  \n",
       "0     1     0     0     0     0     0     0  \n",
       "1     0     0     0     0     0     0     0  \n",
       "\n",
       "[2 rows x 376 columns]"
      ]
     },
     "execution_count": 14,
     "metadata": {},
     "output_type": "execute_result"
    }
   ],
   "source": [
    "t_benz_df_x.head(2)"
   ]
  },
  {
   "cell_type": "code",
   "execution_count": 15,
   "metadata": {},
   "outputs": [],
   "source": [
    "X_train_LE, X_test_LE, y_train, y_test = train_test_split(benz_df_x, y, test_size=0.33, random_state=42)"
   ]
  },
  {
   "cell_type": "markdown",
   "metadata": {},
   "source": [
    "## Train models with entire data - label encoding"
   ]
  },
  {
   "cell_type": "code",
   "execution_count": 29,
   "metadata": {},
   "outputs": [
    {
     "name": "stdout",
     "output_type": "stream",
     "text": [
      "rsquare 0.4479\n",
      "mse 96.2698\n"
     ]
    }
   ],
   "source": [
    "#Linear regression\n",
    "lr=LinearRegression()\n",
    "lr_reg_mse,lr_r2=base_model(X_train_LE, X_test_LE, y_train, y_test,lr)\n",
    "x = PrettyTable()\n",
    "x.field_names = [\"Data\",\"Model\",\"R square\",\"MSE\"]\n",
    "x.add_row ([\"Label Encoding\",\"Linear Regression\",lr_reg_mse,lr_r2])"
   ]
  },
  {
   "cell_type": "code",
   "execution_count": 30,
   "metadata": {
    "scrolled": true
   },
   "outputs": [],
   "source": [
    "# Test Data\n",
    "t_y=lr.predict(t_benz_df_x)\n",
    "save_output(t_benz_df_x,t_y,'LE_LR.csv')"
   ]
  },
  {
   "cell_type": "code",
   "execution_count": 31,
   "metadata": {},
   "outputs": [
    {
     "name": "stdout",
     "output_type": "stream",
     "text": [
      "best_param {'max_depth': 4, 'min_samples_split': 19}\n",
      "rsquare 0.4984\n",
      "mse 87.4635\n"
     ]
    }
   ],
   "source": [
    "#Decision Tree - random search\n",
    "parameters = {'min_samples_split':sp_randint(2,20),'max_depth':sp_randint(2,20)}\n",
    "#Best parameter values\n",
    "best_param=random_search(X_train_LE,y_train,parameters,DecisionTreeRegressor())\n",
    "#Train model on best params and get scores\n",
    "dtree_model=DecisionTreeRegressor(max_depth= best_param['max_depth'], min_samples_split= best_param['min_samples_split'])\n",
    "dtree_reg_mse,dtree_r2=base_model(X_train_LE, X_test_LE, y_train, y_test,dtree_model)\n",
    "x.add_row ([\"Label Encoding\",\"DecisionTreeRegressor\",dtree_reg_mse,dtree_r2])\n"
   ]
  },
  {
   "cell_type": "code",
   "execution_count": 32,
   "metadata": {},
   "outputs": [],
   "source": [
    "# Test Data\n",
    "with open('LE_Dtree','wb') as f:\n",
    "    pickle.dump(dtree_model,f)\n",
    "t_y=dtree_model.predict(t_benz_df_x)\n",
    "save_output(t_benz_df_x,t_y,'LE_Dtree.csv')"
   ]
  },
  {
   "cell_type": "code",
   "execution_count": 33,
   "metadata": {
    "scrolled": true
   },
   "outputs": [
    {
     "name": "stdout",
     "output_type": "stream",
     "text": [
      "best_param {'max_depth': 4, 'min_samples_leaf': 5, 'min_samples_split': 7, 'n_estimators': 187}\n",
      "rsquare 0.4966\n",
      "mse 87.7897\n"
     ]
    }
   ],
   "source": [
    "# Random Forest - Random Search\n",
    "parameters = {'min_samples_split':sp_randint(2,8),'max_depth':sp_randint(2,8),'n_estimators':sp_randint(50,200),'min_samples_leaf':sp_randint(2,10)}\n",
    "best_param=random_search(X_train_LE,y_train,parameters,RandomForestRegressor())\n",
    "Rforest_model=RandomForestRegressor(max_depth=best_param['max_depth'], min_samples_split= best_param['min_samples_split'],min_samples_leaf=best_param['min_samples_leaf'],n_estimators=best_param['n_estimators'])\n",
    "rfrst_reg_mse,rfrst_r2=base_model(X_train_LE, X_test_LE, y_train, y_test,Rforest_model)\n",
    "x.add_row ([\"Label Encoding\",\"RandomForest Regressor\",rfrst_reg_mse,rfrst_r2])"
   ]
  },
  {
   "cell_type": "code",
   "execution_count": 34,
   "metadata": {},
   "outputs": [],
   "source": [
    "# Test Data\n",
    "with open('LE_Rfrst','wb') as f:\n",
    "    pickle.dump(Rforest_model,f)\n",
    "t_y=Rforest_model.predict(t_benz_df_x)\n",
    "save_output(t_benz_df_x,t_y,'LE_Rfrst.csv')"
   ]
  },
  {
   "cell_type": "code",
   "execution_count": 35,
   "metadata": {},
   "outputs": [
    {
     "name": "stdout",
     "output_type": "stream",
     "text": [
      "best_param {'min_child_weight': 1, 'max_depth': 4, 'learning_rate': 0.05, 'colsample_bytree': 0.5}\n",
      "rsquare 0.4878\n",
      "mse 89.3165\n"
     ]
    }
   ],
   "source": [
    "# XGB Regressor- Random Search\n",
    "# parameters = {'max_depth':sp_randint(2,8),'n_estimators':sp_randint(50,200)}\n",
    "params={\"learning_rate\": [0.05, 0.10, 0.15, 0.20, 0.25, 0.30 ] , \"max_depth\": [ 3, 4, 5, 6, 8, 10, 12, 15], \"min_child_weight\" : [ 1, 3, 5, 7 ],\"colsample_bytree\" : [ 0.3, 0.4, 0.5 , 0.7 ]}\n",
    "best_param=random_search(X_train_LE,y_train,params,LGBMRegressor())\n",
    "XGB_model=LGBMRegressor(learning_rate=best_param['learning_rate'],max_depth=best_param['max_depth'],min_child_weight=best_param['min_child_weight'],colsample_bytree=best_param['colsample_bytree'])\n",
    "xgb_reg_mse,xgb_r2=base_model(X_train_LE, X_test_LE, y_train, y_test,XGB_model)\n",
    "x.add_row ([\"Label Encoding\",\"XGB Regressor\",xgb_reg_mse,xgb_r2])"
   ]
  },
  {
   "cell_type": "code",
   "execution_count": 36,
   "metadata": {},
   "outputs": [],
   "source": [
    "# Test Data\n",
    "with open('LE_XGB','wb') as f:\n",
    "    pickle.dump(XGB_model,f)\n",
    "t_y=XGB_model.predict(t_benz_df_x)\n",
    "save_output(t_benz_df_x,t_y,'LE_XGB.csv')"
   ]
  },
  {
   "cell_type": "code",
   "execution_count": 37,
   "metadata": {},
   "outputs": [
    {
     "name": "stdout",
     "output_type": "stream",
     "text": [
      "best_param {'max_depth': 4, 'min_samples_leaf': 9, 'min_samples_split': 3}\n",
      "rsquare 0.4827\n",
      "mse 90.2052\n"
     ]
    }
   ],
   "source": [
    "# ExtraTreeRegressor - Random Search\n",
    "parameters = {'min_samples_split':sp_randint(2,8),'max_depth':sp_randint(2,8),'min_samples_leaf':sp_randint(1,10)}\n",
    "best_param=random_search(X_train_LE,y_train,parameters,ExtraTreesRegressor())\n",
    "extra_tree_model=ExtraTreesRegressor(max_depth=best_param['max_depth'], min_samples_split= best_param['min_samples_split'],min_samples_leaf=best_param['min_samples_leaf'])\n",
    "xtra_reg_mse,xtra_xgb_r2=base_model(X_train_LE, X_test_LE, y_train, y_test,extra_tree_model)\n",
    "x.add_row ([\"Label Encoding\",\"Extra Tree Regressor\",xtra_reg_mse,xtra_xgb_r2])"
   ]
  },
  {
   "cell_type": "code",
   "execution_count": 38,
   "metadata": {},
   "outputs": [],
   "source": [
    "# Test Data\n",
    "with open('LE_XtraT','wb') as f:\n",
    "    pickle.dump(extra_tree_model,f)\n",
    "t_y=extra_tree_model.predict(t_benz_df_x)\n",
    "save_output(t_benz_df_x,t_y,'LE_XtraT.csv')"
   ]
  },
  {
   "cell_type": "code",
   "execution_count": 39,
   "metadata": {},
   "outputs": [
    {
     "name": "stdout",
     "output_type": "stream",
     "text": [
      "best_param {'kernel': 'rbf', 'gamma': 0.0001, 'C': 1000}\n",
      "rsquare 0.4434\n",
      "mse 97.0647\n"
     ]
    }
   ],
   "source": [
    "#svr\n",
    "parameters = [{'kernel': ['rbf'], 'gamma': [1e-4, 1e-3, 0.01, 0.1, 0.2, 0.5, 0.6, 0.9],'C': [1, 10, 100, 1000, 10000]}]\n",
    "best_param=random_search(X_train_LE,y_train,parameters,SVR())\n",
    "\n",
    "svr_model=SVR(kernel=best_param['kernel'], gamma= best_param['gamma'],C=best_param['C'])\n",
    "regr = make_pipeline(StandardScaler(),svr_model)\n",
    "svr_reg_mse,svr_xgb_r2=base_model(X_train_LE, X_test_LE, y_train, y_test,regr)\n",
    "x.add_row ([\"Label Encoding\",\"SVR\",svr_reg_mse,svr_xgb_r2])"
   ]
  },
  {
   "cell_type": "code",
   "execution_count": 40,
   "metadata": {},
   "outputs": [],
   "source": [
    "# Test Data\n",
    "with open('LE_SVR','wb') as f:\n",
    "    pickle.dump(regr,f)\n",
    "t_y=regr.predict(t_benz_df_x)\n",
    "save_output(t_benz_df_x,t_y,'LE_SVR.csv')"
   ]
  },
  {
   "cell_type": "code",
   "execution_count": 42,
   "metadata": {},
   "outputs": [
    {
     "name": "stdout",
     "output_type": "stream",
     "text": [
      "rsquare 0.4825\n",
      "mse 90.2436\n"
     ]
    }
   ],
   "source": [
    "# Stacking regressor\n",
    "stacker=dtree_model\n",
    "estimators = [('lr',lr),('xgb',XGB_model),('xtree',extra_tree_model),('knn',KNeighborsRegressor(n_neighbors=12),('svr',regr))]\n",
    "stacking_reg = StackingRegressor(estimators=estimators,final_estimator=stacker)\n",
    "\n",
    "stk_reg_mse,stk_r2=base_model(X_train_LE, X_test_LE, y_train, y_test,stacking_reg)\n",
    "x.add_row ([\"Label Encoding\",\"Stacking Regressor\",stk_reg_mse,stk_r2])"
   ]
  },
  {
   "cell_type": "code",
   "execution_count": 43,
   "metadata": {},
   "outputs": [],
   "source": [
    "# Test Data\n",
    "with open('LE_Stkr','wb') as f:\n",
    "    pickle.dump(stacking_reg,f)\n",
    "t_y=stacking_reg.predict(t_benz_df_x)\n",
    "save_output(t_benz_df_x,t_y,'LE_Stkr.csv')"
   ]
  },
  {
   "cell_type": "code",
   "execution_count": 44,
   "metadata": {
    "scrolled": true
   },
   "outputs": [
    {
     "name": "stdout",
     "output_type": "stream",
     "text": [
      "+----------------+------------------------+----------+---------+\n",
      "|      Data      |         Model          | R square |   MSE   |\n",
      "+----------------+------------------------+----------+---------+\n",
      "| Label Encoding |   Linear Regression    |  0.4479  | 96.2698 |\n",
      "| Label Encoding | DecisionTreeRegressor  |  0.4984  | 87.4635 |\n",
      "| Label Encoding | RandomForest Regressor |  0.4966  | 87.7897 |\n",
      "| Label Encoding |     XGB Regressor      |  0.4878  | 89.3165 |\n",
      "| Label Encoding |  Extra Tree Regressor  |  0.4827  | 90.2052 |\n",
      "| Label Encoding |          SVR           |  0.4434  | 97.0647 |\n",
      "| Label Encoding |   Stacking Regressor   |  0.4825  | 90.2436 |\n",
      "+----------------+------------------------+----------+---------+\n"
     ]
    }
   ],
   "source": [
    "print(x)"
   ]
  },
  {
   "cell_type": "markdown",
   "metadata": {},
   "source": []
  },
  {
   "cell_type": "markdown",
   "metadata": {},
   "source": [
    "<h2> Finding Top Features using XGBoost </h2>"
   ]
  },
  {
   "cell_type": "code",
   "execution_count": 45,
   "metadata": {},
   "outputs": [
    {
     "data": {
      "text/html": [
       "<div>\n",
       "<style scoped>\n",
       "    .dataframe tbody tr th:only-of-type {\n",
       "        vertical-align: middle;\n",
       "    }\n",
       "\n",
       "    .dataframe tbody tr th {\n",
       "        vertical-align: top;\n",
       "    }\n",
       "\n",
       "    .dataframe thead th {\n",
       "        text-align: right;\n",
       "    }\n",
       "</style>\n",
       "<table border=\"1\" class=\"dataframe\">\n",
       "  <thead>\n",
       "    <tr style=\"text-align: right;\">\n",
       "      <th></th>\n",
       "      <th>X10</th>\n",
       "      <th>X11</th>\n",
       "      <th>X12</th>\n",
       "      <th>X13</th>\n",
       "      <th>X14</th>\n",
       "      <th>X15</th>\n",
       "      <th>X16</th>\n",
       "      <th>X17</th>\n",
       "      <th>X18</th>\n",
       "      <th>X19</th>\n",
       "      <th>...</th>\n",
       "      <th>X375</th>\n",
       "      <th>X376</th>\n",
       "      <th>X377</th>\n",
       "      <th>X378</th>\n",
       "      <th>X379</th>\n",
       "      <th>X380</th>\n",
       "      <th>X382</th>\n",
       "      <th>X383</th>\n",
       "      <th>X384</th>\n",
       "      <th>X385</th>\n",
       "    </tr>\n",
       "  </thead>\n",
       "  <tbody>\n",
       "    <tr>\n",
       "      <th>0</th>\n",
       "      <td>0</td>\n",
       "      <td>0</td>\n",
       "      <td>0</td>\n",
       "      <td>1</td>\n",
       "      <td>0</td>\n",
       "      <td>0</td>\n",
       "      <td>0</td>\n",
       "      <td>0</td>\n",
       "      <td>1</td>\n",
       "      <td>0</td>\n",
       "      <td>...</td>\n",
       "      <td>0</td>\n",
       "      <td>0</td>\n",
       "      <td>1</td>\n",
       "      <td>0</td>\n",
       "      <td>0</td>\n",
       "      <td>0</td>\n",
       "      <td>0</td>\n",
       "      <td>0</td>\n",
       "      <td>0</td>\n",
       "      <td>0</td>\n",
       "    </tr>\n",
       "    <tr>\n",
       "      <th>1</th>\n",
       "      <td>0</td>\n",
       "      <td>0</td>\n",
       "      <td>0</td>\n",
       "      <td>0</td>\n",
       "      <td>0</td>\n",
       "      <td>0</td>\n",
       "      <td>0</td>\n",
       "      <td>0</td>\n",
       "      <td>1</td>\n",
       "      <td>0</td>\n",
       "      <td>...</td>\n",
       "      <td>1</td>\n",
       "      <td>0</td>\n",
       "      <td>0</td>\n",
       "      <td>0</td>\n",
       "      <td>0</td>\n",
       "      <td>0</td>\n",
       "      <td>0</td>\n",
       "      <td>0</td>\n",
       "      <td>0</td>\n",
       "      <td>0</td>\n",
       "    </tr>\n",
       "  </tbody>\n",
       "</table>\n",
       "<p>2 rows × 368 columns</p>\n",
       "</div>"
      ],
      "text/plain": [
       "   X10  X11  X12  X13  X14  X15  X16  X17  X18  X19  ...  X375  X376  X377  \\\n",
       "0    0    0    0    1    0    0    0    0    1    0  ...     0     0     1   \n",
       "1    0    0    0    0    0    0    0    0    1    0  ...     1     0     0   \n",
       "\n",
       "   X378  X379  X380  X382  X383  X384  X385  \n",
       "0     0     0     0     0     0     0     0  \n",
       "1     0     0     0     0     0     0     0  \n",
       "\n",
       "[2 rows x 368 columns]"
      ]
     },
     "execution_count": 45,
     "metadata": {},
     "output_type": "execute_result"
    }
   ],
   "source": [
    "binary_categories=list(benz_df.select_dtypes(include='int64').columns)\n",
    "binary_df=benz_df[binary_categories].drop('ID',axis=1)\n",
    "binary_df.head(2)"
   ]
  },
  {
   "cell_type": "code",
   "execution_count": 46,
   "metadata": {},
   "outputs": [
    {
     "data": {
      "text/html": [
       "<div>\n",
       "<style scoped>\n",
       "    .dataframe tbody tr th:only-of-type {\n",
       "        vertical-align: middle;\n",
       "    }\n",
       "\n",
       "    .dataframe tbody tr th {\n",
       "        vertical-align: top;\n",
       "    }\n",
       "\n",
       "    .dataframe thead th {\n",
       "        text-align: right;\n",
       "    }\n",
       "</style>\n",
       "<table border=\"1\" class=\"dataframe\">\n",
       "  <thead>\n",
       "    <tr style=\"text-align: right;\">\n",
       "      <th></th>\n",
       "      <th>X314</th>\n",
       "      <th>X315</th>\n",
       "      <th>X47</th>\n",
       "      <th>X118</th>\n",
       "      <th>X29</th>\n",
       "      <th>X261</th>\n",
       "      <th>X38</th>\n",
       "      <th>X127</th>\n",
       "      <th>X274</th>\n",
       "      <th>X225</th>\n",
       "      <th>X119</th>\n",
       "      <th>X327</th>\n",
       "      <th>X156</th>\n",
       "      <th>X115</th>\n",
       "      <th>X81</th>\n",
       "    </tr>\n",
       "  </thead>\n",
       "  <tbody>\n",
       "    <tr>\n",
       "      <th>0</th>\n",
       "      <td>0</td>\n",
       "      <td>0</td>\n",
       "      <td>0</td>\n",
       "      <td>1</td>\n",
       "      <td>0</td>\n",
       "      <td>0</td>\n",
       "      <td>0</td>\n",
       "      <td>0</td>\n",
       "      <td>0</td>\n",
       "      <td>0</td>\n",
       "      <td>1</td>\n",
       "      <td>1</td>\n",
       "      <td>1</td>\n",
       "      <td>0</td>\n",
       "      <td>0</td>\n",
       "    </tr>\n",
       "    <tr>\n",
       "      <th>1</th>\n",
       "      <td>0</td>\n",
       "      <td>0</td>\n",
       "      <td>0</td>\n",
       "      <td>1</td>\n",
       "      <td>0</td>\n",
       "      <td>0</td>\n",
       "      <td>0</td>\n",
       "      <td>1</td>\n",
       "      <td>0</td>\n",
       "      <td>0</td>\n",
       "      <td>1</td>\n",
       "      <td>0</td>\n",
       "      <td>1</td>\n",
       "      <td>0</td>\n",
       "      <td>0</td>\n",
       "    </tr>\n",
       "  </tbody>\n",
       "</table>\n",
       "</div>"
      ],
      "text/plain": [
       "   X314  X315  X47  X118  X29  X261  X38  X127  X274  X225  X119  X327  X156  \\\n",
       "0     0     0    0     1    0     0    0     0     0     0     1     1     1   \n",
       "1     0     0    0     1    0     0    0     1     0     0     1     0     1   \n",
       "\n",
       "   X115  X81  \n",
       "0     0    0  \n",
       "1     0    0  "
      ]
     },
     "execution_count": 46,
     "metadata": {},
     "output_type": "execute_result"
    }
   ],
   "source": [
    "# fit model no training data\n",
    "model = XGB_model\n",
    "model.fit(binary_df, y)\n",
    "# feature importance\n",
    "\n",
    "results=pd.DataFrame()\n",
    "results['columns']=binary_df.columns\n",
    "results['importances'] = model.feature_importances_\n",
    "results.sort_values(by='importances',ascending=False,inplace=True)\n",
    "results=results[:15]\n",
    "\n",
    "binary_df_top=binary_df[results['columns']]\n",
    "binary_df_top.head(2)"
   ]
  },
  {
   "cell_type": "markdown",
   "metadata": {},
   "source": [
    "## Features : Label Encoding + Top 15 Binary features"
   ]
  },
  {
   "cell_type": "code",
   "execution_count": 47,
   "metadata": {},
   "outputs": [
    {
     "data": {
      "text/html": [
       "<div>\n",
       "<style scoped>\n",
       "    .dataframe tbody tr th:only-of-type {\n",
       "        vertical-align: middle;\n",
       "    }\n",
       "\n",
       "    .dataframe tbody tr th {\n",
       "        vertical-align: top;\n",
       "    }\n",
       "\n",
       "    .dataframe thead th {\n",
       "        text-align: right;\n",
       "    }\n",
       "</style>\n",
       "<table border=\"1\" class=\"dataframe\">\n",
       "  <thead>\n",
       "    <tr style=\"text-align: right;\">\n",
       "      <th></th>\n",
       "      <th>X0</th>\n",
       "      <th>X1</th>\n",
       "      <th>X2</th>\n",
       "      <th>X3</th>\n",
       "      <th>X4</th>\n",
       "      <th>X5</th>\n",
       "      <th>X6</th>\n",
       "      <th>X8</th>\n",
       "      <th>X314</th>\n",
       "      <th>X315</th>\n",
       "      <th>...</th>\n",
       "      <th>X261</th>\n",
       "      <th>X38</th>\n",
       "      <th>X127</th>\n",
       "      <th>X274</th>\n",
       "      <th>X225</th>\n",
       "      <th>X119</th>\n",
       "      <th>X327</th>\n",
       "      <th>X156</th>\n",
       "      <th>X115</th>\n",
       "      <th>X81</th>\n",
       "    </tr>\n",
       "  </thead>\n",
       "  <tbody>\n",
       "    <tr>\n",
       "      <th>0</th>\n",
       "      <td>107</td>\n",
       "      <td>118</td>\n",
       "      <td>213</td>\n",
       "      <td>97</td>\n",
       "      <td>100</td>\n",
       "      <td>117</td>\n",
       "      <td>106</td>\n",
       "      <td>111</td>\n",
       "      <td>0</td>\n",
       "      <td>0</td>\n",
       "      <td>...</td>\n",
       "      <td>0</td>\n",
       "      <td>0</td>\n",
       "      <td>0</td>\n",
       "      <td>0</td>\n",
       "      <td>0</td>\n",
       "      <td>1</td>\n",
       "      <td>1</td>\n",
       "      <td>1</td>\n",
       "      <td>0</td>\n",
       "      <td>0</td>\n",
       "    </tr>\n",
       "    <tr>\n",
       "      <th>1</th>\n",
       "      <td>107</td>\n",
       "      <td>116</td>\n",
       "      <td>215</td>\n",
       "      <td>101</td>\n",
       "      <td>100</td>\n",
       "      <td>121</td>\n",
       "      <td>108</td>\n",
       "      <td>111</td>\n",
       "      <td>0</td>\n",
       "      <td>0</td>\n",
       "      <td>...</td>\n",
       "      <td>0</td>\n",
       "      <td>0</td>\n",
       "      <td>1</td>\n",
       "      <td>0</td>\n",
       "      <td>0</td>\n",
       "      <td>1</td>\n",
       "      <td>0</td>\n",
       "      <td>1</td>\n",
       "      <td>0</td>\n",
       "      <td>0</td>\n",
       "    </tr>\n",
       "  </tbody>\n",
       "</table>\n",
       "<p>2 rows × 23 columns</p>\n",
       "</div>"
      ],
      "text/plain": [
       "    X0   X1   X2   X3   X4   X5   X6   X8  X314  X315  ...  X261  X38  X127  \\\n",
       "0  107  118  213   97  100  117  106  111     0     0  ...     0    0     0   \n",
       "1  107  116  215  101  100  121  108  111     0     0  ...     0    0     1   \n",
       "\n",
       "   X274  X225  X119  X327  X156  X115  X81  \n",
       "0     0     0     1     1     1     0    0  \n",
       "1     0     0     1     0     1     0    0  \n",
       "\n",
       "[2 rows x 23 columns]"
      ]
     },
     "execution_count": 47,
     "metadata": {},
     "output_type": "execute_result"
    }
   ],
   "source": [
    "benz_df_le_top=benz_df_x[var_name + list(binary_df_top.columns)]\n",
    "benz_df_le_top.head(2)"
   ]
  },
  {
   "cell_type": "code",
   "execution_count": 48,
   "metadata": {},
   "outputs": [],
   "source": [
    "X_train_LE15, X_test_LE15, y_train, y_test = train_test_split(benz_df_le_top, y, test_size=0.33, random_state=35)"
   ]
  },
  {
   "cell_type": "markdown",
   "metadata": {},
   "source": [
    "## Test Data Preparation"
   ]
  },
  {
   "cell_type": "code",
   "execution_count": 49,
   "metadata": {},
   "outputs": [
    {
     "data": {
      "text/html": [
       "<div>\n",
       "<style scoped>\n",
       "    .dataframe tbody tr th:only-of-type {\n",
       "        vertical-align: middle;\n",
       "    }\n",
       "\n",
       "    .dataframe tbody tr th {\n",
       "        vertical-align: top;\n",
       "    }\n",
       "\n",
       "    .dataframe thead th {\n",
       "        text-align: right;\n",
       "    }\n",
       "</style>\n",
       "<table border=\"1\" class=\"dataframe\">\n",
       "  <thead>\n",
       "    <tr style=\"text-align: right;\">\n",
       "      <th></th>\n",
       "      <th>X0</th>\n",
       "      <th>X1</th>\n",
       "      <th>X2</th>\n",
       "      <th>X3</th>\n",
       "      <th>X4</th>\n",
       "      <th>X5</th>\n",
       "      <th>X6</th>\n",
       "      <th>X8</th>\n",
       "      <th>X314</th>\n",
       "      <th>X315</th>\n",
       "      <th>...</th>\n",
       "      <th>X261</th>\n",
       "      <th>X38</th>\n",
       "      <th>X127</th>\n",
       "      <th>X274</th>\n",
       "      <th>X225</th>\n",
       "      <th>X119</th>\n",
       "      <th>X327</th>\n",
       "      <th>X156</th>\n",
       "      <th>X115</th>\n",
       "      <th>X81</th>\n",
       "    </tr>\n",
       "  </thead>\n",
       "  <tbody>\n",
       "    <tr>\n",
       "      <th>0</th>\n",
       "      <td>219</td>\n",
       "      <td>118</td>\n",
       "      <td>110</td>\n",
       "      <td>102</td>\n",
       "      <td>100</td>\n",
       "      <td>116</td>\n",
       "      <td>97</td>\n",
       "      <td>119</td>\n",
       "      <td>0</td>\n",
       "      <td>0</td>\n",
       "      <td>...</td>\n",
       "      <td>0</td>\n",
       "      <td>0</td>\n",
       "      <td>0</td>\n",
       "      <td>0</td>\n",
       "      <td>0</td>\n",
       "      <td>0</td>\n",
       "      <td>0</td>\n",
       "      <td>0</td>\n",
       "      <td>0</td>\n",
       "      <td>0</td>\n",
       "    </tr>\n",
       "    <tr>\n",
       "      <th>1</th>\n",
       "      <td>116</td>\n",
       "      <td>98</td>\n",
       "      <td>202</td>\n",
       "      <td>97</td>\n",
       "      <td>100</td>\n",
       "      <td>98</td>\n",
       "      <td>103</td>\n",
       "      <td>121</td>\n",
       "      <td>0</td>\n",
       "      <td>0</td>\n",
       "      <td>...</td>\n",
       "      <td>0</td>\n",
       "      <td>0</td>\n",
       "      <td>1</td>\n",
       "      <td>0</td>\n",
       "      <td>0</td>\n",
       "      <td>1</td>\n",
       "      <td>1</td>\n",
       "      <td>1</td>\n",
       "      <td>0</td>\n",
       "      <td>0</td>\n",
       "    </tr>\n",
       "  </tbody>\n",
       "</table>\n",
       "<p>2 rows × 23 columns</p>\n",
       "</div>"
      ],
      "text/plain": [
       "    X0   X1   X2   X3   X4   X5   X6   X8  X314  X315  ...  X261  X38  X127  \\\n",
       "0  219  118  110  102  100  116   97  119     0     0  ...     0    0     0   \n",
       "1  116   98  202   97  100   98  103  121     0     0  ...     0    0     1   \n",
       "\n",
       "   X274  X225  X119  X327  X156  X115  X81  \n",
       "0     0     0     0     0     0     0    0  \n",
       "1     0     0     1     1     1     0    0  \n",
       "\n",
       "[2 rows x 23 columns]"
      ]
     },
     "execution_count": 49,
     "metadata": {},
     "output_type": "execute_result"
    }
   ],
   "source": [
    "t_benz_df_le_top=t_benz_df_x[var_name + list(binary_df_top.columns)]\n",
    "t_benz_df_le_top.head(2)"
   ]
  },
  {
   "cell_type": "markdown",
   "metadata": {},
   "source": [
    "## Train models with top 15 features - label encoding"
   ]
  },
  {
   "cell_type": "code",
   "execution_count": 50,
   "metadata": {},
   "outputs": [
    {
     "name": "stdout",
     "output_type": "stream",
     "text": [
      "rsquare 0.5183\n",
      "mse 80.2728\n"
     ]
    }
   ],
   "source": [
    "#Linear regression \n",
    "lr=LinearRegression()\n",
    "lr_reg_mse,lr_r2=base_model(X_train_LE15, X_test_LE15, y_train, y_test,lr)\n",
    "x1 = PrettyTable()\n",
    "x1.field_names = [\"Data\",\"Model\",\"R square\",\"MSE\"]\n",
    "x1.add_row ([\"Label Encoding + top 15 Features\",\"Linear Regression\",lr_reg_mse,lr_r2])"
   ]
  },
  {
   "cell_type": "code",
   "execution_count": 51,
   "metadata": {},
   "outputs": [],
   "source": [
    "# Test Data\n",
    "t_y=lr.predict(t_benz_df_le_top)\n",
    "save_output(t_benz_df_le_top,t_y,'LETOP15_LR.csv')"
   ]
  },
  {
   "cell_type": "code",
   "execution_count": 52,
   "metadata": {},
   "outputs": [
    {
     "name": "stdout",
     "output_type": "stream",
     "text": [
      "best_param {'max_depth': 3, 'min_samples_split': 9}\n",
      "rsquare 0.5353\n",
      "mse 77.4462\n"
     ]
    }
   ],
   "source": [
    "#Decision Tree - random search\n",
    "parameters = {'min_samples_split':sp_randint(2,20),'max_depth':sp_randint(2,20)}\n",
    "#Best parameter values\n",
    "best_param=random_search(X_train_LE15,y_train,parameters,DecisionTreeRegressor())\n",
    "#Train model on best params and get scores\n",
    "dtree_model=DecisionTreeRegressor(max_depth= best_param['max_depth'], min_samples_split= best_param['min_samples_split'])\n",
    "dtree_reg_mse,dtree_r2=base_model(X_train_LE15, X_test_LE15, y_train, y_test,dtree_model)\n",
    "x1.add_row ([\"Label Encoding + top 15 Features\",\"DecisionTreeRegressor\",dtree_reg_mse,dtree_r2])\n"
   ]
  },
  {
   "cell_type": "code",
   "execution_count": 53,
   "metadata": {},
   "outputs": [],
   "source": [
    "# Test Data\n",
    "with open('LE15_Dtree','wb') as f:\n",
    "    pickle.dump(dtree_model,f)\n",
    "t_y=dtree_model.predict(t_benz_df_le_top)\n",
    "save_output(t_benz_df_le_top,t_y,'LE15_Dtree.csv')"
   ]
  },
  {
   "cell_type": "code",
   "execution_count": 54,
   "metadata": {
    "scrolled": true
   },
   "outputs": [
    {
     "name": "stdout",
     "output_type": "stream",
     "text": [
      "best_param {'max_depth': 4, 'min_samples_leaf': 3, 'min_samples_split': 7, 'n_estimators': 63}\n",
      "rsquare 0.5435\n",
      "mse 76.0755\n"
     ]
    }
   ],
   "source": [
    "# Random Forest - Random Search\n",
    "parameters = {'min_samples_split':sp_randint(2,8),'max_depth':sp_randint(2,8),'n_estimators':sp_randint(50,200),'min_samples_leaf':sp_randint(2,10)}\n",
    "best_param=random_search(X_train_LE15,y_train,parameters,RandomForestRegressor())\n",
    "Rforest_model=RandomForestRegressor(max_depth=best_param['max_depth'], min_samples_split= best_param['min_samples_split'],min_samples_leaf=best_param['min_samples_leaf'],n_estimators=best_param['n_estimators'])\n",
    "rfrst_reg_mse,rfrst_r2=base_model(X_train_LE15, X_test_LE15, y_train, y_test,Rforest_model)\n",
    "x1.add_row ([\"Label Encoding + top 15 Features\",\"RandomForest Regressor\",rfrst_reg_mse,rfrst_r2])"
   ]
  },
  {
   "cell_type": "code",
   "execution_count": 55,
   "metadata": {},
   "outputs": [],
   "source": [
    "# Test Data\n",
    "with open('LE15_Rfrst','wb') as f:\n",
    "    pickle.dump(Rforest_model,f)\n",
    "t_y=Rforest_model.predict(t_benz_df_le_top)\n",
    "save_output(t_benz_df_le_top,t_y,'LE15_Rfrst.csv')"
   ]
  },
  {
   "cell_type": "code",
   "execution_count": 56,
   "metadata": {},
   "outputs": [
    {
     "name": "stdout",
     "output_type": "stream",
     "text": [
      "best_param {'min_child_weight': 5, 'max_depth': 4, 'learning_rate': 0.05, 'colsample_bytree': 0.7}\n",
      "rsquare 0.5455\n",
      "mse 75.737\n"
     ]
    }
   ],
   "source": [
    "# XGB Regressor- Random Search\n",
    "params={\"learning_rate\": [0.05, 0.10, 0.15, 0.20, 0.25, 0.30 ] , \"max_depth\": [ 3, 4, 5, 6, 8, 10, 12, 15], \"min_child_weight\" : [ 1, 3, 5, 7 ],\"colsample_bytree\" : [ 0.3, 0.4, 0.5 , 0.7 ]}\n",
    "best_param=random_search(X_train_LE15,y_train,params,LGBMRegressor())\n",
    "XGB_model=LGBMRegressor(learning_rate=best_param['learning_rate'],max_depth=best_param['max_depth'],min_child_weight=best_param['min_child_weight'],colsample_bytree=best_param['colsample_bytree'])\n",
    "xgb_reg_mse,xgb_r2=base_model(X_train_LE15, X_test_LE15, y_train, y_test,XGB_model)\n",
    "x1.add_row ([\"Label Encoding + top 15 Features\",\"XGB Regressor\",xgb_reg_mse,xgb_r2])"
   ]
  },
  {
   "cell_type": "code",
   "execution_count": 57,
   "metadata": {},
   "outputs": [],
   "source": [
    "# Test Data\n",
    "with open('LE15_XGB','wb') as f:\n",
    "    pickle.dump(XGB_model,f)\n",
    "t_y=XGB_model.predict(t_benz_df_le_top)\n",
    "save_output(t_benz_df_le_top,t_y,'LE15_XGB.csv')"
   ]
  },
  {
   "cell_type": "code",
   "execution_count": 58,
   "metadata": {},
   "outputs": [
    {
     "name": "stdout",
     "output_type": "stream",
     "text": [
      "best_param {'max_depth': 4, 'min_samples_leaf': 1, 'min_samples_split': 5}\n",
      "rsquare 0.5407\n",
      "mse 76.5446\n"
     ]
    }
   ],
   "source": [
    "# ExtraTreeRegressor - Random Search\n",
    "parameters = {'min_samples_split':sp_randint(2,8),'max_depth':sp_randint(2,8),'min_samples_leaf':sp_randint(1,10)}\n",
    "best_param=random_search(X_train_LE15,y_train,parameters,ExtraTreesRegressor())\n",
    "extra_tree_model=ExtraTreesRegressor(max_depth=best_param['max_depth'], min_samples_split= best_param['min_samples_split'],min_samples_leaf=best_param['min_samples_leaf'])\n",
    "xtra_reg_mse,xtra_xgb_r2=base_model(X_train_LE15, X_test_LE15, y_train, y_test,extra_tree_model)\n",
    "x1.add_row ([\"Label Encoding + top 15 Features\",\"Extra Tree Regressor\",xtra_reg_mse,xtra_xgb_r2])"
   ]
  },
  {
   "cell_type": "code",
   "execution_count": 59,
   "metadata": {},
   "outputs": [],
   "source": [
    "# Test Data\n",
    "with open('LE15_XtraT','wb') as f:\n",
    "    pickle.dump(extra_tree_model,f)\n",
    "t_y=extra_tree_model.predict(t_benz_df_le_top)\n",
    "save_output(t_benz_df_le_top,t_y,'LE15_XtraT.csv')"
   ]
  },
  {
   "cell_type": "code",
   "execution_count": 60,
   "metadata": {},
   "outputs": [
    {
     "name": "stdout",
     "output_type": "stream",
     "text": [
      "best_param {'kernel': 'rbf', 'gamma': 0.0001, 'C': 10000}\n",
      "rsquare 0.5191\n",
      "mse 80.1505\n"
     ]
    }
   ],
   "source": [
    "#svr\n",
    "parameters = [{'kernel': ['rbf'], 'gamma': [1e-4, 1e-3, 0.01, 0.1, 0.2, 0.5, 0.6, 0.9],'C': [1, 10, 100, 1000, 10000]}]\n",
    "best_param=random_search(X_train_LE15,y_train,parameters,SVR())\n",
    "\n",
    "svr_model=SVR(kernel=best_param['kernel'], gamma= best_param['gamma'],C=best_param['C'])\n",
    "regr = make_pipeline(StandardScaler(),svr_model)\n",
    "svr_reg_mse,svr_xgb_r2=base_model(X_train_LE15, X_test_LE15, y_train, y_test,regr)\n",
    "x1.add_row ([\"Label Encoding + top 15 Features\",\"SVR\",svr_reg_mse,svr_xgb_r2])"
   ]
  },
  {
   "cell_type": "code",
   "execution_count": 61,
   "metadata": {},
   "outputs": [],
   "source": [
    "# Test Data\n",
    "with open('LE15_SVR','wb') as f:\n",
    "    pickle.dump(regr,f)\n",
    "t_y=regr.predict(t_benz_df_le_top)\n",
    "save_output(t_benz_df_le_top,t_y,'LE15_SVR.csv')"
   ]
  },
  {
   "cell_type": "code",
   "execution_count": 62,
   "metadata": {},
   "outputs": [
    {
     "name": "stdout",
     "output_type": "stream",
     "text": [
      "rsquare 0.5284\n",
      "mse 78.592\n"
     ]
    }
   ],
   "source": [
    "# Stacking regressor\n",
    "\n",
    "stacker=dtree_model\n",
    "estimators = [('lr',LinearRegression()),('xgb',XGB_model),('xtree',extra_tree_model),('knn',KNeighborsRegressor(n_neighbors=12),('svr',regr))]\n",
    "stacking_reg = StackingRegressor(estimators=estimators,final_estimator=stacker)\n",
    "\n",
    "\n",
    "stk_reg_mse,stk_r2=base_model(X_train_LE15, X_test_LE15, y_train, y_test,stacking_reg)\n",
    "x1.add_row ([\"Label Encoding + top 15 Features\",\"Stacking Regressor\",stk_reg_mse,stk_r2])"
   ]
  },
  {
   "cell_type": "code",
   "execution_count": 63,
   "metadata": {},
   "outputs": [],
   "source": [
    "# Test Data\n",
    "with open('LE15_Stkr','wb') as f:\n",
    "    pickle.dump(stacking_reg,f)\n",
    "t_y=stacking_reg.predict(t_benz_df_le_top)\n",
    "save_output(t_benz_df_le_top,t_y,'LE15_Stkr.csv')"
   ]
  },
  {
   "cell_type": "code",
   "execution_count": 64,
   "metadata": {
    "scrolled": false
   },
   "outputs": [
    {
     "name": "stdout",
     "output_type": "stream",
     "text": [
      "+----------------------------------+------------------------+----------+---------+\n",
      "|               Data               |         Model          | R square |   MSE   |\n",
      "+----------------------------------+------------------------+----------+---------+\n",
      "| Label Encoding + top 15 Features |   Linear Regression    |  0.5183  | 80.2728 |\n",
      "| Label Encoding + top 15 Features | DecisionTreeRegressor  |  0.5353  | 77.4462 |\n",
      "| Label Encoding + top 15 Features | RandomForest Regressor |  0.5435  | 76.0755 |\n",
      "| Label Encoding + top 15 Features |     XGB Regressor      |  0.5455  |  75.737 |\n",
      "| Label Encoding + top 15 Features |  Extra Tree Regressor  |  0.5407  | 76.5446 |\n",
      "| Label Encoding + top 15 Features |          SVR           |  0.5191  | 80.1505 |\n",
      "| Label Encoding + top 15 Features |   Stacking Regressor   |  0.5284  |  78.592 |\n",
      "+----------------------------------+------------------------+----------+---------+\n"
     ]
    }
   ],
   "source": [
    "# x1.clear_rows()\n",
    "print(x1)\n"
   ]
  },
  {
   "cell_type": "markdown",
   "metadata": {},
   "source": [
    "## Standardize Data"
   ]
  },
  {
   "cell_type": "code",
   "execution_count": 65,
   "metadata": {},
   "outputs": [
    {
     "ename": "NameError",
     "evalue": "name 'scaler' is not defined",
     "output_type": "error",
     "traceback": [
      "\u001b[1;31m---------------------------------------------------------------------------\u001b[0m",
      "\u001b[1;31mNameError\u001b[0m                                 Traceback (most recent call last)",
      "\u001b[1;32m<ipython-input-65-38004ef13c8d>\u001b[0m in \u001b[0;36m<module>\u001b[1;34m\u001b[0m\n\u001b[1;32m----> 1\u001b[1;33m \u001b[0mscaler\u001b[0m\u001b[1;33m.\u001b[0m\u001b[0mfit\u001b[0m\u001b[1;33m(\u001b[0m\u001b[0mbenz_df_x\u001b[0m\u001b[1;33m.\u001b[0m\u001b[0miloc\u001b[0m\u001b[1;33m[\u001b[0m\u001b[1;33m:\u001b[0m\u001b[1;33m,\u001b[0m\u001b[1;36m8\u001b[0m\u001b[1;33m:\u001b[0m\u001b[1;33m]\u001b[0m\u001b[1;33m)\u001b[0m\u001b[1;33m\u001b[0m\u001b[1;33m\u001b[0m\u001b[0m\n\u001b[0m\u001b[0;32m      2\u001b[0m \u001b[0mbenz_df_x_sc\u001b[0m\u001b[1;33m=\u001b[0m\u001b[0mpd\u001b[0m\u001b[1;33m.\u001b[0m\u001b[0mDataFrame\u001b[0m\u001b[1;33m(\u001b[0m\u001b[0mbenz_df_x_sc\u001b[0m\u001b[1;33m,\u001b[0m\u001b[0mcolumns\u001b[0m\u001b[1;33m=\u001b[0m\u001b[0mbenz_df_x\u001b[0m\u001b[1;33m.\u001b[0m\u001b[0miloc\u001b[0m\u001b[1;33m[\u001b[0m\u001b[1;33m:\u001b[0m\u001b[1;33m,\u001b[0m\u001b[1;36m8\u001b[0m\u001b[1;33m:\u001b[0m\u001b[1;33m]\u001b[0m\u001b[1;33m.\u001b[0m\u001b[0mcolumns\u001b[0m\u001b[1;33m)\u001b[0m\u001b[1;33m\u001b[0m\u001b[1;33m\u001b[0m\u001b[0m\n",
      "\u001b[1;31mNameError\u001b[0m: name 'scaler' is not defined"
     ]
    }
   ],
   "source": [
    "scaler.fit(benz_df_x.iloc[:,8:])\n",
    "benz_df_x_sc=pd.DataFrame(benz_df_x_sc,columns=benz_df_x.iloc[:,8:].columns)"
   ]
  },
  {
   "cell_type": "code",
   "execution_count": 66,
   "metadata": {},
   "outputs": [],
   "source": [
    "scaler = StandardScaler()\n",
    "scaler.fit(benz_df_x)\n",
    "benz_df_x_sc=scaler.transform(benz_df_x)\n",
    "benz_df_x_sc=pd.DataFrame(benz_df_x_sc,columns=benz_df_x.columns)"
   ]
  },
  {
   "cell_type": "code",
   "execution_count": 67,
   "metadata": {},
   "outputs": [
    {
     "data": {
      "text/html": [
       "<div>\n",
       "<style scoped>\n",
       "    .dataframe tbody tr th:only-of-type {\n",
       "        vertical-align: middle;\n",
       "    }\n",
       "\n",
       "    .dataframe tbody tr th {\n",
       "        vertical-align: top;\n",
       "    }\n",
       "\n",
       "    .dataframe thead th {\n",
       "        text-align: right;\n",
       "    }\n",
       "</style>\n",
       "<table border=\"1\" class=\"dataframe\">\n",
       "  <thead>\n",
       "    <tr style=\"text-align: right;\">\n",
       "      <th></th>\n",
       "      <th>X0</th>\n",
       "      <th>X1</th>\n",
       "      <th>X2</th>\n",
       "      <th>X3</th>\n",
       "      <th>X4</th>\n",
       "      <th>X5</th>\n",
       "      <th>X6</th>\n",
       "      <th>X8</th>\n",
       "      <th>X10</th>\n",
       "      <th>X11</th>\n",
       "      <th>...</th>\n",
       "      <th>X375</th>\n",
       "      <th>X376</th>\n",
       "      <th>X377</th>\n",
       "      <th>X378</th>\n",
       "      <th>X379</th>\n",
       "      <th>X380</th>\n",
       "      <th>X382</th>\n",
       "      <th>X383</th>\n",
       "      <th>X384</th>\n",
       "      <th>X385</th>\n",
       "    </tr>\n",
       "  </thead>\n",
       "  <tbody>\n",
       "    <tr>\n",
       "      <th>0</th>\n",
       "      <td>-0.847881</td>\n",
       "      <td>-0.220869</td>\n",
       "      <td>0.732775</td>\n",
       "      <td>-1.678270</td>\n",
       "      <td>0.028938</td>\n",
       "      <td>-0.532892</td>\n",
       "      <td>0.751787</td>\n",
       "      <td>0.339445</td>\n",
       "      <td>-0.116122</td>\n",
       "      <td>0.0</td>\n",
       "      <td>...</td>\n",
       "      <td>-0.684167</td>\n",
       "      <td>-0.246447</td>\n",
       "      <td>1.475332</td>\n",
       "      <td>-0.14528</td>\n",
       "      <td>-0.097952</td>\n",
       "      <td>-0.090243</td>\n",
       "      <td>-0.087527</td>\n",
       "      <td>-0.040815</td>\n",
       "      <td>-0.021804</td>\n",
       "      <td>-0.037783</td>\n",
       "    </tr>\n",
       "    <tr>\n",
       "      <th>1</th>\n",
       "      <td>-0.847881</td>\n",
       "      <td>-0.278515</td>\n",
       "      <td>0.777764</td>\n",
       "      <td>0.620969</td>\n",
       "      <td>0.028938</td>\n",
       "      <td>-0.436027</td>\n",
       "      <td>1.437511</td>\n",
       "      <td>0.339445</td>\n",
       "      <td>-0.116122</td>\n",
       "      <td>0.0</td>\n",
       "      <td>...</td>\n",
       "      <td>1.461630</td>\n",
       "      <td>-0.246447</td>\n",
       "      <td>-0.677814</td>\n",
       "      <td>-0.14528</td>\n",
       "      <td>-0.097952</td>\n",
       "      <td>-0.090243</td>\n",
       "      <td>-0.087527</td>\n",
       "      <td>-0.040815</td>\n",
       "      <td>-0.021804</td>\n",
       "      <td>-0.037783</td>\n",
       "    </tr>\n",
       "  </tbody>\n",
       "</table>\n",
       "<p>2 rows × 376 columns</p>\n",
       "</div>"
      ],
      "text/plain": [
       "         X0        X1        X2        X3        X4        X5        X6  \\\n",
       "0 -0.847881 -0.220869  0.732775 -1.678270  0.028938 -0.532892  0.751787   \n",
       "1 -0.847881 -0.278515  0.777764  0.620969  0.028938 -0.436027  1.437511   \n",
       "\n",
       "         X8       X10  X11  ...      X375      X376      X377     X378  \\\n",
       "0  0.339445 -0.116122  0.0  ... -0.684167 -0.246447  1.475332 -0.14528   \n",
       "1  0.339445 -0.116122  0.0  ...  1.461630 -0.246447 -0.677814 -0.14528   \n",
       "\n",
       "       X379      X380      X382      X383      X384      X385  \n",
       "0 -0.097952 -0.090243 -0.087527 -0.040815 -0.021804 -0.037783  \n",
       "1 -0.097952 -0.090243 -0.087527 -0.040815 -0.021804 -0.037783  \n",
       "\n",
       "[2 rows x 376 columns]"
      ]
     },
     "execution_count": 67,
     "metadata": {},
     "output_type": "execute_result"
    }
   ],
   "source": [
    "benz_df_x_sc.head(2)"
   ]
  },
  {
   "cell_type": "markdown",
   "metadata": {},
   "source": [
    "# Prepare Test Data"
   ]
  },
  {
   "cell_type": "code",
   "execution_count": 68,
   "metadata": {},
   "outputs": [
    {
     "data": {
      "text/html": [
       "<div>\n",
       "<style scoped>\n",
       "    .dataframe tbody tr th:only-of-type {\n",
       "        vertical-align: middle;\n",
       "    }\n",
       "\n",
       "    .dataframe tbody tr th {\n",
       "        vertical-align: top;\n",
       "    }\n",
       "\n",
       "    .dataframe thead th {\n",
       "        text-align: right;\n",
       "    }\n",
       "</style>\n",
       "<table border=\"1\" class=\"dataframe\">\n",
       "  <thead>\n",
       "    <tr style=\"text-align: right;\">\n",
       "      <th></th>\n",
       "      <th>X0</th>\n",
       "      <th>X1</th>\n",
       "      <th>X2</th>\n",
       "      <th>X3</th>\n",
       "      <th>X4</th>\n",
       "      <th>X5</th>\n",
       "      <th>X6</th>\n",
       "      <th>X8</th>\n",
       "      <th>X10</th>\n",
       "      <th>X11</th>\n",
       "      <th>...</th>\n",
       "      <th>X375</th>\n",
       "      <th>X376</th>\n",
       "      <th>X377</th>\n",
       "      <th>X378</th>\n",
       "      <th>X379</th>\n",
       "      <th>X380</th>\n",
       "      <th>X382</th>\n",
       "      <th>X383</th>\n",
       "      <th>X384</th>\n",
       "      <th>X385</th>\n",
       "    </tr>\n",
       "  </thead>\n",
       "  <tbody>\n",
       "    <tr>\n",
       "      <th>0</th>\n",
       "      <td>1.605910</td>\n",
       "      <td>-0.220869</td>\n",
       "      <td>-1.584130</td>\n",
       "      <td>1.195779</td>\n",
       "      <td>0.028938</td>\n",
       "      <td>-0.557108</td>\n",
       "      <td>-2.333970</td>\n",
       "      <td>1.476285</td>\n",
       "      <td>-0.116122</td>\n",
       "      <td>0.0</td>\n",
       "      <td>...</td>\n",
       "      <td>-0.684167</td>\n",
       "      <td>-0.246447</td>\n",
       "      <td>-0.677814</td>\n",
       "      <td>6.883263</td>\n",
       "      <td>-0.097952</td>\n",
       "      <td>-0.090243</td>\n",
       "      <td>-0.087527</td>\n",
       "      <td>-0.040815</td>\n",
       "      <td>-0.021804</td>\n",
       "      <td>-0.037783</td>\n",
       "    </tr>\n",
       "    <tr>\n",
       "      <th>1</th>\n",
       "      <td>-0.650702</td>\n",
       "      <td>-0.797333</td>\n",
       "      <td>0.485339</td>\n",
       "      <td>-1.678270</td>\n",
       "      <td>0.028938</td>\n",
       "      <td>-0.993002</td>\n",
       "      <td>-0.276798</td>\n",
       "      <td>1.760494</td>\n",
       "      <td>-0.116122</td>\n",
       "      <td>0.0</td>\n",
       "      <td>...</td>\n",
       "      <td>-0.684167</td>\n",
       "      <td>-0.246447</td>\n",
       "      <td>1.475332</td>\n",
       "      <td>-0.145280</td>\n",
       "      <td>-0.097952</td>\n",
       "      <td>-0.090243</td>\n",
       "      <td>-0.087527</td>\n",
       "      <td>-0.040815</td>\n",
       "      <td>-0.021804</td>\n",
       "      <td>-0.037783</td>\n",
       "    </tr>\n",
       "  </tbody>\n",
       "</table>\n",
       "<p>2 rows × 376 columns</p>\n",
       "</div>"
      ],
      "text/plain": [
       "         X0        X1        X2        X3        X4        X5        X6  \\\n",
       "0  1.605910 -0.220869 -1.584130  1.195779  0.028938 -0.557108 -2.333970   \n",
       "1 -0.650702 -0.797333  0.485339 -1.678270  0.028938 -0.993002 -0.276798   \n",
       "\n",
       "         X8       X10  X11  ...      X375      X376      X377      X378  \\\n",
       "0  1.476285 -0.116122  0.0  ... -0.684167 -0.246447 -0.677814  6.883263   \n",
       "1  1.760494 -0.116122  0.0  ... -0.684167 -0.246447  1.475332 -0.145280   \n",
       "\n",
       "       X379      X380      X382      X383      X384      X385  \n",
       "0 -0.097952 -0.090243 -0.087527 -0.040815 -0.021804 -0.037783  \n",
       "1 -0.097952 -0.090243 -0.087527 -0.040815 -0.021804 -0.037783  \n",
       "\n",
       "[2 rows x 376 columns]"
      ]
     },
     "execution_count": 68,
     "metadata": {},
     "output_type": "execute_result"
    }
   ],
   "source": [
    "t_benz_df_x_sc=scaler.transform(t_benz_df_x)\n",
    "t_benz_df_x_sc=pd.DataFrame(t_benz_df_x_sc,columns=t_benz_df_x.columns)\n",
    "t_benz_df_x_sc.head(2)"
   ]
  },
  {
   "cell_type": "markdown",
   "metadata": {},
   "source": [
    "## PCA"
   ]
  },
  {
   "cell_type": "code",
   "execution_count": null,
   "metadata": {},
   "outputs": [],
   "source": [
    "#code from : https://www.mikulskibartosz.name/pca-how-to-choose-the-number-of-components/\n",
    "from sklearn.decomposition import PCA\n",
    "import numpy as np\n",
    "pca = PCA().fit(benz_df_x_sc)\n",
    "# print('pca.explained_variance_ratio_',pca.explained_variance_ratio_)\n",
    "# % matplotlib inline\n",
    "import matplotlib.pyplot as plt\n",
    "plt.rcParams[\"figure.figsize\"] = (25,15)\n",
    "\n",
    "fig, ax = plt.subplots()\n",
    "xi = np.arange(0, 368, step=1)\n",
    "yi = np.cumsum(pca.explained_variance_ratio_)\n",
    "\n",
    "plt.ylim(0.0,1.1)\n",
    "plt.plot(xi, yi, marker='o', linestyle='--', color='b')\n",
    "\n",
    "plt.xlabel('Number of Components')\n",
    "plt.xticks(np.arange(0, 368, step=10)) #change from 0-based array index to 1-based human-readable label\n",
    "plt.ylabel('Cumulative variance (%)')\n",
    "plt.title('The number of components needed to explain variance')\n",
    "\n",
    "plt.axhline(y=0.95, color='r', linestyle='-')\n",
    "plt.text(0.5, 0.85, '95% cut-off threshold', color = 'red', fontsize=16)\n",
    "\n",
    "ax.grid(axis='x')\n",
    "plt.show()"
   ]
  },
  {
   "cell_type": "markdown",
   "metadata": {},
   "source": [
    "## PCA Train Data"
   ]
  },
  {
   "cell_type": "code",
   "execution_count": 70,
   "metadata": {},
   "outputs": [
    {
     "data": {
      "text/html": [
       "<div>\n",
       "<style scoped>\n",
       "    .dataframe tbody tr th:only-of-type {\n",
       "        vertical-align: middle;\n",
       "    }\n",
       "\n",
       "    .dataframe tbody tr th {\n",
       "        vertical-align: top;\n",
       "    }\n",
       "\n",
       "    .dataframe thead th {\n",
       "        text-align: right;\n",
       "    }\n",
       "</style>\n",
       "<table border=\"1\" class=\"dataframe\">\n",
       "  <thead>\n",
       "    <tr style=\"text-align: right;\">\n",
       "      <th></th>\n",
       "      <th>PCA_0</th>\n",
       "      <th>PCA_1</th>\n",
       "      <th>PCA_2</th>\n",
       "      <th>PCA_3</th>\n",
       "      <th>PCA_4</th>\n",
       "      <th>PCA_5</th>\n",
       "      <th>PCA_6</th>\n",
       "      <th>PCA_7</th>\n",
       "      <th>PCA_8</th>\n",
       "      <th>PCA_9</th>\n",
       "      <th>...</th>\n",
       "      <th>PCA_130</th>\n",
       "      <th>PCA_131</th>\n",
       "      <th>PCA_132</th>\n",
       "      <th>PCA_133</th>\n",
       "      <th>PCA_134</th>\n",
       "      <th>PCA_135</th>\n",
       "      <th>PCA_136</th>\n",
       "      <th>PCA_137</th>\n",
       "      <th>PCA_138</th>\n",
       "      <th>PCA_139</th>\n",
       "    </tr>\n",
       "  </thead>\n",
       "  <tbody>\n",
       "    <tr>\n",
       "      <th>0</th>\n",
       "      <td>12.343436</td>\n",
       "      <td>-2.517368</td>\n",
       "      <td>-1.097744</td>\n",
       "      <td>2.162001</td>\n",
       "      <td>-2.404421</td>\n",
       "      <td>-3.506721</td>\n",
       "      <td>8.871933</td>\n",
       "      <td>-3.976858</td>\n",
       "      <td>-16.212430</td>\n",
       "      <td>7.459700</td>\n",
       "      <td>...</td>\n",
       "      <td>-0.817169</td>\n",
       "      <td>0.383067</td>\n",
       "      <td>0.147646</td>\n",
       "      <td>0.204768</td>\n",
       "      <td>0.102244</td>\n",
       "      <td>-0.182967</td>\n",
       "      <td>-0.103747</td>\n",
       "      <td>-0.255393</td>\n",
       "      <td>-0.050945</td>\n",
       "      <td>-0.093251</td>\n",
       "    </tr>\n",
       "    <tr>\n",
       "      <th>1</th>\n",
       "      <td>-0.124257</td>\n",
       "      <td>0.153665</td>\n",
       "      <td>0.842191</td>\n",
       "      <td>0.707450</td>\n",
       "      <td>-2.806097</td>\n",
       "      <td>0.257268</td>\n",
       "      <td>0.919244</td>\n",
       "      <td>-0.598187</td>\n",
       "      <td>-0.574276</td>\n",
       "      <td>-0.076381</td>\n",
       "      <td>...</td>\n",
       "      <td>2.329396</td>\n",
       "      <td>0.214810</td>\n",
       "      <td>-0.895317</td>\n",
       "      <td>-1.642187</td>\n",
       "      <td>0.555334</td>\n",
       "      <td>0.751376</td>\n",
       "      <td>1.774034</td>\n",
       "      <td>-0.573702</td>\n",
       "      <td>-0.211125</td>\n",
       "      <td>-1.829173</td>\n",
       "    </tr>\n",
       "  </tbody>\n",
       "</table>\n",
       "<p>2 rows × 140 columns</p>\n",
       "</div>"
      ],
      "text/plain": [
       "       PCA_0     PCA_1     PCA_2     PCA_3     PCA_4     PCA_5     PCA_6  \\\n",
       "0  12.343436 -2.517368 -1.097744  2.162001 -2.404421 -3.506721  8.871933   \n",
       "1  -0.124257  0.153665  0.842191  0.707450 -2.806097  0.257268  0.919244   \n",
       "\n",
       "      PCA_7      PCA_8     PCA_9  ...   PCA_130   PCA_131   PCA_132   PCA_133  \\\n",
       "0 -3.976858 -16.212430  7.459700  ... -0.817169  0.383067  0.147646  0.204768   \n",
       "1 -0.598187  -0.574276 -0.076381  ...  2.329396  0.214810 -0.895317 -1.642187   \n",
       "\n",
       "    PCA_134   PCA_135   PCA_136   PCA_137   PCA_138   PCA_139  \n",
       "0  0.102244 -0.182967 -0.103747 -0.255393 -0.050945 -0.093251  \n",
       "1  0.555334  0.751376  1.774034 -0.573702 -0.211125 -1.829173  \n",
       "\n",
       "[2 rows x 140 columns]"
      ]
     },
     "execution_count": 70,
     "metadata": {},
     "output_type": "execute_result"
    }
   ],
   "source": [
    "pca=PCA(n_components=140)\n",
    "benz_df_pca=pca.fit_transform(benz_df_x_sc.iloc[:,8:])\n",
    "benz_df_pca=pd.DataFrame(benz_df_pca,columns=[str('PCA_'+str(i)) for i in range(0,140)])\n",
    "benz_df_pca.head(2)"
   ]
  },
  {
   "cell_type": "markdown",
   "metadata": {},
   "source": [
    "## PCA Test Data"
   ]
  },
  {
   "cell_type": "code",
   "execution_count": 71,
   "metadata": {},
   "outputs": [
    {
     "data": {
      "text/html": [
       "<div>\n",
       "<style scoped>\n",
       "    .dataframe tbody tr th:only-of-type {\n",
       "        vertical-align: middle;\n",
       "    }\n",
       "\n",
       "    .dataframe tbody tr th {\n",
       "        vertical-align: top;\n",
       "    }\n",
       "\n",
       "    .dataframe thead th {\n",
       "        text-align: right;\n",
       "    }\n",
       "</style>\n",
       "<table border=\"1\" class=\"dataframe\">\n",
       "  <thead>\n",
       "    <tr style=\"text-align: right;\">\n",
       "      <th></th>\n",
       "      <th>PCA_0</th>\n",
       "      <th>PCA_1</th>\n",
       "      <th>PCA_2</th>\n",
       "      <th>PCA_3</th>\n",
       "      <th>PCA_4</th>\n",
       "      <th>PCA_5</th>\n",
       "      <th>PCA_6</th>\n",
       "      <th>PCA_7</th>\n",
       "      <th>PCA_8</th>\n",
       "      <th>PCA_9</th>\n",
       "      <th>...</th>\n",
       "      <th>PCA_130</th>\n",
       "      <th>PCA_131</th>\n",
       "      <th>PCA_132</th>\n",
       "      <th>PCA_133</th>\n",
       "      <th>PCA_134</th>\n",
       "      <th>PCA_135</th>\n",
       "      <th>PCA_136</th>\n",
       "      <th>PCA_137</th>\n",
       "      <th>PCA_138</th>\n",
       "      <th>PCA_139</th>\n",
       "    </tr>\n",
       "  </thead>\n",
       "  <tbody>\n",
       "    <tr>\n",
       "      <th>0</th>\n",
       "      <td>7.922607</td>\n",
       "      <td>20.106995</td>\n",
       "      <td>-4.832894</td>\n",
       "      <td>1.125244</td>\n",
       "      <td>1.107772</td>\n",
       "      <td>-0.158110</td>\n",
       "      <td>0.119932</td>\n",
       "      <td>-1.062491</td>\n",
       "      <td>-3.589736</td>\n",
       "      <td>2.722281</td>\n",
       "      <td>...</td>\n",
       "      <td>-2.871975</td>\n",
       "      <td>1.254989</td>\n",
       "      <td>-0.347337</td>\n",
       "      <td>0.037918</td>\n",
       "      <td>0.607089</td>\n",
       "      <td>-0.170375</td>\n",
       "      <td>-0.384042</td>\n",
       "      <td>-1.292544</td>\n",
       "      <td>-0.525977</td>\n",
       "      <td>-0.876846</td>\n",
       "    </tr>\n",
       "    <tr>\n",
       "      <th>1</th>\n",
       "      <td>2.197348</td>\n",
       "      <td>-4.781537</td>\n",
       "      <td>-9.727816</td>\n",
       "      <td>-1.906154</td>\n",
       "      <td>-1.116755</td>\n",
       "      <td>5.192442</td>\n",
       "      <td>3.970007</td>\n",
       "      <td>4.479113</td>\n",
       "      <td>-3.239424</td>\n",
       "      <td>1.168507</td>\n",
       "      <td>...</td>\n",
       "      <td>-3.129571</td>\n",
       "      <td>1.352723</td>\n",
       "      <td>0.681204</td>\n",
       "      <td>1.665041</td>\n",
       "      <td>1.022109</td>\n",
       "      <td>-0.611365</td>\n",
       "      <td>-0.512783</td>\n",
       "      <td>-1.576187</td>\n",
       "      <td>-0.656561</td>\n",
       "      <td>-0.291054</td>\n",
       "    </tr>\n",
       "  </tbody>\n",
       "</table>\n",
       "<p>2 rows × 140 columns</p>\n",
       "</div>"
      ],
      "text/plain": [
       "      PCA_0      PCA_1     PCA_2     PCA_3     PCA_4     PCA_5     PCA_6  \\\n",
       "0  7.922607  20.106995 -4.832894  1.125244  1.107772 -0.158110  0.119932   \n",
       "1  2.197348  -4.781537 -9.727816 -1.906154 -1.116755  5.192442  3.970007   \n",
       "\n",
       "      PCA_7     PCA_8     PCA_9  ...   PCA_130   PCA_131   PCA_132   PCA_133  \\\n",
       "0 -1.062491 -3.589736  2.722281  ... -2.871975  1.254989 -0.347337  0.037918   \n",
       "1  4.479113 -3.239424  1.168507  ... -3.129571  1.352723  0.681204  1.665041   \n",
       "\n",
       "    PCA_134   PCA_135   PCA_136   PCA_137   PCA_138   PCA_139  \n",
       "0  0.607089 -0.170375 -0.384042 -1.292544 -0.525977 -0.876846  \n",
       "1  1.022109 -0.611365 -0.512783 -1.576187 -0.656561 -0.291054  \n",
       "\n",
       "[2 rows x 140 columns]"
      ]
     },
     "execution_count": 71,
     "metadata": {},
     "output_type": "execute_result"
    }
   ],
   "source": [
    "t_benz_df_pca=pca.transform(t_benz_df_x_sc.iloc[:,8:])\n",
    "t_benz_df_pca=pd.DataFrame(t_benz_df_pca,columns=[str('PCA_'+str(i)) for i in range(0,140)])\n",
    "t_benz_df_pca.head(2)"
   ]
  },
  {
   "cell_type": "markdown",
   "metadata": {},
   "source": [
    "## Feature Engineering Label Encoding + PCA"
   ]
  },
  {
   "cell_type": "code",
   "execution_count": 72,
   "metadata": {},
   "outputs": [
    {
     "data": {
      "text/html": [
       "<div>\n",
       "<style scoped>\n",
       "    .dataframe tbody tr th:only-of-type {\n",
       "        vertical-align: middle;\n",
       "    }\n",
       "\n",
       "    .dataframe tbody tr th {\n",
       "        vertical-align: top;\n",
       "    }\n",
       "\n",
       "    .dataframe thead th {\n",
       "        text-align: right;\n",
       "    }\n",
       "</style>\n",
       "<table border=\"1\" class=\"dataframe\">\n",
       "  <thead>\n",
       "    <tr style=\"text-align: right;\">\n",
       "      <th></th>\n",
       "      <th>X0</th>\n",
       "      <th>X1</th>\n",
       "      <th>X2</th>\n",
       "      <th>X3</th>\n",
       "      <th>X4</th>\n",
       "      <th>X5</th>\n",
       "      <th>X6</th>\n",
       "      <th>X8</th>\n",
       "      <th>PCA_0</th>\n",
       "      <th>PCA_1</th>\n",
       "      <th>...</th>\n",
       "      <th>PCA_130</th>\n",
       "      <th>PCA_131</th>\n",
       "      <th>PCA_132</th>\n",
       "      <th>PCA_133</th>\n",
       "      <th>PCA_134</th>\n",
       "      <th>PCA_135</th>\n",
       "      <th>PCA_136</th>\n",
       "      <th>PCA_137</th>\n",
       "      <th>PCA_138</th>\n",
       "      <th>PCA_139</th>\n",
       "    </tr>\n",
       "  </thead>\n",
       "  <tbody>\n",
       "    <tr>\n",
       "      <th>0</th>\n",
       "      <td>-0.847881</td>\n",
       "      <td>-0.220869</td>\n",
       "      <td>0.732775</td>\n",
       "      <td>-1.678270</td>\n",
       "      <td>0.028938</td>\n",
       "      <td>-0.532892</td>\n",
       "      <td>0.751787</td>\n",
       "      <td>0.339445</td>\n",
       "      <td>12.343436</td>\n",
       "      <td>-2.517368</td>\n",
       "      <td>...</td>\n",
       "      <td>-0.817169</td>\n",
       "      <td>0.383067</td>\n",
       "      <td>0.147646</td>\n",
       "      <td>0.204768</td>\n",
       "      <td>0.102244</td>\n",
       "      <td>-0.182967</td>\n",
       "      <td>-0.103747</td>\n",
       "      <td>-0.255393</td>\n",
       "      <td>-0.050945</td>\n",
       "      <td>-0.093251</td>\n",
       "    </tr>\n",
       "    <tr>\n",
       "      <th>1</th>\n",
       "      <td>-0.847881</td>\n",
       "      <td>-0.278515</td>\n",
       "      <td>0.777764</td>\n",
       "      <td>0.620969</td>\n",
       "      <td>0.028938</td>\n",
       "      <td>-0.436027</td>\n",
       "      <td>1.437511</td>\n",
       "      <td>0.339445</td>\n",
       "      <td>-0.124257</td>\n",
       "      <td>0.153665</td>\n",
       "      <td>...</td>\n",
       "      <td>2.329396</td>\n",
       "      <td>0.214810</td>\n",
       "      <td>-0.895317</td>\n",
       "      <td>-1.642187</td>\n",
       "      <td>0.555334</td>\n",
       "      <td>0.751376</td>\n",
       "      <td>1.774034</td>\n",
       "      <td>-0.573702</td>\n",
       "      <td>-0.211125</td>\n",
       "      <td>-1.829173</td>\n",
       "    </tr>\n",
       "  </tbody>\n",
       "</table>\n",
       "<p>2 rows × 148 columns</p>\n",
       "</div>"
      ],
      "text/plain": [
       "         X0        X1        X2        X3        X4        X5        X6  \\\n",
       "0 -0.847881 -0.220869  0.732775 -1.678270  0.028938 -0.532892  0.751787   \n",
       "1 -0.847881 -0.278515  0.777764  0.620969  0.028938 -0.436027  1.437511   \n",
       "\n",
       "         X8      PCA_0     PCA_1  ...   PCA_130   PCA_131   PCA_132   PCA_133  \\\n",
       "0  0.339445  12.343436 -2.517368  ... -0.817169  0.383067  0.147646  0.204768   \n",
       "1  0.339445  -0.124257  0.153665  ...  2.329396  0.214810 -0.895317 -1.642187   \n",
       "\n",
       "    PCA_134   PCA_135   PCA_136   PCA_137   PCA_138   PCA_139  \n",
       "0  0.102244 -0.182967 -0.103747 -0.255393 -0.050945 -0.093251  \n",
       "1  0.555334  0.751376  1.774034 -0.573702 -0.211125 -1.829173  \n",
       "\n",
       "[2 rows x 148 columns]"
      ]
     },
     "execution_count": 72,
     "metadata": {},
     "output_type": "execute_result"
    }
   ],
   "source": [
    "benz_df_pca_LE=pd.concat([benz_df_x_sc[var_name],benz_df_pca],axis=1)\n",
    "benz_df_pca_LE.head(2)"
   ]
  },
  {
   "cell_type": "code",
   "execution_count": 73,
   "metadata": {},
   "outputs": [],
   "source": [
    "X_train_LA_PCA, X_test_LA_PCA, y_train, y_test = train_test_split(benz_df_pca_LE,y, test_size=0.33, random_state=35)"
   ]
  },
  {
   "cell_type": "markdown",
   "metadata": {},
   "source": [
    "## Feature Engineering Label Encoding + PCA - Test Data"
   ]
  },
  {
   "cell_type": "code",
   "execution_count": 75,
   "metadata": {},
   "outputs": [
    {
     "data": {
      "text/html": [
       "<div>\n",
       "<style scoped>\n",
       "    .dataframe tbody tr th:only-of-type {\n",
       "        vertical-align: middle;\n",
       "    }\n",
       "\n",
       "    .dataframe tbody tr th {\n",
       "        vertical-align: top;\n",
       "    }\n",
       "\n",
       "    .dataframe thead th {\n",
       "        text-align: right;\n",
       "    }\n",
       "</style>\n",
       "<table border=\"1\" class=\"dataframe\">\n",
       "  <thead>\n",
       "    <tr style=\"text-align: right;\">\n",
       "      <th></th>\n",
       "      <th>X0</th>\n",
       "      <th>X1</th>\n",
       "      <th>X2</th>\n",
       "      <th>X3</th>\n",
       "      <th>X4</th>\n",
       "      <th>X5</th>\n",
       "      <th>X6</th>\n",
       "      <th>X8</th>\n",
       "      <th>PCA_0</th>\n",
       "      <th>PCA_1</th>\n",
       "      <th>...</th>\n",
       "      <th>PCA_130</th>\n",
       "      <th>PCA_131</th>\n",
       "      <th>PCA_132</th>\n",
       "      <th>PCA_133</th>\n",
       "      <th>PCA_134</th>\n",
       "      <th>PCA_135</th>\n",
       "      <th>PCA_136</th>\n",
       "      <th>PCA_137</th>\n",
       "      <th>PCA_138</th>\n",
       "      <th>PCA_139</th>\n",
       "    </tr>\n",
       "  </thead>\n",
       "  <tbody>\n",
       "    <tr>\n",
       "      <th>0</th>\n",
       "      <td>1.605910</td>\n",
       "      <td>-0.220869</td>\n",
       "      <td>-1.584130</td>\n",
       "      <td>1.195779</td>\n",
       "      <td>0.028938</td>\n",
       "      <td>-0.557108</td>\n",
       "      <td>-2.333970</td>\n",
       "      <td>1.476285</td>\n",
       "      <td>7.922607</td>\n",
       "      <td>20.106995</td>\n",
       "      <td>...</td>\n",
       "      <td>-2.871975</td>\n",
       "      <td>1.254989</td>\n",
       "      <td>-0.347337</td>\n",
       "      <td>0.037918</td>\n",
       "      <td>0.607089</td>\n",
       "      <td>-0.170375</td>\n",
       "      <td>-0.384042</td>\n",
       "      <td>-1.292544</td>\n",
       "      <td>-0.525977</td>\n",
       "      <td>-0.876846</td>\n",
       "    </tr>\n",
       "    <tr>\n",
       "      <th>1</th>\n",
       "      <td>-0.650702</td>\n",
       "      <td>-0.797333</td>\n",
       "      <td>0.485339</td>\n",
       "      <td>-1.678270</td>\n",
       "      <td>0.028938</td>\n",
       "      <td>-0.993002</td>\n",
       "      <td>-0.276798</td>\n",
       "      <td>1.760494</td>\n",
       "      <td>2.197348</td>\n",
       "      <td>-4.781537</td>\n",
       "      <td>...</td>\n",
       "      <td>-3.129571</td>\n",
       "      <td>1.352723</td>\n",
       "      <td>0.681204</td>\n",
       "      <td>1.665041</td>\n",
       "      <td>1.022109</td>\n",
       "      <td>-0.611365</td>\n",
       "      <td>-0.512783</td>\n",
       "      <td>-1.576187</td>\n",
       "      <td>-0.656561</td>\n",
       "      <td>-0.291054</td>\n",
       "    </tr>\n",
       "  </tbody>\n",
       "</table>\n",
       "<p>2 rows × 148 columns</p>\n",
       "</div>"
      ],
      "text/plain": [
       "         X0        X1        X2        X3        X4        X5        X6  \\\n",
       "0  1.605910 -0.220869 -1.584130  1.195779  0.028938 -0.557108 -2.333970   \n",
       "1 -0.650702 -0.797333  0.485339 -1.678270  0.028938 -0.993002 -0.276798   \n",
       "\n",
       "         X8     PCA_0      PCA_1  ...   PCA_130   PCA_131   PCA_132   PCA_133  \\\n",
       "0  1.476285  7.922607  20.106995  ... -2.871975  1.254989 -0.347337  0.037918   \n",
       "1  1.760494  2.197348  -4.781537  ... -3.129571  1.352723  0.681204  1.665041   \n",
       "\n",
       "    PCA_134   PCA_135   PCA_136   PCA_137   PCA_138   PCA_139  \n",
       "0  0.607089 -0.170375 -0.384042 -1.292544 -0.525977 -0.876846  \n",
       "1  1.022109 -0.611365 -0.512783 -1.576187 -0.656561 -0.291054  \n",
       "\n",
       "[2 rows x 148 columns]"
      ]
     },
     "execution_count": 75,
     "metadata": {},
     "output_type": "execute_result"
    }
   ],
   "source": [
    "t_benz_df_pca_LE=pd.concat([t_benz_df_x_sc[var_name],t_benz_df_pca],axis=1)\n",
    "t_benz_df_pca_LE.head(2)"
   ]
  },
  {
   "cell_type": "markdown",
   "metadata": {},
   "source": [
    "## Train models with entire data - PCA"
   ]
  },
  {
   "cell_type": "code",
   "execution_count": 76,
   "metadata": {},
   "outputs": [
    {
     "name": "stdout",
     "output_type": "stream",
     "text": [
      "rsquare 0.254\n",
      "mse 124.3282\n"
     ]
    }
   ],
   "source": [
    "#Linear regression \n",
    "lr=LinearRegression()\n",
    "lr_reg_mse,lr_r2=base_model(X_train_LA_PCA, X_test_LA_PCA, y_train, y_test,lr)\n",
    "x2 = PrettyTable()\n",
    "x2.field_names = [\"Data\",\"Model\",\"R square\",\"MSE\"]\n",
    "x2.add_row ([\"Label Encoding + PCA\",\"Linear Regression\",lr_reg_mse,lr_r2])"
   ]
  },
  {
   "cell_type": "code",
   "execution_count": 77,
   "metadata": {},
   "outputs": [],
   "source": [
    "# Test Data\n",
    "t_y=lr.predict(t_benz_df_pca_LE)\n",
    "save_output(t_benz_df_pca_LE,t_y,'LEPCA_LR.csv')"
   ]
  },
  {
   "cell_type": "code",
   "execution_count": 78,
   "metadata": {},
   "outputs": [
    {
     "name": "stdout",
     "output_type": "stream",
     "text": [
      "best_param {'max_depth': 5, 'min_samples_split': 9}\n",
      "rsquare 0.3257\n",
      "mse 112.3775\n"
     ]
    }
   ],
   "source": [
    "#Decision Tree - random search\n",
    "parameters = {'min_samples_split':sp_randint(2,10),'max_depth':sp_randint(2,10)}\n",
    "#Best parameter values\n",
    "best_param=random_search(X_train_LA_PCA,y_train,parameters,DecisionTreeRegressor())\n",
    "#Train model on best params and get scores\n",
    "dtree_model=DecisionTreeRegressor(max_depth= best_param['max_depth'], min_samples_split= best_param['min_samples_split'])\n",
    "dtree_reg_mse,dtree_r2=base_model(X_train_LA_PCA, X_test_LA_PCA, y_train, y_test,dtree_model)\n",
    "x2.add_row ([\"Label Encoding + PCA\",\"DecisionTreeRegressor\",dtree_reg_mse,dtree_r2])"
   ]
  },
  {
   "cell_type": "code",
   "execution_count": 80,
   "metadata": {},
   "outputs": [],
   "source": [
    "# Test Data\n",
    "with open('LEPCA_Dtree','wb') as f:\n",
    "    pickle.dump(dtree_model,f)\n",
    "t_y=dtree_model.predict(t_benz_df_pca_LE)\n",
    "save_output(t_benz_df_pca_LE,t_y,'LEPCA_Dtree.csv')"
   ]
  },
  {
   "cell_type": "code",
   "execution_count": 81,
   "metadata": {
    "scrolled": true
   },
   "outputs": [
    {
     "name": "stdout",
     "output_type": "stream",
     "text": [
      "best_param {'max_depth': 7, 'min_samples_leaf': 7, 'min_samples_split': 5, 'n_estimators': 58}\n",
      "rsquare 0.474\n",
      "mse 87.6536\n"
     ]
    }
   ],
   "source": [
    "# Random Forest - Random Search\n",
    "parameters = {'min_samples_split':sp_randint(2,8),'max_depth':sp_randint(2,8),'n_estimators':sp_randint(50,200),'min_samples_leaf':sp_randint(2,10)}\n",
    "best_param=random_search(X_train_LA_PCA,y_train,parameters,RandomForestRegressor())\n",
    "Rforest_model=RandomForestRegressor(max_depth=best_param['max_depth'], min_samples_split= best_param['min_samples_split'],min_samples_leaf=best_param['min_samples_leaf'],n_estimators=best_param['n_estimators'])\n",
    "rfrst_reg_mse,rfrst_r2=base_model(X_train_LA_PCA, X_test_LA_PCA, y_train, y_test,Rforest_model)\n",
    "x2.add_row ([\"Label Encoding + PCA\",\"RandomForest Regressor\",rfrst_reg_mse,rfrst_r2])"
   ]
  },
  {
   "cell_type": "code",
   "execution_count": 82,
   "metadata": {},
   "outputs": [],
   "source": [
    "# Test Data\n",
    "with open('LEPCA_Rfrst','wb') as f:\n",
    "    pickle.dump(Rforest_model,f)\n",
    "t_y=Rforest_model.predict(t_benz_df_pca_LE)\n",
    "save_output(t_benz_df_pca_LE,t_y,'LEPCA_Rfrst.csv')"
   ]
  },
  {
   "cell_type": "code",
   "execution_count": 83,
   "metadata": {},
   "outputs": [
    {
     "name": "stdout",
     "output_type": "stream",
     "text": [
      "best_param {'min_child_weight': 3, 'max_depth': 6, 'learning_rate': 0.05, 'colsample_bytree': 0.4}\n",
      "rsquare 0.4909\n",
      "mse 84.8438\n"
     ]
    }
   ],
   "source": [
    "# XGB Regressor- Random Search\n",
    "# parameters = {'max_depth':sp_randint(2,8),'n_estimators':sp_randint(50,200)}\n",
    "params={\"learning_rate\": [0.05, 0.10, 0.15, 0.20, 0.25, 0.30 ] , \"max_depth\": [ 3, 4, 5, 6, 8, 10, 12, 15], \"min_child_weight\" : [ 1, 3, 5, 7 ], \"colsample_bytree\" : [ 0.3, 0.4, 0.5 , 0.7 ]}\n",
    "best_param=random_search(X_train_LA_PCA,y_train,params,LGBMRegressor())\n",
    "XGB_model=LGBMRegressor(learning_rate=best_param['learning_rate'],max_depth=best_param['max_depth'],min_child_weight=best_param['min_child_weight'],colsample_bytree=best_param['colsample_bytree'])\n",
    "xgb_reg_mse,xgb_r2=base_model(X_train_LA_PCA, X_test_LA_PCA, y_train, y_test,XGB_model)\n",
    "# x2.add_row ([\"Label Encoding + PCA\",\"XGB Regressor\",xgb_reg_mse,xgb_r2])"
   ]
  },
  {
   "cell_type": "code",
   "execution_count": 84,
   "metadata": {},
   "outputs": [],
   "source": [
    "# Test Data\n",
    "with open('LEPCA_XGB','wb') as f:\n",
    "    pickle.dump(XGB_model,f)\n",
    "t_y=XGB_model.predict(t_benz_df_pca_LE)\n",
    "save_output(t_benz_df_pca_LE,t_y,'LEPCA_XGB.csv')"
   ]
  },
  {
   "cell_type": "code",
   "execution_count": 85,
   "metadata": {},
   "outputs": [
    {
     "name": "stdout",
     "output_type": "stream",
     "text": [
      "best_param {'max_depth': 7, 'min_samples_leaf': 9, 'min_samples_split': 5}\n",
      "rsquare 0.4366\n",
      "mse 93.8909\n"
     ]
    }
   ],
   "source": [
    "# ExtraTreeRegressor - Random Search\n",
    "parameters = {'min_samples_split':sp_randint(2,8),'max_depth':sp_randint(2,8),'min_samples_leaf':sp_randint(1,10)}\n",
    "best_param=random_search(X_train_LA_PCA,y_train,parameters,ExtraTreesRegressor())\n",
    "extra_tree_model=ExtraTreesRegressor(max_depth=best_param['max_depth'], min_samples_split= best_param['min_samples_split'],min_samples_leaf=best_param['min_samples_leaf'])\n",
    "xtra_reg_mse,xtra_xgb_r2=base_model(X_train_LA_PCA, X_test_LA_PCA, y_train, y_test,extra_tree_model)\n",
    "x2.add_row ([\"Label Encoding + PCA\",\"Extra Tree Regressor\",xtra_reg_mse,xtra_xgb_r2])"
   ]
  },
  {
   "cell_type": "code",
   "execution_count": 86,
   "metadata": {},
   "outputs": [],
   "source": [
    "# Test Data\n",
    "with open('LEPCA_XtraT','wb') as f:\n",
    "    pickle.dump(extra_tree_model,f)\n",
    "t_y=extra_tree_model.predict(t_benz_df_pca_LE)\n",
    "save_output(t_benz_df_pca_LE,t_y,'LEPCA_XtraT.csv')"
   ]
  },
  {
   "cell_type": "code",
   "execution_count": 87,
   "metadata": {},
   "outputs": [
    {
     "name": "stdout",
     "output_type": "stream",
     "text": [
      "best_param {'kernel': 'rbf', 'gamma': 0.0001, 'C': 100}\n",
      "rsquare 0.4931\n",
      "mse 84.469\n"
     ]
    }
   ],
   "source": [
    "#svr\n",
    "parameters = [{'kernel': ['rbf'], 'gamma': [1e-4, 1e-3, 0.01, 0.1, 0.2, 0.5, 0.6, 0.9],'C': [1, 10, 100, 1000, 10000]}]\n",
    "best_param=random_search(X_train_LA_PCA,y_train,parameters,SVR())\n",
    "\n",
    "svr_model=SVR(kernel=best_param['kernel'], gamma= best_param['gamma'],C=best_param['C'])\n",
    "regr = make_pipeline(StandardScaler(),svr_model)\n",
    "svr_reg_mse,svr_xgb_r2=base_model(X_train_LA_PCA, X_test_LA_PCA, y_train, y_test,regr)\n",
    "x2.add_row ([\"Label Encoding + PCA\",\"SVR\",svr_reg_mse,svr_xgb_r2])"
   ]
  },
  {
   "cell_type": "code",
   "execution_count": 88,
   "metadata": {},
   "outputs": [],
   "source": [
    "# Test Data\n",
    "with open('LEPCA_SVR','wb') as f:\n",
    "    pickle.dump(regr,f)\n",
    "t_y=regr.predict(t_benz_df_pca_LE)\n",
    "save_output(t_benz_df_pca_LE,t_y,'LEPCA_SVR.csv')"
   ]
  },
  {
   "cell_type": "code",
   "execution_count": 89,
   "metadata": {},
   "outputs": [
    {
     "name": "stdout",
     "output_type": "stream",
     "text": [
      "rsquare 0.4923\n",
      "mse 84.605\n"
     ]
    }
   ],
   "source": [
    "# Stacking regressor\n",
    "stacker=dtree_model\n",
    "estimators = [('lr',LinearRegression()),('xgb',XGB_model),('xtree',extra_tree_model),('knn',KNeighborsRegressor(n_neighbors=12),('svr',regr))]\n",
    "stacking_reg = StackingRegressor(estimators=estimators,final_estimator=stacker)\n",
    "\n",
    "stk_reg_mse,stk_r2=base_model(X_train_LA_PCA, X_test_LA_PCA, y_train, y_test,stacking_reg)\n",
    "x2.add_row ([\"Label Encoding + PCA\",\"Stacking Regressor\",stk_reg_mse,stk_r2])"
   ]
  },
  {
   "cell_type": "code",
   "execution_count": 90,
   "metadata": {},
   "outputs": [],
   "source": [
    "# Test Data\n",
    "with open('LEPCA_Stkr','wb') as f:\n",
    "    pickle.dump(stacking_reg,f)\n",
    "t_y=stacking_reg.predict(t_benz_df_pca_LE)\n",
    "save_output(t_benz_df_pca_LE,t_y,'LEPCA_Stkr.csv')"
   ]
  },
  {
   "cell_type": "code",
   "execution_count": 91,
   "metadata": {
    "scrolled": true
   },
   "outputs": [
    {
     "name": "stdout",
     "output_type": "stream",
     "text": [
      "+----------------------+------------------------+----------+----------+\n",
      "|         Data         |         Model          | R square |   MSE    |\n",
      "+----------------------+------------------------+----------+----------+\n",
      "| Label Encoding + PCA |   Linear Regression    |  0.254   | 124.3282 |\n",
      "| Label Encoding + PCA | DecisionTreeRegressor  |  0.3257  | 112.3775 |\n",
      "| Label Encoding + PCA | RandomForest Regressor |  0.474   | 87.6536  |\n",
      "| Label Encoding + PCA |  Extra Tree Regressor  |  0.4366  | 93.8909  |\n",
      "| Label Encoding + PCA |          SVR           |  0.4931  |  84.469  |\n",
      "| Label Encoding + PCA |   Stacking Regressor   |  0.4923  |  84.605  |\n",
      "+----------------------+------------------------+----------+----------+\n"
     ]
    }
   ],
   "source": [
    "print(x2)"
   ]
  },
  {
   "cell_type": "markdown",
   "metadata": {},
   "source": [
    "## Auto Encoded Features"
   ]
  },
  {
   "cell_type": "code",
   "execution_count": null,
   "metadata": {},
   "outputs": [],
   "source": [
    "benz_df_x_sc.head(2)"
   ]
  },
  {
   "cell_type": "code",
   "execution_count": null,
   "metadata": {},
   "outputs": [],
   "source": [
    "X_train, X_test, y_train, y_test = train_test_split(benz_df_x_sc.iloc[:,8:], y, test_size=0.33, random_state=35)"
   ]
  },
  {
   "cell_type": "code",
   "execution_count": null,
   "metadata": {
    "scrolled": true
   },
   "outputs": [],
   "source": [
    "# Model Preparation\n",
    "n_inputs=X_train.shape[1]\n",
    "# define encoder\n",
    "Input_layer=Input(shape=(n_inputs,))\n",
    "#encoder level 1\n",
    "encoder_1=Dense(400,activation='relu',name='encoder_1')(Input_layer)\n",
    "\n",
    "#encoder level 2\n",
    "encoder_2=Dense(256,activation='relu',name='encoder_2')(encoder_1)\n",
    "\n",
    "#encoder level 3\n",
    "encoder_3=Dense(128,activation='relu',name='encoder_3')(encoder_2)\n",
    "\n",
    "#encoder level 4(bottle neck)\n",
    "bottleneck=Dense(64,activation='relu',name='bottleneck')(encoder_3)\n",
    "\n",
    "\n",
    "#decoder level 1\n",
    "decoder_1=Dense(128,activation='relu',name='decoder_1')(bottleneck)\n",
    "\n",
    "#decoder level 2\n",
    "decoder_2=Dense(256,activation='relu',name='decoder_2')(decoder_1)\n",
    "\n",
    "#decoder level 3\n",
    "decoder_3=Dense(400,activation='relu',name='decoder_3')(decoder_2)\n",
    "\n",
    "#decoder level 3\n",
    "output=Dense(n_inputs,activation='linear',name='output')(decoder_3)\n",
    "\n",
    "#define autoencoder model\n",
    "model=Model(inputs=Input_layer,outputs=output)\n",
    "\n",
    "#compile model\n",
    "model.compile(optimizer='adam',loss='mse')\n",
    "\n",
    "# fit the autoencoder model to reconstruct input\n",
    "history = model.fit(X_train, X_train, epochs=50, batch_size=16, verbose=1, validation_data=(X_test,X_test))"
   ]
  },
  {
   "cell_type": "code",
   "execution_count": 113,
   "metadata": {},
   "outputs": [
    {
     "name": "stdout",
     "output_type": "stream",
     "text": [
      "WARNING:tensorflow:No training configuration found in the save file, so the model was *not* compiled. Compile it manually.\n",
      "Model: \"model_3\"\n",
      "_________________________________________________________________\n",
      "Layer (type)                 Output Shape              Param #   \n",
      "=================================================================\n",
      "input_2 (InputLayer)         [(None, 368)]             0         \n",
      "_________________________________________________________________\n",
      "encoder_1 (Dense)            (None, 400)               147600    \n",
      "_________________________________________________________________\n",
      "encoder_2 (Dense)            (None, 256)               102656    \n",
      "_________________________________________________________________\n",
      "encoder_3 (Dense)            (None, 128)               32896     \n",
      "_________________________________________________________________\n",
      "bottleneck (Dense)           (None, 64)                8256      \n",
      "=================================================================\n",
      "Total params: 291,408\n",
      "Trainable params: 291,408\n",
      "Non-trainable params: 0\n",
      "_________________________________________________________________\n"
     ]
    }
   ],
   "source": [
    "\n",
    "encoder = load_model('Autoencoder_model.h5')\n",
    "encoder.summary()"
   ]
  },
  {
   "cell_type": "markdown",
   "metadata": {},
   "source": [
    "# Preapare Data for Auto Encoding"
   ]
  },
  {
   "cell_type": "code",
   "execution_count": 114,
   "metadata": {},
   "outputs": [
    {
     "name": "stdout",
     "output_type": "stream",
     "text": [
      "WARNING:tensorflow:No training configuration found in the save file, so the model was *not* compiled. Compile it manually.\n"
     ]
    },
    {
     "data": {
      "text/html": [
       "<div>\n",
       "<style scoped>\n",
       "    .dataframe tbody tr th:only-of-type {\n",
       "        vertical-align: middle;\n",
       "    }\n",
       "\n",
       "    .dataframe tbody tr th {\n",
       "        vertical-align: top;\n",
       "    }\n",
       "\n",
       "    .dataframe thead th {\n",
       "        text-align: right;\n",
       "    }\n",
       "</style>\n",
       "<table border=\"1\" class=\"dataframe\">\n",
       "  <thead>\n",
       "    <tr style=\"text-align: right;\">\n",
       "      <th></th>\n",
       "      <th>AE0</th>\n",
       "      <th>AE1</th>\n",
       "      <th>AE2</th>\n",
       "      <th>AE3</th>\n",
       "      <th>AE4</th>\n",
       "      <th>AE5</th>\n",
       "      <th>AE6</th>\n",
       "      <th>AE7</th>\n",
       "      <th>AE8</th>\n",
       "      <th>AE9</th>\n",
       "      <th>...</th>\n",
       "      <th>AE54</th>\n",
       "      <th>AE55</th>\n",
       "      <th>AE56</th>\n",
       "      <th>AE57</th>\n",
       "      <th>AE58</th>\n",
       "      <th>AE59</th>\n",
       "      <th>AE60</th>\n",
       "      <th>AE61</th>\n",
       "      <th>AE62</th>\n",
       "      <th>AE63</th>\n",
       "    </tr>\n",
       "  </thead>\n",
       "  <tbody>\n",
       "    <tr>\n",
       "      <th>0</th>\n",
       "      <td>0.0</td>\n",
       "      <td>0.0</td>\n",
       "      <td>51.8297</td>\n",
       "      <td>0.00000</td>\n",
       "      <td>0.000000</td>\n",
       "      <td>1.302950</td>\n",
       "      <td>0.0</td>\n",
       "      <td>0.000000</td>\n",
       "      <td>35.002399</td>\n",
       "      <td>14.467927</td>\n",
       "      <td>...</td>\n",
       "      <td>0.0</td>\n",
       "      <td>0.000000</td>\n",
       "      <td>0.000000</td>\n",
       "      <td>0.000000</td>\n",
       "      <td>0.000000</td>\n",
       "      <td>0.0</td>\n",
       "      <td>0.000000</td>\n",
       "      <td>0.463756</td>\n",
       "      <td>0.0</td>\n",
       "      <td>0.0</td>\n",
       "    </tr>\n",
       "    <tr>\n",
       "      <th>1</th>\n",
       "      <td>0.0</td>\n",
       "      <td>0.0</td>\n",
       "      <td>0.0000</td>\n",
       "      <td>0.00000</td>\n",
       "      <td>0.000000</td>\n",
       "      <td>5.495773</td>\n",
       "      <td>0.0</td>\n",
       "      <td>11.655716</td>\n",
       "      <td>11.967905</td>\n",
       "      <td>10.060814</td>\n",
       "      <td>...</td>\n",
       "      <td>0.0</td>\n",
       "      <td>0.000000</td>\n",
       "      <td>4.549199</td>\n",
       "      <td>0.000000</td>\n",
       "      <td>2.713872</td>\n",
       "      <td>0.0</td>\n",
       "      <td>12.148218</td>\n",
       "      <td>0.000000</td>\n",
       "      <td>0.0</td>\n",
       "      <td>0.0</td>\n",
       "    </tr>\n",
       "    <tr>\n",
       "      <th>2</th>\n",
       "      <td>0.0</td>\n",
       "      <td>0.0</td>\n",
       "      <td>0.0000</td>\n",
       "      <td>10.06368</td>\n",
       "      <td>0.000000</td>\n",
       "      <td>0.000000</td>\n",
       "      <td>0.0</td>\n",
       "      <td>0.000000</td>\n",
       "      <td>0.000000</td>\n",
       "      <td>2.012343</td>\n",
       "      <td>...</td>\n",
       "      <td>0.0</td>\n",
       "      <td>0.133219</td>\n",
       "      <td>0.000000</td>\n",
       "      <td>17.864023</td>\n",
       "      <td>0.000000</td>\n",
       "      <td>0.0</td>\n",
       "      <td>0.000000</td>\n",
       "      <td>0.000000</td>\n",
       "      <td>0.0</td>\n",
       "      <td>0.0</td>\n",
       "    </tr>\n",
       "    <tr>\n",
       "      <th>3</th>\n",
       "      <td>0.0</td>\n",
       "      <td>0.0</td>\n",
       "      <td>0.0000</td>\n",
       "      <td>0.00000</td>\n",
       "      <td>5.594187</td>\n",
       "      <td>0.000000</td>\n",
       "      <td>0.0</td>\n",
       "      <td>0.000000</td>\n",
       "      <td>0.000000</td>\n",
       "      <td>0.000000</td>\n",
       "      <td>...</td>\n",
       "      <td>0.0</td>\n",
       "      <td>0.000000</td>\n",
       "      <td>5.500296</td>\n",
       "      <td>14.783152</td>\n",
       "      <td>0.000000</td>\n",
       "      <td>0.0</td>\n",
       "      <td>0.000000</td>\n",
       "      <td>2.110052</td>\n",
       "      <td>0.0</td>\n",
       "      <td>0.0</td>\n",
       "    </tr>\n",
       "    <tr>\n",
       "      <th>4</th>\n",
       "      <td>0.0</td>\n",
       "      <td>0.0</td>\n",
       "      <td>0.0000</td>\n",
       "      <td>0.00000</td>\n",
       "      <td>0.000000</td>\n",
       "      <td>0.000000</td>\n",
       "      <td>0.0</td>\n",
       "      <td>0.000000</td>\n",
       "      <td>0.000000</td>\n",
       "      <td>3.577187</td>\n",
       "      <td>...</td>\n",
       "      <td>0.0</td>\n",
       "      <td>6.321084</td>\n",
       "      <td>0.000000</td>\n",
       "      <td>10.104990</td>\n",
       "      <td>0.000000</td>\n",
       "      <td>0.0</td>\n",
       "      <td>0.000000</td>\n",
       "      <td>0.000000</td>\n",
       "      <td>0.0</td>\n",
       "      <td>0.0</td>\n",
       "    </tr>\n",
       "  </tbody>\n",
       "</table>\n",
       "<p>5 rows × 64 columns</p>\n",
       "</div>"
      ],
      "text/plain": [
       "   AE0  AE1      AE2       AE3       AE4       AE5  AE6        AE7        AE8  \\\n",
       "0  0.0  0.0  51.8297   0.00000  0.000000  1.302950  0.0   0.000000  35.002399   \n",
       "1  0.0  0.0   0.0000   0.00000  0.000000  5.495773  0.0  11.655716  11.967905   \n",
       "2  0.0  0.0   0.0000  10.06368  0.000000  0.000000  0.0   0.000000   0.000000   \n",
       "3  0.0  0.0   0.0000   0.00000  5.594187  0.000000  0.0   0.000000   0.000000   \n",
       "4  0.0  0.0   0.0000   0.00000  0.000000  0.000000  0.0   0.000000   0.000000   \n",
       "\n",
       "         AE9  ...  AE54      AE55      AE56       AE57      AE58  AE59  \\\n",
       "0  14.467927  ...   0.0  0.000000  0.000000   0.000000  0.000000   0.0   \n",
       "1  10.060814  ...   0.0  0.000000  4.549199   0.000000  2.713872   0.0   \n",
       "2   2.012343  ...   0.0  0.133219  0.000000  17.864023  0.000000   0.0   \n",
       "3   0.000000  ...   0.0  0.000000  5.500296  14.783152  0.000000   0.0   \n",
       "4   3.577187  ...   0.0  6.321084  0.000000  10.104990  0.000000   0.0   \n",
       "\n",
       "        AE60      AE61  AE62  AE63  \n",
       "0   0.000000  0.463756   0.0   0.0  \n",
       "1  12.148218  0.000000   0.0   0.0  \n",
       "2   0.000000  0.000000   0.0   0.0  \n",
       "3   0.000000  2.110052   0.0   0.0  \n",
       "4   0.000000  0.000000   0.0   0.0  \n",
       "\n",
       "[5 rows x 64 columns]"
      ]
     },
     "execution_count": 114,
     "metadata": {},
     "output_type": "execute_result"
    }
   ],
   "source": [
    "#Compressing the input data using Encoder Model and fitting it on the Logistic Regression model.\n",
    "# load the model from file\n",
    "encoder = load_model('Autoencoder_model.h5')\n",
    "# encode the train data\n",
    "binary_encoded= encoder.predict(benz_df_x_sc.iloc[:,8:])\n",
    "binary_encoded_df=pd.DataFrame(binary_encoded,columns=[str('AE'+str(i)) for i in range(0,64)])\n",
    "binary_encoded_df.head()"
   ]
  },
  {
   "cell_type": "code",
   "execution_count": 93,
   "metadata": {},
   "outputs": [
    {
     "data": {
      "text/html": [
       "<div>\n",
       "<style scoped>\n",
       "    .dataframe tbody tr th:only-of-type {\n",
       "        vertical-align: middle;\n",
       "    }\n",
       "\n",
       "    .dataframe tbody tr th {\n",
       "        vertical-align: top;\n",
       "    }\n",
       "\n",
       "    .dataframe thead th {\n",
       "        text-align: right;\n",
       "    }\n",
       "</style>\n",
       "<table border=\"1\" class=\"dataframe\">\n",
       "  <thead>\n",
       "    <tr style=\"text-align: right;\">\n",
       "      <th></th>\n",
       "      <th>X0</th>\n",
       "      <th>X1</th>\n",
       "      <th>X2</th>\n",
       "      <th>X3</th>\n",
       "      <th>X4</th>\n",
       "      <th>X5</th>\n",
       "      <th>X6</th>\n",
       "      <th>X8</th>\n",
       "      <th>AE0</th>\n",
       "      <th>AE1</th>\n",
       "      <th>...</th>\n",
       "      <th>AE54</th>\n",
       "      <th>AE55</th>\n",
       "      <th>AE56</th>\n",
       "      <th>AE57</th>\n",
       "      <th>AE58</th>\n",
       "      <th>AE59</th>\n",
       "      <th>AE60</th>\n",
       "      <th>AE61</th>\n",
       "      <th>AE62</th>\n",
       "      <th>AE63</th>\n",
       "    </tr>\n",
       "  </thead>\n",
       "  <tbody>\n",
       "    <tr>\n",
       "      <th>0</th>\n",
       "      <td>-0.847881</td>\n",
       "      <td>-0.220869</td>\n",
       "      <td>0.732775</td>\n",
       "      <td>-1.678270</td>\n",
       "      <td>0.028938</td>\n",
       "      <td>-0.532892</td>\n",
       "      <td>0.751787</td>\n",
       "      <td>0.339445</td>\n",
       "      <td>0.0</td>\n",
       "      <td>0.0</td>\n",
       "      <td>...</td>\n",
       "      <td>0.0</td>\n",
       "      <td>0.000000</td>\n",
       "      <td>0.000000</td>\n",
       "      <td>0.000000</td>\n",
       "      <td>0.000000</td>\n",
       "      <td>0.0</td>\n",
       "      <td>0.000000</td>\n",
       "      <td>0.463756</td>\n",
       "      <td>0.0</td>\n",
       "      <td>0.0</td>\n",
       "    </tr>\n",
       "    <tr>\n",
       "      <th>1</th>\n",
       "      <td>-0.847881</td>\n",
       "      <td>-0.278515</td>\n",
       "      <td>0.777764</td>\n",
       "      <td>0.620969</td>\n",
       "      <td>0.028938</td>\n",
       "      <td>-0.436027</td>\n",
       "      <td>1.437511</td>\n",
       "      <td>0.339445</td>\n",
       "      <td>0.0</td>\n",
       "      <td>0.0</td>\n",
       "      <td>...</td>\n",
       "      <td>0.0</td>\n",
       "      <td>0.000000</td>\n",
       "      <td>4.549199</td>\n",
       "      <td>0.000000</td>\n",
       "      <td>2.713872</td>\n",
       "      <td>0.0</td>\n",
       "      <td>12.148218</td>\n",
       "      <td>0.000000</td>\n",
       "      <td>0.0</td>\n",
       "      <td>0.0</td>\n",
       "    </tr>\n",
       "    <tr>\n",
       "      <th>2</th>\n",
       "      <td>1.605910</td>\n",
       "      <td>-0.192045</td>\n",
       "      <td>-1.584130</td>\n",
       "      <td>-0.528650</td>\n",
       "      <td>0.028938</td>\n",
       "      <td>-0.460243</td>\n",
       "      <td>0.751787</td>\n",
       "      <td>1.618389</td>\n",
       "      <td>0.0</td>\n",
       "      <td>0.0</td>\n",
       "      <td>...</td>\n",
       "      <td>0.0</td>\n",
       "      <td>0.133219</td>\n",
       "      <td>0.000000</td>\n",
       "      <td>17.864023</td>\n",
       "      <td>0.000000</td>\n",
       "      <td>0.0</td>\n",
       "      <td>0.000000</td>\n",
       "      <td>0.000000</td>\n",
       "      <td>0.0</td>\n",
       "      <td>0.0</td>\n",
       "    </tr>\n",
       "    <tr>\n",
       "      <th>3</th>\n",
       "      <td>1.605910</td>\n",
       "      <td>-0.278515</td>\n",
       "      <td>-1.584130</td>\n",
       "      <td>1.195779</td>\n",
       "      <td>0.028938</td>\n",
       "      <td>-0.460243</td>\n",
       "      <td>1.437511</td>\n",
       "      <td>-1.081605</td>\n",
       "      <td>0.0</td>\n",
       "      <td>0.0</td>\n",
       "      <td>...</td>\n",
       "      <td>0.0</td>\n",
       "      <td>0.000000</td>\n",
       "      <td>5.500296</td>\n",
       "      <td>14.783152</td>\n",
       "      <td>0.000000</td>\n",
       "      <td>0.0</td>\n",
       "      <td>0.000000</td>\n",
       "      <td>2.110052</td>\n",
       "      <td>0.0</td>\n",
       "      <td>0.0</td>\n",
       "    </tr>\n",
       "    <tr>\n",
       "      <th>4</th>\n",
       "      <td>1.605910</td>\n",
       "      <td>-0.220869</td>\n",
       "      <td>-1.584130</td>\n",
       "      <td>1.195779</td>\n",
       "      <td>0.028938</td>\n",
       "      <td>-0.847704</td>\n",
       "      <td>-1.305384</td>\n",
       "      <td>0.197340</td>\n",
       "      <td>0.0</td>\n",
       "      <td>0.0</td>\n",
       "      <td>...</td>\n",
       "      <td>0.0</td>\n",
       "      <td>6.321084</td>\n",
       "      <td>0.000000</td>\n",
       "      <td>10.104990</td>\n",
       "      <td>0.000000</td>\n",
       "      <td>0.0</td>\n",
       "      <td>0.000000</td>\n",
       "      <td>0.000000</td>\n",
       "      <td>0.0</td>\n",
       "      <td>0.0</td>\n",
       "    </tr>\n",
       "  </tbody>\n",
       "</table>\n",
       "<p>5 rows × 72 columns</p>\n",
       "</div>"
      ],
      "text/plain": [
       "         X0        X1        X2        X3        X4        X5        X6  \\\n",
       "0 -0.847881 -0.220869  0.732775 -1.678270  0.028938 -0.532892  0.751787   \n",
       "1 -0.847881 -0.278515  0.777764  0.620969  0.028938 -0.436027  1.437511   \n",
       "2  1.605910 -0.192045 -1.584130 -0.528650  0.028938 -0.460243  0.751787   \n",
       "3  1.605910 -0.278515 -1.584130  1.195779  0.028938 -0.460243  1.437511   \n",
       "4  1.605910 -0.220869 -1.584130  1.195779  0.028938 -0.847704 -1.305384   \n",
       "\n",
       "         X8  AE0  AE1  ...  AE54      AE55      AE56       AE57      AE58  \\\n",
       "0  0.339445  0.0  0.0  ...   0.0  0.000000  0.000000   0.000000  0.000000   \n",
       "1  0.339445  0.0  0.0  ...   0.0  0.000000  4.549199   0.000000  2.713872   \n",
       "2  1.618389  0.0  0.0  ...   0.0  0.133219  0.000000  17.864023  0.000000   \n",
       "3 -1.081605  0.0  0.0  ...   0.0  0.000000  5.500296  14.783152  0.000000   \n",
       "4  0.197340  0.0  0.0  ...   0.0  6.321084  0.000000  10.104990  0.000000   \n",
       "\n",
       "   AE59       AE60      AE61  AE62  AE63  \n",
       "0   0.0   0.000000  0.463756   0.0   0.0  \n",
       "1   0.0  12.148218  0.000000   0.0   0.0  \n",
       "2   0.0   0.000000  0.000000   0.0   0.0  \n",
       "3   0.0   0.000000  2.110052   0.0   0.0  \n",
       "4   0.0   0.000000  0.000000   0.0   0.0  \n",
       "\n",
       "[5 rows x 72 columns]"
      ]
     },
     "execution_count": 93,
     "metadata": {},
     "output_type": "execute_result"
    }
   ],
   "source": [
    "benz_df_AE_LA=pd.concat([benz_df_x_sc[var_name],binary_encoded_df],axis=1)\n",
    "benz_df_AE_LA.head()"
   ]
  },
  {
   "cell_type": "code",
   "execution_count": 94,
   "metadata": {},
   "outputs": [
    {
     "data": {
      "text/html": [
       "<div>\n",
       "<style scoped>\n",
       "    .dataframe tbody tr th:only-of-type {\n",
       "        vertical-align: middle;\n",
       "    }\n",
       "\n",
       "    .dataframe tbody tr th {\n",
       "        vertical-align: top;\n",
       "    }\n",
       "\n",
       "    .dataframe thead th {\n",
       "        text-align: right;\n",
       "    }\n",
       "</style>\n",
       "<table border=\"1\" class=\"dataframe\">\n",
       "  <thead>\n",
       "    <tr style=\"text-align: right;\">\n",
       "      <th></th>\n",
       "      <th>X0</th>\n",
       "      <th>X1</th>\n",
       "      <th>X2</th>\n",
       "      <th>X3</th>\n",
       "      <th>X4</th>\n",
       "      <th>X5</th>\n",
       "      <th>X6</th>\n",
       "      <th>X8</th>\n",
       "      <th>AE0</th>\n",
       "      <th>AE1</th>\n",
       "      <th>...</th>\n",
       "      <th>AE54</th>\n",
       "      <th>AE55</th>\n",
       "      <th>AE56</th>\n",
       "      <th>AE57</th>\n",
       "      <th>AE58</th>\n",
       "      <th>AE59</th>\n",
       "      <th>AE60</th>\n",
       "      <th>AE61</th>\n",
       "      <th>AE62</th>\n",
       "      <th>AE63</th>\n",
       "    </tr>\n",
       "  </thead>\n",
       "  <tbody>\n",
       "    <tr>\n",
       "      <th>1334</th>\n",
       "      <td>-0.519249</td>\n",
       "      <td>-0.797333</td>\n",
       "      <td>0.395362</td>\n",
       "      <td>-0.528650</td>\n",
       "      <td>0.028938</td>\n",
       "      <td>1.380199</td>\n",
       "      <td>-1.305384</td>\n",
       "      <td>-1.650025</td>\n",
       "      <td>0.0</td>\n",
       "      <td>0.0</td>\n",
       "      <td>...</td>\n",
       "      <td>0.0</td>\n",
       "      <td>3.119005</td>\n",
       "      <td>1.103525</td>\n",
       "      <td>0.000000</td>\n",
       "      <td>0.328916</td>\n",
       "      <td>0.0</td>\n",
       "      <td>0.000000</td>\n",
       "      <td>0.000000</td>\n",
       "      <td>0.0</td>\n",
       "      <td>0.0</td>\n",
       "    </tr>\n",
       "    <tr>\n",
       "      <th>1630</th>\n",
       "      <td>-0.760246</td>\n",
       "      <td>-0.509101</td>\n",
       "      <td>0.395362</td>\n",
       "      <td>1.195779</td>\n",
       "      <td>0.028938</td>\n",
       "      <td>1.404416</td>\n",
       "      <td>0.408925</td>\n",
       "      <td>-1.507920</td>\n",
       "      <td>0.0</td>\n",
       "      <td>0.0</td>\n",
       "      <td>...</td>\n",
       "      <td>0.0</td>\n",
       "      <td>0.654115</td>\n",
       "      <td>0.569981</td>\n",
       "      <td>0.556762</td>\n",
       "      <td>0.449923</td>\n",
       "      <td>0.0</td>\n",
       "      <td>0.624029</td>\n",
       "      <td>0.612035</td>\n",
       "      <td>0.0</td>\n",
       "      <td>0.0</td>\n",
       "    </tr>\n",
       "  </tbody>\n",
       "</table>\n",
       "<p>2 rows × 72 columns</p>\n",
       "</div>"
      ],
      "text/plain": [
       "            X0        X1        X2        X3        X4        X5        X6  \\\n",
       "1334 -0.519249 -0.797333  0.395362 -0.528650  0.028938  1.380199 -1.305384   \n",
       "1630 -0.760246 -0.509101  0.395362  1.195779  0.028938  1.404416  0.408925   \n",
       "\n",
       "            X8  AE0  AE1  ...  AE54      AE55      AE56      AE57      AE58  \\\n",
       "1334 -1.650025  0.0  0.0  ...   0.0  3.119005  1.103525  0.000000  0.328916   \n",
       "1630 -1.507920  0.0  0.0  ...   0.0  0.654115  0.569981  0.556762  0.449923   \n",
       "\n",
       "      AE59      AE60      AE61  AE62  AE63  \n",
       "1334   0.0  0.000000  0.000000   0.0   0.0  \n",
       "1630   0.0  0.624029  0.612035   0.0   0.0  \n",
       "\n",
       "[2 rows x 72 columns]"
      ]
     },
     "execution_count": 94,
     "metadata": {},
     "output_type": "execute_result"
    }
   ],
   "source": [
    "X_train_LA_AE, X_test_LA_AE, y_train, y_test = train_test_split(benz_df_AE_LA, y, test_size=0.33, random_state=35)\n",
    "X_train_LA_AE.head(2)"
   ]
  },
  {
   "cell_type": "markdown",
   "metadata": {},
   "source": [
    "## Preapare Data for Auto Encoding - Test Data"
   ]
  },
  {
   "cell_type": "code",
   "execution_count": 95,
   "metadata": {},
   "outputs": [
    {
     "data": {
      "text/html": [
       "<div>\n",
       "<style scoped>\n",
       "    .dataframe tbody tr th:only-of-type {\n",
       "        vertical-align: middle;\n",
       "    }\n",
       "\n",
       "    .dataframe tbody tr th {\n",
       "        vertical-align: top;\n",
       "    }\n",
       "\n",
       "    .dataframe thead th {\n",
       "        text-align: right;\n",
       "    }\n",
       "</style>\n",
       "<table border=\"1\" class=\"dataframe\">\n",
       "  <thead>\n",
       "    <tr style=\"text-align: right;\">\n",
       "      <th></th>\n",
       "      <th>X0</th>\n",
       "      <th>X1</th>\n",
       "      <th>X2</th>\n",
       "      <th>X3</th>\n",
       "      <th>X4</th>\n",
       "      <th>X5</th>\n",
       "      <th>X6</th>\n",
       "      <th>X8</th>\n",
       "      <th>AE0</th>\n",
       "      <th>AE1</th>\n",
       "      <th>...</th>\n",
       "      <th>AE54</th>\n",
       "      <th>AE55</th>\n",
       "      <th>AE56</th>\n",
       "      <th>AE57</th>\n",
       "      <th>AE58</th>\n",
       "      <th>AE59</th>\n",
       "      <th>AE60</th>\n",
       "      <th>AE61</th>\n",
       "      <th>AE62</th>\n",
       "      <th>AE63</th>\n",
       "    </tr>\n",
       "  </thead>\n",
       "  <tbody>\n",
       "    <tr>\n",
       "      <th>0</th>\n",
       "      <td>1.605910</td>\n",
       "      <td>-0.220869</td>\n",
       "      <td>-1.584130</td>\n",
       "      <td>1.195779</td>\n",
       "      <td>0.028938</td>\n",
       "      <td>-0.557108</td>\n",
       "      <td>-2.333970</td>\n",
       "      <td>1.476285</td>\n",
       "      <td>0.000000</td>\n",
       "      <td>0.0</td>\n",
       "      <td>...</td>\n",
       "      <td>0.0</td>\n",
       "      <td>11.212440</td>\n",
       "      <td>0.000000</td>\n",
       "      <td>0.000000</td>\n",
       "      <td>0.000000</td>\n",
       "      <td>0.0</td>\n",
       "      <td>0.000000</td>\n",
       "      <td>4.909341</td>\n",
       "      <td>0.0</td>\n",
       "      <td>0.0</td>\n",
       "    </tr>\n",
       "    <tr>\n",
       "      <th>1</th>\n",
       "      <td>-0.650702</td>\n",
       "      <td>-0.797333</td>\n",
       "      <td>0.485339</td>\n",
       "      <td>-1.678270</td>\n",
       "      <td>0.028938</td>\n",
       "      <td>-0.993002</td>\n",
       "      <td>-0.276798</td>\n",
       "      <td>1.760494</td>\n",
       "      <td>0.352488</td>\n",
       "      <td>0.0</td>\n",
       "      <td>...</td>\n",
       "      <td>0.0</td>\n",
       "      <td>8.336518</td>\n",
       "      <td>1.860436</td>\n",
       "      <td>0.000000</td>\n",
       "      <td>0.000000</td>\n",
       "      <td>0.0</td>\n",
       "      <td>0.000000</td>\n",
       "      <td>5.668129</td>\n",
       "      <td>0.0</td>\n",
       "      <td>0.0</td>\n",
       "    </tr>\n",
       "    <tr>\n",
       "      <th>2</th>\n",
       "      <td>1.605910</td>\n",
       "      <td>-0.220869</td>\n",
       "      <td>0.710281</td>\n",
       "      <td>1.195779</td>\n",
       "      <td>0.028938</td>\n",
       "      <td>-1.017219</td>\n",
       "      <td>0.751787</td>\n",
       "      <td>-0.371080</td>\n",
       "      <td>0.000000</td>\n",
       "      <td>0.0</td>\n",
       "      <td>...</td>\n",
       "      <td>0.0</td>\n",
       "      <td>13.295769</td>\n",
       "      <td>0.000000</td>\n",
       "      <td>0.000000</td>\n",
       "      <td>0.000000</td>\n",
       "      <td>0.0</td>\n",
       "      <td>0.000000</td>\n",
       "      <td>0.745394</td>\n",
       "      <td>0.0</td>\n",
       "      <td>0.0</td>\n",
       "    </tr>\n",
       "    <tr>\n",
       "      <th>3</th>\n",
       "      <td>1.605910</td>\n",
       "      <td>-0.509101</td>\n",
       "      <td>-1.584130</td>\n",
       "      <td>1.195779</td>\n",
       "      <td>0.028938</td>\n",
       "      <td>-0.411810</td>\n",
       "      <td>1.437511</td>\n",
       "      <td>0.197340</td>\n",
       "      <td>0.000000</td>\n",
       "      <td>0.0</td>\n",
       "      <td>...</td>\n",
       "      <td>0.0</td>\n",
       "      <td>7.057495</td>\n",
       "      <td>0.000000</td>\n",
       "      <td>6.629758</td>\n",
       "      <td>0.000000</td>\n",
       "      <td>0.0</td>\n",
       "      <td>0.000000</td>\n",
       "      <td>0.000000</td>\n",
       "      <td>0.0</td>\n",
       "      <td>0.0</td>\n",
       "    </tr>\n",
       "    <tr>\n",
       "      <th>4</th>\n",
       "      <td>-0.584975</td>\n",
       "      <td>-0.307338</td>\n",
       "      <td>0.710281</td>\n",
       "      <td>-0.528650</td>\n",
       "      <td>0.028938</td>\n",
       "      <td>-0.436027</td>\n",
       "      <td>0.408925</td>\n",
       "      <td>0.055235</td>\n",
       "      <td>0.064644</td>\n",
       "      <td>0.0</td>\n",
       "      <td>...</td>\n",
       "      <td>0.0</td>\n",
       "      <td>0.930199</td>\n",
       "      <td>2.581347</td>\n",
       "      <td>0.000000</td>\n",
       "      <td>1.348654</td>\n",
       "      <td>0.0</td>\n",
       "      <td>1.724422</td>\n",
       "      <td>1.066304</td>\n",
       "      <td>0.0</td>\n",
       "      <td>0.0</td>\n",
       "    </tr>\n",
       "  </tbody>\n",
       "</table>\n",
       "<p>5 rows × 72 columns</p>\n",
       "</div>"
      ],
      "text/plain": [
       "         X0        X1        X2        X3        X4        X5        X6  \\\n",
       "0  1.605910 -0.220869 -1.584130  1.195779  0.028938 -0.557108 -2.333970   \n",
       "1 -0.650702 -0.797333  0.485339 -1.678270  0.028938 -0.993002 -0.276798   \n",
       "2  1.605910 -0.220869  0.710281  1.195779  0.028938 -1.017219  0.751787   \n",
       "3  1.605910 -0.509101 -1.584130  1.195779  0.028938 -0.411810  1.437511   \n",
       "4 -0.584975 -0.307338  0.710281 -0.528650  0.028938 -0.436027  0.408925   \n",
       "\n",
       "         X8       AE0  AE1  ...  AE54       AE55      AE56      AE57  \\\n",
       "0  1.476285  0.000000  0.0  ...   0.0  11.212440  0.000000  0.000000   \n",
       "1  1.760494  0.352488  0.0  ...   0.0   8.336518  1.860436  0.000000   \n",
       "2 -0.371080  0.000000  0.0  ...   0.0  13.295769  0.000000  0.000000   \n",
       "3  0.197340  0.000000  0.0  ...   0.0   7.057495  0.000000  6.629758   \n",
       "4  0.055235  0.064644  0.0  ...   0.0   0.930199  2.581347  0.000000   \n",
       "\n",
       "       AE58  AE59      AE60      AE61  AE62  AE63  \n",
       "0  0.000000   0.0  0.000000  4.909341   0.0   0.0  \n",
       "1  0.000000   0.0  0.000000  5.668129   0.0   0.0  \n",
       "2  0.000000   0.0  0.000000  0.745394   0.0   0.0  \n",
       "3  0.000000   0.0  0.000000  0.000000   0.0   0.0  \n",
       "4  1.348654   0.0  1.724422  1.066304   0.0   0.0  \n",
       "\n",
       "[5 rows x 72 columns]"
      ]
     },
     "execution_count": 95,
     "metadata": {},
     "output_type": "execute_result"
    }
   ],
   "source": [
    "t_binary_encoded= encoder.predict(t_benz_df_x_sc.iloc[:,8:])\n",
    "t_binary_encoded_df=pd.DataFrame(t_binary_encoded,columns=[str('AE'+str(i)) for i in range(0,64)])\n",
    "\n",
    "t_benz_df_AE_LA=pd.concat([t_benz_df_x_sc[var_name],t_binary_encoded_df],axis=1)\n",
    "t_benz_df_AE_LA.head()"
   ]
  },
  {
   "cell_type": "markdown",
   "metadata": {},
   "source": [
    "## Train models with entire data - Auto ENcoder"
   ]
  },
  {
   "cell_type": "code",
   "execution_count": 96,
   "metadata": {},
   "outputs": [
    {
     "name": "stdout",
     "output_type": "stream",
     "text": [
      "rsquare 0.3395\n",
      "mse 110.0741\n"
     ]
    }
   ],
   "source": [
    "#Linear regression \n",
    "lr=LinearRegression()\n",
    "lr_reg_mse,lr_r2=base_model(X_train_LA_AE, X_test_LA_AE, y_train, y_test,lr)\n",
    "x3 = PrettyTable()\n",
    "x3.field_names = [\"Data\",\"Model\",\"R square\",\"MSE\"]\n",
    "x3.add_row ([\"Auto Encoding\",\"Linear Regression\",lr_reg_mse,lr_r2])"
   ]
  },
  {
   "cell_type": "code",
   "execution_count": 97,
   "metadata": {},
   "outputs": [],
   "source": [
    "# Test Data\n",
    "t_y=lr.predict(t_benz_df_AE_LA)\n",
    "save_output(t_benz_df_AE_LA,t_y,'LE_AE_LR.csv')"
   ]
  },
  {
   "cell_type": "code",
   "execution_count": 98,
   "metadata": {},
   "outputs": [
    {
     "name": "stdout",
     "output_type": "stream",
     "text": [
      "best_param {'max_depth': 7, 'min_samples_split': 6}\n",
      "rsquare 0.3479\n",
      "mse 108.6792\n"
     ]
    }
   ],
   "source": [
    "#Decision Tree - random search\n",
    "parameters = {'min_samples_split':sp_randint(2,10),'max_depth':sp_randint(2,10)}\n",
    "#Best parameter values\n",
    "best_param=random_search(X_train_LA_AE,y_train,parameters,DecisionTreeRegressor())\n",
    "#Train model on best params and get scores\n",
    "dtree_model=DecisionTreeRegressor(max_depth= best_param['max_depth'], min_samples_split= best_param['min_samples_split'])\n",
    "dtree_reg_mse,dtree_r2=base_model(X_train_LA_AE, X_test_LA_AE, y_train, y_test,dtree_model)\n",
    "x3.add_row ([\"Auto Encoding\",\"DecisionTreeRegressor\",dtree_reg_mse,dtree_r2])"
   ]
  },
  {
   "cell_type": "code",
   "execution_count": 99,
   "metadata": {},
   "outputs": [],
   "source": [
    "# Test Data\n",
    "with open('LE_AE_Dtree','wb') as f:\n",
    "    pickle.dump(dtree_model,f)\n",
    "t_y=dtree_model.predict(t_benz_df_AE_LA)\n",
    "save_output(t_benz_df_AE_LA,t_y,'LE_AE_Dtree.csv')"
   ]
  },
  {
   "cell_type": "code",
   "execution_count": 100,
   "metadata": {
    "scrolled": true
   },
   "outputs": [
    {
     "name": "stdout",
     "output_type": "stream",
     "text": [
      "best_param {'max_depth': 7, 'min_samples_leaf': 8, 'min_samples_split': 2, 'n_estimators': 99}\n",
      "rsquare 0.4719\n",
      "mse 88.0152\n"
     ]
    }
   ],
   "source": [
    "# Random Forest - Random Search\n",
    "parameters = {'min_samples_split':sp_randint(2,8),'max_depth':sp_randint(2,8),'n_estimators':sp_randint(50,200),'min_samples_leaf':sp_randint(2,10)}\n",
    "best_param=random_search(X_train_LA_AE,y_train,parameters,RandomForestRegressor())\n",
    "Rforest_model=RandomForestRegressor(max_depth=best_param['max_depth'], min_samples_split= best_param['min_samples_split'],min_samples_leaf=best_param['min_samples_leaf'],n_estimators=best_param['n_estimators'])\n",
    "rfrst_reg_mse,rfrst_r2=base_model(X_train_LA_AE, X_test_LA_AE, y_train, y_test,Rforest_model)\n",
    "x3.add_row ([\"Auto Encoding\",\"RandomForest Regressor\",rfrst_reg_mse,rfrst_r2])"
   ]
  },
  {
   "cell_type": "code",
   "execution_count": 101,
   "metadata": {},
   "outputs": [],
   "source": [
    "# Test Data\n",
    "with open('LE_AE_Rfrst','wb') as f:\n",
    "    pickle.dump(Rforest_model,f)\n",
    "t_y=Rforest_model.predict(t_benz_df_AE_LA)\n",
    "save_output(t_benz_df_AE_LA,t_y,'LE_AE_Rfrst.csv')"
   ]
  },
  {
   "cell_type": "code",
   "execution_count": 102,
   "metadata": {},
   "outputs": [
    {
     "name": "stdout",
     "output_type": "stream",
     "text": [
      "best_param {'min_child_weight': 1, 'max_depth': 15, 'learning_rate': 0.05, 'colsample_bytree': 0.4}\n",
      "rsquare 0.4864\n",
      "mse 85.5858\n"
     ]
    }
   ],
   "source": [
    "# XGB Regressor- Random Search\n",
    "# parameters = {'max_depth':sp_randint(2,8),'n_estimators':sp_randint(50,200)}\n",
    "params={\"learning_rate\": [0.05, 0.10, 0.15, 0.20, 0.25, 0.30 ] , \"max_depth\": [ 3, 4, 5, 6, 8, 10, 12, 15], \"min_child_weight\" : [ 1, 3, 5, 7 ], \"colsample_bytree\" : [ 0.3, 0.4, 0.5 , 0.7 ]}\n",
    "best_param=random_search(X_train_LA_AE,y_train,params,LGBMRegressor())\n",
    "XGB_model=LGBMRegressor(learning_rate=best_param['learning_rate'],max_depth=best_param['max_depth'],min_child_weight=best_param['min_child_weight'],colsample_bytree=best_param['colsample_bytree'])\n",
    "xgb_reg_mse,xgb_r2=base_model(X_train_LA_AE, X_test_LA_AE, y_train, y_test,XGB_model)\n",
    "x3.add_row ([\"Auto Encoding\",\"XGB Regressor\",xgb_reg_mse,xgb_r2])"
   ]
  },
  {
   "cell_type": "code",
   "execution_count": 103,
   "metadata": {},
   "outputs": [],
   "source": [
    "# Test Data\n",
    "with open('LE_AE_XGB','wb') as f:\n",
    "    pickle.dump(XGB_model,f)\n",
    "t_y=XGB_model.predict(t_benz_df_AE_LA)\n",
    "save_output(t_benz_df_AE_LA,t_y,'LE_AE_XGB.csv')"
   ]
  },
  {
   "cell_type": "code",
   "execution_count": 104,
   "metadata": {},
   "outputs": [
    {
     "name": "stdout",
     "output_type": "stream",
     "text": [
      "best_param {'max_depth': 7, 'min_samples_leaf': 6, 'min_samples_split': 2}\n",
      "rsquare 0.4131\n",
      "mse 97.8164\n"
     ]
    }
   ],
   "source": [
    "# ExtraTreeRegressor - Random Search\n",
    "parameters = {'min_samples_split':sp_randint(2,8),'max_depth':sp_randint(2,8),'min_samples_leaf':sp_randint(1,10)}\n",
    "best_param=random_search(X_train_LA_AE,y_train,parameters,ExtraTreesRegressor())\n",
    "extra_tree_model=ExtraTreesRegressor(max_depth=best_param['max_depth'], min_samples_split= best_param['min_samples_split'],min_samples_leaf=best_param['min_samples_leaf'])\n",
    "xtra_reg_mse,xtra_xgb_r2=base_model(X_train_LA_AE, X_test_LA_AE, y_train, y_test,extra_tree_model)\n",
    "x3.add_row ([\"Auto Encoding\",\"Extra Tree Regressor\",xtra_reg_mse,xtra_xgb_r2])"
   ]
  },
  {
   "cell_type": "code",
   "execution_count": 105,
   "metadata": {},
   "outputs": [],
   "source": [
    "# Test Data\n",
    "with open('LE_AE_XtraT','wb') as f:\n",
    "    pickle.dump(extra_tree_model,f)\n",
    "t_y=extra_tree_model.predict(t_benz_df_AE_LA)\n",
    "save_output(t_benz_df_AE_LA,t_y,'LE_AE_XtraT.csv')"
   ]
  },
  {
   "cell_type": "code",
   "execution_count": 106,
   "metadata": {},
   "outputs": [
    {
     "name": "stdout",
     "output_type": "stream",
     "text": [
      "best_param {'kernel': 'rbf', 'gamma': 0.001, 'C': 100}\n",
      "rsquare 0.3819\n",
      "mse 103.001\n"
     ]
    }
   ],
   "source": [
    "#svr\n",
    "parameters = [{'kernel': ['rbf'], 'gamma': [1e-4, 1e-3, 0.01, 0.1, 0.2, 0.5, 0.6, 0.9],'C': [1, 10, 100, 1000, 10000]}]\n",
    "best_param=random_search(X_train_LA_AE,y_train,parameters,SVR())\n",
    "\n",
    "svr_model=SVR(kernel=best_param['kernel'], gamma= best_param['gamma'],C=best_param['C'])\n",
    "regr = make_pipeline(StandardScaler(),svr_model)\n",
    "svr_reg_mse,svr_xgb_r2=base_model(X_train_LA_AE, X_test_LA_AE, y_train, y_test,regr)\n",
    "x3.add_row ([\"Auto Encoding\",\"SVR\",svr_reg_mse,svr_xgb_r2])"
   ]
  },
  {
   "cell_type": "code",
   "execution_count": 107,
   "metadata": {},
   "outputs": [],
   "source": [
    "# Test Data\n",
    "with open('LE_AE_SVR','wb') as f:\n",
    "    pickle.dump(regr,f)\n",
    "t_y=regr.predict(t_benz_df_AE_LA)\n",
    "save_output(t_benz_df_AE_LA,t_y,'LE_AE_SVR.csv')"
   ]
  },
  {
   "cell_type": "code",
   "execution_count": 109,
   "metadata": {},
   "outputs": [
    {
     "name": "stdout",
     "output_type": "stream",
     "text": [
      "rsquare 0.4817\n",
      "mse 86.381\n"
     ]
    }
   ],
   "source": [
    "# Stacking regressor\n",
    "stacker=dtree_model\n",
    "estimators = [('lr',LinearRegression()),('xgb',XGB_model),('xtree',extra_tree_model),('knn',KNeighborsRegressor(n_neighbors=12),('svr',regr))]\n",
    "stacking_reg = StackingRegressor(estimators=estimators,final_estimator=stacker)\n",
    "\n",
    "stk_reg_mse,stk_r2=base_model(X_train_LA_AE, X_test_LA_AE, y_train, y_test,stacking_reg)\n",
    "x3.add_row ([\"Auto Encoding\",\"Stacking Regressor\",stk_reg_mse,stk_r2])"
   ]
  },
  {
   "cell_type": "code",
   "execution_count": 110,
   "metadata": {},
   "outputs": [],
   "source": [
    "# Test Data\n",
    "with open('LE_AE_Stkr','wb') as f:\n",
    "    pickle.dump(stacking_reg,f)\n",
    "t_y=stacking_reg.predict(t_benz_df_AE_LA)\n",
    "save_output(t_benz_df_AE_LA,t_y,'LE_AE_Stkr.csv')"
   ]
  },
  {
   "cell_type": "code",
   "execution_count": 111,
   "metadata": {},
   "outputs": [
    {
     "name": "stdout",
     "output_type": "stream",
     "text": [
      "+---------------+------------------------+----------+----------+\n",
      "|      Data     |         Model          | R square |   MSE    |\n",
      "+---------------+------------------------+----------+----------+\n",
      "| Auto Encoding |   Linear Regression    |  0.3395  | 110.0741 |\n",
      "| Auto Encoding | DecisionTreeRegressor  |  0.3479  | 108.6792 |\n",
      "| Auto Encoding | RandomForest Regressor |  0.4719  | 88.0152  |\n",
      "| Auto Encoding |     XGB Regressor      |  0.4864  | 85.5858  |\n",
      "| Auto Encoding |  Extra Tree Regressor  |  0.4131  | 97.8164  |\n",
      "| Auto Encoding |          SVR           |  0.3819  | 103.001  |\n",
      "| Auto Encoding |   Stacking Regressor   |  0.4817  |  86.381  |\n",
      "+---------------+------------------------+----------+----------+\n"
     ]
    }
   ],
   "source": [
    "# x3.del_row(5)\n",
    "print(x3)"
   ]
  },
  {
   "cell_type": "code",
   "execution_count": 112,
   "metadata": {},
   "outputs": [
    {
     "name": "stdout",
     "output_type": "stream",
     "text": [
      "+----------------+------------------------+----------+---------+\n",
      "|      Data      |         Model          | R square |   MSE   |\n",
      "+----------------+------------------------+----------+---------+\n",
      "| Label Encoding |   Linear Regression    |  0.4479  | 96.2698 |\n",
      "| Label Encoding | DecisionTreeRegressor  |  0.4984  | 87.4635 |\n",
      "| Label Encoding | RandomForest Regressor |  0.4966  | 87.7897 |\n",
      "| Label Encoding |     XGB Regressor      |  0.4878  | 89.3165 |\n",
      "| Label Encoding |  Extra Tree Regressor  |  0.4827  | 90.2052 |\n",
      "| Label Encoding |          SVR           |  0.4434  | 97.0647 |\n",
      "| Label Encoding |   Stacking Regressor   |  0.4825  | 90.2436 |\n",
      "+----------------+------------------------+----------+---------+\n",
      "+----------------------------------+------------------------+----------+---------+\n",
      "|               Data               |         Model          | R square |   MSE   |\n",
      "+----------------------------------+------------------------+----------+---------+\n",
      "| Label Encoding + top 15 Features |   Linear Regression    |  0.5183  | 80.2728 |\n",
      "| Label Encoding + top 15 Features | DecisionTreeRegressor  |  0.5353  | 77.4462 |\n",
      "| Label Encoding + top 15 Features | RandomForest Regressor |  0.5435  | 76.0755 |\n",
      "| Label Encoding + top 15 Features |     XGB Regressor      |  0.5455  |  75.737 |\n",
      "| Label Encoding + top 15 Features |  Extra Tree Regressor  |  0.5407  | 76.5446 |\n",
      "| Label Encoding + top 15 Features |          SVR           |  0.5191  | 80.1505 |\n",
      "| Label Encoding + top 15 Features |   Stacking Regressor   |  0.5284  |  78.592 |\n",
      "+----------------------------------+------------------------+----------+---------+\n",
      "+----------------------+------------------------+----------+----------+\n",
      "|         Data         |         Model          | R square |   MSE    |\n",
      "+----------------------+------------------------+----------+----------+\n",
      "| Label Encoding + PCA |   Linear Regression    |  0.254   | 124.3282 |\n",
      "| Label Encoding + PCA | DecisionTreeRegressor  |  0.3257  | 112.3775 |\n",
      "| Label Encoding + PCA | RandomForest Regressor |  0.474   | 87.6536  |\n",
      "| Label Encoding + PCA |  Extra Tree Regressor  |  0.4366  | 93.8909  |\n",
      "| Label Encoding + PCA |          SVR           |  0.4931  |  84.469  |\n",
      "| Label Encoding + PCA |   Stacking Regressor   |  0.4923  |  84.605  |\n",
      "+----------------------+------------------------+----------+----------+\n",
      "+---------------+------------------------+----------+----------+\n",
      "|      Data     |         Model          | R square |   MSE    |\n",
      "+---------------+------------------------+----------+----------+\n",
      "| Auto Encoding |   Linear Regression    |  0.3395  | 110.0741 |\n",
      "| Auto Encoding | DecisionTreeRegressor  |  0.3479  | 108.6792 |\n",
      "| Auto Encoding | RandomForest Regressor |  0.4719  | 88.0152  |\n",
      "| Auto Encoding |     XGB Regressor      |  0.4864  | 85.5858  |\n",
      "| Auto Encoding |  Extra Tree Regressor  |  0.4131  | 97.8164  |\n",
      "| Auto Encoding |          SVR           |  0.3819  | 103.001  |\n",
      "| Auto Encoding |   Stacking Regressor   |  0.4817  |  86.381  |\n",
      "+---------------+------------------------+----------+----------+\n"
     ]
    }
   ],
   "source": [
    "print(x)\n",
    "print(x1)\n",
    "print(x2)\n",
    "print(x3)\n"
   ]
  }
 ],
 "metadata": {
  "kernelspec": {
   "display_name": "Python 3",
   "language": "python",
   "name": "python3"
  },
  "language_info": {
   "codemirror_mode": {
    "name": "ipython",
    "version": 3
   },
   "file_extension": ".py",
   "mimetype": "text/x-python",
   "name": "python",
   "nbconvert_exporter": "python",
   "pygments_lexer": "ipython3",
   "version": "3.8.5"
  }
 },
 "nbformat": 4,
 "nbformat_minor": 2
}
