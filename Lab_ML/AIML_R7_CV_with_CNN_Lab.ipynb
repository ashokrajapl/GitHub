{
 "cells": [
  {
   "cell_type": "markdown",
   "metadata": {
    "id": "Hbln1O8gBEih"
   },
   "source": [
    "![alt text](https://drive.google.com/uc?export=view&id=1UXScsVx_Wni_JuDdB8LeTnM6jsPfIwkW)\n",
    "\n",
    "Proprietary content. © Great Learning. All Rights Reserved. Unauthorized use or distribution prohibited."
   ]
  },
  {
   "cell_type": "markdown",
   "metadata": {
    "id": "Q91KqmCRu64D"
   },
   "source": [
    "# Mobile Phone Detection in an Image\n",
    "\n",
    "## Domain\n",
    "Mobile Phones, Computer Vision\n",
    "\n",
    "## Business Context\n",
    "The ability to process visual information using machine learning algorithms can be very useful. Electronics companies can use it to identify the presence of a mobile in an image (location), mobile brand just by looking at the image, and minor damages if there are any. The computer vision field has multiple applications and based on the available data it can be used to meet business objectives.\n",
    "Here, we will use a simple convolutional neural network to classify images with and without mobile phones. \n",
    " \n",
    "## Objective\n",
    "\n",
    "Given the images and label whether an image has a mobile phone or not, can you train a model that allows you to map and find the presence of mobile phones within the selected images.\n"
   ]
  },
  {
   "cell_type": "markdown",
   "metadata": {
    "id": "b0Qw0vEHBUvm"
   },
   "source": [
    "### Package version\n",
    "- tensorflow==2.3.0\n",
    "- matplotlib==3.2.1\n",
    "- h5py==2.10.0\n",
    "- google==2.0.3"
   ]
  },
  {
   "cell_type": "markdown",
   "metadata": {
    "id": "yapdCjMwFl02"
   },
   "source": [
    "## Table of Content\n",
    "\n",
    "1. Import Libraries\n",
    "\n",
    "2. Setting options\n",
    "\n",
    "3. Data loading and Data Analysis \n",
    "\n",
    "4. Visualize and Standardize the data\n",
    "\n",
    "5. Model Building\n",
    "\n",
    "6. Evaluate Model\n",
    "\n",
    "7. Conclusion and Interpretation"
   ]
  },
  {
   "cell_type": "markdown",
   "metadata": {
    "id": "mSnjdKmpG82x"
   },
   "source": [
    "## 1. Import Libraries"
   ]
  },
  {
   "cell_type": "markdown",
   "metadata": {
    "id": "8z2Z7-OAs8QG"
   },
   "source": [
    "Let us start by mounting the drive"
   ]
  },
  {
   "cell_type": "code",
   "execution_count": 4,
   "metadata": {
    "colab": {
     "base_uri": "https://localhost:8080/"
    },
    "id": "REFUdThmpz_d",
    "outputId": "c643f1dc-7b86-4753-c122-b17756ea6567"
   },
   "outputs": [
    {
     "name": "stdout",
     "output_type": "stream",
     "text": [
      "Mounted at /content/drive\n"
     ]
    }
   ],
   "source": [
    "from google.colab import drive\n",
    "drive.mount('/content/drive')\n"
   ]
  },
  {
   "cell_type": "code",
   "execution_count": 5,
   "metadata": {
    "id": "oYp2Hsy4pYoN"
   },
   "outputs": [],
   "source": [
    "import os\n",
    "import cv2"
   ]
  },
  {
   "cell_type": "code",
   "execution_count": 10,
   "metadata": {
    "colab": {
     "base_uri": "https://localhost:8080/"
    },
    "id": "f-lBYB8epon6",
    "outputId": "fde8c2d9-9b65-4890-fb5c-413487048fce"
   },
   "outputs": [
    {
     "data": {
      "text/plain": [
       "array([[[162, 162, 162],\n",
       "        [160, 160, 160],\n",
       "        [159, 159, 159],\n",
       "        ...,\n",
       "        [169, 169, 169],\n",
       "        [170, 170, 170],\n",
       "        [170, 170, 170]],\n",
       "\n",
       "       [[162, 162, 162],\n",
       "        [161, 161, 161],\n",
       "        [159, 159, 159],\n",
       "        ...,\n",
       "        [168, 168, 168],\n",
       "        [169, 169, 169],\n",
       "        [169, 169, 169]],\n",
       "\n",
       "       [[161, 161, 161],\n",
       "        [160, 160, 160],\n",
       "        [160, 160, 160],\n",
       "        ...,\n",
       "        [168, 168, 168],\n",
       "        [171, 171, 171],\n",
       "        [171, 171, 171]],\n",
       "\n",
       "       ...,\n",
       "\n",
       "       [[163, 163, 163],\n",
       "        [161, 161, 161],\n",
       "        [154, 154, 154],\n",
       "        ...,\n",
       "        [175, 175, 175],\n",
       "        [176, 176, 176],\n",
       "        [176, 176, 176]],\n",
       "\n",
       "       [[157, 157, 157],\n",
       "        [161, 161, 161],\n",
       "        [163, 163, 163],\n",
       "        ...,\n",
       "        [175, 175, 175],\n",
       "        [178, 178, 178],\n",
       "        [177, 177, 177]],\n",
       "\n",
       "       [[161, 161, 161],\n",
       "        [164, 164, 164],\n",
       "        [165, 165, 165],\n",
       "        ...,\n",
       "        [174, 174, 174],\n",
       "        [178, 178, 178],\n",
       "        [177, 177, 177]]], dtype=uint8)"
      ]
     },
     "execution_count": 10,
     "metadata": {
      "tags": []
     },
     "output_type": "execute_result"
    }
   ],
   "source": [
    "os.chdir(\"/content/drive/MyDrive/CV with CNN/mobile-images-20210612T060658Z-001/mobile-images\")\n",
    "os.listdir()\n",
    "img=cv2.imread(\"/content/drive/MyDrive/CV with CNN/mobile-images-20210612T060658Z-001/mobile-images/no-mobile/img0.png\")\n",
    "img"
   ]
  },
  {
   "cell_type": "markdown",
   "metadata": {
    "id": "ucnevGLoyKf_"
   },
   "source": [
    "Let us check for the version of installed tensorflow."
   ]
  },
  {
   "cell_type": "code",
   "execution_count": 7,
   "metadata": {
    "colab": {
     "base_uri": "https://localhost:8080/"
    },
    "id": "W5as47YxyJVk",
    "outputId": "972c9663-447f-4a05-892d-9ce4b5bd3192"
   },
   "outputs": [
    {
     "name": "stdout",
     "output_type": "stream",
     "text": [
      "2.5.0\n"
     ]
    }
   ],
   "source": [
    "# used to supress display of warnings\n",
    "import warnings\n",
    "\n",
    "# os is used to provide a way of using operating system dependent functionality\n",
    "# We use it for setting working folder\n",
    "import os\n",
    "\n",
    "# Pandas is used for data manipulation and analysis\n",
    "import pandas as pd \n",
    "\n",
    "# Numpy is used for large, multi-dimensional arrays and matrices, along with mathematical operators on these arrays\n",
    "import numpy as np\n",
    "\n",
    "# Matplotlib is a data visualization library for 2D plots of arrays, built on NumPy arrays \n",
    "# and designed to work with the broader SciPy stack\n",
    "import matplotlib.pyplot as plt\n",
    "%matplotlib inline\n",
    "from matplotlib import pyplot\n",
    "\n",
    "# Seaborn is based on matplotlib, which aids in drawing attractive and informative statistical graphics.\n",
    "import seaborn as sns\n",
    "import tensorflow \n",
    "print(tensorflow.__version__)\n",
    "\n",
    "\n",
    "from keras.utils import np_utils\n",
    "from keras.models import Sequential\n",
    "from keras.layers.core import Dense, Dropout, Activation, Flatten\n",
    "from keras.layers.convolutional import Conv2D, MaxPooling2D\n",
    "from keras.optimizers import SGD\n",
    "from keras.constraints import maxnorm\n",
    "from PIL import Image\n",
    "from PIL import ImageMath"
   ]
  },
  {
   "cell_type": "code",
   "execution_count": null,
   "metadata": {
    "id": "i2UBv-h9pX75"
   },
   "outputs": [],
   "source": []
  },
  {
   "cell_type": "markdown",
   "metadata": {
    "id": "MRj03V7AHAYe"
   },
   "source": [
    "## 2. Setting Options"
   ]
  },
  {
   "cell_type": "code",
   "execution_count": 8,
   "metadata": {
    "id": "7I9dogoKHn6w"
   },
   "outputs": [],
   "source": [
    "# suppress display of warnings\n",
    "warnings.filterwarnings('ignore')\n",
    "\n",
    "# display all dataframe columns\n",
    "pd.options.display.max_columns = None\n",
    "\n",
    "# display all dataframe rows\n",
    "pd.options.display.max_rows = None"
   ]
  },
  {
   "cell_type": "markdown",
   "metadata": {
    "id": "ufAqcNVCHIut"
   },
   "source": [
    "## 3. Data loading and Data Analysis "
   ]
  },
  {
   "cell_type": "markdown",
   "metadata": {
    "id": "LDYN63hu2s97"
   },
   "source": [
    "### Read images and save the pixel information to an array. Also, save their corresponding label to a list ( YES-Mobile - 1, NO-Mobile - 0). Resize the images to shape (128, 128, 3)."
   ]
  },
  {
   "cell_type": "code",
   "execution_count": 11,
   "metadata": {
    "id": "zWPOVY3gDOQo"
   },
   "outputs": [],
   "source": [
    "yes_list=os.listdir(\"/content/drive/MyDrive/CV with CNN/mobile-images-20210612T060658Z-001/mobile-images/yes-mobile\")\n",
    "no_list=os.listdir(\"/content/drive/MyDrive/CV with CNN/mobile-images-20210612T060658Z-001/mobile-images/no-mobile\")\n",
    "yes_images,yes_labels=[],[]\n",
    "path_yes=\"/content/drive/MyDrive/CV with CNN/mobile-images-20210612T060658Z-001/mobile-images/yes-mobile\"\n",
    "for i in yes_list:\n",
    "  img_path=os.path.join(path_yes,i)\n",
    "\n",
    "  img=cv2.imread(img_path)\n",
    "  img=cv2.resize(img,(128,128))\n",
    "  yes_images.append(img)\n",
    "  yes_labels.append(1)"
   ]
  },
  {
   "cell_type": "code",
   "execution_count": 13,
   "metadata": {
    "colab": {
     "base_uri": "https://localhost:8080/",
     "height": 66,
     "referenced_widgets": [
      "b948157292f14345a65a2943bea3f168",
      "3e097c3a66ca4de68c7e9dfbd449e0c8",
      "0fa2bf31944e465baf51301ee92cb001",
      "ec0d09e3bc1243beac9e383449a773e6",
      "f6da4635b4134b98bea7180a5021787f",
      "dc1ec2c280d440bd8480bb2b21071857",
      "539b3472a67144d7b1698b5fe4378ba1",
      "526fed0353984ffebf7ccbe45f860093"
     ]
    },
    "id": "kGWOPY04v80I",
    "outputId": "c1f4ad76-8d19-4c92-dc22-2dc496cd28ac"
   },
   "outputs": [
    {
     "data": {
      "application/vnd.jupyter.widget-view+json": {
       "model_id": "b948157292f14345a65a2943bea3f168",
       "version_major": 2,
       "version_minor": 0
      },
      "text/plain": [
       "HBox(children=(FloatProgress(value=0.0, max=121.0), HTML(value='')))"
      ]
     },
     "metadata": {
      "tags": []
     },
     "output_type": "display_data"
    },
    {
     "name": "stdout",
     "output_type": "stream",
     "text": [
      "\n"
     ]
    }
   ],
   "source": [
    "\n",
    "from tqdm.notebook import tqdm, trange\n",
    "no_images,no_labels=[],[]\n",
    "path_no=\"/content/drive/MyDrive/CV with CNN/mobile-images-20210612T060658Z-001/mobile-images/no-mobile\"\n",
    "for i in tqdm(no_list):\n",
    "  img_path=os.path.join(path_no,i)\n",
    "\n",
    "  img=cv2.imread(img_path)\n",
    "  img=cv2.resize(img,(128,128))\n",
    "  no_images.append(img)\n",
    "  no_labels.append(0)"
   ]
  },
  {
   "cell_type": "code",
   "execution_count": 14,
   "metadata": {
    "colab": {
     "base_uri": "https://localhost:8080/"
    },
    "id": "9ZgxxqCjxKXM",
    "outputId": "5ecda2fa-065b-4e6a-d564-2ffaccd552ae"
   },
   "outputs": [
    {
     "name": "stdout",
     "output_type": "stream",
     "text": [
      "121\n"
     ]
    }
   ],
   "source": [
    "print(len(no_images))"
   ]
  },
  {
   "cell_type": "markdown",
   "metadata": {
    "id": "FrfveOqeFtfz"
   },
   "source": [
    "### Check shape and size of the images"
   ]
  },
  {
   "cell_type": "code",
   "execution_count": 15,
   "metadata": {
    "colab": {
     "base_uri": "https://localhost:8080/"
    },
    "id": "aFCElAp7FtAS",
    "outputId": "84463f08-3408-4a68-b4e2-8b85d4d5f016"
   },
   "outputs": [
    {
     "data": {
      "text/plain": [
       "(128, 128, 3)"
      ]
     },
     "execution_count": 15,
     "metadata": {
      "tags": []
     },
     "output_type": "execute_result"
    }
   ],
   "source": [
    "no_images[0].shape"
   ]
  },
  {
   "cell_type": "code",
   "execution_count": null,
   "metadata": {
    "id": "C6e8kYSAxJvZ"
   },
   "outputs": [],
   "source": []
  },
  {
   "cell_type": "markdown",
   "metadata": {
    "id": "t3NWL9_NIdwK"
   },
   "source": [
    "###  What is the percentage of images with and without mobile phone in the data"
   ]
  },
  {
   "cell_type": "code",
   "execution_count": 16,
   "metadata": {
    "colab": {
     "base_uri": "https://localhost:8080/"
    },
    "id": "NKy7Lw5mFVTi",
    "outputId": "fa4ef1f2-92b7-4f57-8133-22ea1f24e387"
   },
   "outputs": [
    {
     "name": "stdout",
     "output_type": "stream",
     "text": [
      "49.38775510204081 Percentage\n"
     ]
    }
   ],
   "source": [
    "print(len(no_images)/(len(yes_images)+len(no_images))*100,\"Percentage\")\n"
   ]
  },
  {
   "cell_type": "markdown",
   "metadata": {
    "id": "JVZ2zlPNDOmi"
   },
   "source": [
    "### Concatenate above two arrays (array having image details of with and without mobile) into one variable and check the final size of the data\n",
    "### Concatenate lists having label data into one list"
   ]
  },
  {
   "cell_type": "code",
   "execution_count": 17,
   "metadata": {
    "colab": {
     "base_uri": "https://localhost:8080/"
    },
    "id": "88u5BB9NDs2N",
    "outputId": "46b109a2-697c-4d01-8f18-ec00bcdaa71a"
   },
   "outputs": [
    {
     "name": "stdout",
     "output_type": "stream",
     "text": [
      "<class 'numpy.ndarray'>\n"
     ]
    }
   ],
   "source": [
    "x_img=np.concatenate((yes_images,no_images),axis=0)\n",
    "print(type(x_img))"
   ]
  },
  {
   "cell_type": "code",
   "execution_count": 18,
   "metadata": {
    "id": "gDb3KKMH1wDb"
   },
   "outputs": [],
   "source": [
    "y_labels=np.concatenate((yes_labels,no_labels),axis=0)"
   ]
  },
  {
   "cell_type": "markdown",
   "metadata": {
    "id": "ybAAKRgq2dQI"
   },
   "source": []
  },
  {
   "cell_type": "markdown",
   "metadata": {
    "id": "rVv66DvSDvY0"
   },
   "source": [
    "### Shuffle the above data and labels ( Data and label should be in sync)"
   ]
  },
  {
   "cell_type": "code",
   "execution_count": 19,
   "metadata": {
    "id": "JC2Uu4r0EFDX"
   },
   "outputs": [],
   "source": [
    "from sklearn.utils import shuffle\n",
    "data,labels=shuffle(x_img,y_labels,random_state=95)"
   ]
  },
  {
   "cell_type": "code",
   "execution_count": 20,
   "metadata": {
    "id": "fWf_3t6a4FM0"
   },
   "outputs": [],
   "source": [
    "\n"
   ]
  },
  {
   "cell_type": "markdown",
   "metadata": {
    "id": "IERuYS1BHuCq"
   },
   "source": [
    "## 4. Visualize and Standardize the data"
   ]
  },
  {
   "cell_type": "markdown",
   "metadata": {
    "id": "kxODV6HKykuc"
   },
   "source": [
    "### Visualise the first 10 images in the data and print their corresponding labels."
   ]
  },
  {
   "cell_type": "code",
   "execution_count": 23,
   "metadata": {
    "colab": {
     "base_uri": "https://localhost:8080/",
     "height": 94
    },
    "id": "__YELlwqE8Cl",
    "outputId": "ecf37a2f-898c-4b24-857d-e6e747d042c9"
   },
   "outputs": [
    {
     "data": {
      "image/png": "[encoded data removed]",
      "text/plain": [
       "<Figure size 720x72 with 10 Axes>"
      ]
     },
     "metadata": {
      "needs_background": "light",
      "tags": []
     },
     "output_type": "display_data"
    }
   ],
   "source": [
    "%matplotlib inline\n",
    "import matplotlib.pyplot as plt\n",
    "plt.figure(figsize=(10, 1))\n",
    "for i in range(10):\n",
    "    plt.subplot(1, 10, i+1)\n",
    "    plt.imshow(data[i], cmap=\"gray\")\n",
    "    plt.title(labels[i])\n",
    "    plt.axis('off')\n",
    "    # print('label for each of the below image: %s' % (labels[i]))\n",
    "plt.show()"
   ]
  },
  {
   "cell_type": "markdown",
   "metadata": {
    "id": "LUvm8AMvEFaA"
   },
   "source": [
    "### Split the data into train and test"
   ]
  },
  {
   "cell_type": "code",
   "execution_count": 24,
   "metadata": {
    "id": "kKVEf3zWF0Qq"
   },
   "outputs": [],
   "source": [
    "from sklearn.model_selection import train_test_split\n",
    "x_train, x_test, y_train, y_test = train_test_split(data,labels,random_state=26)\n"
   ]
  },
  {
   "cell_type": "markdown",
   "metadata": {
    "id": "y1ZC0x0I3-jo"
   },
   "source": [
    "### Print shape of the X train and X test data"
   ]
  },
  {
   "cell_type": "code",
   "execution_count": 25,
   "metadata": {
    "colab": {
     "base_uri": "https://localhost:8080/"
    },
    "id": "Dm8gmQt2FEUd",
    "outputId": "d844afaa-4944-4fe3-f22c-6796d45b9aae"
   },
   "outputs": [
    {
     "data": {
      "text/plain": [
       "(183, 128, 128, 3)"
      ]
     },
     "execution_count": 25,
     "metadata": {
      "tags": []
     },
     "output_type": "execute_result"
    }
   ],
   "source": [
    "x_train.shape"
   ]
  },
  {
   "cell_type": "markdown",
   "metadata": {
    "id": "W1Zgo_3LFSWE"
   },
   "source": [
    "### Normalize the data by dividing by 255"
   ]
  },
  {
   "cell_type": "code",
   "execution_count": 26,
   "metadata": {
    "id": "AMDN2gK0FZ22"
   },
   "outputs": [],
   "source": [
    "x_train=x_train/255.0\n",
    "x_test=x_test/255.0"
   ]
  },
  {
   "cell_type": "code",
   "execution_count": 27,
   "metadata": {
    "colab": {
     "base_uri": "https://localhost:8080/"
    },
    "id": "6vuPp9wk8FJ2",
    "outputId": "add37de0-6402-4632-82ea-31c791ea51df"
   },
   "outputs": [
    {
     "data": {
      "text/plain": [
       "array([1, 1, 0, 0, 1, 0, 0, 0, 1, 1, 1, 0, 1, 1, 1, 0, 0, 0, 1, 0, 1, 0,\n",
       "       0, 1, 1, 1, 0, 1, 0, 0, 0, 0, 1, 0, 1, 0, 0, 1, 0, 0, 0, 1, 0, 1,\n",
       "       0, 0, 0, 1, 0, 0, 0, 0, 1, 1, 0, 1, 1, 0, 0, 0, 1, 0])"
      ]
     },
     "execution_count": 27,
     "metadata": {
      "tags": []
     },
     "output_type": "execute_result"
    }
   ],
   "source": [
    "y_test"
   ]
  },
  {
   "cell_type": "markdown",
   "metadata": {
    "id": "bogxx3cezol1"
   },
   "source": [
    "###  One hot encode the labels for train and test data \n",
    "Hint:- We need to one hot encode the labels for the model to understand the labels better. We will be using categorical cross entropy as our loss function and for this purpose we need our labels to be in one hot encoded format."
   ]
  },
  {
   "cell_type": "code",
   "execution_count": 28,
   "metadata": {
    "colab": {
     "base_uri": "https://localhost:8080/"
    },
    "id": "4R0pPQFBFjp1",
    "outputId": "5ac81729-8dab-4109-f469-368f9a5e2b14"
   },
   "outputs": [
    {
     "name": "stdout",
     "output_type": "stream",
     "text": [
      "Sample value before one hot encoding 0\n",
      "\n",
      "Sample value after one hot encoding [1. 0.]\n"
     ]
    }
   ],
   "source": [
    "print(f'Sample value before one hot encoding {y_train[6]}\\n')\n",
    "y_train = tensorflow.keras.utils.to_categorical(y_train,num_classes=2)\n",
    "y_test= tensorflow.keras.utils.to_categorical(y_test,num_classes=2)\n",
    "print(f'Sample value after one hot encoding {y_train[6]}')\n"
   ]
  },
  {
   "cell_type": "code",
   "execution_count": null,
   "metadata": {
    "id": "kaFdYzK88xv7"
   },
   "outputs": [],
   "source": []
  },
  {
   "cell_type": "code",
   "execution_count": null,
   "metadata": {
    "id": "GaxP_izH8xdj"
   },
   "outputs": [],
   "source": []
  },
  {
   "cell_type": "code",
   "execution_count": null,
   "metadata": {
    "id": "Ihxrn7zX8xNI"
   },
   "outputs": [],
   "source": []
  },
  {
   "cell_type": "markdown",
   "metadata": {
    "id": "xztigzzfITt-"
   },
   "source": [
    "## 5. Model building"
   ]
  },
  {
   "cell_type": "markdown",
   "metadata": {
    "id": "UJDUoaEj1d6e"
   },
   "source": [
    "### Define the model architecture using TensorFlow with a Conv2D layer followed by dense layers with activation as ReLu and softmax respectively. "
   ]
  },
  {
   "cell_type": "code",
   "execution_count": 29,
   "metadata": {
    "id": "q7hjuCanDfzK"
   },
   "outputs": [],
   "source": [
    "from tensorflow.keras import optimizers\n",
    "from tensorflow.keras.models import Sequential\n",
    "from tensorflow.keras.layers import Dense,Flatten,Conv2D,MaxPool2D"
   ]
  },
  {
   "cell_type": "code",
   "execution_count": 30,
   "metadata": {
    "id": "RhT_PLicFuDu"
   },
   "outputs": [],
   "source": [
    "model=Sequential()\n",
    "model.add(Conv2D(32,(3,3),activation='relu',input_shape=(128,128,3)))\n",
    "model.add(MaxPool2D((2,2)))\n",
    "model.add(Conv2D(64,(3,3),activation='relu'))\n",
    "model.add(MaxPool2D((2,2)))\n",
    "model.add(Flatten())\n",
    "model.add(Dense(64))\n",
    "model.add(Dense(32))\n",
    "model.add(Dense(2,activation='softmax'))"
   ]
  },
  {
   "cell_type": "markdown",
   "metadata": {
    "id": "DAJbHWAbF1Ko"
   },
   "source": [
    "### Compile the above model using appropriate loss metric. Try with sgd, adam optimizer and \"accuracy\" as metrics. "
   ]
  },
  {
   "cell_type": "code",
   "execution_count": 31,
   "metadata": {
    "id": "wBcO5lBmGMCW"
   },
   "outputs": [],
   "source": [
    "model.compile(loss='categorical_crossentropy',optimizer='adam',metrics=['accuracy'])"
   ]
  },
  {
   "cell_type": "markdown",
   "metadata": {
    "id": "5t90ufg46jLl"
   },
   "source": [
    "### Fit the model on the training dataset along with it's equivalent one hot encoded labels"
   ]
  },
  {
   "cell_type": "code",
   "execution_count": 32,
   "metadata": {
    "colab": {
     "base_uri": "https://localhost:8080/"
    },
    "id": "1OSrPoT9GPKs",
    "outputId": "9a30bbc5-f1bb-4319-83e3-5a610b285f37"
   },
   "outputs": [
    {
     "name": "stdout",
     "output_type": "stream",
     "text": [
      "Epoch 1/10\n",
      "6/6 [==============================] - 30s 187ms/step - loss: 6.7164 - accuracy: 0.5519 - val_loss: 3.0030 - val_accuracy: 0.5806\n",
      "Epoch 2/10\n",
      "6/6 [==============================] - 0s 38ms/step - loss: 1.2836 - accuracy: 0.5246 - val_loss: 0.6293 - val_accuracy: 0.4355\n",
      "Epoch 3/10\n",
      "6/6 [==============================] - 0s 38ms/step - loss: 0.4635 - accuracy: 0.7268 - val_loss: 0.3786 - val_accuracy: 0.8871\n",
      "Epoch 4/10\n",
      "6/6 [==============================] - 0s 36ms/step - loss: 0.3602 - accuracy: 0.8907 - val_loss: 0.4485 - val_accuracy: 0.8387\n",
      "Epoch 5/10\n",
      "6/6 [==============================] - 0s 44ms/step - loss: 0.2545 - accuracy: 0.9180 - val_loss: 0.2927 - val_accuracy: 0.9032\n",
      "Epoch 6/10\n",
      "6/6 [==============================] - 0s 37ms/step - loss: 0.1830 - accuracy: 0.9290 - val_loss: 0.5045 - val_accuracy: 0.7903\n",
      "Epoch 7/10\n",
      "6/6 [==============================] - 0s 37ms/step - loss: 0.1563 - accuracy: 0.9563 - val_loss: 0.2768 - val_accuracy: 0.9194\n",
      "Epoch 8/10\n",
      "6/6 [==============================] - 0s 37ms/step - loss: 0.1115 - accuracy: 0.9617 - val_loss: 0.2648 - val_accuracy: 0.9194\n",
      "Epoch 9/10\n",
      "6/6 [==============================] - 0s 37ms/step - loss: 0.0834 - accuracy: 0.9781 - val_loss: 0.4250 - val_accuracy: 0.8710\n",
      "Epoch 10/10\n",
      "6/6 [==============================] - 0s 36ms/step - loss: 0.0745 - accuracy: 0.9781 - val_loss: 0.3325 - val_accuracy: 0.9032\n"
     ]
    }
   ],
   "source": [
    "history=model.fit(x_train,y_train,validation_data=(x_test,y_test),epochs=10,batch_size=32)"
   ]
  },
  {
   "cell_type": "markdown",
   "metadata": {
    "id": "algw3-VGIj-N"
   },
   "source": [
    "## 6. Evaluate the model\n"
   ]
  },
  {
   "cell_type": "markdown",
   "metadata": {
    "id": "PJ44TJ4gGQUC"
   },
   "source": [
    "### Evaluate the model on test data and print loss and accuracy"
   ]
  },
  {
   "cell_type": "code",
   "execution_count": 38,
   "metadata": {
    "colab": {
     "base_uri": "https://localhost:8080/"
    },
    "id": "ThluFnGNGWh7",
    "outputId": "6756d988-6286-42c7-99b0-cda669c62eac"
   },
   "outputs": [
    {
     "name": "stdout",
     "output_type": "stream",
     "text": [
      "Evaluate on test data\n",
      "1/1 [==============================] - 0s 43ms/step - loss: 0.3325 - accuracy: 0.9032\n",
      "test loss, test acc: [0.33253970742225647, 0.9032257795333862]\n",
      "Generate predictions for 3 samples\n",
      "Predicted 0 Original 1\n",
      "Predicted 1 Original 1\n",
      "Predicted 0 Original 0\n",
      "Predicted 0 Original 0\n",
      "Predicted 1 Original 1\n",
      "Predicted 1 Original 0\n",
      "Predicted 0 Original 0\n",
      "Predicted 0 Original 0\n",
      "Predicted 1 Original 1\n",
      "Predicted 1 Original 1\n"
     ]
    }
   ],
   "source": [
    "print(\"Evaluate on test data\")\n",
    "results = model.evaluate(x_test, y_test, batch_size=128)\n",
    "print(\"test loss, test acc:\", results)\n",
    "\n",
    "# Generate predictions (probabilities -- the output of the last layer)\n",
    "# on new data using `predict`\n",
    "print(\"Generate predictions for 3 samples\")\n",
    "predictions = model.predict(x_test)\n",
    "for i, val in enumerate(predictions[:10]):\n",
    "  print(\"Predicted\",np.argmax(val),\"Original\",np.argmax(y_test[i]))"
   ]
  },
  {
   "cell_type": "code",
   "execution_count": 105,
   "metadata": {
    "id": "fgS3rMRjL98S"
   },
   "outputs": [],
   "source": []
  },
  {
   "cell_type": "markdown",
   "metadata": {
    "id": "hyzKGfaKGapH"
   },
   "source": [
    "### Predict label data of the test data and check confusion matrix"
   ]
  },
  {
   "cell_type": "code",
   "execution_count": 39,
   "metadata": {
    "colab": {
     "base_uri": "https://localhost:8080/"
    },
    "id": "jqlmsPhxGh-K",
    "outputId": "6e0398eb-b98c-43fb-c7a4-d8cbeefce41c"
   },
   "outputs": [
    {
     "data": {
      "text/plain": [
       "array([[32,  4],\n",
       "       [ 2, 24]])"
      ]
     },
     "execution_count": 39,
     "metadata": {
      "tags": []
     },
     "output_type": "execute_result"
    }
   ],
   "source": [
    "from sklearn.metrics import confusion_matrix\n",
    "original=np.argmax(y_test,axis=1)\n",
    "predicted=np.argmax(predictions,axis=1)\n",
    "confusion_matrix(original,predicted)\n"
   ]
  },
  {
   "cell_type": "markdown",
   "metadata": {
    "id": "C3cctwoeGwHa"
   },
   "source": [
    "### Display test images and their predicted label for a few samples"
   ]
  },
  {
   "cell_type": "code",
   "execution_count": 49,
   "metadata": {
    "colab": {
     "base_uri": "https://localhost:8080/",
     "height": 94
    },
    "id": "FvbAyNElHH_G",
    "outputId": "cab3617a-a800-478b-be8f-699bb8dbf916"
   },
   "outputs": [
    {
     "data": {
      "image/png": "[encoded data removed]",
      "text/plain": [
       "<Figure size 720x72 with 10 Axes>"
      ]
     },
     "metadata": {
      "needs_background": "light",
      "tags": []
     },
     "output_type": "display_data"
    }
   ],
   "source": [
    "%matplotlib inline\n",
    "import matplotlib.pyplot as plt\n",
    "import random\n",
    "plt.figure(figsize=(10, 1))\n",
    "for i in range(10):\n",
    "    r=random.randint(1,20)\n",
    "    plt.subplot(1, 10, i+1)\n",
    "    plt.imshow(x_test[r], cmap=\"gray\")\n",
    "    plt.title(np.argmax(predictions[r]))\n",
    "    plt.axis('off')\n",
    "plt.show()"
   ]
  },
  {
   "cell_type": "markdown",
   "metadata": {
    "id": "ZruCtc4GGkVr"
   },
   "source": [
    "### Print following plots\n",
    "1. Plot training accuracy vs validation accuracy\n",
    "2. Plot training loss vs validation loss"
   ]
  },
  {
   "cell_type": "code",
   "execution_count": 50,
   "metadata": {
    "colab": {
     "base_uri": "https://localhost:8080/",
     "height": 591
    },
    "id": "2nf532Q_HWWM",
    "outputId": "620f7441-ea9e-4c7a-b5ee-c1e936530234"
   },
   "outputs": [
    {
     "name": "stdout",
     "output_type": "stream",
     "text": [
      "dict_keys(['loss', 'accuracy', 'val_loss', 'val_accuracy'])\n"
     ]
    },
    {
     "data": {
      "image/png": "[encoded data removed]",
      "text/plain": [
       "<Figure size 432x288 with 1 Axes>"
      ]
     },
     "metadata": {
      "needs_background": "light",
      "tags": []
     },
     "output_type": "display_data"
    },
    {
     "data": {
      "image/png": "[encoded data removed]",
      "text/plain": [
       "<Figure size 432x288 with 1 Axes>"
      ]
     },
     "metadata": {
      "needs_background": "light",
      "tags": []
     },
     "output_type": "display_data"
    }
   ],
   "source": [
    "# list all data in history\n",
    "print(history.history.keys())\n",
    "# summarize history for accuracy\n",
    "plt.plot(history.history['accuracy'])\n",
    "plt.plot(history.history['val_accuracy'])\n",
    "plt.title('model accuracy')\n",
    "plt.ylabel('accuracy')\n",
    "plt.xlabel('epoch')\n",
    "plt.legend(['train', 'test'], loc='upper left')\n",
    "plt.show()\n",
    "# summarize history for loss\n",
    "plt.plot(history.history['loss'])\n",
    "plt.plot(history.history['val_loss'])\n",
    "plt.title('model loss')\n",
    "plt.ylabel('loss')\n",
    "plt.xlabel('epoch')\n",
    "plt.legend(['train', 'test'], loc='upper left')\n",
    "plt.show()"
   ]
  },
  {
   "cell_type": "markdown",
   "metadata": {
    "id": "hH63EB-xGHJq"
   },
   "source": [
    "## 7.  Conclusion and Interpretation"
   ]
  },
  {
   "cell_type": "markdown",
   "metadata": {
    "id": "5ixHI0FcHIMo"
   },
   "source": [
    "### Write your observations and findings"
   ]
  },
  {
   "cell_type": "code",
   "execution_count": null,
   "metadata": {
    "id": "0VXW4zR1GOg6"
   },
   "outputs": [],
   "source": []
  },
  {
   "cell_type": "markdown",
   "metadata": {
    "id": "Mg7tViUA6w5F"
   },
   "source": [
    "- The model did well even without any normalizations or dropouts\n",
    "- Using Adam optimizer helped attain a steep slope in the loss graph"
   ]
  },
  {
   "cell_type": "markdown",
   "metadata": {
    "id": "WnoWVy0GGPs5"
   },
   "source": [
    "## 8. Further Explore"
   ]
  },
  {
   "cell_type": "markdown",
   "metadata": {
    "id": "NKEwRyW9JnCd"
   },
   "source": [
    "### Try changing a few hyperparameters such as number of layers in the network or number of units in a hidden layer or try different activation functions in the hidden layers and see if you get better results than the previous network"
   ]
  },
  {
   "cell_type": "code",
   "execution_count": null,
   "metadata": {
    "id": "OFRVkBdnHbW4"
   },
   "outputs": [],
   "source": []
  }
 ],
 "metadata": {
  "accelerator": "GPU",
  "colab": {
   "collapsed_sections": [],
   "name": "R7 CV with CNN Lab Question Notebook.ipynb",
   "provenance": []
  },
  "kernelspec": {
   "display_name": "Python 3",
   "language": "python",
   "name": "python3"
  },
  "language_info": {
   "codemirror_mode": {
    "name": "ipython",
    "version": 3
   },
   "file_extension": ".py",
   "mimetype": "text/x-python",
   "name": "python",
   "nbconvert_exporter": "python",
   "pygments_lexer": "ipython3",
   "version": "3.8.5"
  },
  "widgets": {
   "application/vnd.jupyter.widget-state+json": {
    "0fa2bf31944e465baf51301ee92cb001": {
     "model_module": "@jupyter-widgets/controls",
     "model_name": "FloatProgressModel",
     "state": {
      "_dom_classes": [],
      "_model_module": "@jupyter-widgets/controls",
      "_model_module_version": "1.5.0",
      "_model_name": "FloatProgressModel",
      "_view_count": null,
      "_view_module": "@jupyter-widgets/controls",
      "_view_module_version": "1.5.0",
      "_view_name": "ProgressView",
      "bar_style": "success",
      "description": "100%",
      "description_tooltip": null,
      "layout": "IPY_MODEL_dc1ec2c280d440bd8480bb2b21071857",
      "max": 121,
      "min": 0,
      "orientation": "horizontal",
      "style": "IPY_MODEL_f6da4635b4134b98bea7180a5021787f",
      "value": 121
     }
    },
    "3e097c3a66ca4de68c7e9dfbd449e0c8": {
     "model_module": "@jupyter-widgets/base",
     "model_name": "LayoutModel",
     "state": {
      "_model_module": "@jupyter-widgets/base",
      "_model_module_version": "1.2.0",
      "_model_name": "LayoutModel",
      "_view_count": null,
      "_view_module": "@jupyter-widgets/base",
      "_view_module_version": "1.2.0",
      "_view_name": "LayoutView",
      "align_content": null,
      "align_items": null,
      "align_self": null,
      "border": null,
      "bottom": null,
      "display": null,
      "flex": null,
      "flex_flow": null,
      "grid_area": null,
      "grid_auto_columns": null,
      "grid_auto_flow": null,
      "grid_auto_rows": null,
      "grid_column": null,
      "grid_gap": null,
      "grid_row": null,
      "grid_template_areas": null,
      "grid_template_columns": null,
      "grid_template_rows": null,
      "height": null,
      "justify_content": null,
      "justify_items": null,
      "left": null,
      "margin": null,
      "max_height": null,
      "max_width": null,
      "min_height": null,
      "min_width": null,
      "object_fit": null,
      "object_position": null,
      "order": null,
      "overflow": null,
      "overflow_x": null,
      "overflow_y": null,
      "padding": null,
      "right": null,
      "top": null,
      "visibility": null,
      "width": null
     }
    },
    "526fed0353984ffebf7ccbe45f860093": {
     "model_module": "@jupyter-widgets/base",
     "model_name": "LayoutModel",
     "state": {
      "_model_module": "@jupyter-widgets/base",
      "_model_module_version": "1.2.0",
      "_model_name": "LayoutModel",
      "_view_count": null,
      "_view_module": "@jupyter-widgets/base",
      "_view_module_version": "1.2.0",
      "_view_name": "LayoutView",
      "align_content": null,
      "align_items": null,
      "align_self": null,
      "border": null,
      "bottom": null,
      "display": null,
      "flex": null,
      "flex_flow": null,
      "grid_area": null,
      "grid_auto_columns": null,
      "grid_auto_flow": null,
      "grid_auto_rows": null,
      "grid_column": null,
      "grid_gap": null,
      "grid_row": null,
      "grid_template_areas": null,
      "grid_template_columns": null,
      "grid_template_rows": null,
      "height": null,
      "justify_content": null,
      "justify_items": null,
      "left": null,
      "margin": null,
      "max_height": null,
      "max_width": null,
      "min_height": null,
      "min_width": null,
      "object_fit": null,
      "object_position": null,
      "order": null,
      "overflow": null,
      "overflow_x": null,
      "overflow_y": null,
      "padding": null,
      "right": null,
      "top": null,
      "visibility": null,
      "width": null
     }
    },
    "539b3472a67144d7b1698b5fe4378ba1": {
     "model_module": "@jupyter-widgets/controls",
     "model_name": "DescriptionStyleModel",
     "state": {
      "_model_module": "@jupyter-widgets/controls",
      "_model_module_version": "1.5.0",
      "_model_name": "DescriptionStyleModel",
      "_view_count": null,
      "_view_module": "@jupyter-widgets/base",
      "_view_module_version": "1.2.0",
      "_view_name": "StyleView",
      "description_width": ""
     }
    },
    "b948157292f14345a65a2943bea3f168": {
     "model_module": "@jupyter-widgets/controls",
     "model_name": "HBoxModel",
     "state": {
      "_dom_classes": [],
      "_model_module": "@jupyter-widgets/controls",
      "_model_module_version": "1.5.0",
      "_model_name": "HBoxModel",
      "_view_count": null,
      "_view_module": "@jupyter-widgets/controls",
      "_view_module_version": "1.5.0",
      "_view_name": "HBoxView",
      "box_style": "",
      "children": [
       "IPY_MODEL_0fa2bf31944e465baf51301ee92cb001",
       "IPY_MODEL_ec0d09e3bc1243beac9e383449a773e6"
      ],
      "layout": "IPY_MODEL_3e097c3a66ca4de68c7e9dfbd449e0c8"
     }
    },
    "dc1ec2c280d440bd8480bb2b21071857": {
     "model_module": "@jupyter-widgets/base",
     "model_name": "LayoutModel",
     "state": {
      "_model_module": "@jupyter-widgets/base",
      "_model_module_version": "1.2.0",
      "_model_name": "LayoutModel",
      "_view_count": null,
      "_view_module": "@jupyter-widgets/base",
      "_view_module_version": "1.2.0",
      "_view_name": "LayoutView",
      "align_content": null,
      "align_items": null,
      "align_self": null,
      "border": null,
      "bottom": null,
      "display": null,
      "flex": null,
      "flex_flow": null,
      "grid_area": null,
      "grid_auto_columns": null,
      "grid_auto_flow": null,
      "grid_auto_rows": null,
      "grid_column": null,
      "grid_gap": null,
      "grid_row": null,
      "grid_template_areas": null,
      "grid_template_columns": null,
      "grid_template_rows": null,
      "height": null,
      "justify_content": null,
      "justify_items": null,
      "left": null,
      "margin": null,
      "max_height": null,
      "max_width": null,
      "min_height": null,
      "min_width": null,
      "object_fit": null,
      "object_position": null,
      "order": null,
      "overflow": null,
      "overflow_x": null,
      "overflow_y": null,
      "padding": null,
      "right": null,
      "top": null,
      "visibility": null,
      "width": null
     }
    },
    "ec0d09e3bc1243beac9e383449a773e6": {
     "model_module": "@jupyter-widgets/controls",
     "model_name": "HTMLModel",
     "state": {
      "_dom_classes": [],
      "_model_module": "@jupyter-widgets/controls",
      "_model_module_version": "1.5.0",
      "_model_name": "HTMLModel",
      "_view_count": null,
      "_view_module": "@jupyter-widgets/controls",
      "_view_module_version": "1.5.0",
      "_view_name": "HTMLView",
      "description": "",
      "description_tooltip": null,
      "layout": "IPY_MODEL_526fed0353984ffebf7ccbe45f860093",
      "placeholder": "​",
      "style": "IPY_MODEL_539b3472a67144d7b1698b5fe4378ba1",
      "value": " 121/121 [00:39&lt;00:00,  3.07it/s]"
     }
    },
    "f6da4635b4134b98bea7180a5021787f": {
     "model_module": "@jupyter-widgets/controls",
     "model_name": "ProgressStyleModel",
     "state": {
      "_model_module": "@jupyter-widgets/controls",
      "_model_module_version": "1.5.0",
      "_model_name": "ProgressStyleModel",
      "_view_count": null,
      "_view_module": "@jupyter-widgets/base",
      "_view_module_version": "1.2.0",
      "_view_name": "StyleView",
      "bar_color": null,
      "description_width": "initial"
     }
    }
   }
  }
 },
 "nbformat": 4,
 "nbformat_minor": 1
}
