{
 "cells": [
  {
   "cell_type": "code",
   "execution_count": 1,
   "metadata": {},
   "outputs": [],
   "source": [
    "import numpy as np\n",
    "import h5py\n",
    "import pandas as pd\n",
    "import matplotlib.pyplot as plt\n",
    "import tensorflow as tf\n",
    "\n",
    "import tensorflow as tf\n",
    "from tensorflow.keras import datasets, layers, models,callbacks\n",
    "import matplotlib.pyplot as plt\n",
    "import numpy as np "
   ]
  },
  {
   "cell_type": "code",
   "execution_count": 3,
   "metadata": {},
   "outputs": [
    {
     "name": "stdout",
     "output_type": "stream",
     "text": [
      "List of Datasets ['X_test', 'X_train', 'X_val', 'y_test', 'y_train', 'y_val']\n"
     ]
    }
   ],
   "source": [
    "with h5py.File('Autonomous_Vehicles_SVHN_single_grey1.h5','r') as hdf:\n",
    "    ls=list(hdf.keys())\n",
    "    print('List of Datasets',ls)\n",
    "    X_train=np.array(hdf.get('X_train'))\n",
    "    X_test=np.array(hdf.get('X_test'))\n",
    "    X_val=np.array(hdf.get('X_val'))\n",
    "    y_train=np.array(hdf.get('y_train'))\n",
    "    y_test=np.array(hdf.get('y_test'))\n",
    "    y_val=np.array(hdf.get('y_val'))"
   ]
  },
  {
   "cell_type": "code",
   "execution_count": 20,
   "metadata": {},
   "outputs": [
    {
     "name": "stdout",
     "output_type": "stream",
     "text": [
      "X_train (42000, 32, 32)\n",
      "X_test (18000, 32, 32)\n",
      "X_val (60000, 32, 32)\n"
     ]
    }
   ],
   "source": [
    "print('X_train',X_train.shape)\n",
    "print('X_test',X_test.shape)\n",
    "print('X_val',X_val.shape)"
   ]
  },
  {
   "cell_type": "markdown",
   "metadata": {},
   "source": [
    "## Visualize Data"
   ]
  },
  {
   "cell_type": "code",
   "execution_count": 24,
   "metadata": {},
   "outputs": [
    {
     "data": {
      "image/png": "[encoded data removed]",
      "text/plain": [
       "<Figure size 432x288 with 1 Axes>"
      ]
     },
     "metadata": {
      "needs_background": "light"
     },
     "output_type": "display_data"
    }
   ],
   "source": [
    "plt.imshow(X_train[1],cmap=plt.cm.binary)\n",
    "plt.show()"
   ]
  },
  {
   "cell_type": "markdown",
   "metadata": {},
   "source": [
    "## Data Preprocessing"
   ]
  },
  {
   "cell_type": "code",
   "execution_count": 5,
   "metadata": {},
   "outputs": [],
   "source": [
    "#Normalize Data\n",
    "X_train=tf.keras.utils.normalize(X_train,axis=1)\n",
    "X_test=tf.keras.utils.normalize(X_test,axis=1)\n",
    "X_val=tf.keras.utils.normalize(X_val,axis=1)"
   ]
  },
  {
   "cell_type": "markdown",
   "metadata": {},
   "source": [
    "## Train Model - ANN"
   ]
  },
  {
   "cell_type": "code",
   "execution_count": 6,
   "metadata": {},
   "outputs": [],
   "source": [
    "#Train Model\n",
    "model=tf.keras.models.Sequential()\n",
    "model.add(tf.keras.layers.Flatten(input_shape=(32,32)))\n",
    "model.add(tf.keras.layers.Dense(512,activation=tf.nn.relu))\n",
    "model.add(tf.keras.layers.Dropout(0.2))\n",
    "model.add(tf.keras.layers.Dense(256,activation='relu'))\n",
    "model.add(tf.keras.layers.Dropout(0.2))\n",
    "model.add(tf.keras.layers.Dense(64,activation='relu'))\n",
    "model.add(tf.keras.layers.Dropout(0.2))\n",
    "model.add(tf.keras.layers.Dense(32,activation='relu'))\n",
    "model.add(tf.keras.layers.Dense(10,activation=tf.nn.softmax))\n"
   ]
  },
  {
   "cell_type": "code",
   "execution_count": 7,
   "metadata": {},
   "outputs": [
    {
     "name": "stdout",
     "output_type": "stream",
     "text": [
      "Model: \"sequential\"\n",
      "_________________________________________________________________\n",
      "Layer (type)                 Output Shape              Param #   \n",
      "=================================================================\n",
      "flatten (Flatten)            (None, 1024)              0         \n",
      "_________________________________________________________________\n",
      "dense (Dense)                (None, 512)               524800    \n",
      "_________________________________________________________________\n",
      "dropout (Dropout)            (None, 512)               0         \n",
      "_________________________________________________________________\n",
      "dense_1 (Dense)              (None, 256)               131328    \n",
      "_________________________________________________________________\n",
      "dropout_1 (Dropout)          (None, 256)               0         \n",
      "_________________________________________________________________\n",
      "dense_2 (Dense)              (None, 64)                16448     \n",
      "_________________________________________________________________\n",
      "dropout_2 (Dropout)          (None, 64)                0         \n",
      "_________________________________________________________________\n",
      "dense_3 (Dense)              (None, 32)                2080      \n",
      "_________________________________________________________________\n",
      "dense_4 (Dense)              (None, 10)                330       \n",
      "=================================================================\n",
      "Total params: 674,986\n",
      "Trainable params: 674,986\n",
      "Non-trainable params: 0\n",
      "_________________________________________________________________\n"
     ]
    }
   ],
   "source": [
    "model.summary()"
   ]
  },
  {
   "cell_type": "code",
   "execution_count": 8,
   "metadata": {},
   "outputs": [],
   "source": [
    "model.compile(optimizer=tf.keras.optimizers.Adam(learning_rate=0.00001),loss='sparse_categorical_crossentropy',metrics=['accuracy'])\n"
   ]
  },
  {
   "cell_type": "code",
   "execution_count": 9,
   "metadata": {},
   "outputs": [],
   "source": [
    "#call backs\n",
    "e_stop=callbacks.EarlyStopping(monitor='val_loss',patience=5,mode='min',restore_best_weights=True,verbose=0)\n",
    "chk_pt=callbacks.ModelCheckpoint('./checkpoint',monitor='val_loss',verbose=0,save_best_only=True,save_freq='epoch')"
   ]
  },
  {
   "cell_type": "code",
   "execution_count": 10,
   "metadata": {},
   "outputs": [
    {
     "name": "stdout",
     "output_type": "stream",
     "text": [
      "Epoch 1/200\n",
      "1313/1313 [==============================] - 10s 7ms/step - loss: 2.3059 - accuracy: 0.1027 - val_loss: 2.3015 - val_accuracy: 0.1130\n",
      "INFO:tensorflow:Assets written to: .\\checkpoint\\assets\n",
      "Epoch 2/200\n",
      "1313/1313 [==============================] - 8s 6ms/step - loss: 2.3016 - accuracy: 0.1089 - val_loss: 2.2983 - val_accuracy: 0.1259\n",
      "INFO:tensorflow:Assets written to: .\\checkpoint\\assets\n",
      "Epoch 3/200\n",
      "1313/1313 [==============================] - 8s 6ms/step - loss: 2.2995 - accuracy: 0.1162 - val_loss: 2.2941 - val_accuracy: 0.1446\n",
      "INFO:tensorflow:Assets written to: .\\checkpoint\\assets\n",
      "Epoch 4/200\n",
      "1313/1313 [==============================] - 8s 6ms/step - loss: 2.2960 - accuracy: 0.1202 - val_loss: 2.2849 - val_accuracy: 0.1786\n",
      "INFO:tensorflow:Assets written to: .\\checkpoint\\assets\n",
      "Epoch 5/200\n",
      "1313/1313 [==============================] - 8s 6ms/step - loss: 2.2879 - accuracy: 0.1382 - val_loss: 2.2696 - val_accuracy: 0.2074\n",
      "INFO:tensorflow:Assets written to: .\\checkpoint\\assets\n",
      "Epoch 6/200\n",
      "1313/1313 [==============================] - 8s 6ms/step - loss: 2.2740 - accuracy: 0.1521 - val_loss: 2.2440 - val_accuracy: 0.2194\n",
      "INFO:tensorflow:Assets written to: .\\checkpoint\\assets\n",
      "Epoch 7/200\n",
      "1313/1313 [==============================] - 8s 6ms/step - loss: 2.2523 - accuracy: 0.1689 - val_loss: 2.2142 - val_accuracy: 0.2370\n",
      "INFO:tensorflow:Assets written to: .\\checkpoint\\assets\n",
      "Epoch 8/200\n",
      "1313/1313 [==============================] - 8s 6ms/step - loss: 2.2263 - accuracy: 0.1804 - val_loss: 2.1829 - val_accuracy: 0.2438\n",
      "INFO:tensorflow:Assets written to: .\\checkpoint\\assets\n",
      "Epoch 9/200\n",
      "1313/1313 [==============================] - 8s 6ms/step - loss: 2.1991 - accuracy: 0.1975 - val_loss: 2.1404 - val_accuracy: 0.2803\n",
      "INFO:tensorflow:Assets written to: .\\checkpoint\\assets\n",
      "Epoch 10/200\n",
      "1313/1313 [==============================] - 8s 6ms/step - loss: 2.1695 - accuracy: 0.2128 - val_loss: 2.0968 - val_accuracy: 0.2862\n",
      "INFO:tensorflow:Assets written to: .\\checkpoint\\assets\n",
      "Epoch 11/200\n",
      "1313/1313 [==============================] - 8s 6ms/step - loss: 2.1273 - accuracy: 0.2397 - val_loss: 2.0500 - val_accuracy: 0.3187\n",
      "INFO:tensorflow:Assets written to: .\\checkpoint\\assets\n",
      "Epoch 12/200\n",
      "1313/1313 [==============================] - 8s 6ms/step - loss: 2.0912 - accuracy: 0.2534 - val_loss: 1.9953 - val_accuracy: 0.3453\n",
      "INFO:tensorflow:Assets written to: .\\checkpoint\\assets\n",
      "Epoch 13/200\n",
      "1313/1313 [==============================] - 8s 6ms/step - loss: 2.0394 - accuracy: 0.2789 - val_loss: 1.9477 - val_accuracy: 0.3657\n",
      "INFO:tensorflow:Assets written to: .\\checkpoint\\assets\n",
      "Epoch 14/200\n",
      "1313/1313 [==============================] - 8s 6ms/step - loss: 2.0046 - accuracy: 0.2964 - val_loss: 1.9027 - val_accuracy: 0.3871\n",
      "INFO:tensorflow:Assets written to: .\\checkpoint\\assets\n",
      "Epoch 15/200\n",
      "1313/1313 [==============================] - 8s 6ms/step - loss: 1.9630 - accuracy: 0.3116 - val_loss: 1.8526 - val_accuracy: 0.4136\n",
      "INFO:tensorflow:Assets written to: .\\checkpoint\\assets\n",
      "Epoch 16/200\n",
      "1313/1313 [==============================] - 8s 6ms/step - loss: 1.9168 - accuracy: 0.3263 - val_loss: 1.8072 - val_accuracy: 0.4254\n",
      "INFO:tensorflow:Assets written to: .\\checkpoint\\assets\n",
      "Epoch 17/200\n",
      "1313/1313 [==============================] - 8s 6ms/step - loss: 1.8759 - accuracy: 0.3499 - val_loss: 1.7705 - val_accuracy: 0.4419\n",
      "INFO:tensorflow:Assets written to: .\\checkpoint\\assets\n",
      "Epoch 18/200\n",
      "1313/1313 [==============================] - 8s 6ms/step - loss: 1.8399 - accuracy: 0.3612 - val_loss: 1.7343 - val_accuracy: 0.4454\n",
      "INFO:tensorflow:Assets written to: .\\checkpoint\\assets\n",
      "Epoch 19/200\n",
      "1313/1313 [==============================] - 8s 6ms/step - loss: 1.8085 - accuracy: 0.3783 - val_loss: 1.6954 - val_accuracy: 0.4678\n",
      "INFO:tensorflow:Assets written to: .\\checkpoint\\assets\n",
      "Epoch 20/200\n",
      "1313/1313 [==============================] - 8s 6ms/step - loss: 1.7801 - accuracy: 0.3844 - val_loss: 1.6611 - val_accuracy: 0.4800\n",
      "INFO:tensorflow:Assets written to: .\\checkpoint\\assets\n",
      "Epoch 21/200\n",
      "1313/1313 [==============================] - 8s 6ms/step - loss: 1.7490 - accuracy: 0.4016 - val_loss: 1.6323 - val_accuracy: 0.4929\n",
      "INFO:tensorflow:Assets written to: .\\checkpoint\\assets\n",
      "Epoch 22/200\n",
      "1313/1313 [==============================] - 8s 6ms/step - loss: 1.7215 - accuracy: 0.4149 - val_loss: 1.6017 - val_accuracy: 0.5037\n",
      "INFO:tensorflow:Assets written to: .\\checkpoint\\assets\n",
      "Epoch 23/200\n",
      "1313/1313 [==============================] - 8s 6ms/step - loss: 1.6999 - accuracy: 0.4227 - val_loss: 1.5747 - val_accuracy: 0.5122\n",
      "INFO:tensorflow:Assets written to: .\\checkpoint\\assets\n",
      "Epoch 24/200\n",
      "1313/1313 [==============================] - 8s 6ms/step - loss: 1.6652 - accuracy: 0.4355 - val_loss: 1.5471 - val_accuracy: 0.5244\n",
      "INFO:tensorflow:Assets written to: .\\checkpoint\\assets\n",
      "Epoch 25/200\n",
      "1313/1313 [==============================] - 8s 6ms/step - loss: 1.6380 - accuracy: 0.4529 - val_loss: 1.5209 - val_accuracy: 0.5367\n",
      "INFO:tensorflow:Assets written to: .\\checkpoint\\assets\n",
      "Epoch 26/200\n",
      "1313/1313 [==============================] - 8s 6ms/step - loss: 1.6228 - accuracy: 0.4594 - val_loss: 1.4977 - val_accuracy: 0.5479\n",
      "INFO:tensorflow:Assets written to: .\\checkpoint\\assets\n",
      "Epoch 27/200\n",
      "1313/1313 [==============================] - 8s 6ms/step - loss: 1.6009 - accuracy: 0.4708 - val_loss: 1.4719 - val_accuracy: 0.5515\n",
      "INFO:tensorflow:Assets written to: .\\checkpoint\\assets\n",
      "Epoch 28/200\n",
      "1313/1313 [==============================] - 8s 6ms/step - loss: 1.5697 - accuracy: 0.4847 - val_loss: 1.4463 - val_accuracy: 0.5619\n",
      "INFO:tensorflow:Assets written to: .\\checkpoint\\assets\n",
      "Epoch 29/200\n",
      "1313/1313 [==============================] - 8s 6ms/step - loss: 1.5478 - accuracy: 0.4909 - val_loss: 1.4236 - val_accuracy: 0.5727\n",
      "INFO:tensorflow:Assets written to: .\\checkpoint\\assets\n",
      "Epoch 30/200\n",
      "1313/1313 [==============================] - 8s 6ms/step - loss: 1.5310 - accuracy: 0.4989 - val_loss: 1.4023 - val_accuracy: 0.5798\n",
      "INFO:tensorflow:Assets written to: .\\checkpoint\\assets\n",
      "Epoch 31/200\n",
      "1313/1313 [==============================] - 8s 6ms/step - loss: 1.5099 - accuracy: 0.5085 - val_loss: 1.3788 - val_accuracy: 0.5878\n",
      "INFO:tensorflow:Assets written to: .\\checkpoint\\assets\n",
      "Epoch 32/200\n",
      "1313/1313 [==============================] - 8s 6ms/step - loss: 1.4973 - accuracy: 0.5174 - val_loss: 1.3617 - val_accuracy: 0.5892\n",
      "INFO:tensorflow:Assets written to: .\\checkpoint\\assets\n",
      "Epoch 33/200\n",
      "1313/1313 [==============================] - 8s 6ms/step - loss: 1.4672 - accuracy: 0.5285 - val_loss: 1.3370 - val_accuracy: 0.5991\n",
      "INFO:tensorflow:Assets written to: .\\checkpoint\\assets\n",
      "Epoch 34/200\n",
      "1313/1313 [==============================] - 8s 6ms/step - loss: 1.4605 - accuracy: 0.5274 - val_loss: 1.3220 - val_accuracy: 0.6044\n",
      "INFO:tensorflow:Assets written to: .\\checkpoint\\assets\n",
      "Epoch 35/200\n",
      "1313/1313 [==============================] - 8s 6ms/step - loss: 1.4380 - accuracy: 0.5383 - val_loss: 1.3048 - val_accuracy: 0.6097\n",
      "INFO:tensorflow:Assets written to: .\\checkpoint\\assets\n",
      "Epoch 36/200\n",
      "1313/1313 [==============================] - 8s 6ms/step - loss: 1.4298 - accuracy: 0.5429 - val_loss: 1.2905 - val_accuracy: 0.6116\n",
      "INFO:tensorflow:Assets written to: .\\checkpoint\\assets\n",
      "Epoch 37/200\n",
      "1313/1313 [==============================] - 8s 6ms/step - loss: 1.3970 - accuracy: 0.5541 - val_loss: 1.2697 - val_accuracy: 0.6220\n",
      "INFO:tensorflow:Assets written to: .\\checkpoint\\assets\n",
      "Epoch 38/200\n",
      "1313/1313 [==============================] - 8s 6ms/step - loss: 1.3921 - accuracy: 0.5566 - val_loss: 1.2580 - val_accuracy: 0.6261\n",
      "INFO:tensorflow:Assets written to: .\\checkpoint\\assets\n",
      "Epoch 39/200\n",
      "1313/1313 [==============================] - 8s 6ms/step - loss: 1.3718 - accuracy: 0.5651 - val_loss: 1.2435 - val_accuracy: 0.6298\n",
      "INFO:tensorflow:Assets written to: .\\checkpoint\\assets\n",
      "Epoch 40/200\n",
      "1313/1313 [==============================] - 8s 6ms/step - loss: 1.3634 - accuracy: 0.5668 - val_loss: 1.2323 - val_accuracy: 0.6325\n",
      "INFO:tensorflow:Assets written to: .\\checkpoint\\assets\n",
      "Epoch 41/200\n",
      "1313/1313 [==============================] - 8s 6ms/step - loss: 1.3548 - accuracy: 0.5680 - val_loss: 1.2158 - val_accuracy: 0.6355\n",
      "INFO:tensorflow:Assets written to: .\\checkpoint\\assets\n"
     ]
    },
    {
     "name": "stdout",
     "output_type": "stream",
     "text": [
      "Epoch 42/200\n",
      "1313/1313 [==============================] - 8s 6ms/step - loss: 1.3285 - accuracy: 0.5804 - val_loss: 1.2042 - val_accuracy: 0.6401\n",
      "INFO:tensorflow:Assets written to: .\\checkpoint\\assets\n",
      "Epoch 43/200\n",
      "1313/1313 [==============================] - 8s 6ms/step - loss: 1.3320 - accuracy: 0.5837 - val_loss: 1.1954 - val_accuracy: 0.6429\n",
      "INFO:tensorflow:Assets written to: .\\checkpoint\\assets\n",
      "Epoch 44/200\n",
      "1313/1313 [==============================] - 8s 6ms/step - loss: 1.3055 - accuracy: 0.5916 - val_loss: 1.1842 - val_accuracy: 0.6457\n",
      "INFO:tensorflow:Assets written to: .\\checkpoint\\assets\n",
      "Epoch 45/200\n",
      "1313/1313 [==============================] - 8s 6ms/step - loss: 1.2982 - accuracy: 0.5908 - val_loss: 1.1675 - val_accuracy: 0.6511\n",
      "INFO:tensorflow:Assets written to: .\\checkpoint\\assets\n",
      "Epoch 46/200\n",
      "1313/1313 [==============================] - 8s 6ms/step - loss: 1.2896 - accuracy: 0.5949 - val_loss: 1.1601 - val_accuracy: 0.6521\n",
      "INFO:tensorflow:Assets written to: .\\checkpoint\\assets\n",
      "Epoch 47/200\n",
      "1313/1313 [==============================] - 8s 6ms/step - loss: 1.2791 - accuracy: 0.5988 - val_loss: 1.1517 - val_accuracy: 0.6557\n",
      "INFO:tensorflow:Assets written to: .\\checkpoint\\assets\n",
      "Epoch 48/200\n",
      "1313/1313 [==============================] - 8s 6ms/step - loss: 1.2712 - accuracy: 0.6070 - val_loss: 1.1357 - val_accuracy: 0.6620\n",
      "INFO:tensorflow:Assets written to: .\\checkpoint\\assets\n",
      "Epoch 49/200\n",
      "1313/1313 [==============================] - 8s 6ms/step - loss: 1.2560 - accuracy: 0.6061 - val_loss: 1.1332 - val_accuracy: 0.6610\n",
      "INFO:tensorflow:Assets written to: .\\checkpoint\\assets\n",
      "Epoch 50/200\n",
      "1313/1313 [==============================] - 8s 6ms/step - loss: 1.2420 - accuracy: 0.6142 - val_loss: 1.1175 - val_accuracy: 0.6666\n",
      "INFO:tensorflow:Assets written to: .\\checkpoint\\assets\n",
      "Epoch 51/200\n",
      "1313/1313 [==============================] - 8s 6ms/step - loss: 1.2317 - accuracy: 0.6187 - val_loss: 1.1063 - val_accuracy: 0.6686\n",
      "INFO:tensorflow:Assets written to: .\\checkpoint\\assets\n",
      "Epoch 52/200\n",
      "1313/1313 [==============================] - 8s 6ms/step - loss: 1.2277 - accuracy: 0.6166 - val_loss: 1.1001 - val_accuracy: 0.6700\n",
      "INFO:tensorflow:Assets written to: .\\checkpoint\\assets\n",
      "Epoch 53/200\n",
      "1313/1313 [==============================] - 8s 6ms/step - loss: 1.2147 - accuracy: 0.6245 - val_loss: 1.0875 - val_accuracy: 0.6744\n",
      "INFO:tensorflow:Assets written to: .\\checkpoint\\assets\n",
      "Epoch 54/200\n",
      "1313/1313 [==============================] - 8s 6ms/step - loss: 1.2069 - accuracy: 0.6231 - val_loss: 1.0823 - val_accuracy: 0.6763\n",
      "INFO:tensorflow:Assets written to: .\\checkpoint\\assets\n",
      "Epoch 55/200\n",
      "1313/1313 [==============================] - 8s 6ms/step - loss: 1.1976 - accuracy: 0.6283 - val_loss: 1.0696 - val_accuracy: 0.6811\n",
      "INFO:tensorflow:Assets written to: .\\checkpoint\\assets\n",
      "Epoch 56/200\n",
      "1313/1313 [==============================] - 8s 6ms/step - loss: 1.1899 - accuracy: 0.6296 - val_loss: 1.0642 - val_accuracy: 0.6814\n",
      "INFO:tensorflow:Assets written to: .\\checkpoint\\assets\n",
      "Epoch 57/200\n",
      "1313/1313 [==============================] - 8s 6ms/step - loss: 1.1838 - accuracy: 0.6335 - val_loss: 1.0583 - val_accuracy: 0.6841\n",
      "INFO:tensorflow:Assets written to: .\\checkpoint\\assets\n",
      "Epoch 58/200\n",
      "1313/1313 [==============================] - 8s 6ms/step - loss: 1.1820 - accuracy: 0.6321 - val_loss: 1.0518 - val_accuracy: 0.6833\n",
      "INFO:tensorflow:Assets written to: .\\checkpoint\\assets\n",
      "Epoch 59/200\n",
      "1313/1313 [==============================] - 8s 6ms/step - loss: 1.1615 - accuracy: 0.6415 - val_loss: 1.0428 - val_accuracy: 0.6873\n",
      "INFO:tensorflow:Assets written to: .\\checkpoint\\assets\n",
      "Epoch 60/200\n",
      "1313/1313 [==============================] - 8s 6ms/step - loss: 1.1593 - accuracy: 0.6410 - val_loss: 1.0310 - val_accuracy: 0.6912\n",
      "INFO:tensorflow:Assets written to: .\\checkpoint\\assets\n",
      "Epoch 61/200\n",
      "1313/1313 [==============================] - 8s 6ms/step - loss: 1.1505 - accuracy: 0.6460 - val_loss: 1.0272 - val_accuracy: 0.6913\n",
      "INFO:tensorflow:Assets written to: .\\checkpoint\\assets\n",
      "Epoch 62/200\n",
      "1313/1313 [==============================] - 8s 6ms/step - loss: 1.1431 - accuracy: 0.6451 - val_loss: 1.0290 - val_accuracy: 0.6898\n",
      "Epoch 63/200\n",
      "1313/1313 [==============================] - 8s 6ms/step - loss: 1.1337 - accuracy: 0.6520 - val_loss: 1.0129 - val_accuracy: 0.6942\n",
      "INFO:tensorflow:Assets written to: .\\checkpoint\\assets\n",
      "Epoch 64/200\n",
      "1313/1313 [==============================] - 8s 6ms/step - loss: 1.1274 - accuracy: 0.6549 - val_loss: 1.0105 - val_accuracy: 0.6972\n",
      "INFO:tensorflow:Assets written to: .\\checkpoint\\assets\n",
      "Epoch 65/200\n",
      "1313/1313 [==============================] - 8s 6ms/step - loss: 1.1207 - accuracy: 0.6535 - val_loss: 1.0019 - val_accuracy: 0.6985\n",
      "INFO:tensorflow:Assets written to: .\\checkpoint\\assets\n",
      "Epoch 66/200\n",
      "1313/1313 [==============================] - 8s 6ms/step - loss: 1.1154 - accuracy: 0.6558 - val_loss: 0.9935 - val_accuracy: 0.6991\n",
      "INFO:tensorflow:Assets written to: .\\checkpoint\\assets\n",
      "Epoch 67/200\n",
      "1313/1313 [==============================] - 8s 6ms/step - loss: 1.1103 - accuracy: 0.6580 - val_loss: 0.9875 - val_accuracy: 0.7027\n",
      "INFO:tensorflow:Assets written to: .\\checkpoint\\assets\n",
      "Epoch 68/200\n",
      "1313/1313 [==============================] - 8s 6ms/step - loss: 1.0954 - accuracy: 0.6632 - val_loss: 0.9849 - val_accuracy: 0.7021\n",
      "INFO:tensorflow:Assets written to: .\\checkpoint\\assets\n",
      "Epoch 69/200\n",
      "1313/1313 [==============================] - 8s 6ms/step - loss: 1.0968 - accuracy: 0.6615 - val_loss: 0.9759 - val_accuracy: 0.7043\n",
      "INFO:tensorflow:Assets written to: .\\checkpoint\\assets\n",
      "Epoch 70/200\n",
      "1313/1313 [==============================] - 8s 6ms/step - loss: 1.0865 - accuracy: 0.6667 - val_loss: 0.9674 - val_accuracy: 0.7082\n",
      "INFO:tensorflow:Assets written to: .\\checkpoint\\assets\n",
      "Epoch 71/200\n",
      "1313/1313 [==============================] - 8s 6ms/step - loss: 1.0915 - accuracy: 0.6647 - val_loss: 0.9612 - val_accuracy: 0.7106\n",
      "INFO:tensorflow:Assets written to: .\\checkpoint\\assets\n",
      "Epoch 72/200\n",
      "1313/1313 [==============================] - 8s 6ms/step - loss: 1.0751 - accuracy: 0.6662 - val_loss: 0.9586 - val_accuracy: 0.7099\n",
      "INFO:tensorflow:Assets written to: .\\checkpoint\\assets\n",
      "Epoch 73/200\n",
      "1313/1313 [==============================] - 8s 6ms/step - loss: 1.0698 - accuracy: 0.6700 - val_loss: 0.9494 - val_accuracy: 0.7143\n",
      "INFO:tensorflow:Assets written to: .\\checkpoint\\assets\n",
      "Epoch 74/200\n",
      "1313/1313 [==============================] - 8s 6ms/step - loss: 1.0647 - accuracy: 0.6707 - val_loss: 0.9425 - val_accuracy: 0.7156\n",
      "INFO:tensorflow:Assets written to: .\\checkpoint\\assets\n",
      "Epoch 75/200\n",
      "1313/1313 [==============================] - 8s 6ms/step - loss: 1.0645 - accuracy: 0.6734 - val_loss: 0.9348 - val_accuracy: 0.7176\n",
      "INFO:tensorflow:Assets written to: .\\checkpoint\\assets\n",
      "Epoch 76/200\n",
      "1313/1313 [==============================] - 8s 6ms/step - loss: 1.0420 - accuracy: 0.6769 - val_loss: 0.9328 - val_accuracy: 0.7190\n",
      "INFO:tensorflow:Assets written to: .\\checkpoint\\assets\n",
      "Epoch 77/200\n",
      "1313/1313 [==============================] - 8s 6ms/step - loss: 1.0484 - accuracy: 0.6786 - val_loss: 0.9303 - val_accuracy: 0.7185\n",
      "INFO:tensorflow:Assets written to: .\\checkpoint\\assets\n",
      "Epoch 78/200\n",
      "1313/1313 [==============================] - 8s 6ms/step - loss: 1.0304 - accuracy: 0.6835 - val_loss: 0.9227 - val_accuracy: 0.7203\n",
      "INFO:tensorflow:Assets written to: .\\checkpoint\\assets\n",
      "Epoch 79/200\n",
      "1313/1313 [==============================] - 8s 6ms/step - loss: 1.0341 - accuracy: 0.6789 - val_loss: 0.9158 - val_accuracy: 0.7253\n",
      "INFO:tensorflow:Assets written to: .\\checkpoint\\assets\n",
      "Epoch 80/200\n",
      "1313/1313 [==============================] - 8s 6ms/step - loss: 1.0231 - accuracy: 0.6864 - val_loss: 0.9104 - val_accuracy: 0.7265\n",
      "INFO:tensorflow:Assets written to: .\\checkpoint\\assets\n",
      "Epoch 81/200\n",
      "1313/1313 [==============================] - 8s 6ms/step - loss: 1.0267 - accuracy: 0.6824 - val_loss: 0.9024 - val_accuracy: 0.7280\n",
      "INFO:tensorflow:Assets written to: .\\checkpoint\\assets\n",
      "Epoch 82/200\n",
      "1313/1313 [==============================] - 8s 6ms/step - loss: 1.0269 - accuracy: 0.6846 - val_loss: 0.9000 - val_accuracy: 0.7282\n",
      "INFO:tensorflow:Assets written to: .\\checkpoint\\assets\n",
      "Epoch 83/200\n"
     ]
    },
    {
     "name": "stdout",
     "output_type": "stream",
     "text": [
      "1313/1313 [==============================] - 8s 6ms/step - loss: 1.0053 - accuracy: 0.6885 - val_loss: 0.8953 - val_accuracy: 0.7302\n",
      "INFO:tensorflow:Assets written to: .\\checkpoint\\assets\n",
      "Epoch 84/200\n",
      "1313/1313 [==============================] - 8s 6ms/step - loss: 1.0110 - accuracy: 0.6900 - val_loss: 0.8875 - val_accuracy: 0.7341\n",
      "INFO:tensorflow:Assets written to: .\\checkpoint\\assets\n",
      "Epoch 85/200\n",
      "1313/1313 [==============================] - 8s 6ms/step - loss: 1.0083 - accuracy: 0.6938 - val_loss: 0.8893 - val_accuracy: 0.7321\n",
      "Epoch 86/200\n",
      "1313/1313 [==============================] - 8s 6ms/step - loss: 1.0009 - accuracy: 0.6926 - val_loss: 0.8912 - val_accuracy: 0.7284\n",
      "Epoch 87/200\n",
      "1313/1313 [==============================] - 8s 6ms/step - loss: 0.9949 - accuracy: 0.6946 - val_loss: 0.8761 - val_accuracy: 0.7361\n",
      "INFO:tensorflow:Assets written to: .\\checkpoint\\assets\n",
      "Epoch 88/200\n",
      "1313/1313 [==============================] - 8s 6ms/step - loss: 0.9882 - accuracy: 0.6990 - val_loss: 0.8716 - val_accuracy: 0.7383\n",
      "INFO:tensorflow:Assets written to: .\\checkpoint\\assets\n",
      "Epoch 89/200\n",
      "1313/1313 [==============================] - 8s 6ms/step - loss: 0.9772 - accuracy: 0.7024 - val_loss: 0.8643 - val_accuracy: 0.7380\n",
      "INFO:tensorflow:Assets written to: .\\checkpoint\\assets\n",
      "Epoch 90/200\n",
      "1313/1313 [==============================] - 8s 6ms/step - loss: 0.9783 - accuracy: 0.6996 - val_loss: 0.8652 - val_accuracy: 0.7406\n",
      "Epoch 91/200\n",
      "1313/1313 [==============================] - 8s 6ms/step - loss: 0.9681 - accuracy: 0.7036 - val_loss: 0.8531 - val_accuracy: 0.7429\n",
      "INFO:tensorflow:Assets written to: .\\checkpoint\\assets\n",
      "Epoch 92/200\n",
      "1313/1313 [==============================] - 8s 6ms/step - loss: 0.9745 - accuracy: 0.7016 - val_loss: 0.8484 - val_accuracy: 0.7430\n",
      "INFO:tensorflow:Assets written to: .\\checkpoint\\assets\n",
      "Epoch 93/200\n",
      "1313/1313 [==============================] - 8s 6ms/step - loss: 0.9485 - accuracy: 0.7077 - val_loss: 0.8416 - val_accuracy: 0.7462\n",
      "INFO:tensorflow:Assets written to: .\\checkpoint\\assets\n",
      "Epoch 94/200\n",
      "1313/1313 [==============================] - 8s 6ms/step - loss: 0.9519 - accuracy: 0.7069 - val_loss: 0.8376 - val_accuracy: 0.7487\n",
      "INFO:tensorflow:Assets written to: .\\checkpoint\\assets\n",
      "Epoch 95/200\n",
      "1313/1313 [==============================] - 8s 6ms/step - loss: 0.9648 - accuracy: 0.7050 - val_loss: 0.8470 - val_accuracy: 0.7456\n",
      "Epoch 96/200\n",
      "1313/1313 [==============================] - 8s 6ms/step - loss: 0.9468 - accuracy: 0.7110 - val_loss: 0.8327 - val_accuracy: 0.7508\n",
      "INFO:tensorflow:Assets written to: .\\checkpoint\\assets\n",
      "Epoch 97/200\n",
      "1313/1313 [==============================] - 8s 6ms/step - loss: 0.9449 - accuracy: 0.7058 - val_loss: 0.8258 - val_accuracy: 0.7495\n",
      "INFO:tensorflow:Assets written to: .\\checkpoint\\assets\n",
      "Epoch 98/200\n",
      "1313/1313 [==============================] - 8s 6ms/step - loss: 0.9369 - accuracy: 0.7122 - val_loss: 0.8281 - val_accuracy: 0.7517\n",
      "Epoch 99/200\n",
      "1313/1313 [==============================] - 8s 6ms/step - loss: 0.9406 - accuracy: 0.7121 - val_loss: 0.8207 - val_accuracy: 0.7514\n",
      "INFO:tensorflow:Assets written to: .\\checkpoint\\assets\n",
      "Epoch 100/200\n",
      "1313/1313 [==============================] - 8s 6ms/step - loss: 0.9246 - accuracy: 0.7163 - val_loss: 0.8130 - val_accuracy: 0.7557\n",
      "INFO:tensorflow:Assets written to: .\\checkpoint\\assets\n",
      "Epoch 101/200\n",
      "1313/1313 [==============================] - 8s 6ms/step - loss: 0.9196 - accuracy: 0.7169 - val_loss: 0.8171 - val_accuracy: 0.7528\n",
      "Epoch 102/200\n",
      "1313/1313 [==============================] - 8s 6ms/step - loss: 0.9131 - accuracy: 0.7169 - val_loss: 0.8102 - val_accuracy: 0.7556\n",
      "INFO:tensorflow:Assets written to: .\\checkpoint\\assets\n",
      "Epoch 103/200\n",
      "1313/1313 [==============================] - 8s 6ms/step - loss: 0.9169 - accuracy: 0.7159 - val_loss: 0.8018 - val_accuracy: 0.7577\n",
      "INFO:tensorflow:Assets written to: .\\checkpoint\\assets\n",
      "Epoch 104/200\n",
      "1313/1313 [==============================] - 8s 6ms/step - loss: 0.9153 - accuracy: 0.7189 - val_loss: 0.7965 - val_accuracy: 0.7606\n",
      "INFO:tensorflow:Assets written to: .\\checkpoint\\assets\n",
      "Epoch 105/200\n",
      "1313/1313 [==============================] - 8s 6ms/step - loss: 0.9061 - accuracy: 0.7193 - val_loss: 0.7971 - val_accuracy: 0.7605\n",
      "Epoch 106/200\n",
      "1313/1313 [==============================] - 8s 6ms/step - loss: 0.8937 - accuracy: 0.7268 - val_loss: 0.7976 - val_accuracy: 0.7599\n",
      "Epoch 107/200\n",
      "1313/1313 [==============================] - 8s 6ms/step - loss: 0.9003 - accuracy: 0.7217 - val_loss: 0.7904 - val_accuracy: 0.7607\n",
      "INFO:tensorflow:Assets written to: .\\checkpoint\\assets\n",
      "Epoch 108/200\n",
      "1313/1313 [==============================] - 8s 6ms/step - loss: 0.8880 - accuracy: 0.7329 - val_loss: 0.7844 - val_accuracy: 0.7635\n",
      "INFO:tensorflow:Assets written to: .\\checkpoint\\assets\n",
      "Epoch 109/200\n",
      "1313/1313 [==============================] - 8s 6ms/step - loss: 0.8919 - accuracy: 0.7271 - val_loss: 0.7896 - val_accuracy: 0.7598\n",
      "Epoch 110/200\n",
      "1313/1313 [==============================] - 8s 6ms/step - loss: 0.8897 - accuracy: 0.7248 - val_loss: 0.7715 - val_accuracy: 0.7674\n",
      "INFO:tensorflow:Assets written to: .\\checkpoint\\assets\n",
      "Epoch 111/200\n",
      "1313/1313 [==============================] - 8s 6ms/step - loss: 0.8794 - accuracy: 0.7307 - val_loss: 0.7725 - val_accuracy: 0.7669\n",
      "Epoch 112/200\n",
      "1313/1313 [==============================] - 8s 6ms/step - loss: 0.8777 - accuracy: 0.7315 - val_loss: 0.7693 - val_accuracy: 0.7678\n",
      "INFO:tensorflow:Assets written to: .\\checkpoint\\assets\n",
      "Epoch 113/200\n",
      "1313/1313 [==============================] - 8s 6ms/step - loss: 0.8703 - accuracy: 0.7326 - val_loss: 0.7600 - val_accuracy: 0.7709\n",
      "INFO:tensorflow:Assets written to: .\\checkpoint\\assets\n",
      "Epoch 114/200\n",
      "1313/1313 [==============================] - 8s 6ms/step - loss: 0.8808 - accuracy: 0.7285 - val_loss: 0.7606 - val_accuracy: 0.7713\n",
      "Epoch 115/200\n",
      "1313/1313 [==============================] - 8s 6ms/step - loss: 0.8752 - accuracy: 0.7287 - val_loss: 0.7592 - val_accuracy: 0.7697\n",
      "INFO:tensorflow:Assets written to: .\\checkpoint\\assets\n",
      "Epoch 116/200\n",
      "1313/1313 [==============================] - 8s 6ms/step - loss: 0.8667 - accuracy: 0.7346 - val_loss: 0.7540 - val_accuracy: 0.7722\n",
      "INFO:tensorflow:Assets written to: .\\checkpoint\\assets\n",
      "Epoch 117/200\n",
      "1313/1313 [==============================] - 8s 6ms/step - loss: 0.8590 - accuracy: 0.7349 - val_loss: 0.7513 - val_accuracy: 0.7745\n",
      "INFO:tensorflow:Assets written to: .\\checkpoint\\assets\n",
      "Epoch 118/200\n",
      "1313/1313 [==============================] - 8s 6ms/step - loss: 0.8665 - accuracy: 0.7344 - val_loss: 0.7460 - val_accuracy: 0.7768\n",
      "INFO:tensorflow:Assets written to: .\\checkpoint\\assets\n",
      "Epoch 119/200\n",
      "1313/1313 [==============================] - 8s 6ms/step - loss: 0.8584 - accuracy: 0.7381 - val_loss: 0.7445 - val_accuracy: 0.7746\n",
      "INFO:tensorflow:Assets written to: .\\checkpoint\\assets\n",
      "Epoch 120/200\n",
      "1313/1313 [==============================] - 8s 6ms/step - loss: 0.8432 - accuracy: 0.7397 - val_loss: 0.7391 - val_accuracy: 0.7758\n",
      "INFO:tensorflow:Assets written to: .\\checkpoint\\assets\n",
      "Epoch 121/200\n",
      "1313/1313 [==============================] - 8s 6ms/step - loss: 0.8476 - accuracy: 0.7406 - val_loss: 0.7333 - val_accuracy: 0.7790\n",
      "INFO:tensorflow:Assets written to: .\\checkpoint\\assets\n",
      "Epoch 122/200\n",
      "1313/1313 [==============================] - 8s 6ms/step - loss: 0.8454 - accuracy: 0.7418 - val_loss: 0.7342 - val_accuracy: 0.7770\n",
      "Epoch 123/200\n",
      "1313/1313 [==============================] - 8s 6ms/step - loss: 0.8350 - accuracy: 0.7427 - val_loss: 0.7335 - val_accuracy: 0.7782\n",
      "Epoch 124/200\n",
      "1313/1313 [==============================] - 8s 6ms/step - loss: 0.8397 - accuracy: 0.7435 - val_loss: 0.7269 - val_accuracy: 0.7817\n",
      "INFO:tensorflow:Assets written to: .\\checkpoint\\assets\n",
      "Epoch 125/200\n",
      "1313/1313 [==============================] - 8s 6ms/step - loss: 0.8296 - accuracy: 0.7452 - val_loss: 0.7228 - val_accuracy: 0.7817\n",
      "INFO:tensorflow:Assets written to: .\\checkpoint\\assets\n",
      "Epoch 126/200\n",
      "1313/1313 [==============================] - 8s 6ms/step - loss: 0.8237 - accuracy: 0.7461 - val_loss: 0.7196 - val_accuracy: 0.7837\n",
      "INFO:tensorflow:Assets written to: .\\checkpoint\\assets\n",
      "Epoch 127/200\n"
     ]
    },
    {
     "name": "stdout",
     "output_type": "stream",
     "text": [
      "1313/1313 [==============================] - 8s 6ms/step - loss: 0.8258 - accuracy: 0.7467 - val_loss: 0.7156 - val_accuracy: 0.7848\n",
      "INFO:tensorflow:Assets written to: .\\checkpoint\\assets\n",
      "Epoch 128/200\n",
      "1313/1313 [==============================] - 8s 6ms/step - loss: 0.8206 - accuracy: 0.7473 - val_loss: 0.7158 - val_accuracy: 0.7840\n",
      "Epoch 129/200\n",
      "1313/1313 [==============================] - 8s 6ms/step - loss: 0.8328 - accuracy: 0.7453 - val_loss: 0.7096 - val_accuracy: 0.7859\n",
      "INFO:tensorflow:Assets written to: .\\checkpoint\\assets\n",
      "Epoch 130/200\n",
      "1313/1313 [==============================] - 8s 6ms/step - loss: 0.8134 - accuracy: 0.7496 - val_loss: 0.7111 - val_accuracy: 0.7857\n",
      "Epoch 131/200\n",
      "1313/1313 [==============================] - 8s 6ms/step - loss: 0.8155 - accuracy: 0.7480 - val_loss: 0.7068 - val_accuracy: 0.7863\n",
      "INFO:tensorflow:Assets written to: .\\checkpoint\\assets\n",
      "Epoch 132/200\n",
      "1313/1313 [==============================] - 8s 6ms/step - loss: 0.8056 - accuracy: 0.7505 - val_loss: 0.7077 - val_accuracy: 0.7850\n",
      "Epoch 133/200\n",
      "1313/1313 [==============================] - 8s 6ms/step - loss: 0.8054 - accuracy: 0.7523 - val_loss: 0.7023 - val_accuracy: 0.7892\n",
      "INFO:tensorflow:Assets written to: .\\checkpoint\\assets\n",
      "Epoch 134/200\n",
      "1313/1313 [==============================] - 8s 6ms/step - loss: 0.8109 - accuracy: 0.7518 - val_loss: 0.7069 - val_accuracy: 0.7882\n",
      "Epoch 135/200\n",
      "1313/1313 [==============================] - 8s 6ms/step - loss: 0.8070 - accuracy: 0.7508 - val_loss: 0.6938 - val_accuracy: 0.7913\n",
      "INFO:tensorflow:Assets written to: .\\checkpoint\\assets\n",
      "Epoch 136/200\n",
      "1313/1313 [==============================] - 8s 6ms/step - loss: 0.8014 - accuracy: 0.7540 - val_loss: 0.6978 - val_accuracy: 0.7881\n",
      "Epoch 137/200\n",
      "1313/1313 [==============================] - 8s 6ms/step - loss: 0.7796 - accuracy: 0.7606 - val_loss: 0.6916 - val_accuracy: 0.7905\n",
      "INFO:tensorflow:Assets written to: .\\checkpoint\\assets\n",
      "Epoch 138/200\n",
      "1313/1313 [==============================] - 8s 6ms/step - loss: 0.7921 - accuracy: 0.7554 - val_loss: 0.6841 - val_accuracy: 0.7948\n",
      "INFO:tensorflow:Assets written to: .\\checkpoint\\assets\n",
      "Epoch 139/200\n",
      "1313/1313 [==============================] - 8s 6ms/step - loss: 0.7868 - accuracy: 0.7603 - val_loss: 0.6801 - val_accuracy: 0.7941\n",
      "INFO:tensorflow:Assets written to: .\\checkpoint\\assets\n",
      "Epoch 140/200\n",
      "1313/1313 [==============================] - 8s 6ms/step - loss: 0.7868 - accuracy: 0.7612 - val_loss: 0.6811 - val_accuracy: 0.7944\n",
      "Epoch 141/200\n",
      "1313/1313 [==============================] - 8s 6ms/step - loss: 0.7917 - accuracy: 0.7566 - val_loss: 0.6806 - val_accuracy: 0.7954\n",
      "Epoch 142/200\n",
      "1313/1313 [==============================] - 8s 6ms/step - loss: 0.7747 - accuracy: 0.7616 - val_loss: 0.6741 - val_accuracy: 0.7970\n",
      "INFO:tensorflow:Assets written to: .\\checkpoint\\assets\n",
      "Epoch 143/200\n",
      "1313/1313 [==============================] - 8s 6ms/step - loss: 0.7752 - accuracy: 0.7619 - val_loss: 0.6744 - val_accuracy: 0.7986\n",
      "Epoch 144/200\n",
      "1313/1313 [==============================] - 8s 6ms/step - loss: 0.7763 - accuracy: 0.7590 - val_loss: 0.6655 - val_accuracy: 0.7979\n",
      "INFO:tensorflow:Assets written to: .\\checkpoint\\assets\n",
      "Epoch 145/200\n",
      "1313/1313 [==============================] - 8s 6ms/step - loss: 0.7684 - accuracy: 0.7643 - val_loss: 0.6714 - val_accuracy: 0.7986\n",
      "Epoch 146/200\n",
      "1313/1313 [==============================] - 8s 6ms/step - loss: 0.7652 - accuracy: 0.7660 - val_loss: 0.6605 - val_accuracy: 0.8010\n",
      "INFO:tensorflow:Assets written to: .\\checkpoint\\assets\n",
      "Epoch 147/200\n",
      "1313/1313 [==============================] - 8s 6ms/step - loss: 0.7713 - accuracy: 0.7619 - val_loss: 0.6620 - val_accuracy: 0.8003\n",
      "Epoch 148/200\n",
      "1313/1313 [==============================] - 8s 6ms/step - loss: 0.7732 - accuracy: 0.7635 - val_loss: 0.6622 - val_accuracy: 0.8001\n",
      "Epoch 149/200\n",
      "1313/1313 [==============================] - 8s 6ms/step - loss: 0.7678 - accuracy: 0.7657 - val_loss: 0.6557 - val_accuracy: 0.8038\n",
      "INFO:tensorflow:Assets written to: .\\checkpoint\\assets\n",
      "Epoch 150/200\n",
      "1313/1313 [==============================] - 8s 6ms/step - loss: 0.7654 - accuracy: 0.7656 - val_loss: 0.6567 - val_accuracy: 0.8022\n",
      "Epoch 151/200\n",
      "1313/1313 [==============================] - 8s 6ms/step - loss: 0.7507 - accuracy: 0.7690 - val_loss: 0.6512 - val_accuracy: 0.8037\n",
      "INFO:tensorflow:Assets written to: .\\checkpoint\\assets\n",
      "Epoch 152/200\n",
      "1313/1313 [==============================] - 8s 6ms/step - loss: 0.7524 - accuracy: 0.7691 - val_loss: 0.6530 - val_accuracy: 0.8024\n",
      "Epoch 153/200\n",
      "1313/1313 [==============================] - 8s 6ms/step - loss: 0.7550 - accuracy: 0.7648 - val_loss: 0.6461 - val_accuracy: 0.8046\n",
      "INFO:tensorflow:Assets written to: .\\checkpoint\\assets\n",
      "Epoch 154/200\n",
      "1313/1313 [==============================] - 8s 6ms/step - loss: 0.7509 - accuracy: 0.7701 - val_loss: 0.6455 - val_accuracy: 0.8036\n",
      "INFO:tensorflow:Assets written to: .\\checkpoint\\assets\n",
      "Epoch 155/200\n",
      "1313/1313 [==============================] - 8s 6ms/step - loss: 0.7468 - accuracy: 0.7716 - val_loss: 0.6429 - val_accuracy: 0.8061\n",
      "INFO:tensorflow:Assets written to: .\\checkpoint\\assets\n",
      "Epoch 156/200\n",
      "1313/1313 [==============================] - 7s 6ms/step - loss: 0.7489 - accuracy: 0.7682 - val_loss: 0.6411 - val_accuracy: 0.8048\n",
      "INFO:tensorflow:Assets written to: .\\checkpoint\\assets\n",
      "Epoch 157/200\n",
      "1313/1313 [==============================] - 8s 6ms/step - loss: 0.7390 - accuracy: 0.7720 - val_loss: 0.6380 - val_accuracy: 0.8085\n",
      "INFO:tensorflow:Assets written to: .\\checkpoint\\assets\n",
      "Epoch 158/200\n",
      "1313/1313 [==============================] - 8s 6ms/step - loss: 0.7256 - accuracy: 0.7782 - val_loss: 0.6369 - val_accuracy: 0.8072\n",
      "INFO:tensorflow:Assets written to: .\\checkpoint\\assets\n",
      "Epoch 159/200\n",
      "1313/1313 [==============================] - 7s 6ms/step - loss: 0.7342 - accuracy: 0.7700 - val_loss: 0.6353 - val_accuracy: 0.8079\n",
      "INFO:tensorflow:Assets written to: .\\checkpoint\\assets\n",
      "Epoch 160/200\n",
      "1313/1313 [==============================] - 8s 6ms/step - loss: 0.7364 - accuracy: 0.7700 - val_loss: 0.6322 - val_accuracy: 0.8106\n",
      "INFO:tensorflow:Assets written to: .\\checkpoint\\assets\n",
      "Epoch 161/200\n",
      "1313/1313 [==============================] - 8s 6ms/step - loss: 0.7292 - accuracy: 0.7749 - val_loss: 0.6332 - val_accuracy: 0.8097\n",
      "Epoch 162/200\n",
      "1313/1313 [==============================] - 8s 6ms/step - loss: 0.7208 - accuracy: 0.7796 - val_loss: 0.6259 - val_accuracy: 0.8112\n",
      "INFO:tensorflow:Assets written to: .\\checkpoint\\assets\n",
      "Epoch 163/200\n",
      "1313/1313 [==============================] - 8s 6ms/step - loss: 0.7293 - accuracy: 0.7750 - val_loss: 0.6281 - val_accuracy: 0.8104\n",
      "Epoch 164/200\n",
      "1313/1313 [==============================] - 8s 6ms/step - loss: 0.7249 - accuracy: 0.7760 - val_loss: 0.6207 - val_accuracy: 0.8138\n",
      "INFO:tensorflow:Assets written to: .\\checkpoint\\assets\n",
      "Epoch 165/200\n",
      "1313/1313 [==============================] - 8s 6ms/step - loss: 0.7096 - accuracy: 0.7826 - val_loss: 0.6218 - val_accuracy: 0.8124\n",
      "Epoch 166/200\n",
      "1313/1313 [==============================] - 8s 6ms/step - loss: 0.7259 - accuracy: 0.7760 - val_loss: 0.6215 - val_accuracy: 0.8115\n",
      "Epoch 167/200\n",
      "1313/1313 [==============================] - 8s 6ms/step - loss: 0.7195 - accuracy: 0.7762 - val_loss: 0.6169 - val_accuracy: 0.8142\n",
      "INFO:tensorflow:Assets written to: .\\checkpoint\\assets\n",
      "Epoch 168/200\n",
      "1313/1313 [==============================] - 8s 6ms/step - loss: 0.7197 - accuracy: 0.7773 - val_loss: 0.6139 - val_accuracy: 0.8139\n",
      "INFO:tensorflow:Assets written to: .\\checkpoint\\assets\n",
      "Epoch 169/200\n",
      "1313/1313 [==============================] - 8s 6ms/step - loss: 0.7222 - accuracy: 0.7753 - val_loss: 0.6107 - val_accuracy: 0.8160\n",
      "INFO:tensorflow:Assets written to: .\\checkpoint\\assets\n",
      "Epoch 170/200\n",
      "1313/1313 [==============================] - 8s 6ms/step - loss: 0.7004 - accuracy: 0.7822 - val_loss: 0.6127 - val_accuracy: 0.8153\n",
      "Epoch 171/200\n",
      "1313/1313 [==============================] - 8s 6ms/step - loss: 0.7119 - accuracy: 0.7815 - val_loss: 0.6137 - val_accuracy: 0.8143\n",
      "Epoch 172/200\n",
      "1313/1313 [==============================] - 8s 6ms/step - loss: 0.6982 - accuracy: 0.7833 - val_loss: 0.6060 - val_accuracy: 0.8167\n",
      "INFO:tensorflow:Assets written to: .\\checkpoint\\assets\n"
     ]
    },
    {
     "name": "stdout",
     "output_type": "stream",
     "text": [
      "Epoch 173/200\n",
      "1313/1313 [==============================] - 8s 6ms/step - loss: 0.6940 - accuracy: 0.7880 - val_loss: 0.6102 - val_accuracy: 0.8158\n",
      "Epoch 174/200\n",
      "1313/1313 [==============================] - 8s 6ms/step - loss: 0.7024 - accuracy: 0.7807 - val_loss: 0.6086 - val_accuracy: 0.8164\n",
      "Epoch 175/200\n",
      "1313/1313 [==============================] - 8s 6ms/step - loss: 0.7001 - accuracy: 0.7868 - val_loss: 0.6021 - val_accuracy: 0.8169\n",
      "INFO:tensorflow:Assets written to: .\\checkpoint\\assets\n",
      "Epoch 176/200\n",
      "1313/1313 [==============================] - 8s 6ms/step - loss: 0.6901 - accuracy: 0.7851 - val_loss: 0.5972 - val_accuracy: 0.8209\n",
      "INFO:tensorflow:Assets written to: .\\checkpoint\\assets\n",
      "Epoch 177/200\n",
      "1313/1313 [==============================] - 8s 6ms/step - loss: 0.6984 - accuracy: 0.7836 - val_loss: 0.5972 - val_accuracy: 0.8194\n",
      "Epoch 178/200\n",
      "1313/1313 [==============================] - 8s 6ms/step - loss: 0.6891 - accuracy: 0.7870 - val_loss: 0.5957 - val_accuracy: 0.8187\n",
      "INFO:tensorflow:Assets written to: .\\checkpoint\\assets\n",
      "Epoch 179/200\n",
      "1313/1313 [==============================] - 8s 6ms/step - loss: 0.6989 - accuracy: 0.7849 - val_loss: 0.5948 - val_accuracy: 0.8197\n",
      "INFO:tensorflow:Assets written to: .\\checkpoint\\assets\n",
      "Epoch 180/200\n",
      "1313/1313 [==============================] - 8s 6ms/step - loss: 0.6905 - accuracy: 0.7884 - val_loss: 0.5948 - val_accuracy: 0.8206\n",
      "INFO:tensorflow:Assets written to: .\\checkpoint\\assets\n",
      "Epoch 181/200\n",
      "1313/1313 [==============================] - 8s 6ms/step - loss: 0.6854 - accuracy: 0.7894 - val_loss: 0.5906 - val_accuracy: 0.8217\n",
      "INFO:tensorflow:Assets written to: .\\checkpoint\\assets\n",
      "Epoch 182/200\n",
      "1313/1313 [==============================] - 8s 6ms/step - loss: 0.6914 - accuracy: 0.7901 - val_loss: 0.5876 - val_accuracy: 0.8226\n",
      "INFO:tensorflow:Assets written to: .\\checkpoint\\assets\n",
      "Epoch 183/200\n",
      "1313/1313 [==============================] - 8s 6ms/step - loss: 0.6855 - accuracy: 0.7871 - val_loss: 0.5860 - val_accuracy: 0.8224\n",
      "INFO:tensorflow:Assets written to: .\\checkpoint\\assets\n",
      "Epoch 184/200\n",
      "1313/1313 [==============================] - 8s 6ms/step - loss: 0.6915 - accuracy: 0.7866 - val_loss: 0.5874 - val_accuracy: 0.8227\n",
      "Epoch 185/200\n",
      "1313/1313 [==============================] - 8s 6ms/step - loss: 0.6836 - accuracy: 0.7893 - val_loss: 0.5824 - val_accuracy: 0.8233\n",
      "INFO:tensorflow:Assets written to: .\\checkpoint\\assets\n",
      "Epoch 186/200\n",
      "1313/1313 [==============================] - 8s 6ms/step - loss: 0.6770 - accuracy: 0.7917 - val_loss: 0.5861 - val_accuracy: 0.8230\n",
      "Epoch 187/200\n",
      "1313/1313 [==============================] - 8s 6ms/step - loss: 0.6767 - accuracy: 0.7908 - val_loss: 0.5878 - val_accuracy: 0.8206\n",
      "Epoch 188/200\n",
      "1313/1313 [==============================] - 8s 6ms/step - loss: 0.6814 - accuracy: 0.7903 - val_loss: 0.5760 - val_accuracy: 0.8265\n",
      "INFO:tensorflow:Assets written to: .\\checkpoint\\assets\n",
      "Epoch 189/200\n",
      "1313/1313 [==============================] - 8s 6ms/step - loss: 0.6928 - accuracy: 0.7876 - val_loss: 0.5781 - val_accuracy: 0.8235\n",
      "Epoch 190/200\n",
      "1313/1313 [==============================] - 8s 6ms/step - loss: 0.6907 - accuracy: 0.7839 - val_loss: 0.5725 - val_accuracy: 0.8262\n",
      "INFO:tensorflow:Assets written to: .\\checkpoint\\assets\n",
      "Epoch 191/200\n",
      "1313/1313 [==============================] - 8s 6ms/step - loss: 0.6680 - accuracy: 0.7933 - val_loss: 0.5727 - val_accuracy: 0.8260\n",
      "Epoch 192/200\n",
      "1313/1313 [==============================] - 8s 6ms/step - loss: 0.6772 - accuracy: 0.7914 - val_loss: 0.5723 - val_accuracy: 0.8278\n",
      "INFO:tensorflow:Assets written to: .\\checkpoint\\assets\n",
      "Epoch 193/200\n",
      "1313/1313 [==============================] - 8s 6ms/step - loss: 0.6685 - accuracy: 0.7919 - val_loss: 0.5680 - val_accuracy: 0.8280\n",
      "INFO:tensorflow:Assets written to: .\\checkpoint\\assets\n",
      "Epoch 194/200\n",
      "1313/1313 [==============================] - 8s 6ms/step - loss: 0.6623 - accuracy: 0.7963 - val_loss: 0.5682 - val_accuracy: 0.8286\n",
      "Epoch 195/200\n",
      "1313/1313 [==============================] - 8s 6ms/step - loss: 0.6595 - accuracy: 0.7936 - val_loss: 0.5683 - val_accuracy: 0.8279\n",
      "Epoch 196/200\n",
      "1313/1313 [==============================] - 8s 6ms/step - loss: 0.6667 - accuracy: 0.7975 - val_loss: 0.5705 - val_accuracy: 0.8278\n",
      "Epoch 197/200\n",
      "1313/1313 [==============================] - 8s 6ms/step - loss: 0.6573 - accuracy: 0.7988 - val_loss: 0.5631 - val_accuracy: 0.8302\n",
      "INFO:tensorflow:Assets written to: .\\checkpoint\\assets\n",
      "Epoch 198/200\n",
      "1313/1313 [==============================] - 8s 6ms/step - loss: 0.6546 - accuracy: 0.7978 - val_loss: 0.5662 - val_accuracy: 0.8289\n",
      "Epoch 199/200\n",
      "1313/1313 [==============================] - 8s 6ms/step - loss: 0.6578 - accuracy: 0.7963 - val_loss: 0.5637 - val_accuracy: 0.8308\n",
      "Epoch 200/200\n",
      "1313/1313 [==============================] - 8s 6ms/step - loss: 0.6413 - accuracy: 0.8032 - val_loss: 0.5602 - val_accuracy: 0.8309\n",
      "INFO:tensorflow:Assets written to: .\\checkpoint\\assets\n"
     ]
    }
   ],
   "source": [
    "history=model.fit(X_train,y_train,epochs=200, verbose=1, validation_data=(X_val,y_val),callbacks=[e_stop,chk_pt])"
   ]
  },
  {
   "cell_type": "code",
   "execution_count": 19,
   "metadata": {},
   "outputs": [],
   "source": [
    "history.history"
   ]
  },
  {
   "cell_type": "markdown",
   "metadata": {},
   "source": [
    "## Plot Data CNN"
   ]
  },
  {
   "cell_type": "code",
   "execution_count": 13,
   "metadata": {},
   "outputs": [
    {
     "data": {
      "image/png": "[encoded data removed]",
      "text/plain": [
       "<Figure size 432x288 with 1 Axes>"
      ]
     },
     "metadata": {
      "needs_background": "light"
     },
     "output_type": "display_data"
    }
   ],
   "source": [
    "# Plot History\n",
    "plt.plot(history.history['accuracy'])\n",
    "plt.title('Model Accuracy')\n",
    "plt.ylabel('Accuracy')\n",
    "plt.xlabel('epoch')\n",
    "plt.show()"
   ]
  },
  {
   "cell_type": "code",
   "execution_count": 18,
   "metadata": {},
   "outputs": [
    {
     "data": {
      "image/png": "[encoded data removed]",
      "text/plain": [
       "<Figure size 432x288 with 1 Axes>"
      ]
     },
     "metadata": {
      "needs_background": "light"
     },
     "output_type": "display_data"
    }
   ],
   "source": [
    "# Plot History\n",
    "plt.plot(history.history['val_loss'])\n",
    "plt.title('Model val_loss')\n",
    "plt.ylabel('val_loss')\n",
    "plt.xlabel('epoch')\n",
    "plt.show()"
   ]
  },
  {
   "cell_type": "markdown",
   "metadata": {},
   "source": [
    "## Train Model CNN"
   ]
  },
  {
   "cell_type": "code",
   "execution_count": 36,
   "metadata": {},
   "outputs": [],
   "source": [
    "# Data Preprocessing for CNN\n",
    "X_train=X_train.reshape(-1,32,32,1)\n",
    "X_test=X_test.reshape(-1,32,32,1)\n",
    "X_val=X_val.reshape(-1,32,32,1)"
   ]
  },
  {
   "cell_type": "code",
   "execution_count": 43,
   "metadata": {},
   "outputs": [],
   "source": [
    "cnn_model=models.Sequential([\n",
    "    #CNN\n",
    "    layers.Conv2D(filters=32, kernel_size=(3, 3), activation='relu', input_shape=(32, 32,1)),\n",
    "    layers.MaxPooling2D((2,2)),\n",
    "\n",
    "    layers.Conv2D(filters=32,kernel_size=(3,3),activation='relu',input_shape=(32,32,1)),\n",
    "    layers.MaxPooling2D((2,2)),\n",
    "    \n",
    "    #Dense\n",
    "    layers.Flatten(),\n",
    "    layers.Dense(64,activation='relu'),\n",
    "    layers.Dense(10,activation='softmax')  \n",
    "])"
   ]
  },
  {
   "cell_type": "code",
   "execution_count": 44,
   "metadata": {},
   "outputs": [
    {
     "name": "stdout",
     "output_type": "stream",
     "text": [
      "Epoch 1/20\n",
      "840/840 [==============================] - 22s 26ms/step - loss: 1.9166 - accuracy: 0.3055 - val_loss: 0.8184 - val_accuracy: 0.7674\n",
      "Epoch 2/20\n",
      "840/840 [==============================] - 22s 26ms/step - loss: 0.7572 - accuracy: 0.7804 - val_loss: 0.6347 - val_accuracy: 0.8227\n",
      "Epoch 3/20\n",
      "840/840 [==============================] - 22s 26ms/step - loss: 0.6032 - accuracy: 0.8282 - val_loss: 0.5731 - val_accuracy: 0.8315\n",
      "Epoch 4/20\n",
      "840/840 [==============================] - 22s 26ms/step - loss: 0.5446 - accuracy: 0.8426 - val_loss: 0.5110 - val_accuracy: 0.8539\n",
      "Epoch 5/20\n",
      "840/840 [==============================] - 22s 26ms/step - loss: 0.5011 - accuracy: 0.8551 - val_loss: 0.4832 - val_accuracy: 0.8621\n",
      "Epoch 6/20\n",
      "840/840 [==============================] - 22s 26ms/step - loss: 0.4614 - accuracy: 0.8658 - val_loss: 0.4446 - val_accuracy: 0.8727\n",
      "Epoch 7/20\n",
      "840/840 [==============================] - 22s 26ms/step - loss: 0.4297 - accuracy: 0.8734 - val_loss: 0.4217 - val_accuracy: 0.8782\n",
      "Epoch 8/20\n",
      "840/840 [==============================] - 22s 26ms/step - loss: 0.4005 - accuracy: 0.8796 - val_loss: 0.4052 - val_accuracy: 0.8817\n",
      "Epoch 9/20\n",
      "840/840 [==============================] - 22s 26ms/step - loss: 0.3822 - accuracy: 0.8864 - val_loss: 0.3851 - val_accuracy: 0.8892\n",
      "Epoch 10/20\n",
      "840/840 [==============================] - 22s 26ms/step - loss: 0.3747 - accuracy: 0.8883 - val_loss: 0.3792 - val_accuracy: 0.8883\n",
      "Epoch 11/20\n",
      "840/840 [==============================] - 22s 27ms/step - loss: 0.3539 - accuracy: 0.8950 - val_loss: 0.3690 - val_accuracy: 0.8911\n",
      "Epoch 12/20\n",
      "840/840 [==============================] - 22s 26ms/step - loss: 0.3398 - accuracy: 0.8971 - val_loss: 0.3533 - val_accuracy: 0.8968\n",
      "Epoch 13/20\n",
      "840/840 [==============================] - 22s 26ms/step - loss: 0.3194 - accuracy: 0.9038 - val_loss: 0.3403 - val_accuracy: 0.9017\n",
      "Epoch 14/20\n",
      "840/840 [==============================] - 22s 26ms/step - loss: 0.3148 - accuracy: 0.9047 - val_loss: 0.3450 - val_accuracy: 0.9003\n",
      "Epoch 15/20\n",
      "840/840 [==============================] - 22s 26ms/step - loss: 0.2941 - accuracy: 0.9122 - val_loss: 0.3280 - val_accuracy: 0.9050\n",
      "Epoch 16/20\n",
      "840/840 [==============================] - 22s 26ms/step - loss: 0.2895 - accuracy: 0.9108 - val_loss: 0.3220 - val_accuracy: 0.9075\n",
      "Epoch 17/20\n",
      "840/840 [==============================] - 23s 27ms/step - loss: 0.2782 - accuracy: 0.9150 - val_loss: 0.3123 - val_accuracy: 0.9110\n",
      "Epoch 18/20\n",
      "840/840 [==============================] - 22s 26ms/step - loss: 0.2625 - accuracy: 0.9208 - val_loss: 0.3201 - val_accuracy: 0.9071\n",
      "Epoch 19/20\n",
      "840/840 [==============================] - 22s 26ms/step - loss: 0.2572 - accuracy: 0.9221 - val_loss: 0.3088 - val_accuracy: 0.9121\n",
      "Epoch 20/20\n",
      "840/840 [==============================] - 23s 27ms/step - loss: 0.2569 - accuracy: 0.9215 - val_loss: 0.3198 - val_accuracy: 0.9072\n"
     ]
    }
   ],
   "source": [
    "cnn_model.compile(optimizer='adam',loss='sparse_categorical_crossentropy',metrics=['accuracy'])\n",
    "cnn_hist=cnn_model.fit(X_train,y_train,epochs=20,batch_size=50, verbose=1, validation_data=(X_val,y_val))"
   ]
  },
  {
   "cell_type": "markdown",
   "metadata": {},
   "source": [
    "## Plot Data"
   ]
  },
  {
   "cell_type": "code",
   "execution_count": 45,
   "metadata": {},
   "outputs": [
    {
     "data": {
      "image/png": "[encoded data removed]",
      "text/plain": [
       "<Figure size 432x288 with 1 Axes>"
      ]
     },
     "metadata": {
      "needs_background": "light"
     },
     "output_type": "display_data"
    }
   ],
   "source": [
    "# Plot History\n",
    "plt.plot(cnn_hist.history['accuracy'])\n",
    "plt.title('Model Accuracy')\n",
    "plt.ylabel('Accuracy')\n",
    "plt.xlabel('epoch')\n",
    "plt.show()"
   ]
  },
  {
   "cell_type": "code",
   "execution_count": 46,
   "metadata": {},
   "outputs": [
    {
     "data": {
      "image/png": "[encoded data removed]",
      "text/plain": [
       "<Figure size 432x288 with 1 Axes>"
      ]
     },
     "metadata": {
      "needs_background": "light"
     },
     "output_type": "display_data"
    }
   ],
   "source": [
    "# Plot History\n",
    "plt.plot(cnn_hist.history['val_loss'])\n",
    "plt.title('Model val_loss')\n",
    "plt.ylabel('val_loss')\n",
    "plt.xlabel('epoch')\n",
    "plt.show()"
   ]
  },
  {
   "cell_type": "markdown",
   "metadata": {},
   "source": [
    "## Observations\n",
    "- The validation loss was stuck and was not improvong with epochs. Fixed this by reducing the learning rate of the optimizer to 0.00001.\n",
    "- The ANN model took 200 epochs to reach 80 % accuracy compared to a CNN model which gave accuracy of 92 % in 20 epochs\n",
    "\n",
    "\n"
   ]
  },
  {
   "cell_type": "code",
   "execution_count": 47,
   "metadata": {},
   "outputs": [],
   "source": [
    "#Predict for random data points\n",
    "def predict_random(i):\n",
    "    y_predict_t=cnn_model.predict(X_test)\n",
    "    y_predict_classes=[np.argmax(element) for element in y_predict_t]\n",
    "    print('y_pred',y_predict_classes[i])\n",
    "    print('y',y_test[i])\n",
    "    plt.imshow(X_test[i],cmap=plt.cm.binary)\n",
    "    plt.show()"
   ]
  },
  {
   "cell_type": "code",
   "execution_count": 50,
   "metadata": {},
   "outputs": [
    {
     "name": "stdout",
     "output_type": "stream",
     "text": [
      "y_pred 7\n",
      "y 7\n"
     ]
    },
    {
     "data": {
      "image/png": "[encoded data removed]",
      "text/plain": [
       "<Figure size 432x288 with 1 Axes>"
      ]
     },
     "metadata": {
      "needs_background": "light"
     },
     "output_type": "display_data"
    }
   ],
   "source": [
    "predict_random((np.random.randint(1000)))"
   ]
  }
 ],
 "metadata": {
  "kernelspec": {
   "display_name": "Python 3",
   "language": "python",
   "name": "python3"
  },
  "language_info": {
   "codemirror_mode": {
    "name": "ipython",
    "version": 3
   },
   "file_extension": ".py",
   "mimetype": "text/x-python",
   "name": "python",
   "nbconvert_exporter": "python",
   "pygments_lexer": "ipython3",
   "version": "3.8.5"
  }
 },
 "nbformat": 4,
 "nbformat_minor": 4
}
