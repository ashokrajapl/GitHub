{
 "cells": [
  {
   "cell_type": "markdown",
   "metadata": {
    "id": "zUZjPnVXGz0Z"
   },
   "source": [
    "# The Iris Dataset\n",
    "The data set consists of 50 samples from each of three species of Iris (Iris setosa, Iris virginica and Iris versicolor). Four features were measured from each sample: the length and the width of the sepals and petals, in centimeters.\n",
    "\n",
    "The dataset contains a set of 150 records under five attributes - petal length, petal width, sepal length, sepal width and species."
   ]
  },
  {
   "cell_type": "markdown",
   "metadata": {
    "id": "RMbmpriavLE9"
   },
   "source": [
    "### Specifying the TensorFlow version\n",
    "Running `import tensorflow` will import the default version (currently 1.x). You can use 2.x by running a cell with the `tensorflow_version` magic **before** you run `import tensorflow`."
   ]
  },
  {
   "cell_type": "code",
   "execution_count": 10,
   "metadata": {
    "id": "fu8bUU__oa7h"
   },
   "outputs": [],
   "source": [
    "%tensorflow_version 2.x"
   ]
  },
  {
   "cell_type": "markdown",
   "metadata": {
    "id": "bLz1Ckvfvn6D"
   },
   "source": [
    "### Import TensorFlow\n",
    "Once you have specified a version via this magic, you can run `import tensorflow` as normal and verify which version was imported as follows:"
   ]
  },
  {
   "cell_type": "code",
   "execution_count": 11,
   "metadata": {
    "colab": {
     "base_uri": "https://localhost:8080/"
    },
    "id": "CWrzVTLOvn6M",
    "outputId": "f84dc0ce-7cf8-4055-b053-b6a5524b8052"
   },
   "outputs": [
    {
     "name": "stdout",
     "output_type": "stream",
     "text": [
      "2.4.1\n"
     ]
    }
   ],
   "source": [
    "import tensorflow as tf\n",
    "print(tf.__version__)"
   ]
  },
  {
   "cell_type": "markdown",
   "metadata": {
    "id": "_uYeJgkNuXNC"
   },
   "source": [
    "### Set random seed"
   ]
  },
  {
   "cell_type": "code",
   "execution_count": 12,
   "metadata": {
    "id": "lcASNsewsfQX"
   },
   "outputs": [],
   "source": [
    "tf.random.set_seed(42)"
   ]
  },
  {
   "cell_type": "markdown",
   "metadata": {
    "id": "5-vVQBBqg7DI"
   },
   "source": [
    "## Question 1"
   ]
  },
  {
   "cell_type": "markdown",
   "metadata": {
    "id": "kE0EDKvQhEIe"
   },
   "source": [
    "### Import dataset\n",
    "- Import iris dataset\n",
    "- Import the dataset using sklearn library"
   ]
  },
  {
   "cell_type": "code",
   "execution_count": 13,
   "metadata": {
    "id": "IOOWpD26Haq3"
   },
   "outputs": [],
   "source": [
    "from sklearn.datasets import load_iris\n",
    "data = load_iris()"
   ]
  },
  {
   "cell_type": "code",
   "execution_count": 7,
   "metadata": {
    "colab": {
     "base_uri": "https://localhost:8080/"
    },
    "id": "DHwwbka2YRRE",
    "outputId": "c51a7657-96f1-43c1-e6dd-9249301d9bf9"
   },
   "outputs": [
    {
     "data": {
      "text/plain": [
       "{'DESCR': '.. _iris_dataset:\\n\\nIris plants dataset\\n--------------------\\n\\n**Data Set Characteristics:**\\n\\n    :Number of Instances: 150 (50 in each of three classes)\\n    :Number of Attributes: 4 numeric, predictive attributes and the class\\n    :Attribute Information:\\n        - sepal length in cm\\n        - sepal width in cm\\n        - petal length in cm\\n        - petal width in cm\\n        - class:\\n                - Iris-Setosa\\n                - Iris-Versicolour\\n                - Iris-Virginica\\n                \\n    :Summary Statistics:\\n\\n    ============== ==== ==== ======= ===== ====================\\n                    Min  Max   Mean    SD   Class Correlation\\n    ============== ==== ==== ======= ===== ====================\\n    sepal length:   4.3  7.9   5.84   0.83    0.7826\\n    sepal width:    2.0  4.4   3.05   0.43   -0.4194\\n    petal length:   1.0  6.9   3.76   1.76    0.9490  (high!)\\n    petal width:    0.1  2.5   1.20   0.76    0.9565  (high!)\\n    ============== ==== ==== ======= ===== ====================\\n\\n    :Missing Attribute Values: None\\n    :Class Distribution: 33.3% for each of 3 classes.\\n    :Creator: R.A. Fisher\\n    :Donor: Michael Marshall (MARSHALL%PLU@io.arc.nasa.gov)\\n    :Date: July, 1988\\n\\nThe famous Iris database, first used by Sir R.A. Fisher. The dataset is taken\\nfrom Fisher\\'s paper. Note that it\\'s the same as in R, but not as in the UCI\\nMachine Learning Repository, which has two wrong data points.\\n\\nThis is perhaps the best known database to be found in the\\npattern recognition literature.  Fisher\\'s paper is a classic in the field and\\nis referenced frequently to this day.  (See Duda & Hart, for example.)  The\\ndata set contains 3 classes of 50 instances each, where each class refers to a\\ntype of iris plant.  One class is linearly separable from the other 2; the\\nlatter are NOT linearly separable from each other.\\n\\n.. topic:: References\\n\\n   - Fisher, R.A. \"The use of multiple measurements in taxonomic problems\"\\n     Annual Eugenics, 7, Part II, 179-188 (1936); also in \"Contributions to\\n     Mathematical Statistics\" (John Wiley, NY, 1950).\\n   - Duda, R.O., & Hart, P.E. (1973) Pattern Classification and Scene Analysis.\\n     (Q327.D83) John Wiley & Sons.  ISBN 0-471-22361-1.  See page 218.\\n   - Dasarathy, B.V. (1980) \"Nosing Around the Neighborhood: A New System\\n     Structure and Classification Rule for Recognition in Partially Exposed\\n     Environments\".  IEEE Transactions on Pattern Analysis and Machine\\n     Intelligence, Vol. PAMI-2, No. 1, 67-71.\\n   - Gates, G.W. (1972) \"The Reduced Nearest Neighbor Rule\".  IEEE Transactions\\n     on Information Theory, May 1972, 431-433.\\n   - See also: 1988 MLC Proceedings, 54-64.  Cheeseman et al\"s AUTOCLASS II\\n     conceptual clustering system finds 3 classes in the data.\\n   - Many, many more ...',\n",
       " 'data': array([[5.1, 3.5, 1.4, 0.2],\n",
       "        [4.9, 3. , 1.4, 0.2],\n",
       "        [4.7, 3.2, 1.3, 0.2],\n",
       "        [4.6, 3.1, 1.5, 0.2],\n",
       "        [5. , 3.6, 1.4, 0.2],\n",
       "        [5.4, 3.9, 1.7, 0.4],\n",
       "        [4.6, 3.4, 1.4, 0.3],\n",
       "        [5. , 3.4, 1.5, 0.2],\n",
       "        [4.4, 2.9, 1.4, 0.2],\n",
       "        [4.9, 3.1, 1.5, 0.1],\n",
       "        [5.4, 3.7, 1.5, 0.2],\n",
       "        [4.8, 3.4, 1.6, 0.2],\n",
       "        [4.8, 3. , 1.4, 0.1],\n",
       "        [4.3, 3. , 1.1, 0.1],\n",
       "        [5.8, 4. , 1.2, 0.2],\n",
       "        [5.7, 4.4, 1.5, 0.4],\n",
       "        [5.4, 3.9, 1.3, 0.4],\n",
       "        [5.1, 3.5, 1.4, 0.3],\n",
       "        [5.7, 3.8, 1.7, 0.3],\n",
       "        [5.1, 3.8, 1.5, 0.3],\n",
       "        [5.4, 3.4, 1.7, 0.2],\n",
       "        [5.1, 3.7, 1.5, 0.4],\n",
       "        [4.6, 3.6, 1. , 0.2],\n",
       "        [5.1, 3.3, 1.7, 0.5],\n",
       "        [4.8, 3.4, 1.9, 0.2],\n",
       "        [5. , 3. , 1.6, 0.2],\n",
       "        [5. , 3.4, 1.6, 0.4],\n",
       "        [5.2, 3.5, 1.5, 0.2],\n",
       "        [5.2, 3.4, 1.4, 0.2],\n",
       "        [4.7, 3.2, 1.6, 0.2],\n",
       "        [4.8, 3.1, 1.6, 0.2],\n",
       "        [5.4, 3.4, 1.5, 0.4],\n",
       "        [5.2, 4.1, 1.5, 0.1],\n",
       "        [5.5, 4.2, 1.4, 0.2],\n",
       "        [4.9, 3.1, 1.5, 0.2],\n",
       "        [5. , 3.2, 1.2, 0.2],\n",
       "        [5.5, 3.5, 1.3, 0.2],\n",
       "        [4.9, 3.6, 1.4, 0.1],\n",
       "        [4.4, 3. , 1.3, 0.2],\n",
       "        [5.1, 3.4, 1.5, 0.2],\n",
       "        [5. , 3.5, 1.3, 0.3],\n",
       "        [4.5, 2.3, 1.3, 0.3],\n",
       "        [4.4, 3.2, 1.3, 0.2],\n",
       "        [5. , 3.5, 1.6, 0.6],\n",
       "        [5.1, 3.8, 1.9, 0.4],\n",
       "        [4.8, 3. , 1.4, 0.3],\n",
       "        [5.1, 3.8, 1.6, 0.2],\n",
       "        [4.6, 3.2, 1.4, 0.2],\n",
       "        [5.3, 3.7, 1.5, 0.2],\n",
       "        [5. , 3.3, 1.4, 0.2],\n",
       "        [7. , 3.2, 4.7, 1.4],\n",
       "        [6.4, 3.2, 4.5, 1.5],\n",
       "        [6.9, 3.1, 4.9, 1.5],\n",
       "        [5.5, 2.3, 4. , 1.3],\n",
       "        [6.5, 2.8, 4.6, 1.5],\n",
       "        [5.7, 2.8, 4.5, 1.3],\n",
       "        [6.3, 3.3, 4.7, 1.6],\n",
       "        [4.9, 2.4, 3.3, 1. ],\n",
       "        [6.6, 2.9, 4.6, 1.3],\n",
       "        [5.2, 2.7, 3.9, 1.4],\n",
       "        [5. , 2. , 3.5, 1. ],\n",
       "        [5.9, 3. , 4.2, 1.5],\n",
       "        [6. , 2.2, 4. , 1. ],\n",
       "        [6.1, 2.9, 4.7, 1.4],\n",
       "        [5.6, 2.9, 3.6, 1.3],\n",
       "        [6.7, 3.1, 4.4, 1.4],\n",
       "        [5.6, 3. , 4.5, 1.5],\n",
       "        [5.8, 2.7, 4.1, 1. ],\n",
       "        [6.2, 2.2, 4.5, 1.5],\n",
       "        [5.6, 2.5, 3.9, 1.1],\n",
       "        [5.9, 3.2, 4.8, 1.8],\n",
       "        [6.1, 2.8, 4. , 1.3],\n",
       "        [6.3, 2.5, 4.9, 1.5],\n",
       "        [6.1, 2.8, 4.7, 1.2],\n",
       "        [6.4, 2.9, 4.3, 1.3],\n",
       "        [6.6, 3. , 4.4, 1.4],\n",
       "        [6.8, 2.8, 4.8, 1.4],\n",
       "        [6.7, 3. , 5. , 1.7],\n",
       "        [6. , 2.9, 4.5, 1.5],\n",
       "        [5.7, 2.6, 3.5, 1. ],\n",
       "        [5.5, 2.4, 3.8, 1.1],\n",
       "        [5.5, 2.4, 3.7, 1. ],\n",
       "        [5.8, 2.7, 3.9, 1.2],\n",
       "        [6. , 2.7, 5.1, 1.6],\n",
       "        [5.4, 3. , 4.5, 1.5],\n",
       "        [6. , 3.4, 4.5, 1.6],\n",
       "        [6.7, 3.1, 4.7, 1.5],\n",
       "        [6.3, 2.3, 4.4, 1.3],\n",
       "        [5.6, 3. , 4.1, 1.3],\n",
       "        [5.5, 2.5, 4. , 1.3],\n",
       "        [5.5, 2.6, 4.4, 1.2],\n",
       "        [6.1, 3. , 4.6, 1.4],\n",
       "        [5.8, 2.6, 4. , 1.2],\n",
       "        [5. , 2.3, 3.3, 1. ],\n",
       "        [5.6, 2.7, 4.2, 1.3],\n",
       "        [5.7, 3. , 4.2, 1.2],\n",
       "        [5.7, 2.9, 4.2, 1.3],\n",
       "        [6.2, 2.9, 4.3, 1.3],\n",
       "        [5.1, 2.5, 3. , 1.1],\n",
       "        [5.7, 2.8, 4.1, 1.3],\n",
       "        [6.3, 3.3, 6. , 2.5],\n",
       "        [5.8, 2.7, 5.1, 1.9],\n",
       "        [7.1, 3. , 5.9, 2.1],\n",
       "        [6.3, 2.9, 5.6, 1.8],\n",
       "        [6.5, 3. , 5.8, 2.2],\n",
       "        [7.6, 3. , 6.6, 2.1],\n",
       "        [4.9, 2.5, 4.5, 1.7],\n",
       "        [7.3, 2.9, 6.3, 1.8],\n",
       "        [6.7, 2.5, 5.8, 1.8],\n",
       "        [7.2, 3.6, 6.1, 2.5],\n",
       "        [6.5, 3.2, 5.1, 2. ],\n",
       "        [6.4, 2.7, 5.3, 1.9],\n",
       "        [6.8, 3. , 5.5, 2.1],\n",
       "        [5.7, 2.5, 5. , 2. ],\n",
       "        [5.8, 2.8, 5.1, 2.4],\n",
       "        [6.4, 3.2, 5.3, 2.3],\n",
       "        [6.5, 3. , 5.5, 1.8],\n",
       "        [7.7, 3.8, 6.7, 2.2],\n",
       "        [7.7, 2.6, 6.9, 2.3],\n",
       "        [6. , 2.2, 5. , 1.5],\n",
       "        [6.9, 3.2, 5.7, 2.3],\n",
       "        [5.6, 2.8, 4.9, 2. ],\n",
       "        [7.7, 2.8, 6.7, 2. ],\n",
       "        [6.3, 2.7, 4.9, 1.8],\n",
       "        [6.7, 3.3, 5.7, 2.1],\n",
       "        [7.2, 3.2, 6. , 1.8],\n",
       "        [6.2, 2.8, 4.8, 1.8],\n",
       "        [6.1, 3. , 4.9, 1.8],\n",
       "        [6.4, 2.8, 5.6, 2.1],\n",
       "        [7.2, 3. , 5.8, 1.6],\n",
       "        [7.4, 2.8, 6.1, 1.9],\n",
       "        [7.9, 3.8, 6.4, 2. ],\n",
       "        [6.4, 2.8, 5.6, 2.2],\n",
       "        [6.3, 2.8, 5.1, 1.5],\n",
       "        [6.1, 2.6, 5.6, 1.4],\n",
       "        [7.7, 3. , 6.1, 2.3],\n",
       "        [6.3, 3.4, 5.6, 2.4],\n",
       "        [6.4, 3.1, 5.5, 1.8],\n",
       "        [6. , 3. , 4.8, 1.8],\n",
       "        [6.9, 3.1, 5.4, 2.1],\n",
       "        [6.7, 3.1, 5.6, 2.4],\n",
       "        [6.9, 3.1, 5.1, 2.3],\n",
       "        [5.8, 2.7, 5.1, 1.9],\n",
       "        [6.8, 3.2, 5.9, 2.3],\n",
       "        [6.7, 3.3, 5.7, 2.5],\n",
       "        [6.7, 3. , 5.2, 2.3],\n",
       "        [6.3, 2.5, 5. , 1.9],\n",
       "        [6.5, 3. , 5.2, 2. ],\n",
       "        [6.2, 3.4, 5.4, 2.3],\n",
       "        [5.9, 3. , 5.1, 1.8]]),\n",
       " 'feature_names': ['sepal length (cm)',\n",
       "  'sepal width (cm)',\n",
       "  'petal length (cm)',\n",
       "  'petal width (cm)'],\n",
       " 'filename': '/usr/local/lib/python3.7/dist-packages/sklearn/datasets/data/iris.csv',\n",
       " 'target': array([0, 0, 0, 0, 0, 0, 0, 0, 0, 0, 0, 0, 0, 0, 0, 0, 0, 0, 0, 0, 0, 0,\n",
       "        0, 0, 0, 0, 0, 0, 0, 0, 0, 0, 0, 0, 0, 0, 0, 0, 0, 0, 0, 0, 0, 0,\n",
       "        0, 0, 0, 0, 0, 0, 1, 1, 1, 1, 1, 1, 1, 1, 1, 1, 1, 1, 1, 1, 1, 1,\n",
       "        1, 1, 1, 1, 1, 1, 1, 1, 1, 1, 1, 1, 1, 1, 1, 1, 1, 1, 1, 1, 1, 1,\n",
       "        1, 1, 1, 1, 1, 1, 1, 1, 1, 1, 1, 1, 2, 2, 2, 2, 2, 2, 2, 2, 2, 2,\n",
       "        2, 2, 2, 2, 2, 2, 2, 2, 2, 2, 2, 2, 2, 2, 2, 2, 2, 2, 2, 2, 2, 2,\n",
       "        2, 2, 2, 2, 2, 2, 2, 2, 2, 2, 2, 2, 2, 2, 2, 2, 2, 2]),\n",
       " 'target_names': array(['setosa', 'versicolor', 'virginica'], dtype='<U10')}"
      ]
     },
     "execution_count": 7,
     "metadata": {
      "tags": []
     },
     "output_type": "execute_result"
    }
   ],
   "source": [
    "data"
   ]
  },
  {
   "cell_type": "markdown",
   "metadata": {
    "id": "ta8YqInTh5v5"
   },
   "source": [
    "## Question 2"
   ]
  },
  {
   "cell_type": "markdown",
   "metadata": {
    "id": "HERt3drbhX0i"
   },
   "source": [
    "### Get features and label from the dataset in separate variable\n",
    "- you can get the features using .data method\n",
    "- you can get the features using .target method"
   ]
  },
  {
   "cell_type": "code",
   "execution_count": 14,
   "metadata": {
    "colab": {
     "base_uri": "https://localhost:8080/",
     "height": 204
    },
    "id": "0cV-_qHAHyvE",
    "outputId": "0afe4ade-c8c1-4eaf-911a-8b69b7a62207"
   },
   "outputs": [
    {
     "data": {
      "text/html": [
       "<div>\n",
       "<style scoped>\n",
       "    .dataframe tbody tr th:only-of-type {\n",
       "        vertical-align: middle;\n",
       "    }\n",
       "\n",
       "    .dataframe tbody tr th {\n",
       "        vertical-align: top;\n",
       "    }\n",
       "\n",
       "    .dataframe thead th {\n",
       "        text-align: right;\n",
       "    }\n",
       "</style>\n",
       "<table border=\"1\" class=\"dataframe\">\n",
       "  <thead>\n",
       "    <tr style=\"text-align: right;\">\n",
       "      <th></th>\n",
       "      <th>sepal length (cm)</th>\n",
       "      <th>sepal width (cm)</th>\n",
       "      <th>petal length (cm)</th>\n",
       "      <th>petal width (cm)</th>\n",
       "      <th>class</th>\n",
       "    </tr>\n",
       "  </thead>\n",
       "  <tbody>\n",
       "    <tr>\n",
       "      <th>0</th>\n",
       "      <td>5.1</td>\n",
       "      <td>3.5</td>\n",
       "      <td>1.4</td>\n",
       "      <td>0.2</td>\n",
       "      <td>0</td>\n",
       "    </tr>\n",
       "    <tr>\n",
       "      <th>1</th>\n",
       "      <td>4.9</td>\n",
       "      <td>3.0</td>\n",
       "      <td>1.4</td>\n",
       "      <td>0.2</td>\n",
       "      <td>0</td>\n",
       "    </tr>\n",
       "    <tr>\n",
       "      <th>2</th>\n",
       "      <td>4.7</td>\n",
       "      <td>3.2</td>\n",
       "      <td>1.3</td>\n",
       "      <td>0.2</td>\n",
       "      <td>0</td>\n",
       "    </tr>\n",
       "    <tr>\n",
       "      <th>3</th>\n",
       "      <td>4.6</td>\n",
       "      <td>3.1</td>\n",
       "      <td>1.5</td>\n",
       "      <td>0.2</td>\n",
       "      <td>0</td>\n",
       "    </tr>\n",
       "    <tr>\n",
       "      <th>4</th>\n",
       "      <td>5.0</td>\n",
       "      <td>3.6</td>\n",
       "      <td>1.4</td>\n",
       "      <td>0.2</td>\n",
       "      <td>0</td>\n",
       "    </tr>\n",
       "  </tbody>\n",
       "</table>\n",
       "</div>"
      ],
      "text/plain": [
       "   sepal length (cm)  sepal width (cm)  ...  petal width (cm)  class\n",
       "0                5.1               3.5  ...               0.2      0\n",
       "1                4.9               3.0  ...               0.2      0\n",
       "2                4.7               3.2  ...               0.2      0\n",
       "3                4.6               3.1  ...               0.2      0\n",
       "4                5.0               3.6  ...               0.2      0\n",
       "\n",
       "[5 rows x 5 columns]"
      ]
     },
     "execution_count": 14,
     "metadata": {
      "tags": []
     },
     "output_type": "execute_result"
    }
   ],
   "source": [
    "import pandas as pd\n",
    "df = pd.DataFrame(data.data, columns=data.feature_names)\n",
    "df['class']=data.target\n",
    "df.head()"
   ]
  },
  {
   "cell_type": "markdown",
   "metadata": {
    "id": "Qg1A2lkUjFak"
   },
   "source": [
    "## Question 3"
   ]
  },
  {
   "cell_type": "markdown",
   "metadata": {
    "id": "3YErwYLCH0N_"
   },
   "source": [
    "### Create train and test data\n",
    "- use train_test_split to get train and test set\n",
    "- set a random_state\n",
    "- test_size: 0.25"
   ]
  },
  {
   "cell_type": "code",
   "execution_count": 15,
   "metadata": {
    "id": "TYKNJL85h7pQ"
   },
   "outputs": [],
   "source": [
    "from sklearn.model_selection import train_test_split\n",
    "X = df.iloc[:,0:4]\n",
    "y = df.iloc[:, 4]"
   ]
  },
  {
   "cell_type": "code",
   "execution_count": 16,
   "metadata": {
    "id": "NILqKYc2pLJC"
   },
   "outputs": [],
   "source": [
    "X_train, X_test, y_train, y_test = train_test_split(X,y, test_size=0.25, random_state = 54)"
   ]
  },
  {
   "cell_type": "code",
   "execution_count": 61,
   "metadata": {
    "colab": {
     "base_uri": "https://localhost:8080/"
    },
    "id": "bRguy_9npMiu",
    "outputId": "1809beb5-c48b-420d-bf77-cb435ce14e39"
   },
   "outputs": [
    {
     "name": "stdout",
     "output_type": "stream",
     "text": [
      "Train shape (112, 4)\n",
      "Test Shape (38, 4)\n",
      "Train class shape (112,)\n",
      "Test class shape (38,)\n"
     ]
    }
   ],
   "source": [
    "# printing the shape of train and test sets\n",
    "\n",
    "print('Train shape',(X_train.shape))\n",
    "print('Test Shape',(X_test.shape))\n",
    "print('Train class shape',(y_train.shape))\n",
    "print('Test class shape',(y_test.shape))"
   ]
  },
  {
   "cell_type": "markdown",
   "metadata": {
    "id": "g0KVP17Ozaix"
   },
   "source": [
    "## Question 4"
   ]
  },
  {
   "cell_type": "markdown",
   "metadata": {
    "id": "SIjqxbhWv1zv"
   },
   "source": [
    "### One-hot encode the labels\n",
    "- convert class vectors (integers) to binary class matrix\n",
    "- convert labels\n",
    "- number of classes: 3\n",
    "- we are doing this to use categorical_crossentropy as loss"
   ]
  },
  {
   "cell_type": "code",
   "execution_count": 18,
   "metadata": {
    "colab": {
     "base_uri": "https://localhost:8080/"
    },
    "id": "R9vv-_gpyLY9",
    "outputId": "1a53f74c-0f29-4a42-ad49-2db83a2968a0"
   },
   "outputs": [
    {
     "data": {
      "text/plain": [
       "array([[1., 0., 0.],\n",
       "       [1., 0., 0.],\n",
       "       [0., 1., 0.],\n",
       "       [0., 0., 1.],\n",
       "       [0., 1., 0.],\n",
       "       [0., 1., 0.],\n",
       "       [1., 0., 0.],\n",
       "       [0., 1., 0.],\n",
       "       [0., 0., 1.],\n",
       "       [1., 0., 0.],\n",
       "       [1., 0., 0.],\n",
       "       [0., 0., 1.],\n",
       "       [0., 0., 1.],\n",
       "       [0., 0., 1.],\n",
       "       [0., 1., 0.],\n",
       "       [0., 1., 0.],\n",
       "       [0., 0., 1.],\n",
       "       [0., 0., 1.],\n",
       "       [1., 0., 0.],\n",
       "       [1., 0., 0.],\n",
       "       [0., 1., 0.],\n",
       "       [0., 0., 1.],\n",
       "       [0., 1., 0.],\n",
       "       [0., 0., 1.],\n",
       "       [0., 0., 1.],\n",
       "       [0., 0., 1.],\n",
       "       [0., 1., 0.],\n",
       "       [1., 0., 0.],\n",
       "       [0., 1., 0.],\n",
       "       [0., 1., 0.],\n",
       "       [1., 0., 0.],\n",
       "       [0., 0., 1.],\n",
       "       [1., 0., 0.],\n",
       "       [0., 1., 0.],\n",
       "       [0., 1., 0.],\n",
       "       [0., 0., 1.],\n",
       "       [0., 0., 1.],\n",
       "       [0., 1., 0.]], dtype=float32)"
      ]
     },
     "execution_count": 18,
     "metadata": {
      "tags": []
     },
     "output_type": "execute_result"
    }
   ],
   "source": [
    "train_y = tf.keras.utils.to_categorical(y_train, num_classes=3)\n",
    "test_y = tf.keras.utils.to_categorical(y_test, num_classes=3)\n",
    "train_y\n",
    "test_y"
   ]
  },
  {
   "cell_type": "markdown",
   "metadata": {
    "id": "ovjLyYzWkO9s"
   },
   "source": [
    "## Question 5"
   ]
  },
  {
   "cell_type": "markdown",
   "metadata": {
    "id": "hbIFzoPNSyYo"
   },
   "source": [
    "### Initialize a sequential model\n",
    "- Define a sequential model"
   ]
  },
  {
   "cell_type": "code",
   "execution_count": 19,
   "metadata": {
    "id": "4FvSbf1UjHtl"
   },
   "outputs": [],
   "source": [
    "model = tf.keras.models.Sequential()"
   ]
  },
  {
   "cell_type": "markdown",
   "metadata": {
    "id": "dGMy999vlacX"
   },
   "source": [
    "## Question 6"
   ]
  },
  {
   "cell_type": "markdown",
   "metadata": {
    "id": "72ibK5Jxm8iL"
   },
   "source": [
    "### Add a layer\n",
    "- Use Dense Layer  with input shape of 4 (according to the feature set) and number of outputs set to 3\n",
    "- Apply Softmax on Dense Layer outputs"
   ]
  },
  {
   "cell_type": "code",
   "execution_count": 21,
   "metadata": {
    "id": "uZKrBNSRm_o9"
   },
   "outputs": [],
   "source": [
    "model.add(tf.keras.layers.Dense(3,input_shape=(4,), activation='softmax'))"
   ]
  },
  {
   "cell_type": "code",
   "execution_count": 22,
   "metadata": {
    "colab": {
     "base_uri": "https://localhost:8080/"
    },
    "id": "Knd3GLtIpeaz",
    "outputId": "98e06f0b-4528-4820-acba-67f3a1603d04"
   },
   "outputs": [
    {
     "name": "stdout",
     "output_type": "stream",
     "text": [
      "Model: \"sequential\"\n",
      "_________________________________________________________________\n",
      "Layer (type)                 Output Shape              Param #   \n",
      "=================================================================\n",
      "dense (Dense)                (None, 3)                 15        \n",
      "_________________________________________________________________\n",
      "dense_1 (Dense)              (None, 3)                 12        \n",
      "=================================================================\n",
      "Total params: 27\n",
      "Trainable params: 27\n",
      "Non-trainable params: 0\n",
      "_________________________________________________________________\n"
     ]
    }
   ],
   "source": [
    "model.summary()"
   ]
  },
  {
   "cell_type": "markdown",
   "metadata": {
    "id": "i4uiTH8plmNX"
   },
   "source": [
    "## Question 7"
   ]
  },
  {
   "cell_type": "markdown",
   "metadata": {
    "id": "yJL8n8vcSyYz"
   },
   "source": [
    "### Compile the model\n",
    "- Use SGD as Optimizer\n",
    "- Use categorical_crossentropy as loss function\n",
    "- Use accuracy as metrics"
   ]
  },
  {
   "cell_type": "code",
   "execution_count": 23,
   "metadata": {
    "id": "Tc_-fjIEk1ve"
   },
   "outputs": [],
   "source": [
    "model.compile(optimizer='sgd', loss='categorical_crossentropy', metrics=['accuracy'])"
   ]
  },
  {
   "cell_type": "markdown",
   "metadata": {
    "id": "sihIGbRll_jT"
   },
   "source": [
    "## Question 8"
   ]
  },
  {
   "cell_type": "markdown",
   "metadata": {
    "id": "54ZZCfNGlu0i"
   },
   "source": [
    "### Summarize the model\n",
    "- Check model layers\n",
    "- Understand number of trainable parameters"
   ]
  },
  {
   "cell_type": "code",
   "execution_count": 24,
   "metadata": {
    "colab": {
     "base_uri": "https://localhost:8080/"
    },
    "id": "elER3F_4ln8n",
    "outputId": "f9747c03-ae5b-4adf-a6fd-6116e50c097d"
   },
   "outputs": [
    {
     "name": "stdout",
     "output_type": "stream",
     "text": [
      "Model: \"sequential\"\n",
      "_________________________________________________________________\n",
      "Layer (type)                 Output Shape              Param #   \n",
      "=================================================================\n",
      "dense (Dense)                (None, 3)                 15        \n",
      "_________________________________________________________________\n",
      "dense_1 (Dense)              (None, 3)                 12        \n",
      "=================================================================\n",
      "Total params: 27\n",
      "Trainable params: 27\n",
      "Non-trainable params: 0\n",
      "_________________________________________________________________\n"
     ]
    }
   ],
   "source": [
    "model.summary()"
   ]
  },
  {
   "cell_type": "markdown",
   "metadata": {
    "id": "2PiP7j3Vmj4p"
   },
   "source": [
    "## Question 9"
   ]
  },
  {
   "cell_type": "markdown",
   "metadata": {
    "id": "rWdbfFCXmCHt"
   },
   "source": [
    "### Fit the model\n",
    "- Give train data as training features and labels\n",
    "- Epochs: 100\n",
    "- Give validation data as testing features and labels"
   ]
  },
  {
   "cell_type": "code",
   "execution_count": 25,
   "metadata": {
    "id": "cO1c-5tjmBVZ"
   },
   "outputs": [],
   "source": [
    "model_checkpoint = tf.keras.callbacks.ModelCheckpoint('lab1.h5', save_best_only=True, monitor='val_accuracy', mode='max', verbose=1)"
   ]
  },
  {
   "cell_type": "code",
   "execution_count": 26,
   "metadata": {
    "colab": {
     "base_uri": "https://localhost:8080/"
    },
    "id": "sZ_P7PN-pt-9",
    "outputId": "b82e822a-1e14-4ae7-cd38-3d33674b9766"
   },
   "outputs": [
    {
     "name": "stdout",
     "output_type": "stream",
     "text": [
      "Epoch 1/200\n",
      "4/4 [==============================] - 3s 64ms/step - loss: 1.1485 - accuracy: 0.3192 - val_loss: 1.1354 - val_accuracy: 0.3684\n",
      "\n",
      "Epoch 00001: val_accuracy improved from -inf to 0.36842, saving model to lab1.h5\n",
      "Epoch 2/200\n",
      "4/4 [==============================] - 0s 12ms/step - loss: 1.1359 - accuracy: 0.3400 - val_loss: 1.1314 - val_accuracy: 0.3684\n",
      "\n",
      "Epoch 00002: val_accuracy did not improve from 0.36842\n",
      "Epoch 3/200\n",
      "4/4 [==============================] - 0s 11ms/step - loss: 1.1540 - accuracy: 0.2817 - val_loss: 1.1272 - val_accuracy: 0.3684\n",
      "\n",
      "Epoch 00003: val_accuracy did not improve from 0.36842\n",
      "Epoch 4/200\n",
      "4/4 [==============================] - 0s 11ms/step - loss: 1.1339 - accuracy: 0.3067 - val_loss: 1.1232 - val_accuracy: 0.3684\n",
      "\n",
      "Epoch 00004: val_accuracy did not improve from 0.36842\n",
      "Epoch 5/200\n",
      "4/4 [==============================] - 0s 11ms/step - loss: 1.1272 - accuracy: 0.3150 - val_loss: 1.1193 - val_accuracy: 0.3684\n",
      "\n",
      "Epoch 00005: val_accuracy did not improve from 0.36842\n",
      "Epoch 6/200\n",
      "4/4 [==============================] - 0s 11ms/step - loss: 1.0923 - accuracy: 0.3640 - val_loss: 1.1147 - val_accuracy: 0.3684\n",
      "\n",
      "Epoch 00006: val_accuracy did not improve from 0.36842\n",
      "Epoch 7/200\n",
      "4/4 [==============================] - 0s 13ms/step - loss: 1.1330 - accuracy: 0.3025 - val_loss: 1.1105 - val_accuracy: 0.3684\n",
      "\n",
      "Epoch 00007: val_accuracy did not improve from 0.36842\n",
      "Epoch 8/200\n",
      "4/4 [==============================] - 0s 11ms/step - loss: 1.1007 - accuracy: 0.3484 - val_loss: 1.1050 - val_accuracy: 0.3684\n",
      "\n",
      "Epoch 00008: val_accuracy did not improve from 0.36842\n",
      "Epoch 9/200\n",
      "4/4 [==============================] - 0s 11ms/step - loss: 1.0921 - accuracy: 0.3223 - val_loss: 1.0991 - val_accuracy: 0.3684\n",
      "\n",
      "Epoch 00009: val_accuracy did not improve from 0.36842\n",
      "Epoch 10/200\n",
      "4/4 [==============================] - 0s 11ms/step - loss: 1.0955 - accuracy: 0.3290 - val_loss: 1.0931 - val_accuracy: 0.3684\n",
      "\n",
      "Epoch 00010: val_accuracy did not improve from 0.36842\n",
      "Epoch 11/200\n",
      "4/4 [==============================] - 0s 11ms/step - loss: 1.0948 - accuracy: 0.3103 - val_loss: 1.0863 - val_accuracy: 0.3684\n",
      "\n",
      "Epoch 00011: val_accuracy did not improve from 0.36842\n",
      "Epoch 12/200\n",
      "4/4 [==============================] - 0s 11ms/step - loss: 1.0746 - accuracy: 0.3430 - val_loss: 1.0789 - val_accuracy: 0.3684\n",
      "\n",
      "Epoch 00012: val_accuracy did not improve from 0.36842\n",
      "Epoch 13/200\n",
      "4/4 [==============================] - 0s 12ms/step - loss: 1.0893 - accuracy: 0.3427 - val_loss: 1.0704 - val_accuracy: 0.5000\n",
      "\n",
      "Epoch 00013: val_accuracy improved from 0.36842 to 0.50000, saving model to lab1.h5\n",
      "Epoch 14/200\n",
      "4/4 [==============================] - 0s 11ms/step - loss: 1.0748 - accuracy: 0.4249 - val_loss: 1.0607 - val_accuracy: 0.5526\n",
      "\n",
      "Epoch 00014: val_accuracy improved from 0.50000 to 0.55263, saving model to lab1.h5\n",
      "Epoch 15/200\n",
      "4/4 [==============================] - 0s 12ms/step - loss: 1.0440 - accuracy: 0.5500 - val_loss: 1.0490 - val_accuracy: 0.6053\n",
      "\n",
      "Epoch 00015: val_accuracy improved from 0.55263 to 0.60526, saving model to lab1.h5\n",
      "Epoch 16/200\n",
      "4/4 [==============================] - 0s 12ms/step - loss: 1.0544 - accuracy: 0.5917 - val_loss: 1.0359 - val_accuracy: 0.6316\n",
      "\n",
      "Epoch 00016: val_accuracy improved from 0.60526 to 0.63158, saving model to lab1.h5\n",
      "Epoch 17/200\n",
      "4/4 [==============================] - 0s 12ms/step - loss: 1.0143 - accuracy: 0.6887 - val_loss: 1.0206 - val_accuracy: 0.6316\n",
      "\n",
      "Epoch 00017: val_accuracy did not improve from 0.63158\n",
      "Epoch 18/200\n",
      "4/4 [==============================] - 0s 11ms/step - loss: 1.0088 - accuracy: 0.6693 - val_loss: 1.0037 - val_accuracy: 0.6316\n",
      "\n",
      "Epoch 00018: val_accuracy did not improve from 0.63158\n",
      "Epoch 19/200\n",
      "4/4 [==============================] - 0s 12ms/step - loss: 0.9936 - accuracy: 0.6704 - val_loss: 0.9862 - val_accuracy: 0.6316\n",
      "\n",
      "Epoch 00019: val_accuracy did not improve from 0.63158\n",
      "Epoch 20/200\n",
      "4/4 [==============================] - 0s 11ms/step - loss: 0.9624 - accuracy: 0.7121 - val_loss: 0.9675 - val_accuracy: 0.6316\n",
      "\n",
      "Epoch 00020: val_accuracy did not improve from 0.63158\n",
      "Epoch 21/200\n",
      "4/4 [==============================] - 0s 12ms/step - loss: 0.9516 - accuracy: 0.6902 - val_loss: 0.9494 - val_accuracy: 0.6316\n",
      "\n",
      "Epoch 00021: val_accuracy did not improve from 0.63158\n",
      "Epoch 22/200\n",
      "4/4 [==============================] - 0s 13ms/step - loss: 0.9278 - accuracy: 0.7089 - val_loss: 0.9327 - val_accuracy: 0.6316\n",
      "\n",
      "Epoch 00022: val_accuracy did not improve from 0.63158\n",
      "Epoch 23/200\n",
      "4/4 [==============================] - 0s 12ms/step - loss: 0.9163 - accuracy: 0.7037 - val_loss: 0.9180 - val_accuracy: 0.6316\n",
      "\n",
      "Epoch 00023: val_accuracy did not improve from 0.63158\n",
      "Epoch 24/200\n",
      "4/4 [==============================] - 0s 14ms/step - loss: 0.9163 - accuracy: 0.6485 - val_loss: 0.9059 - val_accuracy: 0.6316\n",
      "\n",
      "Epoch 00024: val_accuracy did not improve from 0.63158\n",
      "Epoch 25/200\n",
      "4/4 [==============================] - 0s 12ms/step - loss: 0.9001 - accuracy: 0.6621 - val_loss: 0.8950 - val_accuracy: 0.6316\n",
      "\n",
      "Epoch 00025: val_accuracy did not improve from 0.63158\n",
      "Epoch 26/200\n",
      "4/4 [==============================] - 0s 12ms/step - loss: 0.8834 - accuracy: 0.6927 - val_loss: 0.8855 - val_accuracy: 0.6316\n",
      "\n",
      "Epoch 00026: val_accuracy did not improve from 0.63158\n",
      "Epoch 27/200\n",
      "4/4 [==============================] - 0s 12ms/step - loss: 0.8715 - accuracy: 0.7125 - val_loss: 0.8771 - val_accuracy: 0.6316\n",
      "\n",
      "Epoch 00027: val_accuracy did not improve from 0.63158\n",
      "Epoch 28/200\n",
      "4/4 [==============================] - 0s 11ms/step - loss: 0.8651 - accuracy: 0.6984 - val_loss: 0.8694 - val_accuracy: 0.6316\n",
      "\n",
      "Epoch 00028: val_accuracy did not improve from 0.63158\n",
      "Epoch 29/200\n",
      "4/4 [==============================] - 0s 13ms/step - loss: 0.8559 - accuracy: 0.7025 - val_loss: 0.8628 - val_accuracy: 0.6579\n",
      "\n",
      "Epoch 00029: val_accuracy improved from 0.63158 to 0.65789, saving model to lab1.h5\n",
      "Epoch 30/200\n",
      "4/4 [==============================] - 0s 12ms/step - loss: 0.8529 - accuracy: 0.7119 - val_loss: 0.8570 - val_accuracy: 0.6579\n",
      "\n",
      "Epoch 00030: val_accuracy did not improve from 0.65789\n",
      "Epoch 31/200\n",
      "4/4 [==============================] - 0s 13ms/step - loss: 0.8401 - accuracy: 0.7098 - val_loss: 0.8519 - val_accuracy: 0.6579\n",
      "\n",
      "Epoch 00031: val_accuracy did not improve from 0.65789\n",
      "Epoch 32/200\n",
      "4/4 [==============================] - 0s 11ms/step - loss: 0.8447 - accuracy: 0.7025 - val_loss: 0.8472 - val_accuracy: 0.6579\n",
      "\n",
      "Epoch 00032: val_accuracy did not improve from 0.65789\n",
      "Epoch 33/200\n",
      "4/4 [==============================] - 0s 12ms/step - loss: 0.8400 - accuracy: 0.6973 - val_loss: 0.8429 - val_accuracy: 0.6842\n",
      "\n",
      "Epoch 00033: val_accuracy improved from 0.65789 to 0.68421, saving model to lab1.h5\n",
      "Epoch 34/200\n",
      "4/4 [==============================] - 0s 11ms/step - loss: 0.8328 - accuracy: 0.7330 - val_loss: 0.8390 - val_accuracy: 0.6842\n",
      "\n",
      "Epoch 00034: val_accuracy did not improve from 0.68421\n",
      "Epoch 35/200\n",
      "4/4 [==============================] - 0s 11ms/step - loss: 0.8171 - accuracy: 0.7476 - val_loss: 0.8354 - val_accuracy: 0.7105\n",
      "\n",
      "Epoch 00035: val_accuracy improved from 0.68421 to 0.71053, saving model to lab1.h5\n",
      "Epoch 36/200\n",
      "4/4 [==============================] - 0s 11ms/step - loss: 0.8264 - accuracy: 0.7185 - val_loss: 0.8320 - val_accuracy: 0.7105\n",
      "\n",
      "Epoch 00036: val_accuracy did not improve from 0.71053\n",
      "Epoch 37/200\n",
      "4/4 [==============================] - 0s 11ms/step - loss: 0.8237 - accuracy: 0.6976 - val_loss: 0.8288 - val_accuracy: 0.7105\n",
      "\n",
      "Epoch 00037: val_accuracy did not improve from 0.71053\n",
      "Epoch 38/200\n",
      "4/4 [==============================] - 0s 12ms/step - loss: 0.8179 - accuracy: 0.7195 - val_loss: 0.8257 - val_accuracy: 0.7105\n",
      "\n",
      "Epoch 00038: val_accuracy did not improve from 0.71053\n",
      "Epoch 39/200\n",
      "4/4 [==============================] - 0s 13ms/step - loss: 0.8146 - accuracy: 0.7382 - val_loss: 0.8228 - val_accuracy: 0.7368\n",
      "\n",
      "Epoch 00039: val_accuracy improved from 0.71053 to 0.73684, saving model to lab1.h5\n",
      "Epoch 40/200\n",
      "4/4 [==============================] - 0s 12ms/step - loss: 0.8113 - accuracy: 0.7153 - val_loss: 0.8201 - val_accuracy: 0.7368\n",
      "\n",
      "Epoch 00040: val_accuracy did not improve from 0.73684\n",
      "Epoch 41/200\n",
      "4/4 [==============================] - 0s 11ms/step - loss: 0.8079 - accuracy: 0.7043 - val_loss: 0.8175 - val_accuracy: 0.7632\n",
      "\n",
      "Epoch 00041: val_accuracy improved from 0.73684 to 0.76316, saving model to lab1.h5\n",
      "Epoch 42/200\n",
      "4/4 [==============================] - 0s 12ms/step - loss: 0.8090 - accuracy: 0.7174 - val_loss: 0.8150 - val_accuracy: 0.7632\n",
      "\n",
      "Epoch 00042: val_accuracy did not improve from 0.76316\n",
      "Epoch 43/200\n",
      "4/4 [==============================] - 0s 12ms/step - loss: 0.7999 - accuracy: 0.6970 - val_loss: 0.8124 - val_accuracy: 0.7368\n",
      "\n",
      "Epoch 00043: val_accuracy did not improve from 0.76316\n",
      "Epoch 44/200\n",
      "4/4 [==============================] - 0s 11ms/step - loss: 0.8073 - accuracy: 0.6987 - val_loss: 0.8100 - val_accuracy: 0.7368\n",
      "\n",
      "Epoch 00044: val_accuracy did not improve from 0.76316\n",
      "Epoch 45/200\n",
      "4/4 [==============================] - 0s 12ms/step - loss: 0.7933 - accuracy: 0.7320 - val_loss: 0.8077 - val_accuracy: 0.7368\n",
      "\n",
      "Epoch 00045: val_accuracy did not improve from 0.76316\n",
      "Epoch 46/200\n",
      "4/4 [==============================] - 0s 11ms/step - loss: 0.7989 - accuracy: 0.6841 - val_loss: 0.8054 - val_accuracy: 0.7368\n",
      "\n",
      "Epoch 00046: val_accuracy did not improve from 0.76316\n",
      "Epoch 47/200\n",
      "4/4 [==============================] - 0s 13ms/step - loss: 0.7895 - accuracy: 0.7299 - val_loss: 0.8032 - val_accuracy: 0.7368\n",
      "\n",
      "Epoch 00047: val_accuracy did not improve from 0.76316\n",
      "Epoch 48/200\n",
      "4/4 [==============================] - 0s 12ms/step - loss: 0.7794 - accuracy: 0.7382 - val_loss: 0.8011 - val_accuracy: 0.7368\n",
      "\n",
      "Epoch 00048: val_accuracy did not improve from 0.76316\n",
      "Epoch 49/200\n",
      "4/4 [==============================] - 0s 13ms/step - loss: 0.7767 - accuracy: 0.7393 - val_loss: 0.7990 - val_accuracy: 0.7368\n",
      "\n",
      "Epoch 00049: val_accuracy did not improve from 0.76316\n",
      "Epoch 50/200\n",
      "4/4 [==============================] - 0s 11ms/step - loss: 0.7789 - accuracy: 0.7330 - val_loss: 0.7970 - val_accuracy: 0.7368\n",
      "\n",
      "Epoch 00050: val_accuracy did not improve from 0.76316\n",
      "Epoch 51/200\n",
      "4/4 [==============================] - 0s 12ms/step - loss: 0.7989 - accuracy: 0.6810 - val_loss: 0.7952 - val_accuracy: 0.7368\n",
      "\n",
      "Epoch 00051: val_accuracy did not improve from 0.76316\n",
      "Epoch 52/200\n",
      "4/4 [==============================] - 0s 13ms/step - loss: 0.7839 - accuracy: 0.7247 - val_loss: 0.7932 - val_accuracy: 0.7368\n",
      "\n",
      "Epoch 00052: val_accuracy did not improve from 0.76316\n",
      "Epoch 53/200\n",
      "4/4 [==============================] - 0s 11ms/step - loss: 0.7750 - accuracy: 0.7174 - val_loss: 0.7912 - val_accuracy: 0.7368\n",
      "\n",
      "Epoch 00053: val_accuracy did not improve from 0.76316\n",
      "Epoch 54/200\n",
      "4/4 [==============================] - 0s 11ms/step - loss: 0.7617 - accuracy: 0.7487 - val_loss: 0.7893 - val_accuracy: 0.7368\n",
      "\n",
      "Epoch 00054: val_accuracy did not improve from 0.76316\n",
      "Epoch 55/200\n",
      "4/4 [==============================] - 0s 11ms/step - loss: 0.7847 - accuracy: 0.6857 - val_loss: 0.7876 - val_accuracy: 0.7368\n",
      "\n",
      "Epoch 00055: val_accuracy did not improve from 0.76316\n",
      "Epoch 56/200\n",
      "4/4 [==============================] - 0s 11ms/step - loss: 0.7622 - accuracy: 0.7237 - val_loss: 0.7857 - val_accuracy: 0.7368\n",
      "\n",
      "Epoch 00056: val_accuracy did not improve from 0.76316\n",
      "Epoch 57/200\n",
      "4/4 [==============================] - 0s 11ms/step - loss: 0.7539 - accuracy: 0.7836 - val_loss: 0.7840 - val_accuracy: 0.7368\n",
      "\n",
      "Epoch 00057: val_accuracy did not improve from 0.76316\n",
      "Epoch 58/200\n",
      "4/4 [==============================] - 0s 13ms/step - loss: 0.7682 - accuracy: 0.6862 - val_loss: 0.7823 - val_accuracy: 0.7368\n",
      "\n",
      "Epoch 00058: val_accuracy did not improve from 0.76316\n",
      "Epoch 59/200\n",
      "4/4 [==============================] - 0s 12ms/step - loss: 0.7605 - accuracy: 0.7226 - val_loss: 0.7806 - val_accuracy: 0.7368\n",
      "\n",
      "Epoch 00059: val_accuracy did not improve from 0.76316\n",
      "Epoch 60/200\n",
      "4/4 [==============================] - 0s 11ms/step - loss: 0.7514 - accuracy: 0.7580 - val_loss: 0.7789 - val_accuracy: 0.7368\n",
      "\n",
      "Epoch 00060: val_accuracy did not improve from 0.76316\n",
      "Epoch 61/200\n",
      "4/4 [==============================] - 0s 12ms/step - loss: 0.7455 - accuracy: 0.7362 - val_loss: 0.7771 - val_accuracy: 0.7105\n",
      "\n",
      "Epoch 00061: val_accuracy did not improve from 0.76316\n",
      "Epoch 62/200\n",
      "4/4 [==============================] - 0s 11ms/step - loss: 0.7579 - accuracy: 0.6982 - val_loss: 0.7755 - val_accuracy: 0.7105\n",
      "\n",
      "Epoch 00062: val_accuracy did not improve from 0.76316\n",
      "Epoch 63/200\n",
      "4/4 [==============================] - 0s 13ms/step - loss: 0.7597 - accuracy: 0.6993 - val_loss: 0.7739 - val_accuracy: 0.7105\n",
      "\n",
      "Epoch 00063: val_accuracy did not improve from 0.76316\n",
      "Epoch 64/200\n",
      "4/4 [==============================] - 0s 12ms/step - loss: 0.7347 - accuracy: 0.7174 - val_loss: 0.7723 - val_accuracy: 0.6842\n",
      "\n",
      "Epoch 00064: val_accuracy did not improve from 0.76316\n",
      "Epoch 65/200\n",
      "4/4 [==============================] - 0s 11ms/step - loss: 0.7531 - accuracy: 0.6957 - val_loss: 0.7707 - val_accuracy: 0.6842\n",
      "\n",
      "Epoch 00065: val_accuracy did not improve from 0.76316\n",
      "Epoch 66/200\n",
      "4/4 [==============================] - 0s 12ms/step - loss: 0.7531 - accuracy: 0.6926 - val_loss: 0.7691 - val_accuracy: 0.6842\n",
      "\n",
      "Epoch 00066: val_accuracy did not improve from 0.76316\n",
      "Epoch 67/200\n",
      "4/4 [==============================] - 0s 11ms/step - loss: 0.7528 - accuracy: 0.7155 - val_loss: 0.7677 - val_accuracy: 0.6842\n",
      "\n",
      "Epoch 00067: val_accuracy did not improve from 0.76316\n",
      "Epoch 68/200\n",
      "4/4 [==============================] - 0s 11ms/step - loss: 0.7418 - accuracy: 0.7030 - val_loss: 0.7662 - val_accuracy: 0.6842\n",
      "\n",
      "Epoch 00068: val_accuracy did not improve from 0.76316\n",
      "Epoch 69/200\n",
      "4/4 [==============================] - 0s 12ms/step - loss: 0.7336 - accuracy: 0.7384 - val_loss: 0.7647 - val_accuracy: 0.6842\n",
      "\n",
      "Epoch 00069: val_accuracy did not improve from 0.76316\n",
      "Epoch 70/200\n",
      "4/4 [==============================] - 0s 15ms/step - loss: 0.7344 - accuracy: 0.7144 - val_loss: 0.7633 - val_accuracy: 0.6842\n",
      "\n",
      "Epoch 00070: val_accuracy did not improve from 0.76316\n",
      "Epoch 71/200\n",
      "4/4 [==============================] - 0s 11ms/step - loss: 0.7331 - accuracy: 0.7353 - val_loss: 0.7618 - val_accuracy: 0.6842\n",
      "\n",
      "Epoch 00071: val_accuracy did not improve from 0.76316\n",
      "Epoch 72/200\n",
      "4/4 [==============================] - 0s 12ms/step - loss: 0.7454 - accuracy: 0.6946 - val_loss: 0.7605 - val_accuracy: 0.6842\n",
      "\n",
      "Epoch 00072: val_accuracy did not improve from 0.76316\n",
      "Epoch 73/200\n",
      "4/4 [==============================] - 0s 12ms/step - loss: 0.7413 - accuracy: 0.7009 - val_loss: 0.7590 - val_accuracy: 0.6842\n",
      "\n",
      "Epoch 00073: val_accuracy did not improve from 0.76316\n",
      "Epoch 74/200\n",
      "4/4 [==============================] - 0s 11ms/step - loss: 0.7267 - accuracy: 0.7144 - val_loss: 0.7576 - val_accuracy: 0.6842\n",
      "\n",
      "Epoch 00074: val_accuracy did not improve from 0.76316\n",
      "Epoch 75/200\n",
      "4/4 [==============================] - 0s 11ms/step - loss: 0.7360 - accuracy: 0.6853 - val_loss: 0.7563 - val_accuracy: 0.6842\n",
      "\n",
      "Epoch 00075: val_accuracy did not improve from 0.76316\n",
      "Epoch 76/200\n",
      "4/4 [==============================] - 0s 11ms/step - loss: 0.7242 - accuracy: 0.7071 - val_loss: 0.7549 - val_accuracy: 0.6842\n",
      "\n",
      "Epoch 00076: val_accuracy did not improve from 0.76316\n",
      "Epoch 77/200\n",
      "4/4 [==============================] - 0s 11ms/step - loss: 0.7212 - accuracy: 0.7155 - val_loss: 0.7535 - val_accuracy: 0.6842\n",
      "\n",
      "Epoch 00077: val_accuracy did not improve from 0.76316\n",
      "Epoch 78/200\n",
      "4/4 [==============================] - 0s 11ms/step - loss: 0.7301 - accuracy: 0.7144 - val_loss: 0.7522 - val_accuracy: 0.6842\n",
      "\n",
      "Epoch 00078: val_accuracy did not improve from 0.76316\n",
      "Epoch 79/200\n",
      "4/4 [==============================] - 0s 14ms/step - loss: 0.7141 - accuracy: 0.7374 - val_loss: 0.7510 - val_accuracy: 0.7105\n",
      "\n",
      "Epoch 00079: val_accuracy did not improve from 0.76316\n",
      "Epoch 80/200\n",
      "4/4 [==============================] - 0s 12ms/step - loss: 0.7149 - accuracy: 0.7222 - val_loss: 0.7495 - val_accuracy: 0.6842\n",
      "\n",
      "Epoch 00080: val_accuracy did not improve from 0.76316\n",
      "Epoch 81/200\n",
      "4/4 [==============================] - 0s 11ms/step - loss: 0.7099 - accuracy: 0.7207 - val_loss: 0.7483 - val_accuracy: 0.6842\n",
      "\n",
      "Epoch 00081: val_accuracy did not improve from 0.76316\n",
      "Epoch 82/200\n",
      "4/4 [==============================] - 0s 12ms/step - loss: 0.7028 - accuracy: 0.7176 - val_loss: 0.7468 - val_accuracy: 0.6842\n",
      "\n",
      "Epoch 00082: val_accuracy did not improve from 0.76316\n",
      "Epoch 83/200\n",
      "4/4 [==============================] - 0s 12ms/step - loss: 0.7159 - accuracy: 0.7155 - val_loss: 0.7456 - val_accuracy: 0.6842\n",
      "\n",
      "Epoch 00083: val_accuracy did not improve from 0.76316\n",
      "Epoch 84/200\n",
      "4/4 [==============================] - 0s 11ms/step - loss: 0.7064 - accuracy: 0.7259 - val_loss: 0.7443 - val_accuracy: 0.6842\n",
      "\n",
      "Epoch 00084: val_accuracy did not improve from 0.76316\n",
      "Epoch 85/200\n",
      "4/4 [==============================] - 0s 11ms/step - loss: 0.6968 - accuracy: 0.7290 - val_loss: 0.7430 - val_accuracy: 0.6842\n",
      "\n",
      "Epoch 00085: val_accuracy did not improve from 0.76316\n",
      "Epoch 86/200\n",
      "4/4 [==============================] - 0s 11ms/step - loss: 0.7005 - accuracy: 0.7269 - val_loss: 0.7418 - val_accuracy: 0.6842\n",
      "\n",
      "Epoch 00086: val_accuracy did not improve from 0.76316\n",
      "Epoch 87/200\n",
      "4/4 [==============================] - 0s 13ms/step - loss: 0.7100 - accuracy: 0.7134 - val_loss: 0.7405 - val_accuracy: 0.6842\n",
      "\n",
      "Epoch 00087: val_accuracy did not improve from 0.76316\n",
      "Epoch 88/200\n",
      "4/4 [==============================] - 0s 13ms/step - loss: 0.7154 - accuracy: 0.7363 - val_loss: 0.7393 - val_accuracy: 0.6842\n",
      "\n",
      "Epoch 00088: val_accuracy did not improve from 0.76316\n",
      "Epoch 89/200\n",
      "4/4 [==============================] - 0s 13ms/step - loss: 0.7145 - accuracy: 0.6780 - val_loss: 0.7380 - val_accuracy: 0.6842\n",
      "\n",
      "Epoch 00089: val_accuracy did not improve from 0.76316\n",
      "Epoch 90/200\n",
      "4/4 [==============================] - 0s 14ms/step - loss: 0.6961 - accuracy: 0.7113 - val_loss: 0.7368 - val_accuracy: 0.6842\n",
      "\n",
      "Epoch 00090: val_accuracy did not improve from 0.76316\n",
      "Epoch 91/200\n",
      "4/4 [==============================] - 0s 12ms/step - loss: 0.7077 - accuracy: 0.7019 - val_loss: 0.7356 - val_accuracy: 0.6842\n",
      "\n",
      "Epoch 00091: val_accuracy did not improve from 0.76316\n",
      "Epoch 92/200\n",
      "4/4 [==============================] - 0s 15ms/step - loss: 0.7114 - accuracy: 0.6749 - val_loss: 0.7344 - val_accuracy: 0.6842\n",
      "\n",
      "Epoch 00092: val_accuracy did not improve from 0.76316\n",
      "Epoch 93/200\n",
      "4/4 [==============================] - 0s 13ms/step - loss: 0.7029 - accuracy: 0.6967 - val_loss: 0.7331 - val_accuracy: 0.6842\n",
      "\n",
      "Epoch 00093: val_accuracy did not improve from 0.76316\n",
      "Epoch 94/200\n",
      "4/4 [==============================] - 0s 12ms/step - loss: 0.6960 - accuracy: 0.7051 - val_loss: 0.7320 - val_accuracy: 0.6842\n",
      "\n",
      "Epoch 00094: val_accuracy did not improve from 0.76316\n",
      "Epoch 95/200\n",
      "4/4 [==============================] - 0s 11ms/step - loss: 0.6947 - accuracy: 0.7238 - val_loss: 0.7309 - val_accuracy: 0.6842\n",
      "\n",
      "Epoch 00095: val_accuracy did not improve from 0.76316\n",
      "Epoch 96/200\n",
      "4/4 [==============================] - 0s 12ms/step - loss: 0.6915 - accuracy: 0.7113 - val_loss: 0.7297 - val_accuracy: 0.6842\n",
      "\n",
      "Epoch 00096: val_accuracy did not improve from 0.76316\n",
      "Epoch 97/200\n",
      "4/4 [==============================] - 0s 12ms/step - loss: 0.7124 - accuracy: 0.6905 - val_loss: 0.7287 - val_accuracy: 0.6842\n",
      "\n",
      "Epoch 00097: val_accuracy did not improve from 0.76316\n",
      "Epoch 98/200\n",
      "4/4 [==============================] - 0s 12ms/step - loss: 0.6826 - accuracy: 0.7519 - val_loss: 0.7275 - val_accuracy: 0.6842\n",
      "\n",
      "Epoch 00098: val_accuracy did not improve from 0.76316\n",
      "Epoch 99/200\n",
      "4/4 [==============================] - 0s 13ms/step - loss: 0.6955 - accuracy: 0.7228 - val_loss: 0.7264 - val_accuracy: 0.6842\n",
      "\n",
      "Epoch 00099: val_accuracy did not improve from 0.76316\n",
      "Epoch 100/200\n",
      "4/4 [==============================] - 0s 12ms/step - loss: 0.6957 - accuracy: 0.6749 - val_loss: 0.7253 - val_accuracy: 0.6842\n",
      "\n",
      "Epoch 00100: val_accuracy did not improve from 0.76316\n",
      "Epoch 101/200\n",
      "4/4 [==============================] - 0s 11ms/step - loss: 0.6957 - accuracy: 0.6999 - val_loss: 0.7242 - val_accuracy: 0.6842\n",
      "\n",
      "Epoch 00101: val_accuracy did not improve from 0.76316\n",
      "Epoch 102/200\n",
      "4/4 [==============================] - 0s 13ms/step - loss: 0.7020 - accuracy: 0.6821 - val_loss: 0.7231 - val_accuracy: 0.6579\n",
      "\n",
      "Epoch 00102: val_accuracy did not improve from 0.76316\n",
      "Epoch 103/200\n",
      "4/4 [==============================] - 0s 13ms/step - loss: 0.6689 - accuracy: 0.7217 - val_loss: 0.7219 - val_accuracy: 0.6316\n",
      "\n",
      "Epoch 00103: val_accuracy did not improve from 0.76316\n",
      "Epoch 104/200\n",
      "4/4 [==============================] - 0s 12ms/step - loss: 0.6888 - accuracy: 0.6827 - val_loss: 0.7209 - val_accuracy: 0.6316\n",
      "\n",
      "Epoch 00104: val_accuracy did not improve from 0.76316\n",
      "Epoch 105/200\n",
      "4/4 [==============================] - 0s 12ms/step - loss: 0.6788 - accuracy: 0.6946 - val_loss: 0.7198 - val_accuracy: 0.6316\n",
      "\n",
      "Epoch 00105: val_accuracy did not improve from 0.76316\n",
      "Epoch 106/200\n",
      "4/4 [==============================] - 0s 12ms/step - loss: 0.6910 - accuracy: 0.6827 - val_loss: 0.7188 - val_accuracy: 0.6579\n",
      "\n",
      "Epoch 00106: val_accuracy did not improve from 0.76316\n",
      "Epoch 107/200\n",
      "4/4 [==============================] - 0s 12ms/step - loss: 0.6726 - accuracy: 0.7223 - val_loss: 0.7177 - val_accuracy: 0.6579\n",
      "\n",
      "Epoch 00107: val_accuracy did not improve from 0.76316\n",
      "Epoch 108/200\n",
      "4/4 [==============================] - 0s 12ms/step - loss: 0.6861 - accuracy: 0.6894 - val_loss: 0.7167 - val_accuracy: 0.6579\n",
      "\n",
      "Epoch 00108: val_accuracy did not improve from 0.76316\n",
      "Epoch 109/200\n",
      "4/4 [==============================] - 0s 14ms/step - loss: 0.6841 - accuracy: 0.6717 - val_loss: 0.7157 - val_accuracy: 0.6579\n",
      "\n",
      "Epoch 00109: val_accuracy did not improve from 0.76316\n",
      "Epoch 110/200\n",
      "4/4 [==============================] - 0s 12ms/step - loss: 0.6562 - accuracy: 0.7415 - val_loss: 0.7147 - val_accuracy: 0.6579\n",
      "\n",
      "Epoch 00110: val_accuracy did not improve from 0.76316\n",
      "Epoch 111/200\n",
      "4/4 [==============================] - 0s 11ms/step - loss: 0.6978 - accuracy: 0.6561 - val_loss: 0.7138 - val_accuracy: 0.6579\n",
      "\n",
      "Epoch 00111: val_accuracy did not improve from 0.76316\n",
      "Epoch 112/200\n",
      "4/4 [==============================] - 0s 11ms/step - loss: 0.6730 - accuracy: 0.7030 - val_loss: 0.7127 - val_accuracy: 0.6316\n",
      "\n",
      "Epoch 00112: val_accuracy did not improve from 0.76316\n",
      "Epoch 113/200\n",
      "4/4 [==============================] - 0s 12ms/step - loss: 0.6977 - accuracy: 0.6821 - val_loss: 0.7118 - val_accuracy: 0.6316\n",
      "\n",
      "Epoch 00113: val_accuracy did not improve from 0.76316\n",
      "Epoch 114/200\n",
      "4/4 [==============================] - 0s 12ms/step - loss: 0.6787 - accuracy: 0.6932 - val_loss: 0.7108 - val_accuracy: 0.6579\n",
      "\n",
      "Epoch 00114: val_accuracy did not improve from 0.76316\n",
      "Epoch 115/200\n",
      "4/4 [==============================] - 0s 14ms/step - loss: 0.6943 - accuracy: 0.6644 - val_loss: 0.7098 - val_accuracy: 0.6316\n",
      "\n",
      "Epoch 00115: val_accuracy did not improve from 0.76316\n",
      "Epoch 116/200\n",
      "4/4 [==============================] - 0s 12ms/step - loss: 0.6777 - accuracy: 0.7004 - val_loss: 0.7089 - val_accuracy: 0.6316\n",
      "\n",
      "Epoch 00116: val_accuracy did not improve from 0.76316\n",
      "Epoch 117/200\n",
      "4/4 [==============================] - 0s 11ms/step - loss: 0.6669 - accuracy: 0.6973 - val_loss: 0.7079 - val_accuracy: 0.6316\n",
      "\n",
      "Epoch 00117: val_accuracy did not improve from 0.76316\n",
      "Epoch 118/200\n",
      "4/4 [==============================] - 0s 12ms/step - loss: 0.6718 - accuracy: 0.7140 - val_loss: 0.7070 - val_accuracy: 0.6579\n",
      "\n",
      "Epoch 00118: val_accuracy did not improve from 0.76316\n",
      "Epoch 119/200\n",
      "4/4 [==============================] - 0s 14ms/step - loss: 0.6806 - accuracy: 0.7109 - val_loss: 0.7060 - val_accuracy: 0.6579\n",
      "\n",
      "Epoch 00119: val_accuracy did not improve from 0.76316\n",
      "Epoch 120/200\n",
      "4/4 [==============================] - 0s 12ms/step - loss: 0.6514 - accuracy: 0.7113 - val_loss: 0.7050 - val_accuracy: 0.6579\n",
      "\n",
      "Epoch 00120: val_accuracy did not improve from 0.76316\n",
      "Epoch 121/200\n",
      "4/4 [==============================] - 0s 12ms/step - loss: 0.6670 - accuracy: 0.6946 - val_loss: 0.7041 - val_accuracy: 0.6579\n",
      "\n",
      "Epoch 00121: val_accuracy did not improve from 0.76316\n",
      "Epoch 122/200\n",
      "4/4 [==============================] - 0s 11ms/step - loss: 0.6685 - accuracy: 0.6905 - val_loss: 0.7032 - val_accuracy: 0.6579\n",
      "\n",
      "Epoch 00122: val_accuracy did not improve from 0.76316\n",
      "Epoch 123/200\n",
      "4/4 [==============================] - 0s 12ms/step - loss: 0.6428 - accuracy: 0.7394 - val_loss: 0.7022 - val_accuracy: 0.6579\n",
      "\n",
      "Epoch 00123: val_accuracy did not improve from 0.76316\n",
      "Epoch 124/200\n",
      "4/4 [==============================] - 0s 12ms/step - loss: 0.6511 - accuracy: 0.7103 - val_loss: 0.7013 - val_accuracy: 0.6579\n",
      "\n",
      "Epoch 00124: val_accuracy did not improve from 0.76316\n",
      "Epoch 125/200\n",
      "4/4 [==============================] - 0s 11ms/step - loss: 0.6539 - accuracy: 0.7499 - val_loss: 0.7004 - val_accuracy: 0.6579\n",
      "\n",
      "Epoch 00125: val_accuracy did not improve from 0.76316\n",
      "Epoch 126/200\n",
      "4/4 [==============================] - 0s 12ms/step - loss: 0.6549 - accuracy: 0.7176 - val_loss: 0.6995 - val_accuracy: 0.6579\n",
      "\n",
      "Epoch 00126: val_accuracy did not improve from 0.76316\n",
      "Epoch 127/200\n",
      "4/4 [==============================] - 0s 12ms/step - loss: 0.6492 - accuracy: 0.6926 - val_loss: 0.6986 - val_accuracy: 0.6316\n",
      "\n",
      "Epoch 00127: val_accuracy did not improve from 0.76316\n",
      "Epoch 128/200\n",
      "4/4 [==============================] - 0s 12ms/step - loss: 0.6626 - accuracy: 0.6932 - val_loss: 0.6977 - val_accuracy: 0.6316\n",
      "\n",
      "Epoch 00128: val_accuracy did not improve from 0.76316\n",
      "Epoch 129/200\n",
      "4/4 [==============================] - 0s 12ms/step - loss: 0.6596 - accuracy: 0.7004 - val_loss: 0.6969 - val_accuracy: 0.6316\n",
      "\n",
      "Epoch 00129: val_accuracy did not improve from 0.76316\n",
      "Epoch 130/200\n",
      "4/4 [==============================] - 0s 12ms/step - loss: 0.6682 - accuracy: 0.6963 - val_loss: 0.6960 - val_accuracy: 0.6316\n",
      "\n",
      "Epoch 00130: val_accuracy did not improve from 0.76316\n",
      "Epoch 131/200\n",
      "4/4 [==============================] - 0s 13ms/step - loss: 0.6573 - accuracy: 0.6894 - val_loss: 0.6951 - val_accuracy: 0.6316\n",
      "\n",
      "Epoch 00131: val_accuracy did not improve from 0.76316\n",
      "Epoch 132/200\n",
      "4/4 [==============================] - 0s 11ms/step - loss: 0.6555 - accuracy: 0.7015 - val_loss: 0.6943 - val_accuracy: 0.6316\n",
      "\n",
      "Epoch 00132: val_accuracy did not improve from 0.76316\n",
      "Epoch 133/200\n",
      "4/4 [==============================] - 0s 12ms/step - loss: 0.6620 - accuracy: 0.7098 - val_loss: 0.6934 - val_accuracy: 0.6316\n",
      "\n",
      "Epoch 00133: val_accuracy did not improve from 0.76316\n",
      "Epoch 134/200\n",
      "4/4 [==============================] - 0s 12ms/step - loss: 0.6385 - accuracy: 0.7182 - val_loss: 0.6926 - val_accuracy: 0.6579\n",
      "\n",
      "Epoch 00134: val_accuracy did not improve from 0.76316\n",
      "Epoch 135/200\n",
      "4/4 [==============================] - 0s 12ms/step - loss: 0.6486 - accuracy: 0.7092 - val_loss: 0.6917 - val_accuracy: 0.6579\n",
      "\n",
      "Epoch 00135: val_accuracy did not improve from 0.76316\n",
      "Epoch 136/200\n",
      "4/4 [==============================] - 0s 12ms/step - loss: 0.6528 - accuracy: 0.7363 - val_loss: 0.6909 - val_accuracy: 0.6579\n",
      "\n",
      "Epoch 00136: val_accuracy did not improve from 0.76316\n",
      "Epoch 137/200\n",
      "4/4 [==============================] - 0s 12ms/step - loss: 0.6486 - accuracy: 0.7196 - val_loss: 0.6901 - val_accuracy: 0.6579\n",
      "\n",
      "Epoch 00137: val_accuracy did not improve from 0.76316\n",
      "Epoch 138/200\n",
      "4/4 [==============================] - 0s 14ms/step - loss: 0.6537 - accuracy: 0.6853 - val_loss: 0.6893 - val_accuracy: 0.6579\n",
      "\n",
      "Epoch 00138: val_accuracy did not improve from 0.76316\n",
      "Epoch 139/200\n",
      "4/4 [==============================] - 0s 12ms/step - loss: 0.6554 - accuracy: 0.6769 - val_loss: 0.6884 - val_accuracy: 0.6579\n",
      "\n",
      "Epoch 00139: val_accuracy did not improve from 0.76316\n",
      "Epoch 140/200\n",
      "4/4 [==============================] - 0s 13ms/step - loss: 0.6288 - accuracy: 0.7342 - val_loss: 0.6876 - val_accuracy: 0.6579\n",
      "\n",
      "Epoch 00140: val_accuracy did not improve from 0.76316\n",
      "Epoch 141/200\n",
      "4/4 [==============================] - 0s 12ms/step - loss: 0.6428 - accuracy: 0.6957 - val_loss: 0.6868 - val_accuracy: 0.6579\n",
      "\n",
      "Epoch 00141: val_accuracy did not improve from 0.76316\n",
      "Epoch 142/200\n",
      "4/4 [==============================] - 0s 12ms/step - loss: 0.6462 - accuracy: 0.6999 - val_loss: 0.6860 - val_accuracy: 0.6579\n",
      "\n",
      "Epoch 00142: val_accuracy did not improve from 0.76316\n",
      "Epoch 143/200\n",
      "4/4 [==============================] - 0s 13ms/step - loss: 0.6349 - accuracy: 0.7311 - val_loss: 0.6852 - val_accuracy: 0.6579\n",
      "\n",
      "Epoch 00143: val_accuracy did not improve from 0.76316\n",
      "Epoch 144/200\n",
      "4/4 [==============================] - 0s 12ms/step - loss: 0.6293 - accuracy: 0.7551 - val_loss: 0.6844 - val_accuracy: 0.6579\n",
      "\n",
      "Epoch 00144: val_accuracy did not improve from 0.76316\n",
      "Epoch 145/200\n",
      "4/4 [==============================] - 0s 13ms/step - loss: 0.6490 - accuracy: 0.7061 - val_loss: 0.6836 - val_accuracy: 0.6579\n",
      "\n",
      "Epoch 00145: val_accuracy did not improve from 0.76316\n",
      "Epoch 146/200\n",
      "4/4 [==============================] - 0s 12ms/step - loss: 0.6298 - accuracy: 0.7228 - val_loss: 0.6828 - val_accuracy: 0.6579\n",
      "\n",
      "Epoch 00146: val_accuracy did not improve from 0.76316\n",
      "Epoch 147/200\n",
      "4/4 [==============================] - 0s 12ms/step - loss: 0.6226 - accuracy: 0.7374 - val_loss: 0.6821 - val_accuracy: 0.6579\n",
      "\n",
      "Epoch 00147: val_accuracy did not improve from 0.76316\n",
      "Epoch 148/200\n",
      "4/4 [==============================] - 0s 13ms/step - loss: 0.6456 - accuracy: 0.7196 - val_loss: 0.6813 - val_accuracy: 0.6579\n",
      "\n",
      "Epoch 00148: val_accuracy did not improve from 0.76316\n",
      "Epoch 149/200\n",
      "4/4 [==============================] - 0s 14ms/step - loss: 0.6377 - accuracy: 0.6905 - val_loss: 0.6806 - val_accuracy: 0.6579\n",
      "\n",
      "Epoch 00149: val_accuracy did not improve from 0.76316\n",
      "Epoch 150/200\n",
      "4/4 [==============================] - 0s 12ms/step - loss: 0.6408 - accuracy: 0.7019 - val_loss: 0.6798 - val_accuracy: 0.6579\n",
      "\n",
      "Epoch 00150: val_accuracy did not improve from 0.76316\n",
      "Epoch 151/200\n",
      "4/4 [==============================] - 0s 13ms/step - loss: 0.6454 - accuracy: 0.6811 - val_loss: 0.6791 - val_accuracy: 0.6579\n",
      "\n",
      "Epoch 00151: val_accuracy did not improve from 0.76316\n",
      "Epoch 152/200\n",
      "4/4 [==============================] - 0s 12ms/step - loss: 0.6502 - accuracy: 0.6936 - val_loss: 0.6784 - val_accuracy: 0.6579\n",
      "\n",
      "Epoch 00152: val_accuracy did not improve from 0.76316\n",
      "Epoch 153/200\n",
      "4/4 [==============================] - 0s 14ms/step - loss: 0.6257 - accuracy: 0.7280 - val_loss: 0.6776 - val_accuracy: 0.6579\n",
      "\n",
      "Epoch 00153: val_accuracy did not improve from 0.76316\n",
      "Epoch 154/200\n",
      "4/4 [==============================] - 0s 13ms/step - loss: 0.6324 - accuracy: 0.7103 - val_loss: 0.6769 - val_accuracy: 0.6579\n",
      "\n",
      "Epoch 00154: val_accuracy did not improve from 0.76316\n",
      "Epoch 155/200\n",
      "4/4 [==============================] - 0s 14ms/step - loss: 0.6323 - accuracy: 0.6957 - val_loss: 0.6762 - val_accuracy: 0.6579\n",
      "\n",
      "Epoch 00155: val_accuracy did not improve from 0.76316\n",
      "Epoch 156/200\n",
      "4/4 [==============================] - 0s 14ms/step - loss: 0.6261 - accuracy: 0.7301 - val_loss: 0.6755 - val_accuracy: 0.6579\n",
      "\n",
      "Epoch 00156: val_accuracy did not improve from 0.76316\n",
      "Epoch 157/200\n",
      "4/4 [==============================] - 0s 14ms/step - loss: 0.6342 - accuracy: 0.6905 - val_loss: 0.6747 - val_accuracy: 0.6579\n",
      "\n",
      "Epoch 00157: val_accuracy did not improve from 0.76316\n",
      "Epoch 158/200\n",
      "4/4 [==============================] - 0s 13ms/step - loss: 0.6303 - accuracy: 0.7374 - val_loss: 0.6740 - val_accuracy: 0.6579\n",
      "\n",
      "Epoch 00158: val_accuracy did not improve from 0.76316\n",
      "Epoch 159/200\n",
      "4/4 [==============================] - 0s 14ms/step - loss: 0.6143 - accuracy: 0.7384 - val_loss: 0.6733 - val_accuracy: 0.6579\n",
      "\n",
      "Epoch 00159: val_accuracy did not improve from 0.76316\n",
      "Epoch 160/200\n",
      "4/4 [==============================] - 0s 12ms/step - loss: 0.6475 - accuracy: 0.6780 - val_loss: 0.6727 - val_accuracy: 0.6579\n",
      "\n",
      "Epoch 00160: val_accuracy did not improve from 0.76316\n",
      "Epoch 161/200\n",
      "4/4 [==============================] - 0s 11ms/step - loss: 0.6266 - accuracy: 0.7249 - val_loss: 0.6719 - val_accuracy: 0.6579\n",
      "\n",
      "Epoch 00161: val_accuracy did not improve from 0.76316\n",
      "Epoch 162/200\n",
      "4/4 [==============================] - 0s 13ms/step - loss: 0.6020 - accuracy: 0.7290 - val_loss: 0.6712 - val_accuracy: 0.6579\n",
      "\n",
      "Epoch 00162: val_accuracy did not improve from 0.76316\n",
      "Epoch 163/200\n",
      "4/4 [==============================] - 0s 12ms/step - loss: 0.6382 - accuracy: 0.6967 - val_loss: 0.6705 - val_accuracy: 0.6579\n",
      "\n",
      "Epoch 00163: val_accuracy did not improve from 0.76316\n",
      "Epoch 164/200\n",
      "4/4 [==============================] - 0s 13ms/step - loss: 0.6336 - accuracy: 0.7051 - val_loss: 0.6698 - val_accuracy: 0.6579\n",
      "\n",
      "Epoch 00164: val_accuracy did not improve from 0.76316\n",
      "Epoch 165/200\n",
      "4/4 [==============================] - 0s 13ms/step - loss: 0.6347 - accuracy: 0.6978 - val_loss: 0.6691 - val_accuracy: 0.6579\n",
      "\n",
      "Epoch 00165: val_accuracy did not improve from 0.76316\n",
      "Epoch 166/200\n",
      "4/4 [==============================] - 0s 12ms/step - loss: 0.6175 - accuracy: 0.7259 - val_loss: 0.6684 - val_accuracy: 0.6579\n",
      "\n",
      "Epoch 00166: val_accuracy did not improve from 0.76316\n",
      "Epoch 167/200\n",
      "4/4 [==============================] - 0s 12ms/step - loss: 0.6301 - accuracy: 0.6790 - val_loss: 0.6678 - val_accuracy: 0.6579\n",
      "\n",
      "Epoch 00167: val_accuracy did not improve from 0.76316\n",
      "Epoch 168/200\n",
      "4/4 [==============================] - 0s 12ms/step - loss: 0.5914 - accuracy: 0.7634 - val_loss: 0.6670 - val_accuracy: 0.6579\n",
      "\n",
      "Epoch 00168: val_accuracy did not improve from 0.76316\n",
      "Epoch 169/200\n",
      "4/4 [==============================] - 0s 13ms/step - loss: 0.6309 - accuracy: 0.6790 - val_loss: 0.6664 - val_accuracy: 0.6579\n",
      "\n",
      "Epoch 00169: val_accuracy did not improve from 0.76316\n",
      "Epoch 170/200\n",
      "4/4 [==============================] - 0s 12ms/step - loss: 0.6422 - accuracy: 0.6801 - val_loss: 0.6658 - val_accuracy: 0.6579\n",
      "\n",
      "Epoch 00170: val_accuracy did not improve from 0.76316\n",
      "Epoch 171/200\n",
      "4/4 [==============================] - 0s 12ms/step - loss: 0.6145 - accuracy: 0.7207 - val_loss: 0.6651 - val_accuracy: 0.6579\n",
      "\n",
      "Epoch 00171: val_accuracy did not improve from 0.76316\n",
      "Epoch 172/200\n",
      "4/4 [==============================] - 0s 12ms/step - loss: 0.6537 - accuracy: 0.6686 - val_loss: 0.6645 - val_accuracy: 0.6579\n",
      "\n",
      "Epoch 00172: val_accuracy did not improve from 0.76316\n",
      "Epoch 173/200\n",
      "4/4 [==============================] - 0s 13ms/step - loss: 0.5987 - accuracy: 0.7176 - val_loss: 0.6638 - val_accuracy: 0.6579\n",
      "\n",
      "Epoch 00173: val_accuracy did not improve from 0.76316\n",
      "Epoch 174/200\n",
      "4/4 [==============================] - 0s 13ms/step - loss: 0.6130 - accuracy: 0.7332 - val_loss: 0.6632 - val_accuracy: 0.6579\n",
      "\n",
      "Epoch 00174: val_accuracy did not improve from 0.76316\n",
      "Epoch 175/200\n",
      "4/4 [==============================] - 0s 14ms/step - loss: 0.6053 - accuracy: 0.7030 - val_loss: 0.6625 - val_accuracy: 0.6579\n",
      "\n",
      "Epoch 00175: val_accuracy did not improve from 0.76316\n",
      "Epoch 176/200\n",
      "4/4 [==============================] - 0s 12ms/step - loss: 0.6151 - accuracy: 0.7019 - val_loss: 0.6619 - val_accuracy: 0.6579\n",
      "\n",
      "Epoch 00176: val_accuracy did not improve from 0.76316\n",
      "Epoch 177/200\n",
      "4/4 [==============================] - 0s 12ms/step - loss: 0.6221 - accuracy: 0.7207 - val_loss: 0.6613 - val_accuracy: 0.6579\n",
      "\n",
      "Epoch 00177: val_accuracy did not improve from 0.76316\n",
      "Epoch 178/200\n",
      "4/4 [==============================] - 0s 13ms/step - loss: 0.6282 - accuracy: 0.6853 - val_loss: 0.6607 - val_accuracy: 0.6579\n",
      "\n",
      "Epoch 00178: val_accuracy did not improve from 0.76316\n",
      "Epoch 179/200\n",
      "4/4 [==============================] - 0s 13ms/step - loss: 0.6336 - accuracy: 0.6926 - val_loss: 0.6601 - val_accuracy: 0.6579\n",
      "\n",
      "Epoch 00179: val_accuracy did not improve from 0.76316\n",
      "Epoch 180/200\n",
      "4/4 [==============================] - 0s 15ms/step - loss: 0.6048 - accuracy: 0.6946 - val_loss: 0.6594 - val_accuracy: 0.6579\n",
      "\n",
      "Epoch 00180: val_accuracy did not improve from 0.76316\n",
      "Epoch 181/200\n",
      "4/4 [==============================] - 0s 13ms/step - loss: 0.6035 - accuracy: 0.7144 - val_loss: 0.6588 - val_accuracy: 0.6579\n",
      "\n",
      "Epoch 00181: val_accuracy did not improve from 0.76316\n",
      "Epoch 182/200\n",
      "4/4 [==============================] - 0s 13ms/step - loss: 0.6180 - accuracy: 0.6946 - val_loss: 0.6582 - val_accuracy: 0.6579\n",
      "\n",
      "Epoch 00182: val_accuracy did not improve from 0.76316\n",
      "Epoch 183/200\n",
      "4/4 [==============================] - 0s 12ms/step - loss: 0.6214 - accuracy: 0.6946 - val_loss: 0.6576 - val_accuracy: 0.6579\n",
      "\n",
      "Epoch 00183: val_accuracy did not improve from 0.76316\n",
      "Epoch 184/200\n",
      "4/4 [==============================] - 0s 13ms/step - loss: 0.6102 - accuracy: 0.7280 - val_loss: 0.6570 - val_accuracy: 0.6579\n",
      "\n",
      "Epoch 00184: val_accuracy did not improve from 0.76316\n",
      "Epoch 185/200\n",
      "4/4 [==============================] - 0s 14ms/step - loss: 0.6153 - accuracy: 0.7061 - val_loss: 0.6565 - val_accuracy: 0.6579\n",
      "\n",
      "Epoch 00185: val_accuracy did not improve from 0.76316\n",
      "Epoch 186/200\n",
      "4/4 [==============================] - 0s 13ms/step - loss: 0.6190 - accuracy: 0.6874 - val_loss: 0.6559 - val_accuracy: 0.6579\n",
      "\n",
      "Epoch 00186: val_accuracy did not improve from 0.76316\n",
      "Epoch 187/200\n",
      "4/4 [==============================] - 0s 13ms/step - loss: 0.6060 - accuracy: 0.7186 - val_loss: 0.6553 - val_accuracy: 0.6579\n",
      "\n",
      "Epoch 00187: val_accuracy did not improve from 0.76316\n",
      "Epoch 188/200\n",
      "4/4 [==============================] - 0s 12ms/step - loss: 0.5967 - accuracy: 0.7332 - val_loss: 0.6547 - val_accuracy: 0.6579\n",
      "\n",
      "Epoch 00188: val_accuracy did not improve from 0.76316\n",
      "Epoch 189/200\n",
      "4/4 [==============================] - 0s 13ms/step - loss: 0.6260 - accuracy: 0.6999 - val_loss: 0.6542 - val_accuracy: 0.6579\n",
      "\n",
      "Epoch 00189: val_accuracy did not improve from 0.76316\n",
      "Epoch 190/200\n",
      "4/4 [==============================] - 0s 12ms/step - loss: 0.6356 - accuracy: 0.6863 - val_loss: 0.6536 - val_accuracy: 0.6579\n",
      "\n",
      "Epoch 00190: val_accuracy did not improve from 0.76316\n",
      "Epoch 191/200\n",
      "4/4 [==============================] - 0s 12ms/step - loss: 0.6032 - accuracy: 0.7040 - val_loss: 0.6531 - val_accuracy: 0.6579\n",
      "\n",
      "Epoch 00191: val_accuracy did not improve from 0.76316\n",
      "Epoch 192/200\n",
      "4/4 [==============================] - 0s 13ms/step - loss: 0.5898 - accuracy: 0.7446 - val_loss: 0.6525 - val_accuracy: 0.6579\n",
      "\n",
      "Epoch 00192: val_accuracy did not improve from 0.76316\n",
      "Epoch 193/200\n",
      "4/4 [==============================] - 0s 12ms/step - loss: 0.6208 - accuracy: 0.6811 - val_loss: 0.6519 - val_accuracy: 0.6579\n",
      "\n",
      "Epoch 00193: val_accuracy did not improve from 0.76316\n",
      "Epoch 194/200\n",
      "4/4 [==============================] - 0s 13ms/step - loss: 0.5972 - accuracy: 0.7249 - val_loss: 0.6513 - val_accuracy: 0.6579\n",
      "\n",
      "Epoch 00194: val_accuracy did not improve from 0.76316\n",
      "Epoch 195/200\n",
      "4/4 [==============================] - 0s 13ms/step - loss: 0.6001 - accuracy: 0.7155 - val_loss: 0.6508 - val_accuracy: 0.6579\n",
      "\n",
      "Epoch 00195: val_accuracy did not improve from 0.76316\n",
      "Epoch 196/200\n",
      "4/4 [==============================] - 0s 14ms/step - loss: 0.5990 - accuracy: 0.6759 - val_loss: 0.6502 - val_accuracy: 0.6579\n",
      "\n",
      "Epoch 00196: val_accuracy did not improve from 0.76316\n",
      "Epoch 197/200\n",
      "4/4 [==============================] - 0s 12ms/step - loss: 0.6191 - accuracy: 0.7061 - val_loss: 0.6497 - val_accuracy: 0.6579\n",
      "\n",
      "Epoch 00197: val_accuracy did not improve from 0.76316\n",
      "Epoch 198/200\n",
      "4/4 [==============================] - 0s 12ms/step - loss: 0.5800 - accuracy: 0.7196 - val_loss: 0.6491 - val_accuracy: 0.6579\n",
      "\n",
      "Epoch 00198: val_accuracy did not improve from 0.76316\n",
      "Epoch 199/200\n",
      "4/4 [==============================] - 0s 13ms/step - loss: 0.6100 - accuracy: 0.6863 - val_loss: 0.6486 - val_accuracy: 0.6579\n",
      "\n",
      "Epoch 00199: val_accuracy did not improve from 0.76316\n",
      "Epoch 200/200\n",
      "4/4 [==============================] - 0s 12ms/step - loss: 0.5888 - accuracy: 0.7009 - val_loss: 0.6481 - val_accuracy: 0.6579\n",
      "\n",
      "Epoch 00200: val_accuracy did not improve from 0.76316\n"
     ]
    },
    {
     "data": {
      "text/plain": [
       "<tensorflow.python.keras.callbacks.History at 0x7f4eb0139ed0>"
      ]
     },
     "execution_count": 26,
     "metadata": {
      "tags": []
     },
     "output_type": "execute_result"
    }
   ],
   "source": [
    "model.fit(X_train, train_y,validation_data=(X_test,test_y),epochs=200,callbacks=[model_checkpoint])"
   ]
  },
  {
   "cell_type": "code",
   "execution_count": 27,
   "metadata": {
    "id": "g-ek7xs9p4Ze"
   },
   "outputs": [],
   "source": [
    "model.save('lab1-v1.h5')"
   ]
  },
  {
   "cell_type": "markdown",
   "metadata": {
    "id": "re9ItAR3yS3J"
   },
   "source": [
    "## Question 10"
   ]
  },
  {
   "cell_type": "markdown",
   "metadata": {
    "id": "liw0IFf9yVqH"
   },
   "source": [
    "### Make predictions\n",
    "- Predict labels on one row"
   ]
  },
  {
   "cell_type": "code",
   "execution_count": 28,
   "metadata": {
    "id": "H5sBybi6mlLl"
   },
   "outputs": [],
   "source": [
    "model = tf.keras.models.load_model('lab1-v1.h5')"
   ]
  },
  {
   "cell_type": "code",
   "execution_count": 29,
   "metadata": {
    "colab": {
     "base_uri": "https://localhost:8080/"
    },
    "id": "dwZN7D0sp9-E",
    "outputId": "2059fe2d-c44f-4cea-cfa4-02d5ca11d325"
   },
   "outputs": [
    {
     "data": {
      "text/plain": [
       "<KerasTensor: shape=(None, 4) dtype=float32 (created by layer 'dense_input')>"
      ]
     },
     "execution_count": 29,
     "metadata": {
      "tags": []
     },
     "output_type": "execute_result"
    }
   ],
   "source": [
    "model.input"
   ]
  },
  {
   "cell_type": "code",
   "execution_count": 30,
   "metadata": {
    "colab": {
     "base_uri": "https://localhost:8080/"
    },
    "id": "OO2_quhuqJvx",
    "outputId": "b1cff9f4-5161-42e2-abc6-1a174dd9de2c"
   },
   "outputs": [
    {
     "name": "stdout",
     "output_type": "stream",
     "text": [
      "(1, 4)\n"
     ]
    },
    {
     "data": {
      "text/plain": [
       "array([[0.78712225, 0.14781037, 0.06506748]], dtype=float32)"
      ]
     },
     "execution_count": 30,
     "metadata": {
      "tags": []
     },
     "output_type": "execute_result"
    }
   ],
   "source": [
    "print(X_test[:1].shape)\n",
    "model.predict(X_test[:1])"
   ]
  },
  {
   "cell_type": "markdown",
   "metadata": {
    "id": "Tcz9SmmdqIxs"
   },
   "source": []
  },
  {
   "cell_type": "markdown",
   "metadata": {
    "id": "hSUgMq3m0bG7"
   },
   "source": [
    "### Compare the prediction with actual label\n",
    "- Print the same row as done in the previous step but of actual labels"
   ]
  },
  {
   "cell_type": "code",
   "execution_count": 31,
   "metadata": {
    "colab": {
     "base_uri": "https://localhost:8080/"
    },
    "id": "K5WbwVPyz-qQ",
    "outputId": "defe05a9-98d5-4bfb-d644-f7b9d6bd048c"
   },
   "outputs": [
    {
     "name": "stdout",
     "output_type": "stream",
     "text": [
      "setosa\n"
     ]
    }
   ],
   "source": [
    "import numpy as np\n",
    "print(data.target_names[np.argmax(model.predict(X_test[:1]))])"
   ]
  },
  {
   "cell_type": "markdown",
   "metadata": {
    "id": "FrTKwbgE7NFT"
   },
   "source": [
    "\n",
    "\n",
    "---\n",
    "\n"
   ]
  },
  {
   "cell_type": "markdown",
   "metadata": {
    "id": "a1UBYPNp5Tn1"
   },
   "source": [
    "# Stock prices dataset\n",
    "The data is of tock exchange's stock listings for each trading day of 2010 to 2016.\n",
    "\n",
    "## Description\n",
    "A brief description of columns.\n",
    "- open: The opening market price of the equity symbol on the date\n",
    "- high: The highest market price of the equity symbol on the date\n",
    "- low: The lowest recorded market price of the equity symbol on the date\n",
    "- close: The closing recorded price of the equity symbol on the date\n",
    "- symbol: Symbol of the listed company\n",
    "- volume: Total traded volume of the equity symbol on the date\n",
    "- date: Date of record"
   ]
  },
  {
   "cell_type": "markdown",
   "metadata": {
    "id": "ctH_ZW5g-M3g"
   },
   "source": [
    "### Specifying the TensorFlow version\n",
    "Running `import tensorflow` will import the default version (currently 1.x). You can use 2.x by running a cell with the `tensorflow_version` magic **before** you run `import tensorflow`."
   ]
  },
  {
   "cell_type": "code",
   "execution_count": null,
   "metadata": {
    "id": "vQbdODpH-M3r"
   },
   "outputs": [],
   "source": [
    "%tensorflow_version 2.x"
   ]
  },
  {
   "cell_type": "markdown",
   "metadata": {
    "id": "nFQWH1tj-M38"
   },
   "source": [
    "### Import TensorFlow\n",
    "Once you have specified a version via this magic, you can run `import tensorflow` as normal and verify which version was imported as follows:"
   ]
  },
  {
   "cell_type": "code",
   "execution_count": null,
   "metadata": {
    "id": "Ho5n-xhd-M3_"
   },
   "outputs": [],
   "source": [
    "import tensorflow as tf\n",
    "print(tf.__version__)"
   ]
  },
  {
   "cell_type": "markdown",
   "metadata": {
    "id": "tgkl0qu6-M4F"
   },
   "source": [
    "### Set random seed"
   ]
  },
  {
   "cell_type": "code",
   "execution_count": null,
   "metadata": {
    "id": "TKgTyuA3-M4G"
   },
   "outputs": [],
   "source": [
    "tf.random.set_seed(42)"
   ]
  },
  {
   "cell_type": "markdown",
   "metadata": {
    "id": "_88voqAH-O6J"
   },
   "source": [
    "## Question 1"
   ]
  },
  {
   "cell_type": "markdown",
   "metadata": {
    "id": "dRHCeJqP-evf"
   },
   "source": [
    "### Load the data\n",
    "- load the csv file and read it using pandas\n",
    "- file name is prices.csv"
   ]
  },
  {
   "cell_type": "code",
   "execution_count": 33,
   "metadata": {
    "id": "cKVH5v7r-RmC"
   },
   "outputs": [],
   "source": [
    "# run this cell to upload file if you are using google colab\n",
    "from google.colab import files\n",
    "files.upload()"
   ]
  },
  {
   "cell_type": "code",
   "execution_count": 35,
   "metadata": {
    "colab": {
     "base_uri": "https://localhost:8080/"
    },
    "id": "tMj22mklq-Jn",
    "outputId": "90e292d2-d958-47b1-bbb3-e8d0e65abc94"
   },
   "outputs": [
    {
     "name": "stdout",
     "output_type": "stream",
     "text": [
      "Mounted at /content/drive\n"
     ]
    }
   ],
   "source": [
    "from google.colab import drive\n",
    "drive.mount('/content/drive')"
   ]
  },
  {
   "cell_type": "code",
   "execution_count": 36,
   "metadata": {
    "id": "-gDC6cSW_FSK"
   },
   "outputs": [],
   "source": [
    "import pandas as pd\n",
    "data=pd.read_csv('/content/drive/MyDrive/lab 6 nueral networks/prices.csv')"
   ]
  },
  {
   "cell_type": "markdown",
   "metadata": {
    "id": "HlLKVPVH_BCT"
   },
   "source": [
    "## Question 2"
   ]
  },
  {
   "cell_type": "markdown",
   "metadata": {
    "id": "9J4BlzVA_gZd"
   },
   "source": [
    "### Drop columnns\n",
    "- drop \"date\" and \"symbol\" column from the data"
   ]
  },
  {
   "cell_type": "code",
   "execution_count": 37,
   "metadata": {
    "colab": {
     "base_uri": "https://localhost:8080/"
    },
    "id": "IKEK8aEE_Csx",
    "outputId": "7e18cf83-7c76-45c0-c9fe-ffe7bb823099"
   },
   "outputs": [
    {
     "name": "stdout",
     "output_type": "stream",
     "text": [
      "<class 'pandas.core.frame.DataFrame'>\n",
      "RangeIndex: 851264 entries, 0 to 851263\n",
      "Data columns (total 7 columns):\n",
      " #   Column  Non-Null Count   Dtype  \n",
      "---  ------  --------------   -----  \n",
      " 0   date    851264 non-null  object \n",
      " 1   symbol  851264 non-null  object \n",
      " 2   open    851264 non-null  float64\n",
      " 3   close   851264 non-null  float64\n",
      " 4   low     851264 non-null  float64\n",
      " 5   high    851264 non-null  float64\n",
      " 6   volume  851264 non-null  float64\n",
      "dtypes: float64(5), object(2)\n",
      "memory usage: 45.5+ MB\n"
     ]
    }
   ],
   "source": [
    "data.info()"
   ]
  },
  {
   "cell_type": "code",
   "execution_count": 38,
   "metadata": {
    "colab": {
     "base_uri": "https://localhost:8080/"
    },
    "id": "sqGswIMqrknX",
    "outputId": "2a28cbc9-c64d-41fc-ead0-ff8cf47151be"
   },
   "outputs": [
    {
     "name": "stdout",
     "output_type": "stream",
     "text": [
      "<class 'pandas.core.frame.DataFrame'>\n",
      "RangeIndex: 851264 entries, 0 to 851263\n",
      "Data columns (total 5 columns):\n",
      " #   Column  Non-Null Count   Dtype  \n",
      "---  ------  --------------   -----  \n",
      " 0   open    851264 non-null  float64\n",
      " 1   close   851264 non-null  float64\n",
      " 2   low     851264 non-null  float64\n",
      " 3   high    851264 non-null  float64\n",
      " 4   volume  851264 non-null  float64\n",
      "dtypes: float64(5)\n",
      "memory usage: 32.5 MB\n"
     ]
    }
   ],
   "source": [
    "data.drop(['date', 'symbol'], axis=1, inplace=True)\n",
    "data.info()"
   ]
  },
  {
   "cell_type": "markdown",
   "metadata": {
    "id": "cTPhO6v-AiZt"
   },
   "source": [
    "## Question 3"
   ]
  },
  {
   "cell_type": "markdown",
   "metadata": {
    "id": "SsZXmF3NAkna"
   },
   "source": [
    "### Take initial rows\n",
    "- Take first 1000 rows from the data\n",
    "- This step is done to make the execution faster"
   ]
  },
  {
   "cell_type": "code",
   "execution_count": 39,
   "metadata": {
    "colab": {
     "base_uri": "https://localhost:8080/"
    },
    "id": "aKs04iIHAjxN",
    "outputId": "1892b81d-94bc-47d8-dfd2-7193d6a41d27"
   },
   "outputs": [
    {
     "data": {
      "text/plain": [
       "(1000, 5)"
      ]
     },
     "execution_count": 39,
     "metadata": {
      "tags": []
     },
     "output_type": "execute_result"
    }
   ],
   "source": [
    "data = data[:1000]\n",
    "data.shape"
   ]
  },
  {
   "cell_type": "markdown",
   "metadata": {
    "id": "6vGtnapgBIJm"
   },
   "source": [
    "## Question 4"
   ]
  },
  {
   "cell_type": "markdown",
   "metadata": {
    "id": "C8u_jlbABTip"
   },
   "source": [
    "### Get features and label from the dataset in separate variable\n",
    "- Take \"open\", \"close\", \"low\", \"high\" columns as features\n",
    "- Take \"volume\" column as label\n",
    "- Normalize label column by dividing it with 1000000"
   ]
  },
  {
   "cell_type": "code",
   "execution_count": 40,
   "metadata": {
    "colab": {
     "base_uri": "https://localhost:8080/",
     "height": 204
    },
    "id": "xQjCMzUXBJbg",
    "outputId": "02f482d5-5945-4ef6-bf10-52902a19b9fe"
   },
   "outputs": [
    {
     "data": {
      "text/html": [
       "<div>\n",
       "<style scoped>\n",
       "    .dataframe tbody tr th:only-of-type {\n",
       "        vertical-align: middle;\n",
       "    }\n",
       "\n",
       "    .dataframe tbody tr th {\n",
       "        vertical-align: top;\n",
       "    }\n",
       "\n",
       "    .dataframe thead th {\n",
       "        text-align: right;\n",
       "    }\n",
       "</style>\n",
       "<table border=\"1\" class=\"dataframe\">\n",
       "  <thead>\n",
       "    <tr style=\"text-align: right;\">\n",
       "      <th></th>\n",
       "      <th>open</th>\n",
       "      <th>close</th>\n",
       "      <th>low</th>\n",
       "      <th>high</th>\n",
       "      <th>volume</th>\n",
       "    </tr>\n",
       "  </thead>\n",
       "  <tbody>\n",
       "    <tr>\n",
       "      <th>0</th>\n",
       "      <td>123.430000</td>\n",
       "      <td>125.839996</td>\n",
       "      <td>122.309998</td>\n",
       "      <td>126.250000</td>\n",
       "      <td>2163600.0</td>\n",
       "    </tr>\n",
       "    <tr>\n",
       "      <th>1</th>\n",
       "      <td>125.239998</td>\n",
       "      <td>119.980003</td>\n",
       "      <td>119.940002</td>\n",
       "      <td>125.540001</td>\n",
       "      <td>2386400.0</td>\n",
       "    </tr>\n",
       "    <tr>\n",
       "      <th>2</th>\n",
       "      <td>116.379997</td>\n",
       "      <td>114.949997</td>\n",
       "      <td>114.930000</td>\n",
       "      <td>119.739998</td>\n",
       "      <td>2489500.0</td>\n",
       "    </tr>\n",
       "    <tr>\n",
       "      <th>3</th>\n",
       "      <td>115.480003</td>\n",
       "      <td>116.620003</td>\n",
       "      <td>113.500000</td>\n",
       "      <td>117.440002</td>\n",
       "      <td>2006300.0</td>\n",
       "    </tr>\n",
       "    <tr>\n",
       "      <th>4</th>\n",
       "      <td>117.010002</td>\n",
       "      <td>114.970001</td>\n",
       "      <td>114.089996</td>\n",
       "      <td>117.330002</td>\n",
       "      <td>1408600.0</td>\n",
       "    </tr>\n",
       "  </tbody>\n",
       "</table>\n",
       "</div>"
      ],
      "text/plain": [
       "         open       close         low        high     volume\n",
       "0  123.430000  125.839996  122.309998  126.250000  2163600.0\n",
       "1  125.239998  119.980003  119.940002  125.540001  2386400.0\n",
       "2  116.379997  114.949997  114.930000  119.739998  2489500.0\n",
       "3  115.480003  116.620003  113.500000  117.440002  2006300.0\n",
       "4  117.010002  114.970001  114.089996  117.330002  1408600.0"
      ]
     },
     "execution_count": 40,
     "metadata": {
      "tags": []
     },
     "output_type": "execute_result"
    }
   ],
   "source": [
    "data.head()"
   ]
  },
  {
   "cell_type": "code",
   "execution_count": 41,
   "metadata": {
    "id": "eI0xOq0KsJVz"
   },
   "outputs": [],
   "source": [
    "df_features = data.iloc[:,0:4]\n",
    "df_label = data.iloc[:,4]\n",
    "\n",
    "df_label = df_label / 1000000"
   ]
  },
  {
   "cell_type": "code",
   "execution_count": 43,
   "metadata": {
    "colab": {
     "base_uri": "https://localhost:8080/"
    },
    "id": "U49W4ryhsYKW",
    "outputId": "b0add70d-5f0e-4036-8913-209653506475"
   },
   "outputs": [
    {
     "data": {
      "text/plain": [
       "0       2.1636\n",
       "1       2.3864\n",
       "2       2.4895\n",
       "3       2.0063\n",
       "4       1.4086\n",
       "        ...   \n",
       "995     2.1332\n",
       "996     1.9824\n",
       "997    37.1528\n",
       "998     6.5686\n",
       "999     5.6043\n",
       "Name: volume, Length: 1000, dtype: float64"
      ]
     },
     "execution_count": 43,
     "metadata": {
      "tags": []
     },
     "output_type": "execute_result"
    }
   ],
   "source": [
    "df_label"
   ]
  },
  {
   "cell_type": "markdown",
   "metadata": {
    "id": "aTAKzlxZBz0z"
   },
   "source": [
    "## Question 5"
   ]
  },
  {
   "cell_type": "markdown",
   "metadata": {
    "id": "IfY8Km1Zzyt2"
   },
   "source": [
    "### Convert data\n",
    "- Convert features and labels to numpy array\n",
    "- Convert their data type to \"float32\""
   ]
  },
  {
   "cell_type": "code",
   "execution_count": 44,
   "metadata": {
    "colab": {
     "base_uri": "https://localhost:8080/"
    },
    "id": "Ko7nnQVbYENh",
    "outputId": "865a553f-9274-42b6-e25f-f0362710b2a8"
   },
   "outputs": [
    {
     "name": "stdout",
     "output_type": "stream",
     "text": [
      "feature type float32 Type of lables float32\n"
     ]
    }
   ],
   "source": [
    "df_features = np.array(df_features)\n",
    "\n",
    "df_label = np.array(df_label)\n",
    "\n",
    "df_features = df_features.astype('float32')\n",
    "df_label = df_label.astype('float32')\n",
    "print('feature type',df_features.dtype,'Type of lables',df_label.dtype)\n"
   ]
  },
  {
   "cell_type": "markdown",
   "metadata": {
    "id": "3TWpN0nVTpUx"
   },
   "source": [
    "## Question 6"
   ]
  },
  {
   "cell_type": "markdown",
   "metadata": {
    "id": "WQ1FKEs-4btX"
   },
   "source": [
    "### Normalize data\n",
    "- Normalize features\n",
    "- Use tf.math.l2_normalize to normalize features\n",
    "- You can read more about it here https://www.tensorflow.org/api_docs/python/tf/math/l2_normalize"
   ]
  },
  {
   "cell_type": "code",
   "execution_count": 46,
   "metadata": {
    "colab": {
     "base_uri": "https://localhost:8080/"
    },
    "id": "V0Tfe00X78wB",
    "outputId": "ed0ffc9c-88d5-47c7-e7fc-5a48fb945082"
   },
   "outputs": [
    {
     "data": {
      "text/plain": [
       "<tf.Tensor: shape=(1000, 4), dtype=float32, numpy=\n",
       "array([[0.02202893, 0.02245905, 0.02182904, 0.02253223],\n",
       "       [0.02235197, 0.0214132 , 0.02140606, 0.02240551],\n",
       "       [0.0207707 , 0.02051548, 0.02051191, 0.02137037],\n",
       "       ...,\n",
       "       [0.00505436, 0.00513467, 0.00499903, 0.00514181],\n",
       "       [0.00785282, 0.00799559, 0.0078082 , 0.00799738],\n",
       "       [0.00643931, 0.00662849, 0.00642682, 0.00664455]], dtype=float32)>"
      ]
     },
     "execution_count": 46,
     "metadata": {
      "tags": []
     },
     "output_type": "execute_result"
    }
   ],
   "source": [
    "X = tf.math.l2_normalize(df_features)\n",
    "X"
   ]
  },
  {
   "cell_type": "markdown",
   "metadata": {
    "id": "wmXUGc2oTspa"
   },
   "source": [
    "## Question 7"
   ]
  },
  {
   "cell_type": "markdown",
   "metadata": {
    "id": "VJelDMpzxs0L"
   },
   "source": [
    "### Define weight and bias\n",
    "- Initialize weight and bias with tf.zeros\n",
    "- tf.zeros is an initializer that generates tensors initialized to 0\n",
    "- Specify the value for shape"
   ]
  },
  {
   "cell_type": "code",
   "execution_count": 47,
   "metadata": {
    "id": "8o9RPWVTxs0O"
   },
   "outputs": [],
   "source": [
    "w = tf.zeros((4,1), dtype=tf.dtypes.float32)\n",
    "b = tf.zeros((1))\n"
   ]
  },
  {
   "cell_type": "code",
   "execution_count": 49,
   "metadata": {
    "colab": {
     "base_uri": "https://localhost:8080/"
    },
    "id": "2DjhpbjDtbuF",
    "outputId": "783d6d1c-1b70-4240-ffac-37d75254368d"
   },
   "outputs": [
    {
     "name": "stdout",
     "output_type": "stream",
     "text": [
      "tf.Tensor(\n",
      "[[0.]\n",
      " [0.]\n",
      " [0.]\n",
      " [0.]], shape=(4, 1), dtype=float32)\n",
      "tf.Tensor([0.], shape=(1,), dtype=float32)\n"
     ]
    }
   ],
   "source": [
    "print(w)\n",
    "print(b)"
   ]
  },
  {
   "cell_type": "markdown",
   "metadata": {
    "id": "8a0wr94aTyjg"
   },
   "source": [
    "## Question 8"
   ]
  },
  {
   "cell_type": "markdown",
   "metadata": {
    "id": "zMXXYdOSxs0Q"
   },
   "source": [
    "### Get prediction\n",
    "- Define a function to get prediction\n",
    "- Approach: prediction = (X * W) + b; here is X is features"
   ]
  },
  {
   "cell_type": "code",
   "execution_count": 50,
   "metadata": {
    "id": "U8Cty1y0xs0S"
   },
   "outputs": [],
   "source": [
    "@tf.function\n",
    "def prediction(x, w, b):    \n",
    "    xw_matmul = tf.matmul(x, w)\n",
    "    y = tf.add(xw_matmul, b)    \n",
    "    return y"
   ]
  },
  {
   "cell_type": "markdown",
   "metadata": {
    "id": "lQmS3Tauxs0V"
   },
   "source": [
    "### Calculate loss\n",
    "- Calculate loss using predictions\n",
    "- Define a function to calculate loss\n",
    "- We are calculating mean squared error"
   ]
  },
  {
   "cell_type": "code",
   "execution_count": 53,
   "metadata": {
    "id": "-FRXmDd5xs0X"
   },
   "outputs": [],
   "source": [
    "@tf.function\n",
    "def loss(y_actual, y_predicted):\n",
    "    diff = y_actual - y_predicted\n",
    "    sqr = tf.square(diff)\n",
    "    avg = tf.reduce_mean(sqr)\n",
    "    return avg"
   ]
  },
  {
   "cell_type": "markdown",
   "metadata": {
    "id": "ZbBpnOtfT0wd"
   },
   "source": [
    "## Question 9"
   ]
  },
  {
   "cell_type": "markdown",
   "metadata": {
    "id": "bkOzAUUsTmF_"
   },
   "source": [
    "### Define a function to train the model\n",
    "1.   Record all the mathematical steps to calculate Loss\n",
    "2.   Calculate Gradients of Loss w.r.t weights and bias\n",
    "3.   Update Weights and Bias based on gradients and learning rate to minimize loss"
   ]
  },
  {
   "cell_type": "code",
   "execution_count": 54,
   "metadata": {
    "id": "2R4uieGYLYtM"
   },
   "outputs": [],
   "source": [
    "def train(x, y_actual, w, b, learning_rate=0.01):\n",
    "  with tf.GradientTape() as t:\n",
    "    t.watch([w,b])\n",
    "    current_prediction = prediction(X,w,b)\n",
    "    current_loss = loss(y_actual, current_prediction)\n",
    "    dw,db = t.gradient(current_loss, [w,b])\n",
    "    w = w - learning_rate*dw\n",
    "    b = b - learning_rate*db\n",
    "    return w, b"
   ]
  },
  {
   "cell_type": "markdown",
   "metadata": {
    "id": "AW4SEP8kT2ls"
   },
   "source": [
    "## Question 10"
   ]
  },
  {
   "cell_type": "markdown",
   "metadata": {
    "id": "yeN0deOvT81N"
   },
   "source": [
    "### Train the model for 100 epochs \n",
    "- Observe the training loss at every iteration"
   ]
  },
  {
   "cell_type": "code",
   "execution_count": 55,
   "metadata": {
    "colab": {
     "base_uri": "https://localhost:8080/"
    },
    "id": "Jjkn4gUgLevE",
    "outputId": "59eb98e5-c98d-417f-cfa0-9aa934c49aa3"
   },
   "outputs": [
    {
     "name": "stdout",
     "output_type": "stream",
     "text": [
      "Current Loss on iteration 0 236.16774\n",
      "Current Loss on iteration 1 235.09312\n",
      "Current Loss on iteration 2 234.06105\n",
      "Current Loss on iteration 3 233.06989\n",
      "Current Loss on iteration 4 232.11801\n",
      "Current Loss on iteration 5 231.20384\n",
      "Current Loss on iteration 6 230.32588\n",
      "Current Loss on iteration 7 229.48273\n",
      "Current Loss on iteration 8 228.67294\n",
      "Current Loss on iteration 9 227.89528\n",
      "Current Loss on iteration 10 227.14842\n",
      "Current Loss on iteration 11 226.43115\n",
      "Current Loss on iteration 12 225.74232\n",
      "Current Loss on iteration 13 225.08076\n",
      "Current Loss on iteration 14 224.4454\n",
      "Current Loss on iteration 15 223.83525\n",
      "Current Loss on iteration 16 223.24927\n",
      "Current Loss on iteration 17 222.68648\n",
      "Current Loss on iteration 18 222.14601\n",
      "Current Loss on iteration 19 221.62694\n",
      "Current Loss on iteration 20 221.12846\n",
      "Current Loss on iteration 21 220.64972\n",
      "Current Loss on iteration 22 220.18993\n",
      "Current Loss on iteration 23 219.74837\n",
      "Current Loss on iteration 24 219.32433\n",
      "Current Loss on iteration 25 218.91705\n",
      "Current Loss on iteration 26 218.52594\n",
      "Current Loss on iteration 27 218.1503\n",
      "Current Loss on iteration 28 217.78955\n",
      "Current Loss on iteration 29 217.44312\n",
      "Current Loss on iteration 30 217.1104\n",
      "Current Loss on iteration 31 216.79088\n",
      "Current Loss on iteration 32 216.48398\n",
      "Current Loss on iteration 33 216.18927\n",
      "Current Loss on iteration 34 215.9062\n",
      "Current Loss on iteration 35 215.63438\n",
      "Current Loss on iteration 36 215.37334\n",
      "Current Loss on iteration 37 215.12262\n",
      "Current Loss on iteration 38 214.88184\n",
      "Current Loss on iteration 39 214.6506\n",
      "Current Loss on iteration 40 214.42853\n",
      "Current Loss on iteration 41 214.21529\n",
      "Current Loss on iteration 42 214.01042\n",
      "Current Loss on iteration 43 213.81372\n",
      "Current Loss on iteration 44 213.62482\n",
      "Current Loss on iteration 45 213.44337\n",
      "Current Loss on iteration 46 213.26912\n",
      "Current Loss on iteration 47 213.10178\n",
      "Current Loss on iteration 48 212.9411\n",
      "Current Loss on iteration 49 212.78674\n",
      "Current Loss on iteration 50 212.63853\n",
      "Current Loss on iteration 51 212.49615\n",
      "Current Loss on iteration 52 212.35945\n",
      "Current Loss on iteration 53 212.22815\n",
      "Current Loss on iteration 54 212.10205\n",
      "Current Loss on iteration 55 211.98096\n",
      "Current Loss on iteration 56 211.86465\n",
      "Current Loss on iteration 57 211.75298\n",
      "Current Loss on iteration 58 211.64569\n",
      "Current Loss on iteration 59 211.5427\n",
      "Current Loss on iteration 60 211.44377\n",
      "Current Loss on iteration 61 211.34874\n",
      "Current Loss on iteration 62 211.25749\n",
      "Current Loss on iteration 63 211.16988\n",
      "Current Loss on iteration 64 211.08571\n",
      "Current Loss on iteration 65 211.00488\n",
      "Current Loss on iteration 66 210.92726\n",
      "Current Loss on iteration 67 210.85272\n",
      "Current Loss on iteration 68 210.7811\n",
      "Current Loss on iteration 69 210.71236\n",
      "Current Loss on iteration 70 210.64632\n",
      "Current Loss on iteration 71 210.5829\n",
      "Current Loss on iteration 72 210.522\n",
      "Current Loss on iteration 73 210.46349\n",
      "Current Loss on iteration 74 210.40732\n",
      "Current Loss on iteration 75 210.3534\n",
      "Current Loss on iteration 76 210.30157\n",
      "Current Loss on iteration 77 210.2518\n",
      "Current Loss on iteration 78 210.20401\n",
      "Current Loss on iteration 79 210.15813\n",
      "Current Loss on iteration 80 210.11406\n",
      "Current Loss on iteration 81 210.07175\n",
      "Current Loss on iteration 82 210.03107\n",
      "Current Loss on iteration 83 209.99203\n",
      "Current Loss on iteration 84 209.95454\n",
      "Current Loss on iteration 85 209.91853\n",
      "Current Loss on iteration 86 209.88396\n",
      "Current Loss on iteration 87 209.85075\n",
      "Current Loss on iteration 88 209.81885\n",
      "Current Loss on iteration 89 209.78822\n",
      "Current Loss on iteration 90 209.75879\n",
      "Current Loss on iteration 91 209.73055\n",
      "Current Loss on iteration 92 209.70341\n",
      "Current Loss on iteration 93 209.67735\n",
      "Current Loss on iteration 94 209.65231\n",
      "Current Loss on iteration 95 209.62831\n",
      "Current Loss on iteration 96 209.60521\n",
      "Current Loss on iteration 97 209.58304\n",
      "Current Loss on iteration 98 209.56177\n",
      "Current Loss on iteration 99 209.5413\n"
     ]
    }
   ],
   "source": [
    "for i in range(100):\n",
    "    w, b = train(X,df_label, w, b, learning_rate=0.01)\n",
    "    print('Current Loss on iteration', i, \n",
    "          loss(df_label, prediction(X, w, b)).numpy())"
   ]
  },
  {
   "cell_type": "markdown",
   "metadata": {
    "id": "vanvD93FV0_k"
   },
   "source": [
    "### Observe values of Weight\n",
    "- Print the updated values"
   ]
  },
  {
   "cell_type": "code",
   "execution_count": 59,
   "metadata": {
    "colab": {
     "base_uri": "https://localhost:8080/"
    },
    "id": "QSqpy4gtWaOD",
    "outputId": "c6f59378-8a3d-42d1-bba0-5d3aa32bca26"
   },
   "outputs": [
    {
     "name": "stdout",
     "output_type": "stream",
     "text": [
      "Weights [[0.0547828 ]\n",
      " [0.0548819 ]\n",
      " [0.05422734]\n",
      " [0.05533116]]\n"
     ]
    }
   ],
   "source": [
    "print('Weights', w.numpy())"
   ]
  },
  {
   "cell_type": "markdown",
   "metadata": {
    "id": "y9KpRupYUEwy"
   },
   "source": [
    "### Observe values of Bias\n",
    "- Print the updated values"
   ]
  },
  {
   "cell_type": "code",
   "execution_count": 60,
   "metadata": {
    "colab": {
     "base_uri": "https://localhost:8080/"
    },
    "id": "bhEWkGqHWohg",
    "outputId": "a8a95ee4-db15-4230-a7c1-303e21220cd7"
   },
   "outputs": [
    {
     "name": "stdout",
     "output_type": "stream",
     "text": [
      "Bias [4.607657]\n"
     ]
    }
   ],
   "source": [
    "print('Bias',b.numpy())"
   ]
  }
 ],
 "metadata": {
  "accelerator": "GPU",
  "colab": {
   "collapsed_sections": [],
   "name": "Questions - R6 - INNDL Labs.ipynb",
   "provenance": [],
   "toc_visible": true
  },
  "kernelspec": {
   "display_name": "Python 3",
   "language": "python",
   "name": "python3"
  },
  "language_info": {
   "codemirror_mode": {
    "name": "ipython",
    "version": 3
   },
   "file_extension": ".py",
   "mimetype": "text/x-python",
   "name": "python",
   "nbconvert_exporter": "python",
   "pygments_lexer": "ipython3",
   "version": "3.7.4"
  }
 },
 "nbformat": 4,
 "nbformat_minor": 1
}
