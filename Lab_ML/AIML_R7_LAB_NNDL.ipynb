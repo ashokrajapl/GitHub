{
 "cells": [
  {
   "cell_type": "markdown",
   "metadata": {
    "id": "3ukwOXvX_EV1"
   },
   "source": [
    "<img src=\"http://drive.google.com/uc?export=view&id=1tpOCamr9aWz817atPnyXus8w5gJ3mIts\" width=500px>"
   ]
  },
  {
   "cell_type": "markdown",
   "metadata": {
    "id": "j9QC42UQq5Lk"
   },
   "source": [
    "## Lab on NNDL Part 1: Tensorflow Basic"
   ]
  },
  {
   "cell_type": "markdown",
   "metadata": {
    "id": "g_vbQDYan7_7"
   },
   "source": [
    "### Tensors\n",
    "\n",
    "Tensors are multi-dimensional arrays with a uniform type"
   ]
  },
  {
   "cell_type": "markdown",
   "metadata": {
    "id": "tCkxkFqIoUIR"
   },
   "source": [
    "##Question 1\n"
   ]
  },
  {
   "cell_type": "markdown",
   "metadata": {
    "id": "7V8C8aa0rGgN"
   },
   "source": [
    "### Create a rank-0 tensor\n",
    "- A \"scalar\" is called \"rank-0\" tensor\n",
    "- the tensor should contain value 99.99"
   ]
  },
  {
   "cell_type": "code",
   "execution_count": 1,
   "metadata": {
    "colab": {
     "base_uri": "https://localhost:8080/"
    },
    "id": "CmKTQCizra4b",
    "outputId": "46b5fc8b-7d48-41d0-c95f-c27d95500384"
   },
   "outputs": [
    {
     "name": "stdout",
     "output_type": "stream",
     "text": [
      "<built-in function getcwd>\n"
     ]
    }
   ],
   "source": [
    "import tensorflow as tf\n",
    "import os\n",
    "print(os.getcwd)"
   ]
  },
  {
   "cell_type": "code",
   "execution_count": 2,
   "metadata": {
    "colab": {
     "base_uri": "https://localhost:8080/"
    },
    "id": "B6H2X7SinZbZ",
    "outputId": "9ea429f2-a258-45ca-ff49-21d0be75ebab"
   },
   "outputs": [
    {
     "name": "stdout",
     "output_type": "stream",
     "text": [
      "Mounted at /content/gdrive\n"
     ]
    }
   ],
   "source": [
    "from google.colab import drive\n",
    "drive.mount('/content/gdrive')"
   ]
  },
  {
   "cell_type": "code",
   "execution_count": 3,
   "metadata": {
    "id": "xEAfPau_XiGX"
   },
   "outputs": [],
   "source": [
    "os.chdir(\"/content/gdrive/MyDrive/lab nn\")"
   ]
  },
  {
   "cell_type": "code",
   "execution_count": 4,
   "metadata": {
    "colab": {
     "base_uri": "https://localhost:8080/"
    },
    "id": "EZkivbFnXmc7",
    "outputId": "e741525a-73b0-44b1-e976-43c576681895"
   },
   "outputs": [
    {
     "name": "stdout",
     "output_type": "stream",
     "text": [
      "tf.Tensor(99.99, shape=(), dtype=float32)\n",
      "<class 'tensorflow.python.framework.ops.EagerTensor'>\n"
     ]
    }
   ],
   "source": [
    "rank_0=tf.constant(99.99)\n",
    "print(rank_0)\n",
    "print(type(rank_0))"
   ]
  },
  {
   "cell_type": "markdown",
   "metadata": {
    "id": "xRm8MfpVrkyz"
   },
   "source": [
    "### Create a rank-1 tensor\n",
    "\n",
    "- A \"vector\" (list) is called \"rank-1\" tensor [9,8,7,6,5]\n",
    "- A vector has one axis"
   ]
  },
  {
   "cell_type": "code",
   "execution_count": 5,
   "metadata": {
    "colab": {
     "base_uri": "https://localhost:8080/"
    },
    "id": "_TvWoaBOnZXX",
    "outputId": "ed4abf00-580a-4571-c3eb-f5bc154bb536"
   },
   "outputs": [
    {
     "name": "stdout",
     "output_type": "stream",
     "text": [
      "tf.Tensor([9 8 7 6 5], shape=(5,), dtype=int32)\n",
      "<class 'tensorflow.python.framework.ops.EagerTensor'>\n"
     ]
    }
   ],
   "source": [
    "rank_1=tf.constant( [9,8,7,6,5])\n",
    "print(rank_1)\n",
    "print(type(rank_1))"
   ]
  },
  {
   "cell_type": "markdown",
   "metadata": {
    "id": "KtiVmuAAsJjP"
   },
   "source": [
    "### Add 7 to all the elements of the above created tensor\n",
    "- Use Broadcasting"
   ]
  },
  {
   "cell_type": "code",
   "execution_count": 6,
   "metadata": {
    "colab": {
     "base_uri": "https://localhost:8080/"
    },
    "id": "lENBbpfIsskl",
    "outputId": "08e6c3e6-f8ad-42b0-a1ba-a7fcdbb920d8"
   },
   "outputs": [
    {
     "name": "stdout",
     "output_type": "stream",
     "text": [
      "tf.Tensor([16 15 14 13 12], shape=(5,), dtype=int32)\n"
     ]
    }
   ],
   "source": [
    "print(tf.add(rank_1,7))"
   ]
  },
  {
   "cell_type": "code",
   "execution_count": 7,
   "metadata": {
    "colab": {
     "base_uri": "https://localhost:8080/"
    },
    "id": "8jbNKxQJugJO",
    "outputId": "523ed0f4-3143-4f3e-b022-84f006186157"
   },
   "outputs": [
    {
     "name": "stdout",
     "output_type": "stream",
     "text": [
      "tf.Tensor([16 15 14 13 12], shape=(5,), dtype=int32)\n"
     ]
    }
   ],
   "source": [
    "print(rank_1+7)"
   ]
  },
  {
   "cell_type": "markdown",
   "metadata": {
    "id": "U9QVsYQwtR9u"
   },
   "source": [
    "### Create a rank-2 tensor\n",
    "[[1, 2, 3], [ 4,5,6]]\n",
    "- A \"matrix\"  \"is called rank-2\" tensor\n",
    "- It has 2 axes"
   ]
  },
  {
   "cell_type": "code",
   "execution_count": 8,
   "metadata": {
    "colab": {
     "base_uri": "https://localhost:8080/"
    },
    "id": "IZx8BooXnZUr",
    "outputId": "501ffa5f-66f2-4655-d200-da294f1cad4f"
   },
   "outputs": [
    {
     "name": "stdout",
     "output_type": "stream",
     "text": [
      "tf.Tensor(\n",
      "[[1 2 3]\n",
      " [4 5 6]], shape=(2, 3), dtype=int32)\n"
     ]
    }
   ],
   "source": [
    "rank_2=tf.constant([[1, 2, 3], [ 4,5,6]])\n",
    "print(rank_2)"
   ]
  },
  {
   "cell_type": "markdown",
   "metadata": {
    "id": "mrnIxOUmvX_M"
   },
   "source": [
    "### Change the shape of the above created tensor to shape (3,2)"
   ]
  },
  {
   "cell_type": "code",
   "execution_count": 9,
   "metadata": {
    "colab": {
     "base_uri": "https://localhost:8080/"
    },
    "id": "YdSy6RQLvXbi",
    "outputId": "4132e6c6-87ac-4c5d-e806-dea4fbbac276"
   },
   "outputs": [
    {
     "data": {
      "text/plain": [
       "<tf.Tensor: shape=(3, 2), dtype=int32, numpy=\n",
       "array([[1, 2],\n",
       "       [3, 4],\n",
       "       [5, 6]], dtype=int32)>"
      ]
     },
     "execution_count": 9,
     "metadata": {
      "tags": []
     },
     "output_type": "execute_result"
    }
   ],
   "source": [
    "tf.reshape(rank_2,[3,2])"
   ]
  },
  {
   "cell_type": "code",
   "execution_count": 10,
   "metadata": {
    "colab": {
     "base_uri": "https://localhost:8080/"
    },
    "id": "bHMMeRW5u9bB",
    "outputId": "61634ea0-90e8-414b-bf2d-f5ba3e95dc35"
   },
   "outputs": [
    {
     "data": {
      "text/plain": [
       "<tf.Tensor: shape=(3, 2), dtype=int32, numpy=\n",
       "array([[1, 2],\n",
       "       [3, 4],\n",
       "       [5, 6]], dtype=int32)>"
      ]
     },
     "execution_count": 10,
     "metadata": {
      "tags": []
     },
     "output_type": "execute_result"
    }
   ],
   "source": [
    "tf.reshape(rank_2,[-1,2])"
   ]
  },
  {
   "cell_type": "code",
   "execution_count": null,
   "metadata": {
    "id": "IZfvYZ_8wH4S"
   },
   "outputs": [],
   "source": []
  },
  {
   "cell_type": "markdown",
   "metadata": {
    "id": "1ZXjABdNuWAT"
   },
   "source": [
    "### Check the dtype, number of axes and the shape of tensor"
   ]
  },
  {
   "cell_type": "code",
   "execution_count": 12,
   "metadata": {
    "colab": {
     "base_uri": "https://localhost:8080/"
    },
    "id": "vXj5xnbEuUwz",
    "outputId": "b4d0ea04-5260-4667-ae12-d82ab36a6380"
   },
   "outputs": [
    {
     "name": "stdout",
     "output_type": "stream",
     "text": [
      "<dtype: 'int32'>\n",
      "2\n",
      "(2, 3)\n"
     ]
    }
   ],
   "source": [
    "print(rank_2.dtype)\n",
    "print(rank_2.ndim)\n",
    "print(rank_2.shape)"
   ]
  },
  {
   "cell_type": "markdown",
   "metadata": {
    "id": "yGsgzedZvB54"
   },
   "source": [
    "- Tensors can have more axes, like rank-3 or rank-4 tensor"
   ]
  },
  {
   "cell_type": "markdown",
   "metadata": {
    "id": "qYvGihNn_D2K"
   },
   "source": [
    "##Lab on NNDL Part 2: Cars selling price prediction"
   ]
  },
  {
   "cell_type": "markdown",
   "metadata": {
    "id": "S7nm5pOt_DkP"
   },
   "source": [
    "### Data Set -\n",
    "Domain: Finance, Business \n",
    "Data: https://www.kaggle.com/nehalbirla/vehicle-dataset-from-cardekho?select=Car+details+v3.csv\n",
    "\n",
    "The data contains various features of used cars.\n",
    "\n",
    "#### Features\n",
    "\n",
    "1. year\n",
    "\n",
    "2. selling_price: Price at which it was sold (**Target Feature**)\n",
    "\n",
    "3. km_driven\n",
    "\n",
    "4. fuel\n",
    "\n",
    "5. seller_type\n",
    "\n",
    "6. transmission\n",
    "\n",
    "7. Owner\n",
    "\n",
    "8. mileage\n",
    "\n",
    "9. engine\n",
    "\n",
    "10. max_power\n",
    "\n",
    "11. seats\n",
    "\n",
    " - - - - - - - - - - - - - - - - - - - - - - - - - - - - - - - - - - - - - - - - - - - - - - - "
   ]
  },
  {
   "cell_type": "markdown",
   "metadata": {
    "id": "YeoiMbH7djEv"
   },
   "source": [
    "##Objective\n",
    "\n",
    "Predict the selling price of used cars based on the given features"
   ]
  },
  {
   "cell_type": "markdown",
   "metadata": {
    "id": "sZXp-T3-xRNN"
   },
   "source": [
    "## Steps to perform:\n",
    "\n",
    "#### 1. Import important Libraries\n",
    "#### 2. Import Dataset and exploration\n",
    "#### 3. Data Pre-processing\n",
    "#### 4. Training a Neural Network Model\n",
    "#### 5. Evaluating the model\n",
    "#### 6. Conclusion\n",
    "\n",
    "\n",
    "- - - - - - - - - - - - - - - - - - - - - - - - - - - - - - - - - - - - - - - - - - - - - - - - - - -\n",
    "\n",
    "\n",
    "- - - - - - - - - - - - - - - - - - - - - - - - - - - - - - - - - - - - - - - - - - - - - - - - - - -\n"
   ]
  },
  {
   "cell_type": "markdown",
   "metadata": {
    "id": "pvJ1pMTuzUkv"
   },
   "source": [
    "### Import important libraries"
   ]
  },
  {
   "cell_type": "code",
   "execution_count": 14,
   "metadata": {
    "id": "PGqq9f8VdLba"
   },
   "outputs": [],
   "source": [
    "import pandas as pd\n",
    "import numpy as np"
   ]
  },
  {
   "cell_type": "markdown",
   "metadata": {
    "id": "_88voqAH-O6J"
   },
   "source": [
    "## Question 1"
   ]
  },
  {
   "cell_type": "markdown",
   "metadata": {
    "id": "dRHCeJqP-evf"
   },
   "source": [
    "### Load the data\n",
    "- Load the data, check the shape of data"
   ]
  },
  {
   "cell_type": "code",
   "execution_count": 15,
   "metadata": {
    "id": "Gr4YcffYd1FQ"
   },
   "outputs": [],
   "source": [
    "df=pd.read_csv('car_data-1.csv')"
   ]
  },
  {
   "cell_type": "code",
   "execution_count": 16,
   "metadata": {
    "colab": {
     "base_uri": "https://localhost:8080/"
    },
    "id": "-gDC6cSW_FSK",
    "outputId": "80dc19c1-db51-4af9-cc9c-69094e37d001"
   },
   "outputs": [
    {
     "name": "stdout",
     "output_type": "stream",
     "text": [
      "<class 'pandas.core.frame.DataFrame'>\n",
      "RangeIndex: 8128 entries, 0 to 8127\n",
      "Data columns (total 11 columns):\n",
      " #   Column         Non-Null Count  Dtype  \n",
      "---  ------         --------------  -----  \n",
      " 0   year           8128 non-null   int64  \n",
      " 1   selling_price  8128 non-null   int64  \n",
      " 2   km_driven      8128 non-null   int64  \n",
      " 3   fuel           8128 non-null   object \n",
      " 4   seller_type    8128 non-null   object \n",
      " 5   transmission   8128 non-null   object \n",
      " 6   owner          8128 non-null   object \n",
      " 7   mileage        7907 non-null   object \n",
      " 8   engine         7907 non-null   object \n",
      " 9   max_power      7913 non-null   object \n",
      " 10  seats          7907 non-null   float64\n",
      "dtypes: float64(1), int64(3), object(7)\n",
      "memory usage: 698.6+ KB\n"
     ]
    }
   ],
   "source": [
    "df.info()"
   ]
  },
  {
   "cell_type": "code",
   "execution_count": 17,
   "metadata": {
    "colab": {
     "base_uri": "https://localhost:8080/",
     "height": 197
    },
    "id": "cgAAxzef1m37",
    "outputId": "096ec232-c8b7-4046-921f-76bca4cbda73"
   },
   "outputs": [
    {
     "data": {
      "text/html": [
       "<div>\n",
       "<style scoped>\n",
       "    .dataframe tbody tr th:only-of-type {\n",
       "        vertical-align: middle;\n",
       "    }\n",
       "\n",
       "    .dataframe tbody tr th {\n",
       "        vertical-align: top;\n",
       "    }\n",
       "\n",
       "    .dataframe thead th {\n",
       "        text-align: right;\n",
       "    }\n",
       "</style>\n",
       "<table border=\"1\" class=\"dataframe\">\n",
       "  <thead>\n",
       "    <tr style=\"text-align: right;\">\n",
       "      <th></th>\n",
       "      <th>year</th>\n",
       "      <th>selling_price</th>\n",
       "      <th>km_driven</th>\n",
       "      <th>fuel</th>\n",
       "      <th>seller_type</th>\n",
       "      <th>transmission</th>\n",
       "      <th>owner</th>\n",
       "      <th>mileage</th>\n",
       "      <th>engine</th>\n",
       "      <th>max_power</th>\n",
       "      <th>seats</th>\n",
       "    </tr>\n",
       "  </thead>\n",
       "  <tbody>\n",
       "    <tr>\n",
       "      <th>0</th>\n",
       "      <td>2014</td>\n",
       "      <td>450000</td>\n",
       "      <td>145500</td>\n",
       "      <td>Diesel</td>\n",
       "      <td>Individual</td>\n",
       "      <td>Manual</td>\n",
       "      <td>First Owner</td>\n",
       "      <td>23.4 kmpl</td>\n",
       "      <td>1248 CC</td>\n",
       "      <td>74 bhp</td>\n",
       "      <td>5.0</td>\n",
       "    </tr>\n",
       "    <tr>\n",
       "      <th>1</th>\n",
       "      <td>2014</td>\n",
       "      <td>370000</td>\n",
       "      <td>120000</td>\n",
       "      <td>Diesel</td>\n",
       "      <td>Individual</td>\n",
       "      <td>Manual</td>\n",
       "      <td>Second Owner</td>\n",
       "      <td>21.14 kmpl</td>\n",
       "      <td>1498 CC</td>\n",
       "      <td>103.52 bhp</td>\n",
       "      <td>5.0</td>\n",
       "    </tr>\n",
       "    <tr>\n",
       "      <th>2</th>\n",
       "      <td>2006</td>\n",
       "      <td>158000</td>\n",
       "      <td>140000</td>\n",
       "      <td>Petrol</td>\n",
       "      <td>Individual</td>\n",
       "      <td>Manual</td>\n",
       "      <td>Third Owner</td>\n",
       "      <td>17.7 kmpl</td>\n",
       "      <td>1497 CC</td>\n",
       "      <td>78 bhp</td>\n",
       "      <td>5.0</td>\n",
       "    </tr>\n",
       "    <tr>\n",
       "      <th>3</th>\n",
       "      <td>2010</td>\n",
       "      <td>225000</td>\n",
       "      <td>127000</td>\n",
       "      <td>Diesel</td>\n",
       "      <td>Individual</td>\n",
       "      <td>Manual</td>\n",
       "      <td>First Owner</td>\n",
       "      <td>23.0 kmpl</td>\n",
       "      <td>1396 CC</td>\n",
       "      <td>90 bhp</td>\n",
       "      <td>5.0</td>\n",
       "    </tr>\n",
       "    <tr>\n",
       "      <th>4</th>\n",
       "      <td>2007</td>\n",
       "      <td>130000</td>\n",
       "      <td>120000</td>\n",
       "      <td>Petrol</td>\n",
       "      <td>Individual</td>\n",
       "      <td>Manual</td>\n",
       "      <td>First Owner</td>\n",
       "      <td>16.1 kmpl</td>\n",
       "      <td>1298 CC</td>\n",
       "      <td>88.2 bhp</td>\n",
       "      <td>5.0</td>\n",
       "    </tr>\n",
       "  </tbody>\n",
       "</table>\n",
       "</div>"
      ],
      "text/plain": [
       "   year  selling_price  km_driven  ...   engine   max_power seats\n",
       "0  2014         450000     145500  ...  1248 CC      74 bhp   5.0\n",
       "1  2014         370000     120000  ...  1498 CC  103.52 bhp   5.0\n",
       "2  2006         158000     140000  ...  1497 CC      78 bhp   5.0\n",
       "3  2010         225000     127000  ...  1396 CC      90 bhp   5.0\n",
       "4  2007         130000     120000  ...  1298 CC    88.2 bhp   5.0\n",
       "\n",
       "[5 rows x 11 columns]"
      ]
     },
     "execution_count": 17,
     "metadata": {
      "tags": []
     },
     "output_type": "execute_result"
    }
   ],
   "source": [
    "df.head()"
   ]
  },
  {
   "cell_type": "markdown",
   "metadata": {
    "id": "HlLKVPVH_BCT"
   },
   "source": [
    "## Question 2"
   ]
  },
  {
   "cell_type": "markdown",
   "metadata": {
    "id": "ZxoGynuBeO4t"
   },
   "source": [
    "### Preprocess the data\n",
    "- Convert mileage, engine and max_power to numerical by extract numerical values from the strings\n",
    "- Label Encode: 'owner' column\n",
    "- One Hot Encode: 'fuel','seller_type','transmission' columns\n",
    "- Drop all the instances with null values"
   ]
  },
  {
   "cell_type": "code",
   "execution_count": 18,
   "metadata": {
    "id": "WMsPLgUw4XED"
   },
   "outputs": [],
   "source": [
    "def map_num(num):\n",
    "    try:\n",
    "        if type(num) == str:\n",
    "            return float(num.split()[0])\n",
    "        else:\n",
    "            return num\n",
    "    except:\n",
    "        return np.nan\n"
   ]
  },
  {
   "cell_type": "code",
   "execution_count": 19,
   "metadata": {
    "id": "X_FaEocL4X4h"
   },
   "outputs": [],
   "source": [
    "df[['mileage','engine','max_power']] = df[['mileage','engine','max_power']].applymap(map_num)\n"
   ]
  },
  {
   "cell_type": "code",
   "execution_count": null,
   "metadata": {
    "id": "FPAQ-IBf4Z9k"
   },
   "outputs": [],
   "source": [
    "df['owner']=df['owner'].apply(lambda x: sum([ord(digit) for digit in x]))"
   ]
  },
  {
   "cell_type": "code",
   "execution_count": null,
   "metadata": {
    "colab": {
     "base_uri": "https://localhost:8080/"
    },
    "id": "aXweg7mb4gMo",
    "outputId": "a5e773ed-dd32-4812-a757-8ff3cdee3890"
   },
   "outputs": [
    {
     "data": {
      "text/plain": [
       "array([1075, 1159, 1062, 1782, 1264])"
      ]
     },
     "execution_count": 34,
     "metadata": {
      "tags": []
     },
     "output_type": "execute_result"
    }
   ],
   "source": [
    "df.owner.unique()"
   ]
  },
  {
   "cell_type": "code",
   "execution_count": null,
   "metadata": {
    "id": "nVjmsyJc4kpO"
   },
   "outputs": [],
   "source": [
    "categ_df=df[[ 'fuel','seller_type','transmission' ]]\n",
    "One_hot_enc_df_categ=pd.get_dummies(categ_df)\n",
    "One_hot_enc_df_categ"
   ]
  },
  {
   "cell_type": "code",
   "execution_count": null,
   "metadata": {
    "colab": {
     "base_uri": "https://localhost:8080/",
     "height": 406
    },
    "id": "q7fwyFQn4qD2",
    "outputId": "7a9fba76-5b7d-46fa-c41e-ab23c62706b5"
   },
   "outputs": [
    {
     "data": {
      "text/html": [
       "<div>\n",
       "<style scoped>\n",
       "    .dataframe tbody tr th:only-of-type {\n",
       "        vertical-align: middle;\n",
       "    }\n",
       "\n",
       "    .dataframe tbody tr th {\n",
       "        vertical-align: top;\n",
       "    }\n",
       "\n",
       "    .dataframe thead th {\n",
       "        text-align: right;\n",
       "    }\n",
       "</style>\n",
       "<table border=\"1\" class=\"dataframe\">\n",
       "  <thead>\n",
       "    <tr style=\"text-align: right;\">\n",
       "      <th></th>\n",
       "      <th>fuel_CNG</th>\n",
       "      <th>fuel_Diesel</th>\n",
       "      <th>fuel_LPG</th>\n",
       "      <th>fuel_Petrol</th>\n",
       "      <th>seller_type_Dealer</th>\n",
       "      <th>seller_type_Individual</th>\n",
       "      <th>seller_type_Trustmark Dealer</th>\n",
       "      <th>transmission_Automatic</th>\n",
       "      <th>transmission_Manual</th>\n",
       "    </tr>\n",
       "  </thead>\n",
       "  <tbody>\n",
       "    <tr>\n",
       "      <th>0</th>\n",
       "      <td>0</td>\n",
       "      <td>1</td>\n",
       "      <td>0</td>\n",
       "      <td>0</td>\n",
       "      <td>0</td>\n",
       "      <td>1</td>\n",
       "      <td>0</td>\n",
       "      <td>0</td>\n",
       "      <td>1</td>\n",
       "    </tr>\n",
       "    <tr>\n",
       "      <th>1</th>\n",
       "      <td>0</td>\n",
       "      <td>1</td>\n",
       "      <td>0</td>\n",
       "      <td>0</td>\n",
       "      <td>0</td>\n",
       "      <td>1</td>\n",
       "      <td>0</td>\n",
       "      <td>0</td>\n",
       "      <td>1</td>\n",
       "    </tr>\n",
       "    <tr>\n",
       "      <th>2</th>\n",
       "      <td>0</td>\n",
       "      <td>0</td>\n",
       "      <td>0</td>\n",
       "      <td>1</td>\n",
       "      <td>0</td>\n",
       "      <td>1</td>\n",
       "      <td>0</td>\n",
       "      <td>0</td>\n",
       "      <td>1</td>\n",
       "    </tr>\n",
       "    <tr>\n",
       "      <th>3</th>\n",
       "      <td>0</td>\n",
       "      <td>1</td>\n",
       "      <td>0</td>\n",
       "      <td>0</td>\n",
       "      <td>0</td>\n",
       "      <td>1</td>\n",
       "      <td>0</td>\n",
       "      <td>0</td>\n",
       "      <td>1</td>\n",
       "    </tr>\n",
       "    <tr>\n",
       "      <th>4</th>\n",
       "      <td>0</td>\n",
       "      <td>0</td>\n",
       "      <td>0</td>\n",
       "      <td>1</td>\n",
       "      <td>0</td>\n",
       "      <td>1</td>\n",
       "      <td>0</td>\n",
       "      <td>0</td>\n",
       "      <td>1</td>\n",
       "    </tr>\n",
       "    <tr>\n",
       "      <th>...</th>\n",
       "      <td>...</td>\n",
       "      <td>...</td>\n",
       "      <td>...</td>\n",
       "      <td>...</td>\n",
       "      <td>...</td>\n",
       "      <td>...</td>\n",
       "      <td>...</td>\n",
       "      <td>...</td>\n",
       "      <td>...</td>\n",
       "    </tr>\n",
       "    <tr>\n",
       "      <th>8123</th>\n",
       "      <td>0</td>\n",
       "      <td>0</td>\n",
       "      <td>0</td>\n",
       "      <td>1</td>\n",
       "      <td>0</td>\n",
       "      <td>1</td>\n",
       "      <td>0</td>\n",
       "      <td>0</td>\n",
       "      <td>1</td>\n",
       "    </tr>\n",
       "    <tr>\n",
       "      <th>8124</th>\n",
       "      <td>0</td>\n",
       "      <td>1</td>\n",
       "      <td>0</td>\n",
       "      <td>0</td>\n",
       "      <td>0</td>\n",
       "      <td>1</td>\n",
       "      <td>0</td>\n",
       "      <td>0</td>\n",
       "      <td>1</td>\n",
       "    </tr>\n",
       "    <tr>\n",
       "      <th>8125</th>\n",
       "      <td>0</td>\n",
       "      <td>1</td>\n",
       "      <td>0</td>\n",
       "      <td>0</td>\n",
       "      <td>0</td>\n",
       "      <td>1</td>\n",
       "      <td>0</td>\n",
       "      <td>0</td>\n",
       "      <td>1</td>\n",
       "    </tr>\n",
       "    <tr>\n",
       "      <th>8126</th>\n",
       "      <td>0</td>\n",
       "      <td>1</td>\n",
       "      <td>0</td>\n",
       "      <td>0</td>\n",
       "      <td>0</td>\n",
       "      <td>1</td>\n",
       "      <td>0</td>\n",
       "      <td>0</td>\n",
       "      <td>1</td>\n",
       "    </tr>\n",
       "    <tr>\n",
       "      <th>8127</th>\n",
       "      <td>0</td>\n",
       "      <td>1</td>\n",
       "      <td>0</td>\n",
       "      <td>0</td>\n",
       "      <td>0</td>\n",
       "      <td>1</td>\n",
       "      <td>0</td>\n",
       "      <td>0</td>\n",
       "      <td>1</td>\n",
       "    </tr>\n",
       "  </tbody>\n",
       "</table>\n",
       "<p>8128 rows × 9 columns</p>\n",
       "</div>"
      ],
      "text/plain": [
       "      fuel_CNG  fuel_Diesel  ...  transmission_Automatic  transmission_Manual\n",
       "0            0            1  ...                       0                    1\n",
       "1            0            1  ...                       0                    1\n",
       "2            0            0  ...                       0                    1\n",
       "3            0            1  ...                       0                    1\n",
       "4            0            0  ...                       0                    1\n",
       "...        ...          ...  ...                     ...                  ...\n",
       "8123         0            0  ...                       0                    1\n",
       "8124         0            1  ...                       0                    1\n",
       "8125         0            1  ...                       0                    1\n",
       "8126         0            1  ...                       0                    1\n",
       "8127         0            1  ...                       0                    1\n",
       "\n",
       "[8128 rows x 9 columns]"
      ]
     },
     "execution_count": 38,
     "metadata": {
      "tags": []
     },
     "output_type": "execute_result"
    }
   ],
   "source": [
    "One_hot_enc_df_categ=pd.get_dummies(categ_df)\n",
    "One_hot_enc_df_categ"
   ]
  },
  {
   "cell_type": "code",
   "execution_count": null,
   "metadata": {
    "id": "hrtGjfu84tZY"
   },
   "outputs": [],
   "source": [
    "df1=df.drop(columns=[ 'fuel','seller_type','transmission' ],axis=1)\n",
    "final_df=pd.concat([df1,One_hot_enc_df_categ], axis=1)"
   ]
  },
  {
   "cell_type": "code",
   "execution_count": null,
   "metadata": {
    "colab": {
     "base_uri": "https://localhost:8080/",
     "height": 197
    },
    "id": "FwazlNs9gHVp",
    "outputId": "faeaa0d7-1f1f-4e40-c251-88233bef1f03"
   },
   "outputs": [
    {
     "data": {
      "text/html": [
       "<div>\n",
       "<style scoped>\n",
       "    .dataframe tbody tr th:only-of-type {\n",
       "        vertical-align: middle;\n",
       "    }\n",
       "\n",
       "    .dataframe tbody tr th {\n",
       "        vertical-align: top;\n",
       "    }\n",
       "\n",
       "    .dataframe thead th {\n",
       "        text-align: right;\n",
       "    }\n",
       "</style>\n",
       "<table border=\"1\" class=\"dataframe\">\n",
       "  <thead>\n",
       "    <tr style=\"text-align: right;\">\n",
       "      <th></th>\n",
       "      <th>year</th>\n",
       "      <th>selling_price</th>\n",
       "      <th>km_driven</th>\n",
       "      <th>owner</th>\n",
       "      <th>mileage</th>\n",
       "      <th>engine</th>\n",
       "      <th>max_power</th>\n",
       "      <th>seats</th>\n",
       "      <th>fuel_CNG</th>\n",
       "      <th>fuel_Diesel</th>\n",
       "      <th>fuel_LPG</th>\n",
       "      <th>fuel_Petrol</th>\n",
       "      <th>seller_type_Dealer</th>\n",
       "      <th>seller_type_Individual</th>\n",
       "      <th>seller_type_Trustmark Dealer</th>\n",
       "      <th>transmission_Automatic</th>\n",
       "      <th>transmission_Manual</th>\n",
       "    </tr>\n",
       "  </thead>\n",
       "  <tbody>\n",
       "    <tr>\n",
       "      <th>0</th>\n",
       "      <td>2014</td>\n",
       "      <td>450000</td>\n",
       "      <td>145500</td>\n",
       "      <td>1075</td>\n",
       "      <td>23.40</td>\n",
       "      <td>1248.0</td>\n",
       "      <td>74.00</td>\n",
       "      <td>5.0</td>\n",
       "      <td>0</td>\n",
       "      <td>1</td>\n",
       "      <td>0</td>\n",
       "      <td>0</td>\n",
       "      <td>0</td>\n",
       "      <td>1</td>\n",
       "      <td>0</td>\n",
       "      <td>0</td>\n",
       "      <td>1</td>\n",
       "    </tr>\n",
       "    <tr>\n",
       "      <th>1</th>\n",
       "      <td>2014</td>\n",
       "      <td>370000</td>\n",
       "      <td>120000</td>\n",
       "      <td>1159</td>\n",
       "      <td>21.14</td>\n",
       "      <td>1498.0</td>\n",
       "      <td>103.52</td>\n",
       "      <td>5.0</td>\n",
       "      <td>0</td>\n",
       "      <td>1</td>\n",
       "      <td>0</td>\n",
       "      <td>0</td>\n",
       "      <td>0</td>\n",
       "      <td>1</td>\n",
       "      <td>0</td>\n",
       "      <td>0</td>\n",
       "      <td>1</td>\n",
       "    </tr>\n",
       "    <tr>\n",
       "      <th>2</th>\n",
       "      <td>2006</td>\n",
       "      <td>158000</td>\n",
       "      <td>140000</td>\n",
       "      <td>1062</td>\n",
       "      <td>17.70</td>\n",
       "      <td>1497.0</td>\n",
       "      <td>78.00</td>\n",
       "      <td>5.0</td>\n",
       "      <td>0</td>\n",
       "      <td>0</td>\n",
       "      <td>0</td>\n",
       "      <td>1</td>\n",
       "      <td>0</td>\n",
       "      <td>1</td>\n",
       "      <td>0</td>\n",
       "      <td>0</td>\n",
       "      <td>1</td>\n",
       "    </tr>\n",
       "    <tr>\n",
       "      <th>3</th>\n",
       "      <td>2010</td>\n",
       "      <td>225000</td>\n",
       "      <td>127000</td>\n",
       "      <td>1075</td>\n",
       "      <td>23.00</td>\n",
       "      <td>1396.0</td>\n",
       "      <td>90.00</td>\n",
       "      <td>5.0</td>\n",
       "      <td>0</td>\n",
       "      <td>1</td>\n",
       "      <td>0</td>\n",
       "      <td>0</td>\n",
       "      <td>0</td>\n",
       "      <td>1</td>\n",
       "      <td>0</td>\n",
       "      <td>0</td>\n",
       "      <td>1</td>\n",
       "    </tr>\n",
       "    <tr>\n",
       "      <th>4</th>\n",
       "      <td>2007</td>\n",
       "      <td>130000</td>\n",
       "      <td>120000</td>\n",
       "      <td>1075</td>\n",
       "      <td>16.10</td>\n",
       "      <td>1298.0</td>\n",
       "      <td>88.20</td>\n",
       "      <td>5.0</td>\n",
       "      <td>0</td>\n",
       "      <td>0</td>\n",
       "      <td>0</td>\n",
       "      <td>1</td>\n",
       "      <td>0</td>\n",
       "      <td>1</td>\n",
       "      <td>0</td>\n",
       "      <td>0</td>\n",
       "      <td>1</td>\n",
       "    </tr>\n",
       "  </tbody>\n",
       "</table>\n",
       "</div>"
      ],
      "text/plain": [
       "   year  selling_price  ...  transmission_Automatic  transmission_Manual\n",
       "0  2014         450000  ...                       0                    1\n",
       "1  2014         370000  ...                       0                    1\n",
       "2  2006         158000  ...                       0                    1\n",
       "3  2010         225000  ...                       0                    1\n",
       "4  2007         130000  ...                       0                    1\n",
       "\n",
       "[5 rows x 17 columns]"
      ]
     },
     "execution_count": 40,
     "metadata": {
      "tags": []
     },
     "output_type": "execute_result"
    }
   ],
   "source": [
    "final_df.head()"
   ]
  },
  {
   "cell_type": "code",
   "execution_count": null,
   "metadata": {
    "id": "btbL2MeO4wTs"
   },
   "outputs": [],
   "source": [
    "final_df.isnull().sum().sum()\n",
    "final_df.dropna(inplace=True)"
   ]
  },
  {
   "cell_type": "code",
   "execution_count": null,
   "metadata": {
    "colab": {
     "base_uri": "https://localhost:8080/",
     "height": 406
    },
    "id": "oJ0CU38ShdlD",
    "outputId": "18ef8f36-c1f4-44fa-acb0-04cc5e9ab903"
   },
   "outputs": [
    {
     "data": {
      "text/html": [
       "<div>\n",
       "<style scoped>\n",
       "    .dataframe tbody tr th:only-of-type {\n",
       "        vertical-align: middle;\n",
       "    }\n",
       "\n",
       "    .dataframe tbody tr th {\n",
       "        vertical-align: top;\n",
       "    }\n",
       "\n",
       "    .dataframe thead th {\n",
       "        text-align: right;\n",
       "    }\n",
       "</style>\n",
       "<table border=\"1\" class=\"dataframe\">\n",
       "  <thead>\n",
       "    <tr style=\"text-align: right;\">\n",
       "      <th></th>\n",
       "      <th>year</th>\n",
       "      <th>selling_price</th>\n",
       "      <th>km_driven</th>\n",
       "      <th>owner</th>\n",
       "      <th>mileage</th>\n",
       "      <th>engine</th>\n",
       "      <th>max_power</th>\n",
       "      <th>seats</th>\n",
       "      <th>fuel_CNG</th>\n",
       "      <th>fuel_Diesel</th>\n",
       "      <th>fuel_LPG</th>\n",
       "      <th>fuel_Petrol</th>\n",
       "      <th>seller_type_Dealer</th>\n",
       "      <th>seller_type_Individual</th>\n",
       "      <th>seller_type_Trustmark Dealer</th>\n",
       "      <th>transmission_Automatic</th>\n",
       "      <th>transmission_Manual</th>\n",
       "    </tr>\n",
       "  </thead>\n",
       "  <tbody>\n",
       "    <tr>\n",
       "      <th>0</th>\n",
       "      <td>2014</td>\n",
       "      <td>450000</td>\n",
       "      <td>145500</td>\n",
       "      <td>1075</td>\n",
       "      <td>23.40</td>\n",
       "      <td>1248.0</td>\n",
       "      <td>74.00</td>\n",
       "      <td>5.0</td>\n",
       "      <td>0</td>\n",
       "      <td>1</td>\n",
       "      <td>0</td>\n",
       "      <td>0</td>\n",
       "      <td>0</td>\n",
       "      <td>1</td>\n",
       "      <td>0</td>\n",
       "      <td>0</td>\n",
       "      <td>1</td>\n",
       "    </tr>\n",
       "    <tr>\n",
       "      <th>1</th>\n",
       "      <td>2014</td>\n",
       "      <td>370000</td>\n",
       "      <td>120000</td>\n",
       "      <td>1159</td>\n",
       "      <td>21.14</td>\n",
       "      <td>1498.0</td>\n",
       "      <td>103.52</td>\n",
       "      <td>5.0</td>\n",
       "      <td>0</td>\n",
       "      <td>1</td>\n",
       "      <td>0</td>\n",
       "      <td>0</td>\n",
       "      <td>0</td>\n",
       "      <td>1</td>\n",
       "      <td>0</td>\n",
       "      <td>0</td>\n",
       "      <td>1</td>\n",
       "    </tr>\n",
       "    <tr>\n",
       "      <th>2</th>\n",
       "      <td>2006</td>\n",
       "      <td>158000</td>\n",
       "      <td>140000</td>\n",
       "      <td>1062</td>\n",
       "      <td>17.70</td>\n",
       "      <td>1497.0</td>\n",
       "      <td>78.00</td>\n",
       "      <td>5.0</td>\n",
       "      <td>0</td>\n",
       "      <td>0</td>\n",
       "      <td>0</td>\n",
       "      <td>1</td>\n",
       "      <td>0</td>\n",
       "      <td>1</td>\n",
       "      <td>0</td>\n",
       "      <td>0</td>\n",
       "      <td>1</td>\n",
       "    </tr>\n",
       "    <tr>\n",
       "      <th>3</th>\n",
       "      <td>2010</td>\n",
       "      <td>225000</td>\n",
       "      <td>127000</td>\n",
       "      <td>1075</td>\n",
       "      <td>23.00</td>\n",
       "      <td>1396.0</td>\n",
       "      <td>90.00</td>\n",
       "      <td>5.0</td>\n",
       "      <td>0</td>\n",
       "      <td>1</td>\n",
       "      <td>0</td>\n",
       "      <td>0</td>\n",
       "      <td>0</td>\n",
       "      <td>1</td>\n",
       "      <td>0</td>\n",
       "      <td>0</td>\n",
       "      <td>1</td>\n",
       "    </tr>\n",
       "    <tr>\n",
       "      <th>4</th>\n",
       "      <td>2007</td>\n",
       "      <td>130000</td>\n",
       "      <td>120000</td>\n",
       "      <td>1075</td>\n",
       "      <td>16.10</td>\n",
       "      <td>1298.0</td>\n",
       "      <td>88.20</td>\n",
       "      <td>5.0</td>\n",
       "      <td>0</td>\n",
       "      <td>0</td>\n",
       "      <td>0</td>\n",
       "      <td>1</td>\n",
       "      <td>0</td>\n",
       "      <td>1</td>\n",
       "      <td>0</td>\n",
       "      <td>0</td>\n",
       "      <td>1</td>\n",
       "    </tr>\n",
       "    <tr>\n",
       "      <th>...</th>\n",
       "      <td>...</td>\n",
       "      <td>...</td>\n",
       "      <td>...</td>\n",
       "      <td>...</td>\n",
       "      <td>...</td>\n",
       "      <td>...</td>\n",
       "      <td>...</td>\n",
       "      <td>...</td>\n",
       "      <td>...</td>\n",
       "      <td>...</td>\n",
       "      <td>...</td>\n",
       "      <td>...</td>\n",
       "      <td>...</td>\n",
       "      <td>...</td>\n",
       "      <td>...</td>\n",
       "      <td>...</td>\n",
       "      <td>...</td>\n",
       "    </tr>\n",
       "    <tr>\n",
       "      <th>8123</th>\n",
       "      <td>2013</td>\n",
       "      <td>320000</td>\n",
       "      <td>110000</td>\n",
       "      <td>1075</td>\n",
       "      <td>18.50</td>\n",
       "      <td>1197.0</td>\n",
       "      <td>82.85</td>\n",
       "      <td>5.0</td>\n",
       "      <td>0</td>\n",
       "      <td>0</td>\n",
       "      <td>0</td>\n",
       "      <td>1</td>\n",
       "      <td>0</td>\n",
       "      <td>1</td>\n",
       "      <td>0</td>\n",
       "      <td>0</td>\n",
       "      <td>1</td>\n",
       "    </tr>\n",
       "    <tr>\n",
       "      <th>8124</th>\n",
       "      <td>2007</td>\n",
       "      <td>135000</td>\n",
       "      <td>119000</td>\n",
       "      <td>1782</td>\n",
       "      <td>16.80</td>\n",
       "      <td>1493.0</td>\n",
       "      <td>110.00</td>\n",
       "      <td>5.0</td>\n",
       "      <td>0</td>\n",
       "      <td>1</td>\n",
       "      <td>0</td>\n",
       "      <td>0</td>\n",
       "      <td>0</td>\n",
       "      <td>1</td>\n",
       "      <td>0</td>\n",
       "      <td>0</td>\n",
       "      <td>1</td>\n",
       "    </tr>\n",
       "    <tr>\n",
       "      <th>8125</th>\n",
       "      <td>2009</td>\n",
       "      <td>382000</td>\n",
       "      <td>120000</td>\n",
       "      <td>1075</td>\n",
       "      <td>19.30</td>\n",
       "      <td>1248.0</td>\n",
       "      <td>73.90</td>\n",
       "      <td>5.0</td>\n",
       "      <td>0</td>\n",
       "      <td>1</td>\n",
       "      <td>0</td>\n",
       "      <td>0</td>\n",
       "      <td>0</td>\n",
       "      <td>1</td>\n",
       "      <td>0</td>\n",
       "      <td>0</td>\n",
       "      <td>1</td>\n",
       "    </tr>\n",
       "    <tr>\n",
       "      <th>8126</th>\n",
       "      <td>2013</td>\n",
       "      <td>290000</td>\n",
       "      <td>25000</td>\n",
       "      <td>1075</td>\n",
       "      <td>23.57</td>\n",
       "      <td>1396.0</td>\n",
       "      <td>70.00</td>\n",
       "      <td>5.0</td>\n",
       "      <td>0</td>\n",
       "      <td>1</td>\n",
       "      <td>0</td>\n",
       "      <td>0</td>\n",
       "      <td>0</td>\n",
       "      <td>1</td>\n",
       "      <td>0</td>\n",
       "      <td>0</td>\n",
       "      <td>1</td>\n",
       "    </tr>\n",
       "    <tr>\n",
       "      <th>8127</th>\n",
       "      <td>2013</td>\n",
       "      <td>290000</td>\n",
       "      <td>25000</td>\n",
       "      <td>1075</td>\n",
       "      <td>23.57</td>\n",
       "      <td>1396.0</td>\n",
       "      <td>70.00</td>\n",
       "      <td>5.0</td>\n",
       "      <td>0</td>\n",
       "      <td>1</td>\n",
       "      <td>0</td>\n",
       "      <td>0</td>\n",
       "      <td>0</td>\n",
       "      <td>1</td>\n",
       "      <td>0</td>\n",
       "      <td>0</td>\n",
       "      <td>1</td>\n",
       "    </tr>\n",
       "  </tbody>\n",
       "</table>\n",
       "<p>7906 rows × 17 columns</p>\n",
       "</div>"
      ],
      "text/plain": [
       "      year  selling_price  ...  transmission_Automatic  transmission_Manual\n",
       "0     2014         450000  ...                       0                    1\n",
       "1     2014         370000  ...                       0                    1\n",
       "2     2006         158000  ...                       0                    1\n",
       "3     2010         225000  ...                       0                    1\n",
       "4     2007         130000  ...                       0                    1\n",
       "...    ...            ...  ...                     ...                  ...\n",
       "8123  2013         320000  ...                       0                    1\n",
       "8124  2007         135000  ...                       0                    1\n",
       "8125  2009         382000  ...                       0                    1\n",
       "8126  2013         290000  ...                       0                    1\n",
       "8127  2013         290000  ...                       0                    1\n",
       "\n",
       "[7906 rows x 17 columns]"
      ]
     },
     "execution_count": 44,
     "metadata": {
      "tags": []
     },
     "output_type": "execute_result"
    }
   ],
   "source": [
    "final_df"
   ]
  },
  {
   "cell_type": "markdown",
   "metadata": {
    "id": "ez91ID6AEgPm"
   },
   "source": [
    "## Question 3"
   ]
  },
  {
   "cell_type": "markdown",
   "metadata": {
    "id": "9J4BlzVA_gZd"
   },
   "source": [
    "### Split the data and then scale the data\n",
    "- Split the data into ratio of 75:25 with random state=12\n",
    "- Perform standard scaling on X_train and X_test data\n"
   ]
  },
  {
   "cell_type": "code",
   "execution_count": null,
   "metadata": {
    "id": "IKEK8aEE_Csx"
   },
   "outputs": [],
   "source": [
    "x=final_df.drop('selling_price',axis=1)\n",
    "y=final_df['selling_price']\n",
    "from sklearn.model_selection import train_test_split\n",
    "X_train, X_test, y_train, y_test = train_test_split(x, y,test_size=0.25, random_state=12)"
   ]
  },
  {
   "cell_type": "code",
   "execution_count": null,
   "metadata": {
    "colab": {
     "base_uri": "https://localhost:8080/"
    },
    "id": "59F0lA4z8SH-",
    "outputId": "e275d100-7f97-4784-977c-727de94fe991"
   },
   "outputs": [
    {
     "data": {
      "text/plain": [
       "(1977, 16)"
      ]
     },
     "execution_count": 48,
     "metadata": {
      "tags": []
     },
     "output_type": "execute_result"
    }
   ],
   "source": [
    "X_test.shape"
   ]
  },
  {
   "cell_type": "code",
   "execution_count": null,
   "metadata": {
    "id": "aKs04iIHAjxN"
   },
   "outputs": [],
   "source": [
    "from sklearn.preprocessing import StandardScaler\n",
    "sc=StandardScaler()\n",
    "X_train_sc=sc.fit_transform(X_train)\n",
    "X_test_sc=sc.fit_transform(X_test)"
   ]
  },
  {
   "cell_type": "markdown",
   "metadata": {
    "id": "cTPhO6v-AiZt"
   },
   "source": [
    "## Question 4"
   ]
  },
  {
   "cell_type": "markdown",
   "metadata": {
    "id": "SsZXmF3NAkna"
   },
   "source": [
    "### Create a Deep Neural Network Model for Regression\n",
    "- Initialize a Sequential model\n",
    "- Add 3 hidden layer with activation relu (Number of neurons = 64,128,32 respectively)\n",
    "- Add dropout layer after each hidden layer\n",
    "- Add a Dense layer with one neuron as output, use activation linear\n",
    "  \n"
   ]
  },
  {
   "cell_type": "code",
   "execution_count": null,
   "metadata": {
    "id": "aKs04iIHAjxN"
   },
   "outputs": [],
   "source": []
  },
  {
   "cell_type": "code",
   "execution_count": null,
   "metadata": {
    "id": "0zsXVmu5pcXh"
   },
   "outputs": [],
   "source": [
    "import tensorflow as tf\n",
    "from tensorflow.keras.models import Sequential\n",
    "from tensorflow.keras.layers import Flatten,Dense,Dropout,Input,BatchNormalization\n",
    "from keras.utils.vis_utils import plot_model\n",
    " "
   ]
  },
  {
   "cell_type": "markdown",
   "metadata": {
    "id": "xPBqxC5Fp_OU"
   },
   "source": []
  },
  {
   "cell_type": "code",
   "execution_count": null,
   "metadata": {
    "id": "qGCRnx9zrWzo"
   },
   "outputs": [],
   "source": [
    "model=Sequential()\n",
    "model.add(tf.keras.Input(shape=(16)))\n",
    "model.add(Dense(64,activation='relu'))\n",
    "model.add(Dropout(0.15))\n",
    "\n",
    "model.add(Dense(128,activation='relu'))\n",
    "model.add(Dropout(0.10))\n",
    "\n",
    "model.add(Dense(32,activation='relu'))\n",
    "model.add(Dropout(0.05))\n",
    "\n",
    "model.add(Dense(1,activation='linear'))"
   ]
  },
  {
   "cell_type": "markdown",
   "metadata": {
    "id": "aHstM0fX_-kI"
   },
   "source": [
    "### Check model summary and visualize the model"
   ]
  },
  {
   "cell_type": "code",
   "execution_count": null,
   "metadata": {
    "colab": {
     "base_uri": "https://localhost:8080/"
    },
    "id": "xQjCMzUXBJbg",
    "outputId": "85b68fa7-0040-4bc3-882f-89bdaec7076a"
   },
   "outputs": [
    {
     "name": "stdout",
     "output_type": "stream",
     "text": [
      "Model: \"sequential\"\n",
      "_________________________________________________________________\n",
      "Layer (type)                 Output Shape              Param #   \n",
      "=================================================================\n",
      "dense (Dense)                (None, 64)                1088      \n",
      "_________________________________________________________________\n",
      "dropout (Dropout)            (None, 64)                0         \n",
      "_________________________________________________________________\n",
      "dense_1 (Dense)              (None, 128)               8320      \n",
      "_________________________________________________________________\n",
      "dropout_1 (Dropout)          (None, 128)               0         \n",
      "_________________________________________________________________\n",
      "dense_2 (Dense)              (None, 32)                4128      \n",
      "_________________________________________________________________\n",
      "dropout_2 (Dropout)          (None, 32)                0         \n",
      "_________________________________________________________________\n",
      "dense_3 (Dense)              (None, 1)                 33        \n",
      "=================================================================\n",
      "Total params: 13,569\n",
      "Trainable params: 13,569\n",
      "Non-trainable params: 0\n",
      "_________________________________________________________________\n"
     ]
    }
   ],
   "source": [
    "model.summary(\n",
    "    \n",
    ")"
   ]
  },
  {
   "cell_type": "code",
   "execution_count": null,
   "metadata": {
    "colab": {
     "base_uri": "https://localhost:8080/",
     "height": 864
    },
    "id": "Ksap6Rx0BNIw",
    "outputId": "656c78a2-a0ea-4bd9-9b49-373bb3c720bf"
   },
   "outputs": [
    {
     "data": {
      "image/png": "[encoded data removed]",
      "text/plain": [
       "<IPython.core.display.Image object>"
      ]
     },
     "execution_count": 56,
     "metadata": {
      "tags": []
     },
     "output_type": "execute_result"
    }
   ],
   "source": [
    "plot_model(model,show_shapes=True,show_layer_names=True )"
   ]
  },
  {
   "cell_type": "code",
   "execution_count": null,
   "metadata": {
    "id": "yNqHHd15uwrb"
   },
   "outputs": [],
   "source": []
  },
  {
   "cell_type": "markdown",
   "metadata": {
    "id": "y7WTmUI-Ey95"
   },
   "source": [
    "## Question 5"
   ]
  },
  {
   "cell_type": "markdown",
   "metadata": {
    "id": "C8u_jlbABTip"
   },
   "source": [
    "### Compile the model\n",
    "\n",
    "- Compile the model\n",
    "- Use \"adam\" optimizer\n",
    "- for calculating loss, use mean absolute error\n",
    "- use R2 score (coefficient of determination) as the metric"
   ]
  },
  {
   "cell_type": "code",
   "execution_count": null,
   "metadata": {
    "id": "NSuX3l3U0ZTC"
   },
   "outputs": [],
   "source": [
    "from keras import backend as K\n",
    "def r_2_score(y_true, y_pred):\n",
    "    SS_resid =  K.sum(K.square( y_true-y_pred )) \n",
    "    SS_total = K.sum(K.square( y_true - K.mean(y_true) ) ) \n",
    "    return ( 1 - SS_resid/(SS_total + K.epsilon()))\n"
   ]
  },
  {
   "cell_type": "code",
   "execution_count": null,
   "metadata": {
    "id": "0aDDAcT7xHB0"
   },
   "outputs": [],
   "source": [
    "from sklearn.metrics import r2_score\n",
    "model.compile(loss='mean_absolute_error',optimizer='adam',metrics=[r_2_score])"
   ]
  },
  {
   "cell_type": "code",
   "execution_count": null,
   "metadata": {
    "id": "_bxtG5P9-5BP"
   },
   "outputs": [],
   "source": []
  },
  {
   "cell_type": "markdown",
   "metadata": {
    "id": "s-ntyk6k_EmT"
   },
   "source": [
    "Other metrics can also be used to track the learning of the model:\n",
    "\n",
    "To learn different metrics for classification and regression visit the following link:\n",
    "\n",
    "Link: https://keras.io/api/metrics/#usage-with-compile-amp-fit"
   ]
  },
  {
   "cell_type": "markdown",
   "metadata": {
    "id": "n9o45OHdjDhA"
   },
   "source": [
    "### Train your model\n",
    "\n",
    "- epochs: 1000\n",
    "- batch size: 32\n",
    "- Use test data as validation data\n",
    "- Also add callback, such that if validation loss doesn't decreases consecutively 10 times, stop the training and return the weights for the previous best model"
   ]
  },
  {
   "cell_type": "code",
   "execution_count": null,
   "metadata": {
    "colab": {
     "base_uri": "https://localhost:8080/"
    },
    "id": "-Y6tA30XjOH2",
    "outputId": "7834648c-1ae6-4cbc-eb60-1e0232f71bde"
   },
   "outputs": [
    {
     "name": "stdout",
     "output_type": "stream",
     "text": [
      "Epoch 1/200\n",
      "186/186 [==============================] - 1s 3ms/step - loss: 140592.4062 - r_2_score: 0.8200 - val_loss: 135815.4219 - val_r_2_score: 0.8110\n",
      "Epoch 2/200\n",
      "186/186 [==============================] - 1s 3ms/step - loss: 140285.2188 - r_2_score: 0.8034 - val_loss: 135619.2656 - val_r_2_score: 0.8164\n",
      "Epoch 3/200\n",
      "186/186 [==============================] - 1s 3ms/step - loss: 140677.6094 - r_2_score: 0.8143 - val_loss: 134985.9062 - val_r_2_score: 0.8157\n",
      "Epoch 4/200\n",
      "186/186 [==============================] - 1s 3ms/step - loss: 139557.4844 - r_2_score: 0.7941 - val_loss: 134744.7656 - val_r_2_score: 0.8172\n",
      "Epoch 5/200\n",
      "186/186 [==============================] - 1s 3ms/step - loss: 141421.2500 - r_2_score: 0.8143 - val_loss: 134660.5156 - val_r_2_score: 0.8188\n",
      "Epoch 6/200\n",
      "186/186 [==============================] - 0s 3ms/step - loss: 139634.1562 - r_2_score: 0.8198 - val_loss: 134337.6562 - val_r_2_score: 0.8135\n",
      "Epoch 7/200\n",
      "186/186 [==============================] - 1s 3ms/step - loss: 138032.5938 - r_2_score: 0.8376 - val_loss: 133853.3281 - val_r_2_score: 0.8179\n",
      "Epoch 8/200\n",
      "186/186 [==============================] - 0s 3ms/step - loss: 139581.0625 - r_2_score: 0.8390 - val_loss: 133617.7344 - val_r_2_score: 0.8205\n",
      "Epoch 9/200\n",
      "186/186 [==============================] - 0s 3ms/step - loss: 139558.0469 - r_2_score: 0.8120 - val_loss: 133169.2500 - val_r_2_score: 0.8221\n",
      "Epoch 10/200\n",
      "186/186 [==============================] - 0s 3ms/step - loss: 137938.3594 - r_2_score: 0.8265 - val_loss: 132847.2812 - val_r_2_score: 0.8208\n",
      "Epoch 11/200\n",
      "186/186 [==============================] - 1s 3ms/step - loss: 137586.2500 - r_2_score: 0.8402 - val_loss: 132599.3906 - val_r_2_score: 0.8235\n",
      "Epoch 12/200\n",
      "186/186 [==============================] - 1s 3ms/step - loss: 139476.1250 - r_2_score: 0.8411 - val_loss: 132434.5000 - val_r_2_score: 0.8252\n",
      "Epoch 13/200\n",
      "186/186 [==============================] - 1s 3ms/step - loss: 138280.3750 - r_2_score: 0.8250 - val_loss: 132407.0312 - val_r_2_score: 0.8273\n",
      "Epoch 14/200\n",
      "186/186 [==============================] - 0s 3ms/step - loss: 138657.9375 - r_2_score: 0.8321 - val_loss: 131988.5156 - val_r_2_score: 0.8263\n",
      "Epoch 15/200\n",
      "186/186 [==============================] - 1s 3ms/step - loss: 137625.8438 - r_2_score: 0.8413 - val_loss: 131680.9531 - val_r_2_score: 0.8275\n",
      "Epoch 16/200\n",
      "186/186 [==============================] - 0s 3ms/step - loss: 135291.9688 - r_2_score: 0.8333 - val_loss: 131532.7812 - val_r_2_score: 0.8285\n",
      "Epoch 17/200\n",
      "186/186 [==============================] - 0s 3ms/step - loss: 138534.1094 - r_2_score: 0.8232 - val_loss: 131249.0938 - val_r_2_score: 0.8294\n",
      "Epoch 18/200\n",
      "186/186 [==============================] - 0s 3ms/step - loss: 136432.3438 - r_2_score: 0.8235 - val_loss: 131286.8594 - val_r_2_score: 0.8282\n",
      "Epoch 19/200\n",
      "186/186 [==============================] - 1s 3ms/step - loss: 137797.0469 - r_2_score: 0.8251 - val_loss: 130745.9609 - val_r_2_score: 0.8279\n",
      "Epoch 20/200\n",
      "186/186 [==============================] - 0s 3ms/step - loss: 135877.4219 - r_2_score: 0.8326 - val_loss: 130919.4531 - val_r_2_score: 0.8331\n",
      "Epoch 21/200\n",
      "186/186 [==============================] - 1s 3ms/step - loss: 136495.8594 - r_2_score: 0.8386 - val_loss: 130075.4297 - val_r_2_score: 0.8314\n",
      "Epoch 22/200\n",
      "186/186 [==============================] - 1s 3ms/step - loss: 138383.1562 - r_2_score: 0.8324 - val_loss: 130132.5078 - val_r_2_score: 0.8338\n",
      "Epoch 23/200\n",
      "186/186 [==============================] - 1s 3ms/step - loss: 137863.4688 - r_2_score: 0.8263 - val_loss: 129694.4297 - val_r_2_score: 0.8312\n",
      "Epoch 24/200\n",
      "186/186 [==============================] - 1s 3ms/step - loss: 135126.9844 - r_2_score: 0.8233 - val_loss: 129873.9219 - val_r_2_score: 0.8328\n",
      "Epoch 25/200\n",
      "186/186 [==============================] - 1s 3ms/step - loss: 134505.9062 - r_2_score: 0.8325 - val_loss: 129326.3438 - val_r_2_score: 0.8325\n",
      "Epoch 26/200\n",
      "186/186 [==============================] - 0s 3ms/step - loss: 135056.7031 - r_2_score: 0.8246 - val_loss: 129733.0391 - val_r_2_score: 0.8379\n",
      "Epoch 27/200\n",
      "186/186 [==============================] - 1s 3ms/step - loss: 136585.8281 - r_2_score: 0.8100 - val_loss: 129209.0469 - val_r_2_score: 0.8382\n",
      "Epoch 28/200\n",
      "186/186 [==============================] - 0s 3ms/step - loss: 135826.9375 - r_2_score: 0.8363 - val_loss: 128941.3359 - val_r_2_score: 0.8376\n",
      "Epoch 29/200\n",
      "186/186 [==============================] - 0s 3ms/step - loss: 135816.8438 - r_2_score: 0.8438 - val_loss: 128758.0781 - val_r_2_score: 0.8360\n",
      "Epoch 30/200\n",
      "186/186 [==============================] - 0s 3ms/step - loss: 134889.6250 - r_2_score: 0.8083 - val_loss: 128532.6328 - val_r_2_score: 0.8388\n",
      "Epoch 31/200\n",
      "186/186 [==============================] - 0s 3ms/step - loss: 135953.8750 - r_2_score: 0.8378 - val_loss: 128153.2109 - val_r_2_score: 0.8387\n",
      "Epoch 32/200\n",
      "186/186 [==============================] - 0s 3ms/step - loss: 134237.7656 - r_2_score: 0.8139 - val_loss: 128189.4609 - val_r_2_score: 0.8411\n",
      "Epoch 33/200\n",
      "186/186 [==============================] - 0s 3ms/step - loss: 133793.4688 - r_2_score: 0.8257 - val_loss: 128421.3828 - val_r_2_score: 0.8354\n",
      "Epoch 34/200\n",
      "186/186 [==============================] - 0s 3ms/step - loss: 135588.3750 - r_2_score: 0.8291 - val_loss: 128146.6719 - val_r_2_score: 0.8448\n",
      "Epoch 35/200\n",
      "186/186 [==============================] - 0s 3ms/step - loss: 133877.2188 - r_2_score: 0.8428 - val_loss: 127417.0625 - val_r_2_score: 0.8442\n",
      "Epoch 36/200\n",
      "186/186 [==============================] - 1s 3ms/step - loss: 133398.8594 - r_2_score: 0.8339 - val_loss: 127688.1797 - val_r_2_score: 0.8450\n",
      "Epoch 37/200\n",
      "186/186 [==============================] - 0s 3ms/step - loss: 133479.6875 - r_2_score: 0.8275 - val_loss: 127035.9688 - val_r_2_score: 0.8457\n",
      "Epoch 38/200\n",
      "186/186 [==============================] - 0s 3ms/step - loss: 132623.2500 - r_2_score: 0.8546 - val_loss: 127327.3672 - val_r_2_score: 0.8489\n",
      "Epoch 39/200\n",
      "186/186 [==============================] - 1s 3ms/step - loss: 133188.7969 - r_2_score: 0.8504 - val_loss: 127080.1484 - val_r_2_score: 0.8499\n",
      "Epoch 40/200\n",
      "186/186 [==============================] - 1s 3ms/step - loss: 135524.5781 - r_2_score: 0.8334 - val_loss: 127252.0234 - val_r_2_score: 0.8498\n",
      "Epoch 41/200\n",
      "186/186 [==============================] - 0s 3ms/step - loss: 133127.9531 - r_2_score: 0.8344 - val_loss: 126920.4922 - val_r_2_score: 0.8500\n",
      "Epoch 42/200\n",
      "186/186 [==============================] - 0s 3ms/step - loss: 134582.2969 - r_2_score: 0.8442 - val_loss: 126833.1797 - val_r_2_score: 0.8489\n",
      "Epoch 43/200\n",
      "186/186 [==============================] - 1s 3ms/step - loss: 135163.3906 - r_2_score: 0.8304 - val_loss: 126629.4375 - val_r_2_score: 0.8509\n",
      "Epoch 44/200\n",
      "186/186 [==============================] - 1s 3ms/step - loss: 134445.2344 - r_2_score: 0.8349 - val_loss: 126680.4844 - val_r_2_score: 0.8537\n",
      "Epoch 45/200\n",
      "186/186 [==============================] - 0s 3ms/step - loss: 133231.9688 - r_2_score: 0.8459 - val_loss: 126530.8594 - val_r_2_score: 0.8531\n",
      "Epoch 46/200\n",
      "186/186 [==============================] - 1s 3ms/step - loss: 134206.7656 - r_2_score: 0.8427 - val_loss: 126560.2109 - val_r_2_score: 0.8532\n",
      "Epoch 47/200\n",
      "186/186 [==============================] - 1s 3ms/step - loss: 132977.8906 - r_2_score: 0.8509 - val_loss: 126265.2188 - val_r_2_score: 0.8511\n",
      "Epoch 48/200\n",
      "186/186 [==============================] - 1s 3ms/step - loss: 133399.9375 - r_2_score: 0.8374 - val_loss: 126046.3594 - val_r_2_score: 0.8520\n",
      "Epoch 49/200\n",
      "186/186 [==============================] - 0s 3ms/step - loss: 133245.0625 - r_2_score: 0.8332 - val_loss: 125896.7891 - val_r_2_score: 0.8540\n",
      "Epoch 50/200\n",
      "186/186 [==============================] - 1s 3ms/step - loss: 134779.0000 - r_2_score: 0.8330 - val_loss: 125719.6562 - val_r_2_score: 0.8530\n",
      "Epoch 51/200\n",
      "186/186 [==============================] - 0s 3ms/step - loss: 132620.9062 - r_2_score: 0.8394 - val_loss: 125619.3750 - val_r_2_score: 0.8542\n",
      "Epoch 52/200\n",
      "186/186 [==============================] - 1s 3ms/step - loss: 132278.5156 - r_2_score: 0.8433 - val_loss: 125501.7812 - val_r_2_score: 0.8558\n",
      "Epoch 53/200\n",
      "186/186 [==============================] - 1s 3ms/step - loss: 130863.0078 - r_2_score: 0.8555 - val_loss: 125362.6172 - val_r_2_score: 0.8578\n",
      "Epoch 54/200\n",
      "186/186 [==============================] - 1s 3ms/step - loss: 132367.5625 - r_2_score: 0.8469 - val_loss: 125236.1484 - val_r_2_score: 0.8571\n",
      "Epoch 55/200\n",
      "186/186 [==============================] - 1s 3ms/step - loss: 132253.3906 - r_2_score: 0.8525 - val_loss: 125090.6328 - val_r_2_score: 0.8605\n",
      "Epoch 56/200\n",
      "186/186 [==============================] - 1s 3ms/step - loss: 133339.7656 - r_2_score: 0.8456 - val_loss: 125054.1641 - val_r_2_score: 0.8596\n",
      "Epoch 57/200\n",
      "186/186 [==============================] - 0s 3ms/step - loss: 132404.5625 - r_2_score: 0.8282 - val_loss: 125063.2578 - val_r_2_score: 0.8622\n",
      "Epoch 58/200\n",
      "186/186 [==============================] - 1s 3ms/step - loss: 133444.5625 - r_2_score: 0.8349 - val_loss: 124564.6094 - val_r_2_score: 0.8582\n",
      "Epoch 59/200\n",
      "186/186 [==============================] - 1s 3ms/step - loss: 130782.2656 - r_2_score: 0.8432 - val_loss: 124482.6953 - val_r_2_score: 0.8618\n",
      "Epoch 60/200\n",
      "186/186 [==============================] - 1s 3ms/step - loss: 132174.4219 - r_2_score: 0.8542 - val_loss: 124661.1719 - val_r_2_score: 0.8625\n",
      "Epoch 61/200\n",
      "186/186 [==============================] - 0s 3ms/step - loss: 132186.7969 - r_2_score: 0.8463 - val_loss: 124807.0000 - val_r_2_score: 0.8622\n",
      "Epoch 62/200\n",
      "186/186 [==============================] - 0s 3ms/step - loss: 130705.9609 - r_2_score: 0.8532 - val_loss: 124749.8125 - val_r_2_score: 0.8629\n",
      "Epoch 63/200\n",
      "186/186 [==============================] - 1s 3ms/step - loss: 131632.3750 - r_2_score: 0.8306 - val_loss: 124246.3906 - val_r_2_score: 0.8629\n",
      "Epoch 64/200\n",
      "186/186 [==============================] - 0s 3ms/step - loss: 131011.2266 - r_2_score: 0.8416 - val_loss: 124224.7188 - val_r_2_score: 0.8630\n",
      "Epoch 65/200\n",
      "186/186 [==============================] - 0s 3ms/step - loss: 130699.2344 - r_2_score: 0.8479 - val_loss: 124031.4453 - val_r_2_score: 0.8629\n",
      "Epoch 66/200\n",
      "186/186 [==============================] - 1s 3ms/step - loss: 132321.9844 - r_2_score: 0.8480 - val_loss: 123956.9688 - val_r_2_score: 0.8641\n",
      "Epoch 67/200\n",
      "186/186 [==============================] - 0s 3ms/step - loss: 130975.1328 - r_2_score: 0.8237 - val_loss: 124068.6953 - val_r_2_score: 0.8632\n",
      "Epoch 68/200\n",
      "186/186 [==============================] - 0s 3ms/step - loss: 131982.1875 - r_2_score: 0.8545 - val_loss: 124039.6016 - val_r_2_score: 0.8657\n",
      "Epoch 69/200\n",
      "186/186 [==============================] - 0s 3ms/step - loss: 132147.7656 - r_2_score: 0.8565 - val_loss: 123934.4531 - val_r_2_score: 0.8672\n",
      "Epoch 70/200\n",
      "186/186 [==============================] - 1s 3ms/step - loss: 131603.7188 - r_2_score: 0.8450 - val_loss: 124448.2656 - val_r_2_score: 0.8684\n",
      "Epoch 71/200\n",
      "186/186 [==============================] - 1s 3ms/step - loss: 130928.7344 - r_2_score: 0.8571 - val_loss: 123786.3359 - val_r_2_score: 0.8661\n",
      "Epoch 72/200\n",
      "186/186 [==============================] - 1s 3ms/step - loss: 130663.9609 - r_2_score: 0.8434 - val_loss: 123284.5547 - val_r_2_score: 0.8659\n",
      "Epoch 73/200\n",
      "186/186 [==============================] - 1s 3ms/step - loss: 131443.6719 - r_2_score: 0.8606 - val_loss: 123356.5469 - val_r_2_score: 0.8661\n",
      "Epoch 74/200\n",
      "186/186 [==============================] - 1s 3ms/step - loss: 131382.1250 - r_2_score: 0.8372 - val_loss: 123288.8281 - val_r_2_score: 0.8674\n",
      "Epoch 75/200\n",
      "186/186 [==============================] - 1s 3ms/step - loss: 132962.6406 - r_2_score: 0.8479 - val_loss: 123490.0625 - val_r_2_score: 0.8669\n",
      "Epoch 76/200\n",
      "186/186 [==============================] - 1s 3ms/step - loss: 129305.3203 - r_2_score: 0.8430 - val_loss: 122848.5703 - val_r_2_score: 0.8666\n",
      "Epoch 77/200\n",
      "186/186 [==============================] - 1s 3ms/step - loss: 131219.2500 - r_2_score: 0.8482 - val_loss: 123044.0703 - val_r_2_score: 0.8658\n",
      "Epoch 78/200\n",
      "186/186 [==============================] - 1s 3ms/step - loss: 128869.5781 - r_2_score: 0.8572 - val_loss: 122446.4922 - val_r_2_score: 0.8686\n",
      "Epoch 79/200\n",
      "186/186 [==============================] - 1s 3ms/step - loss: 131429.0469 - r_2_score: 0.8541 - val_loss: 122825.7266 - val_r_2_score: 0.8656\n",
      "Epoch 80/200\n",
      "186/186 [==============================] - 0s 3ms/step - loss: 129665.2969 - r_2_score: 0.8379 - val_loss: 123257.6641 - val_r_2_score: 0.8705\n",
      "Epoch 81/200\n",
      "186/186 [==============================] - 1s 3ms/step - loss: 128809.0000 - r_2_score: 0.8479 - val_loss: 122513.6953 - val_r_2_score: 0.8703\n",
      "Epoch 82/200\n",
      "186/186 [==============================] - 1s 3ms/step - loss: 129833.7969 - r_2_score: 0.8391 - val_loss: 122691.0234 - val_r_2_score: 0.8722\n",
      "Epoch 83/200\n",
      "186/186 [==============================] - 1s 3ms/step - loss: 130606.9688 - r_2_score: 0.8541 - val_loss: 123098.6016 - val_r_2_score: 0.8678\n",
      "Epoch 84/200\n",
      "186/186 [==============================] - 1s 3ms/step - loss: 128716.2109 - r_2_score: 0.8547 - val_loss: 122347.3594 - val_r_2_score: 0.8697\n",
      "Epoch 85/200\n",
      "186/186 [==============================] - 1s 3ms/step - loss: 128463.0156 - r_2_score: 0.8520 - val_loss: 121983.1094 - val_r_2_score: 0.8696\n",
      "Epoch 86/200\n",
      "186/186 [==============================] - 1s 3ms/step - loss: 129489.3047 - r_2_score: 0.8505 - val_loss: 122379.0625 - val_r_2_score: 0.8728\n",
      "Epoch 87/200\n",
      "186/186 [==============================] - 1s 3ms/step - loss: 129719.8594 - r_2_score: 0.8441 - val_loss: 122346.2734 - val_r_2_score: 0.8713\n",
      "Epoch 88/200\n",
      "186/186 [==============================] - 1s 3ms/step - loss: 132539.0000 - r_2_score: 0.8545 - val_loss: 122486.2500 - val_r_2_score: 0.8693\n",
      "Epoch 89/200\n",
      "186/186 [==============================] - 1s 3ms/step - loss: 130537.0312 - r_2_score: 0.8481 - val_loss: 122655.4297 - val_r_2_score: 0.8653\n",
      "Epoch 90/200\n",
      "186/186 [==============================] - 1s 3ms/step - loss: 130496.4219 - r_2_score: 0.8555 - val_loss: 121984.6484 - val_r_2_score: 0.8713\n",
      "Epoch 91/200\n",
      "186/186 [==============================] - 1s 3ms/step - loss: 129866.6016 - r_2_score: 0.8598 - val_loss: 121640.6484 - val_r_2_score: 0.8720\n",
      "Epoch 92/200\n",
      "186/186 [==============================] - 1s 3ms/step - loss: 129316.6484 - r_2_score: 0.8439 - val_loss: 121579.3203 - val_r_2_score: 0.8719\n",
      "Epoch 93/200\n",
      "186/186 [==============================] - 1s 3ms/step - loss: 130631.4844 - r_2_score: 0.8439 - val_loss: 121446.7266 - val_r_2_score: 0.8708\n",
      "Epoch 94/200\n",
      "186/186 [==============================] - 0s 3ms/step - loss: 126646.3516 - r_2_score: 0.8725 - val_loss: 121727.2812 - val_r_2_score: 0.8760\n",
      "Epoch 95/200\n",
      "186/186 [==============================] - 1s 3ms/step - loss: 128497.4453 - r_2_score: 0.8526 - val_loss: 121775.9219 - val_r_2_score: 0.8751\n",
      "Epoch 96/200\n",
      "186/186 [==============================] - 1s 3ms/step - loss: 129776.6719 - r_2_score: 0.8446 - val_loss: 121661.9688 - val_r_2_score: 0.8734\n",
      "Epoch 97/200\n",
      "186/186 [==============================] - 1s 3ms/step - loss: 131308.3906 - r_2_score: 0.8520 - val_loss: 120989.3984 - val_r_2_score: 0.8753\n",
      "Epoch 98/200\n",
      "186/186 [==============================] - 1s 3ms/step - loss: 131206.2656 - r_2_score: 0.8537 - val_loss: 120921.2109 - val_r_2_score: 0.8766\n",
      "Epoch 99/200\n",
      "186/186 [==============================] - 1s 3ms/step - loss: 129199.6016 - r_2_score: 0.8374 - val_loss: 121317.1719 - val_r_2_score: 0.8749\n",
      "Epoch 100/200\n",
      "186/186 [==============================] - 1s 3ms/step - loss: 128389.5938 - r_2_score: 0.8414 - val_loss: 121255.8906 - val_r_2_score: 0.8767\n",
      "Epoch 101/200\n",
      "186/186 [==============================] - 1s 3ms/step - loss: 128132.2656 - r_2_score: 0.8424 - val_loss: 120931.7969 - val_r_2_score: 0.8769\n",
      "Epoch 102/200\n",
      "186/186 [==============================] - 1s 3ms/step - loss: 130569.8906 - r_2_score: 0.8548 - val_loss: 121222.4141 - val_r_2_score: 0.8754\n",
      "Epoch 103/200\n",
      "186/186 [==============================] - 1s 3ms/step - loss: 129107.0391 - r_2_score: 0.8517 - val_loss: 120694.4609 - val_r_2_score: 0.8764\n",
      "Epoch 104/200\n",
      "186/186 [==============================] - 1s 3ms/step - loss: 130571.9609 - r_2_score: 0.8389 - val_loss: 120801.3359 - val_r_2_score: 0.8769\n",
      "Epoch 105/200\n",
      "186/186 [==============================] - 1s 3ms/step - loss: 128872.1016 - r_2_score: 0.8595 - val_loss: 120889.5391 - val_r_2_score: 0.8772\n",
      "Epoch 106/200\n",
      "186/186 [==============================] - 0s 3ms/step - loss: 129201.9062 - r_2_score: 0.8519 - val_loss: 121071.8047 - val_r_2_score: 0.8740\n",
      "Epoch 107/200\n",
      "186/186 [==============================] - 1s 3ms/step - loss: 129350.4141 - r_2_score: 0.8373 - val_loss: 121342.6172 - val_r_2_score: 0.8718\n",
      "Epoch 108/200\n",
      "186/186 [==============================] - 1s 3ms/step - loss: 128268.3047 - r_2_score: 0.8514 - val_loss: 120446.4844 - val_r_2_score: 0.8763\n",
      "Epoch 109/200\n",
      "186/186 [==============================] - 0s 3ms/step - loss: 128492.1172 - r_2_score: 0.8603 - val_loss: 120298.4922 - val_r_2_score: 0.8786\n",
      "Epoch 110/200\n",
      "186/186 [==============================] - 0s 3ms/step - loss: 128577.6641 - r_2_score: 0.8648 - val_loss: 120583.1406 - val_r_2_score: 0.8807\n",
      "Epoch 111/200\n",
      "186/186 [==============================] - 0s 3ms/step - loss: 128684.0000 - r_2_score: 0.8561 - val_loss: 120169.3750 - val_r_2_score: 0.8785\n",
      "Epoch 112/200\n",
      "186/186 [==============================] - 1s 3ms/step - loss: 130739.5625 - r_2_score: 0.8522 - val_loss: 120161.7109 - val_r_2_score: 0.8772\n",
      "Epoch 113/200\n",
      "186/186 [==============================] - 1s 3ms/step - loss: 127029.1719 - r_2_score: 0.8601 - val_loss: 120228.6719 - val_r_2_score: 0.8807\n",
      "Epoch 114/200\n",
      "186/186 [==============================] - 0s 3ms/step - loss: 128201.4531 - r_2_score: 0.8651 - val_loss: 119968.1016 - val_r_2_score: 0.8804\n",
      "Epoch 115/200\n",
      "186/186 [==============================] - 1s 3ms/step - loss: 128921.7969 - r_2_score: 0.8473 - val_loss: 119981.6172 - val_r_2_score: 0.8778\n",
      "Epoch 116/200\n",
      "186/186 [==============================] - 0s 3ms/step - loss: 126777.4688 - r_2_score: 0.8621 - val_loss: 119900.2031 - val_r_2_score: 0.8776\n",
      "Epoch 117/200\n",
      "186/186 [==============================] - 1s 3ms/step - loss: 127942.4453 - r_2_score: 0.8580 - val_loss: 120548.4688 - val_r_2_score: 0.8762\n",
      "Epoch 118/200\n",
      "186/186 [==============================] - 1s 3ms/step - loss: 128911.0781 - r_2_score: 0.8492 - val_loss: 119768.1797 - val_r_2_score: 0.8803\n",
      "Epoch 119/200\n",
      "186/186 [==============================] - 1s 3ms/step - loss: 128328.4609 - r_2_score: 0.8531 - val_loss: 119304.6016 - val_r_2_score: 0.8803\n",
      "Epoch 120/200\n",
      "186/186 [==============================] - 0s 3ms/step - loss: 130084.1250 - r_2_score: 0.8488 - val_loss: 119107.4688 - val_r_2_score: 0.8808\n",
      "Epoch 121/200\n",
      "186/186 [==============================] - 1s 3ms/step - loss: 127013.9219 - r_2_score: 0.8583 - val_loss: 119566.2422 - val_r_2_score: 0.8811\n",
      "Epoch 122/200\n",
      "186/186 [==============================] - 1s 3ms/step - loss: 127932.2422 - r_2_score: 0.8584 - val_loss: 119440.4141 - val_r_2_score: 0.8836\n",
      "Epoch 123/200\n",
      "186/186 [==============================] - 1s 3ms/step - loss: 126845.5703 - r_2_score: 0.8511 - val_loss: 119801.3203 - val_r_2_score: 0.8833\n",
      "Epoch 124/200\n",
      "186/186 [==============================] - 1s 3ms/step - loss: 129599.5781 - r_2_score: 0.8575 - val_loss: 119099.8750 - val_r_2_score: 0.8857\n",
      "Epoch 125/200\n",
      "186/186 [==============================] - 1s 3ms/step - loss: 126912.9688 - r_2_score: 0.8623 - val_loss: 118796.0859 - val_r_2_score: 0.8860\n",
      "Epoch 126/200\n",
      "186/186 [==============================] - 1s 3ms/step - loss: 127898.9219 - r_2_score: 0.8670 - val_loss: 118983.3047 - val_r_2_score: 0.8870\n",
      "Epoch 127/200\n",
      "186/186 [==============================] - 1s 3ms/step - loss: 127511.3359 - r_2_score: 0.8577 - val_loss: 118903.0859 - val_r_2_score: 0.8841\n",
      "Epoch 128/200\n",
      "186/186 [==============================] - 1s 3ms/step - loss: 126011.0859 - r_2_score: 0.8568 - val_loss: 118881.1641 - val_r_2_score: 0.8857\n",
      "Epoch 129/200\n",
      "186/186 [==============================] - 1s 3ms/step - loss: 128727.5781 - r_2_score: 0.8654 - val_loss: 118558.6953 - val_r_2_score: 0.8849\n",
      "Epoch 130/200\n",
      "186/186 [==============================] - 1s 3ms/step - loss: 125944.2891 - r_2_score: 0.8752 - val_loss: 118305.3203 - val_r_2_score: 0.8860\n",
      "Epoch 131/200\n",
      "186/186 [==============================] - 1s 3ms/step - loss: 127439.3203 - r_2_score: 0.8508 - val_loss: 118578.6016 - val_r_2_score: 0.8878\n",
      "Epoch 132/200\n",
      "186/186 [==============================] - 1s 3ms/step - loss: 127093.3047 - r_2_score: 0.8677 - val_loss: 118750.4141 - val_r_2_score: 0.8884\n",
      "Epoch 133/200\n",
      "186/186 [==============================] - 1s 3ms/step - loss: 127190.5625 - r_2_score: 0.8612 - val_loss: 118971.6797 - val_r_2_score: 0.8886\n",
      "Epoch 134/200\n",
      "186/186 [==============================] - 1s 3ms/step - loss: 127039.1172 - r_2_score: 0.8522 - val_loss: 118773.3672 - val_r_2_score: 0.8877\n",
      "Epoch 135/200\n",
      "186/186 [==============================] - 1s 3ms/step - loss: 125780.8906 - r_2_score: 0.8633 - val_loss: 118427.5312 - val_r_2_score: 0.8865\n",
      "Epoch 136/200\n",
      "186/186 [==============================] - 1s 3ms/step - loss: 127521.5703 - r_2_score: 0.8494 - val_loss: 118343.9297 - val_r_2_score: 0.8878\n",
      "Epoch 137/200\n",
      "186/186 [==============================] - 1s 3ms/step - loss: 127631.1953 - r_2_score: 0.8554 - val_loss: 118448.2500 - val_r_2_score: 0.8848\n",
      "Epoch 138/200\n",
      "186/186 [==============================] - 1s 3ms/step - loss: 125813.9844 - r_2_score: 0.8648 - val_loss: 118015.3359 - val_r_2_score: 0.8854\n",
      "Epoch 139/200\n",
      "186/186 [==============================] - 1s 3ms/step - loss: 126756.8594 - r_2_score: 0.8653 - val_loss: 118067.5469 - val_r_2_score: 0.8882\n",
      "Epoch 140/200\n",
      "186/186 [==============================] - 1s 3ms/step - loss: 126125.7891 - r_2_score: 0.8637 - val_loss: 118031.8750 - val_r_2_score: 0.8886\n",
      "Epoch 141/200\n",
      "186/186 [==============================] - 0s 3ms/step - loss: 128119.6953 - r_2_score: 0.8475 - val_loss: 117614.5000 - val_r_2_score: 0.8899\n",
      "Epoch 142/200\n",
      "186/186 [==============================] - 1s 3ms/step - loss: 125803.8672 - r_2_score: 0.8595 - val_loss: 117520.9609 - val_r_2_score: 0.8901\n",
      "Epoch 143/200\n",
      "186/186 [==============================] - 1s 3ms/step - loss: 126976.8125 - r_2_score: 0.8572 - val_loss: 118215.3516 - val_r_2_score: 0.8875\n",
      "Epoch 144/200\n",
      "186/186 [==============================] - 1s 3ms/step - loss: 126958.7500 - r_2_score: 0.8573 - val_loss: 118222.1562 - val_r_2_score: 0.8876\n",
      "Epoch 145/200\n",
      "186/186 [==============================] - 1s 3ms/step - loss: 126574.2891 - r_2_score: 0.8666 - val_loss: 118288.5859 - val_r_2_score: 0.8887\n",
      "Epoch 146/200\n",
      "186/186 [==============================] - 1s 3ms/step - loss: 126618.1797 - r_2_score: 0.8595 - val_loss: 118317.3047 - val_r_2_score: 0.8909\n",
      "Epoch 147/200\n",
      "186/186 [==============================] - 1s 3ms/step - loss: 123935.3125 - r_2_score: 0.8685 - val_loss: 117851.5938 - val_r_2_score: 0.8909\n",
      "Epoch 148/200\n",
      "186/186 [==============================] - 1s 3ms/step - loss: 126397.0312 - r_2_score: 0.8709 - val_loss: 117688.0312 - val_r_2_score: 0.8913\n",
      "Epoch 149/200\n",
      "186/186 [==============================] - 1s 3ms/step - loss: 126047.5938 - r_2_score: 0.8632 - val_loss: 117677.1641 - val_r_2_score: 0.8902\n",
      "Epoch 150/200\n",
      "186/186 [==============================] - 1s 3ms/step - loss: 125496.4219 - r_2_score: 0.8612 - val_loss: 117373.6797 - val_r_2_score: 0.8905\n",
      "Epoch 151/200\n",
      "186/186 [==============================] - 1s 3ms/step - loss: 128018.9766 - r_2_score: 0.8538 - val_loss: 117609.6641 - val_r_2_score: 0.8872\n",
      "Epoch 152/200\n",
      "186/186 [==============================] - 1s 3ms/step - loss: 124891.4844 - r_2_score: 0.8565 - val_loss: 118446.5859 - val_r_2_score: 0.8862\n",
      "Epoch 153/200\n",
      "186/186 [==============================] - 1s 3ms/step - loss: 126168.9219 - r_2_score: 0.8488 - val_loss: 117204.9766 - val_r_2_score: 0.8888\n",
      "Epoch 154/200\n",
      "186/186 [==============================] - 1s 3ms/step - loss: 125425.5859 - r_2_score: 0.8522 - val_loss: 117106.2891 - val_r_2_score: 0.8898\n",
      "Epoch 155/200\n",
      "186/186 [==============================] - 1s 3ms/step - loss: 126364.5312 - r_2_score: 0.8564 - val_loss: 116820.8359 - val_r_2_score: 0.8883\n",
      "Epoch 156/200\n",
      "186/186 [==============================] - 1s 3ms/step - loss: 124818.8359 - r_2_score: 0.8702 - val_loss: 116647.9375 - val_r_2_score: 0.8892\n",
      "Epoch 157/200\n",
      "186/186 [==============================] - 1s 3ms/step - loss: 125036.7344 - r_2_score: 0.8669 - val_loss: 117015.7031 - val_r_2_score: 0.8885\n",
      "Epoch 158/200\n",
      "186/186 [==============================] - 1s 3ms/step - loss: 126234.2656 - r_2_score: 0.8597 - val_loss: 117038.1641 - val_r_2_score: 0.8907\n",
      "Epoch 159/200\n",
      "186/186 [==============================] - 1s 3ms/step - loss: 125092.3672 - r_2_score: 0.8501 - val_loss: 116751.7344 - val_r_2_score: 0.8903\n",
      "Epoch 160/200\n",
      "186/186 [==============================] - 1s 3ms/step - loss: 126058.2578 - r_2_score: 0.8614 - val_loss: 116906.1953 - val_r_2_score: 0.8895\n",
      "Epoch 161/200\n",
      "186/186 [==============================] - 1s 3ms/step - loss: 124379.7656 - r_2_score: 0.8619 - val_loss: 116346.0547 - val_r_2_score: 0.8916\n",
      "Epoch 162/200\n",
      "186/186 [==============================] - 1s 3ms/step - loss: 125847.1250 - r_2_score: 0.8604 - val_loss: 116619.7422 - val_r_2_score: 0.8912\n",
      "Epoch 163/200\n",
      "186/186 [==============================] - 1s 3ms/step - loss: 125965.3750 - r_2_score: 0.8623 - val_loss: 116863.5938 - val_r_2_score: 0.8912\n",
      "Epoch 164/200\n",
      "186/186 [==============================] - 1s 3ms/step - loss: 126782.5547 - r_2_score: 0.8550 - val_loss: 116757.3906 - val_r_2_score: 0.8906\n",
      "Epoch 165/200\n",
      "186/186 [==============================] - 1s 3ms/step - loss: 126051.7422 - r_2_score: 0.8507 - val_loss: 116526.1875 - val_r_2_score: 0.8921\n",
      "Epoch 166/200\n",
      "186/186 [==============================] - 1s 3ms/step - loss: 125227.5000 - r_2_score: 0.8574 - val_loss: 116083.7578 - val_r_2_score: 0.8898\n",
      "Epoch 167/200\n",
      "186/186 [==============================] - 1s 3ms/step - loss: 125492.2969 - r_2_score: 0.8645 - val_loss: 116966.1172 - val_r_2_score: 0.8930\n",
      "Epoch 168/200\n",
      "186/186 [==============================] - 1s 3ms/step - loss: 125639.8984 - r_2_score: 0.8523 - val_loss: 116190.9688 - val_r_2_score: 0.8932\n",
      "Epoch 169/200\n",
      "186/186 [==============================] - 1s 3ms/step - loss: 125032.5234 - r_2_score: 0.8563 - val_loss: 115865.0781 - val_r_2_score: 0.8931\n",
      "Epoch 170/200\n",
      "186/186 [==============================] - 1s 3ms/step - loss: 124733.3984 - r_2_score: 0.8597 - val_loss: 116970.4844 - val_r_2_score: 0.8886\n",
      "Epoch 171/200\n",
      "186/186 [==============================] - 1s 3ms/step - loss: 122835.3125 - r_2_score: 0.8653 - val_loss: 116554.9219 - val_r_2_score: 0.8924\n",
      "Epoch 172/200\n",
      "186/186 [==============================] - 1s 3ms/step - loss: 126289.1953 - r_2_score: 0.8681 - val_loss: 116627.1484 - val_r_2_score: 0.8907\n",
      "Epoch 173/200\n",
      "186/186 [==============================] - 1s 3ms/step - loss: 128094.8203 - r_2_score: 0.8679 - val_loss: 116403.1094 - val_r_2_score: 0.8925\n",
      "Epoch 174/200\n",
      "186/186 [==============================] - 1s 3ms/step - loss: 125011.0312 - r_2_score: 0.8619 - val_loss: 116074.2031 - val_r_2_score: 0.8918\n",
      "Epoch 175/200\n",
      "186/186 [==============================] - 1s 3ms/step - loss: 124036.9844 - r_2_score: 0.8694 - val_loss: 115950.1484 - val_r_2_score: 0.8897\n",
      "Epoch 176/200\n",
      "186/186 [==============================] - 1s 3ms/step - loss: 126824.1406 - r_2_score: 0.8513 - val_loss: 116032.4688 - val_r_2_score: 0.8903\n",
      "Epoch 177/200\n",
      "186/186 [==============================] - 1s 3ms/step - loss: 125694.3047 - r_2_score: 0.8544 - val_loss: 116357.2578 - val_r_2_score: 0.8924\n",
      "Epoch 178/200\n",
      "186/186 [==============================] - 1s 3ms/step - loss: 124468.1719 - r_2_score: 0.8693 - val_loss: 115909.5312 - val_r_2_score: 0.8918\n",
      "Epoch 179/200\n",
      "186/186 [==============================] - 1s 3ms/step - loss: 126848.6875 - r_2_score: 0.8660 - val_loss: 116661.3750 - val_r_2_score: 0.8910\n"
     ]
    }
   ],
   "source": [
    "call_back=tf.keras.callbacks.EarlyStopping(monitor='val_loss',patience=10,restore_best_weights=True,mode='min')\n",
    "history = model.fit(x_train_sc, y_train,validation_data=(x_test_sc, y_test),batch_size=32,epochs=200,callbacks=call_back)\n"
   ]
  },
  {
   "cell_type": "code",
   "execution_count": null,
   "metadata": {
    "id": "MC7j1MFL3c3P"
   },
   "outputs": [],
   "source": [
    "\n"
   ]
  },
  {
   "cell_type": "markdown",
   "metadata": {
    "id": "AW4SEP8kT2ls"
   },
   "source": [
    "## Question 6"
   ]
  },
  {
   "cell_type": "markdown",
   "metadata": {
    "id": "EJDoix_7JU61"
   },
   "source": [
    "### Evaluate the model\n",
    "- Evaluate the model on test data\n",
    "- Visualize the model's learning"
   ]
  },
  {
   "cell_type": "code",
   "execution_count": null,
   "metadata": {
    "colab": {
     "base_uri": "https://localhost:8080/"
    },
    "id": "HdH8pYBIjHGL",
    "outputId": "60cbb409-a88f-43b5-aa0c-c96dfea9b7bb"
   },
   "outputs": [
    {
     "name": "stdout",
     "output_type": "stream",
     "text": [
      "31/31 [==============================] - 0s 1ms/step - loss: 115865.0625 - r_2_score: 0.9213\n"
     ]
    },
    {
     "data": {
      "text/plain": [
       "[115865.0625, 0.9212514162063599]"
      ]
     },
     "execution_count": 78,
     "metadata": {
      "tags": []
     },
     "output_type": "execute_result"
    }
   ],
   "source": [
    "model.evaluate(x_test_sc,y_test,batch_size=64)"
   ]
  },
  {
   "cell_type": "markdown",
   "metadata": {
    "id": "E4-3G8h0KPS_"
   },
   "source": [
    "- Hint: The R2 score will get affected by batch size. \n",
    "\n",
    "**Batch Size**: Number of samples considered in one iteration"
   ]
  },
  {
   "cell_type": "markdown",
   "metadata": {
    "id": "MHmWkGM9E61i"
   },
   "source": [
    "### Check the R2 score on complete test data"
   ]
  },
  {
   "cell_type": "code",
   "execution_count": null,
   "metadata": {
    "colab": {
     "base_uri": "https://localhost:8080/"
    },
    "id": "5Ts_powwDqdK",
    "outputId": "53508524-f8fb-4122-da44-f788e73f503f"
   },
   "outputs": [
    {
     "name": "stdout",
     "output_type": "stream",
     "text": [
      "0.9323824204475397\n"
     ]
    }
   ],
   "source": [
    "y_pred=model.predict(x_test_sc)\n",
    "print(r2_score(y_test.values,y_pred))"
   ]
  },
  {
   "cell_type": "code",
   "execution_count": null,
   "metadata": {
    "colab": {
     "base_uri": "https://localhost:8080/"
    },
    "id": "OekemP7X-eD1",
    "outputId": "d263b6b1-4d2a-44bc-f0b5-bfc178a1d8fb"
   },
   "outputs": [
    {
     "name": "stdout",
     "output_type": "stream",
     "text": [
      "<class 'numpy.ndarray'>\n",
      "<class 'numpy.ndarray'>\n"
     ]
    }
   ],
   "source": [
    "print(type(y_pred))\n",
    "print(type(y_test.values))"
   ]
  },
  {
   "cell_type": "markdown",
   "metadata": {
    "id": "hUpDD74Xjh01"
   },
   "source": [
    "### Visualize model learning\n",
    "- Visualize model learning using train and test r2 score\n",
    "- Visualize model learning using train and test loss"
   ]
  },
  {
   "cell_type": "code",
   "execution_count": null,
   "metadata": {
    "colab": {
     "base_uri": "https://localhost:8080/",
     "height": 562
    },
    "id": "WSiMhJPpk3GO",
    "outputId": "d09fb54c-cdc1-481e-d956-67867ad81e44"
   },
   "outputs": [
    {
     "data": {
      "text/plain": [
       "<matplotlib.axes._subplots.AxesSubplot at 0x7fe46d6beb10>"
      ]
     },
     "execution_count": 95,
     "metadata": {
      "tags": []
     },
     "output_type": "execute_result"
    },
    {
     "data": {
      "image/png": "[encoded data removed]",
      "text/plain": [
       "<Figure size 432x288 with 1 Axes>"
      ]
     },
     "metadata": {
      "needs_background": "light",
      "tags": []
     },
     "output_type": "display_data"
    },
    {
     "data": {
      "image/png": "[encoded data removed]",
      "text/plain": [
       "<Figure size 432x288 with 1 Axes>"
      ]
     },
     "metadata": {
      "needs_background": "light",
      "tags": []
     },
     "output_type": "display_data"
    }
   ],
   "source": [
    "history_df = pd.DataFrame(history.history)\n",
    "history_df.loc[:, ['loss', 'val_loss']].plot(title=\"Cross-entropy\")\n",
    "history_df.loc[:, ['r_2_score', 'val_r_2_score']].plot(title=\"Accuracy\")\n"
   ]
  },
  {
   "cell_type": "code",
   "execution_count": null,
   "metadata": {
    "colab": {
     "base_uri": "https://localhost:8080/",
     "height": 573
    },
    "id": "Uaea420gBcRT",
    "outputId": "fbf56f98-5223-4218-9960-94ab1fd89c64"
   },
   "outputs": [
    {
     "data": {
      "image/png": "[encoded data removed]",
      "text/plain": [
       "<Figure size 432x288 with 1 Axes>"
      ]
     },
     "metadata": {
      "needs_background": "light",
      "tags": []
     },
     "output_type": "display_data"
    },
    {
     "data": {
      "image/png": "[encoded data removed]",
      "text/plain": [
       "<Figure size 432x288 with 1 Axes>"
      ]
     },
     "metadata": {
      "needs_background": "light",
      "tags": []
     },
     "output_type": "display_data"
    }
   ],
   "source": [
    "import matplotlib.pyplot as plt\n",
    "\n",
    "plt.plot(history.history['r_2_score'])\n",
    "plt.plot(history.history['val_r_2_score'])\n",
    "plt.title('model r2_score')\n",
    "plt.ylabel('r2_score')\n",
    "plt.xlabel('epoch')\n",
    "plt.legend(['train', 'test'], loc='upper left')\n",
    "plt.show()\n",
    "# summarize history for loss\n",
    "plt.plot(history.history['loss'])\n",
    "plt.plot(history.history['val_loss'])\n",
    "plt.title('model loss')\n",
    "plt.ylabel('loss')\n",
    "plt.xlabel('epoch')\n",
    "plt.legend(['train', 'test'], loc='upper left')\n",
    "plt.show()\n"
   ]
  },
  {
   "cell_type": "markdown",
   "metadata": {
    "id": "mLyDSOeh6KKc"
   },
   "source": [
    "##  Model tuning and Hyperparameter Tuning\n",
    "## Question 7 (Optional)"
   ]
  },
  {
   "cell_type": "markdown",
   "metadata": {
    "id": "U9_FYXve6TPD"
   },
   "source": [
    "### Create another Deep Neural Network Model for Regression to experiment with other hyper-parameters\n",
    "- Initialize a Sequential model\n",
    "- Add a batch normalization layer\n",
    "- Add 3 hidden layer with activation leaky-relu (Number of neurons = 64,128,32 respectively)\n",
    "- Add dropout layer after each hidden layer\n",
    "- Add a Dense layer with one neuron as output, use activation linear\n",
    "  \n"
   ]
  },
  {
   "cell_type": "code",
   "execution_count": null,
   "metadata": {
    "id": "smKhJZSx2EZk"
   },
   "outputs": [],
   "source": []
  },
  {
   "cell_type": "code",
   "execution_count": null,
   "metadata": {
    "id": "k3YL1YQB2Fau"
   },
   "outputs": [],
   "source": []
  },
  {
   "cell_type": "markdown",
   "metadata": {
    "id": "d-5tN-Wx8_8X"
   },
   "source": [
    "### Compile the model\n",
    "\n",
    "- Compile the model\n",
    "- Use \"adam\" optimizer \n",
    "- for calculating loss, use mean absolute error\n",
    "- use R2 score (coefficient of determination) as the metric"
   ]
  },
  {
   "cell_type": "code",
   "execution_count": null,
   "metadata": {
    "id": "v3RAGJxN8vq6"
   },
   "outputs": [],
   "source": []
  },
  {
   "cell_type": "markdown",
   "metadata": {
    "id": "QjDCS5gy91KU"
   },
   "source": [
    "### Train your model\n",
    "\n",
    "- epochs: 1000\n",
    "- batch size: 16\n",
    "- Use test data as validation data\n",
    "- Also add callback, such that if validation loss doesn't decreases consecutively 10 times, stop the training and return the weights for the previous best model\n",
    "- Add checkpoints to save the model after every epoch\n"
   ]
  },
  {
   "cell_type": "code",
   "execution_count": null,
   "metadata": {
    "id": "amNM6S2w90So"
   },
   "outputs": [],
   "source": [
    "check_point = ModelCheckpoint('./checkpoint', monitor='val_loss',save_best_only=True,save_freq='epoch')\n",
    "callback = tf.keras.callbacks.EarlyStopping(monitor='val_loss',patience=10,restore_best_weights=True,mode='min')\n",
    "history = model.fit(x_train_sc,y_train,batch_size=16,epochs=200,verbose=1,validation_data=(x_test_sc,y_test),callbacks=[callback,check_point])\n"
   ]
  },
  {
   "cell_type": "markdown",
   "metadata": {
    "id": "GHbYwXdgDQhs"
   },
   "source": [
    "### Check the R2 score on complete test data"
   ]
  },
  {
   "cell_type": "code",
   "execution_count": null,
   "metadata": {
    "id": "p7Ly-csS90PM"
   },
   "outputs": [],
   "source": []
  },
  {
   "cell_type": "markdown",
   "metadata": {
    "id": "mcZazFM7DiVr"
   },
   "source": [
    "### Visualize model learning\n",
    "- Visualize model learning using train and test r2 score\n",
    "- Visualize model learning using train and test loss"
   ]
  },
  {
   "cell_type": "code",
   "execution_count": null,
   "metadata": {
    "id": "cH-8qHgp90Jv"
   },
   "outputs": [],
   "source": []
  },
  {
   "cell_type": "markdown",
   "metadata": {
    "id": "POU_v9owFLWp"
   },
   "source": [
    "### Create another Deep Neural Network Model for Regression to experiment with other hyper-parameters\n",
    "- Initialize a Sequential model\n",
    "- Add a batch normalization layer\n",
    "- Intialize weights using HeUniform with seed = 7\n",
    "- Add 4 hidden layer with activation relu (Number of neurons = 256,128,64,32 in each layer respectively)\n",
    "- Add dropout layer after each hidden layer\n",
    "- Add a Dense layer with one neuron as output, use activation linear\n",
    "  \n"
   ]
  },
  {
   "cell_type": "code",
   "execution_count": null,
   "metadata": {
    "id": "EJiZ1JZZECpm"
   },
   "outputs": [],
   "source": []
  },
  {
   "cell_type": "markdown",
   "metadata": {
    "id": "yNoD20dGHKNk"
   },
   "source": [
    "### Compile the model\n",
    "\n",
    "- Compile the model\n",
    "- Use \"adam\" optimizer with learning rate = 0.002\n",
    "- for calculating loss, use mean squared error\n",
    "- use R2 score (coefficient of determination) as the metric"
   ]
  },
  {
   "cell_type": "code",
   "execution_count": null,
   "metadata": {
    "id": "EL--zAmbECm3"
   },
   "outputs": [],
   "source": []
  },
  {
   "cell_type": "markdown",
   "metadata": {
    "id": "TNhawruvHgLR"
   },
   "source": [
    "### Train your model\n",
    "\n",
    "- epochs: 1000\n",
    "- batch size: 64\n",
    "- Use test data as validation data\n",
    "- Also add callback, such that if validation loss doesn't decreases consecutively 10 times, stop the training and return the weights for the previous best model\n",
    "\n"
   ]
  },
  {
   "cell_type": "code",
   "execution_count": null,
   "metadata": {
    "id": "rf_Y0p7yECiz"
   },
   "outputs": [],
   "source": []
  },
  {
   "cell_type": "markdown",
   "metadata": {
    "id": "MR6_a6QxICXv"
   },
   "source": [
    "### Check the R2 score on complete test data"
   ]
  },
  {
   "cell_type": "code",
   "execution_count": null,
   "metadata": {
    "id": "eSNJsVwnECf-"
   },
   "outputs": [],
   "source": []
  },
  {
   "cell_type": "markdown",
   "metadata": {
    "id": "xWZIMT2rIYDc"
   },
   "source": [
    "### Visualize model learning\n",
    "- Visualize model learning using train and test r2 score\n",
    "- Visualize model learning using train and test loss"
   ]
  },
  {
   "cell_type": "code",
   "execution_count": null,
   "metadata": {
    "id": "uDMefTaLECdK"
   },
   "outputs": [],
   "source": []
  }
 ],
 "metadata": {
  "accelerator": "GPU",
  "colab": {
   "collapsed_sections": [],
   "name": "R7 Lab questions NNDL.ipynb",
   "provenance": []
  },
  "kernelspec": {
   "display_name": "Python 3",
   "language": "python",
   "name": "python3"
  },
  "language_info": {
   "codemirror_mode": {
    "name": "ipython",
    "version": 3
   },
   "file_extension": ".py",
   "mimetype": "text/x-python",
   "name": "python",
   "nbconvert_exporter": "python",
   "pygments_lexer": "ipython3",
   "version": "3.8.5"
  }
 },
 "nbformat": 4,
 "nbformat_minor": 1
}
